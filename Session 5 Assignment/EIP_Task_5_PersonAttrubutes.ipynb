{
  "nbformat": 4,
  "nbformat_minor": 0,
  "metadata": {
    "colab": {
      "name": "EIP Task 5 - PersonAttrubutes.ipynb",
      "provenance": [],
      "collapsed_sections": []
    },
    "kernelspec": {
      "name": "python3",
      "display_name": "Python 3"
    },
    "accelerator": "GPU"
  },
  "cells": [
    {
      "cell_type": "markdown",
      "metadata": {
        "id": "pdufq9PwioJB",
        "colab_type": "text"
      },
      "source": [
        "***Mount Data from Drive***"
      ]
    },
    {
      "cell_type": "code",
      "metadata": {
        "id": "Gyq8CE4ug5BK",
        "colab_type": "code",
        "outputId": "2605ce25-e741-4b36-ea9a-f917c2fbd2e7",
        "colab": {
          "base_uri": "https://localhost:8080/",
          "height": 147
        }
      },
      "source": [
        "# mount gdrive and unzip data\n",
        "from google.colab import drive\n",
        "drive.mount('/content/gdrive')\n",
        "!unzip -q \"/content/gdrive/My Drive/hvc_data.zip\"\n",
        "# look for `hvc_annotations.csv` file and `resized` dir\n",
        "%ls "
      ],
      "execution_count": 1,
      "outputs": [
        {
          "output_type": "stream",
          "text": [
            "Go to this URL in a browser: https://accounts.google.com/o/oauth2/auth?client_id=947318989803-6bn6qk8qdgf4n4g3pfee6491hc0brc4i.apps.googleusercontent.com&redirect_uri=urn%3aietf%3awg%3aoauth%3a2.0%3aoob&response_type=code&scope=email%20https%3a%2f%2fwww.googleapis.com%2fauth%2fdocs.test%20https%3a%2f%2fwww.googleapis.com%2fauth%2fdrive%20https%3a%2f%2fwww.googleapis.com%2fauth%2fdrive.photos.readonly%20https%3a%2f%2fwww.googleapis.com%2fauth%2fpeopleapi.readonly\n",
            "\n",
            "Enter your authorization code:\n",
            "··········\n",
            "Mounted at /content/gdrive\n",
            "\u001b[0m\u001b[01;34mgdrive\u001b[0m/  hvc_annotations.csv  \u001b[01;34mresized\u001b[0m/  \u001b[01;34msample_data\u001b[0m/\n"
          ],
          "name": "stdout"
        }
      ]
    },
    {
      "cell_type": "markdown",
      "metadata": {
        "id": "AM7Pcxl9iuR8",
        "colab_type": "text"
      },
      "source": [
        "***Import required***"
      ]
    },
    {
      "cell_type": "code",
      "metadata": {
        "id": "bYbNQzK6kj94",
        "colab_type": "code",
        "colab": {
          "base_uri": "https://localhost:8080/",
          "height": 35
        },
        "outputId": "16310d99-21e3-49e8-95b8-fe084ba43df5"
      },
      "source": [
        "%tensorflow_version 1.x\n",
        "\n",
        "import cv2\n",
        "import json\n",
        "\n",
        "import numpy as np\n",
        "import pandas as pd\n",
        "\n",
        "from functools import partial\n",
        "from pathlib import Path \n",
        "from tqdm import tqdm\n",
        "\n",
        "from google.colab.patches import cv2_imshow\n",
        "\n",
        "from sklearn.model_selection import train_test_split\n",
        "from sklearn.preprocessing import LabelEncoder, OneHotEncoder\n",
        "\n",
        "\n",
        "from keras.applications import VGG16,InceptionV3,ResNet50V2,ResNet50,InceptionResNetV2,MobileNetV2,Xception\n",
        "from keras.layers.core import Dropout\n",
        "from keras.layers.core import Flatten\n",
        "from keras.layers.core import Dense\n",
        "from keras.layers import Input\n",
        "from keras.models import Model\n",
        "from keras.optimizers import SGD,Adam,RMSprop\n",
        "from keras.preprocessing.image import ImageDataGenerator\n",
        "\n",
        "from keras.models import Sequential\n",
        "from keras.layers.convolutional import Convolution2D, MaxPooling2D, DepthwiseConv2D\n",
        "from keras.layers import SeparableConv2D , Conv2D, GlobalAveragePooling2D, AveragePooling2D\n",
        "from keras.layers import Activation, Flatten, Dense, Dropout\n",
        "from keras.layers.normalization import BatchNormalization\n"
      ],
      "execution_count": 2,
      "outputs": [
        {
          "output_type": "stream",
          "text": [
            "Using TensorFlow backend.\n"
          ],
          "name": "stderr"
        }
      ]
    },
    {
      "cell_type": "markdown",
      "metadata": {
        "id": "QueWMIJriznN",
        "colab_type": "text"
      },
      "source": [
        "***Reading the annotation file***"
      ]
    },
    {
      "cell_type": "code",
      "metadata": {
        "id": "vQkbSpLK4sTP",
        "colab_type": "code",
        "outputId": "e335f648-febb-490a-f0e8-899e60112d50",
        "colab": {
          "base_uri": "https://localhost:8080/",
          "height": 206
        }
      },
      "source": [
        "# load annotations\n",
        "df = pd.read_csv(\"hvc_annotations.csv\")\n",
        "del df[\"filename\"] # remove unwanted column\n",
        "df.head()"
      ],
      "execution_count": 3,
      "outputs": [
        {
          "output_type": "execute_result",
          "data": {
            "text/html": [
              "<div>\n",
              "<style scoped>\n",
              "    .dataframe tbody tr th:only-of-type {\n",
              "        vertical-align: middle;\n",
              "    }\n",
              "\n",
              "    .dataframe tbody tr th {\n",
              "        vertical-align: top;\n",
              "    }\n",
              "\n",
              "    .dataframe thead th {\n",
              "        text-align: right;\n",
              "    }\n",
              "</style>\n",
              "<table border=\"1\" class=\"dataframe\">\n",
              "  <thead>\n",
              "    <tr style=\"text-align: right;\">\n",
              "      <th></th>\n",
              "      <th>gender</th>\n",
              "      <th>imagequality</th>\n",
              "      <th>age</th>\n",
              "      <th>weight</th>\n",
              "      <th>carryingbag</th>\n",
              "      <th>footwear</th>\n",
              "      <th>emotion</th>\n",
              "      <th>bodypose</th>\n",
              "      <th>image_path</th>\n",
              "    </tr>\n",
              "  </thead>\n",
              "  <tbody>\n",
              "    <tr>\n",
              "      <th>0</th>\n",
              "      <td>male</td>\n",
              "      <td>Average</td>\n",
              "      <td>35-45</td>\n",
              "      <td>normal-healthy</td>\n",
              "      <td>Grocery/Home/Plastic Bag</td>\n",
              "      <td>Normal</td>\n",
              "      <td>Neutral</td>\n",
              "      <td>Front-Frontish</td>\n",
              "      <td>resized/1.jpg</td>\n",
              "    </tr>\n",
              "    <tr>\n",
              "      <th>1</th>\n",
              "      <td>female</td>\n",
              "      <td>Average</td>\n",
              "      <td>35-45</td>\n",
              "      <td>over-weight</td>\n",
              "      <td>None</td>\n",
              "      <td>Normal</td>\n",
              "      <td>Angry/Serious</td>\n",
              "      <td>Front-Frontish</td>\n",
              "      <td>resized/2.jpg</td>\n",
              "    </tr>\n",
              "    <tr>\n",
              "      <th>2</th>\n",
              "      <td>male</td>\n",
              "      <td>Good</td>\n",
              "      <td>45-55</td>\n",
              "      <td>normal-healthy</td>\n",
              "      <td>Grocery/Home/Plastic Bag</td>\n",
              "      <td>CantSee</td>\n",
              "      <td>Neutral</td>\n",
              "      <td>Front-Frontish</td>\n",
              "      <td>resized/3.jpg</td>\n",
              "    </tr>\n",
              "    <tr>\n",
              "      <th>3</th>\n",
              "      <td>male</td>\n",
              "      <td>Good</td>\n",
              "      <td>45-55</td>\n",
              "      <td>normal-healthy</td>\n",
              "      <td>Daily/Office/Work Bag</td>\n",
              "      <td>Normal</td>\n",
              "      <td>Neutral</td>\n",
              "      <td>Front-Frontish</td>\n",
              "      <td>resized/4.jpg</td>\n",
              "    </tr>\n",
              "    <tr>\n",
              "      <th>4</th>\n",
              "      <td>female</td>\n",
              "      <td>Good</td>\n",
              "      <td>35-45</td>\n",
              "      <td>slightly-overweight</td>\n",
              "      <td>None</td>\n",
              "      <td>CantSee</td>\n",
              "      <td>Neutral</td>\n",
              "      <td>Front-Frontish</td>\n",
              "      <td>resized/5.jpg</td>\n",
              "    </tr>\n",
              "  </tbody>\n",
              "</table>\n",
              "</div>"
            ],
            "text/plain": [
              "   gender imagequality    age  ...        emotion        bodypose     image_path\n",
              "0    male      Average  35-45  ...        Neutral  Front-Frontish  resized/1.jpg\n",
              "1  female      Average  35-45  ...  Angry/Serious  Front-Frontish  resized/2.jpg\n",
              "2    male         Good  45-55  ...        Neutral  Front-Frontish  resized/3.jpg\n",
              "3    male         Good  45-55  ...        Neutral  Front-Frontish  resized/4.jpg\n",
              "4  female         Good  35-45  ...        Neutral  Front-Frontish  resized/5.jpg\n",
              "\n",
              "[5 rows x 9 columns]"
            ]
          },
          "metadata": {
            "tags": []
          },
          "execution_count": 3
        }
      ]
    },
    {
      "cell_type": "code",
      "metadata": {
        "id": "VfmCi19JN73-",
        "colab_type": "code",
        "outputId": "67edd4fc-1746-43f5-f704-d66b78f3b99a",
        "colab": {
          "base_uri": "https://localhost:8080/",
          "height": 35
        }
      },
      "source": [
        "df.shape"
      ],
      "execution_count": 0,
      "outputs": [
        {
          "output_type": "execute_result",
          "data": {
            "text/plain": [
              "(13573, 9)"
            ]
          },
          "metadata": {
            "tags": []
          },
          "execution_count": 5
        }
      ]
    },
    {
      "cell_type": "markdown",
      "metadata": {
        "id": "5it-8R-mjOmn",
        "colab_type": "text"
      },
      "source": [
        "***Encoding Labels***"
      ]
    },
    {
      "cell_type": "code",
      "metadata": {
        "id": "202OJva345WA",
        "colab_type": "code",
        "outputId": "787429e1-804a-4f19-8756-d1a0d0e25603",
        "colab": {
          "base_uri": "https://localhost:8080/",
          "height": 244
        }
      },
      "source": [
        "# one hot encoding of labels\n",
        "\n",
        "one_hot_df = pd.concat([\n",
        "    df[[\"image_path\"]],\n",
        "    pd.get_dummies(df.gender, prefix=\"gender\"),\n",
        "    pd.get_dummies(df.imagequality, prefix=\"imagequality\"),\n",
        "    pd.get_dummies(df.age, prefix=\"age\"),\n",
        "    pd.get_dummies(df.weight, prefix=\"weight\"),\n",
        "    pd.get_dummies(df.carryingbag, prefix=\"carryingbag\"),\n",
        "    pd.get_dummies(df.footwear, prefix=\"footwear\"),\n",
        "    pd.get_dummies(df.emotion, prefix=\"emotion\"),\n",
        "    pd.get_dummies(df.bodypose, prefix=\"bodypose\"),\n",
        "], axis = 1)\n",
        "\n",
        "one_hot_df.head()"
      ],
      "execution_count": 4,
      "outputs": [
        {
          "output_type": "execute_result",
          "data": {
            "text/html": [
              "<div>\n",
              "<style scoped>\n",
              "    .dataframe tbody tr th:only-of-type {\n",
              "        vertical-align: middle;\n",
              "    }\n",
              "\n",
              "    .dataframe tbody tr th {\n",
              "        vertical-align: top;\n",
              "    }\n",
              "\n",
              "    .dataframe thead th {\n",
              "        text-align: right;\n",
              "    }\n",
              "</style>\n",
              "<table border=\"1\" class=\"dataframe\">\n",
              "  <thead>\n",
              "    <tr style=\"text-align: right;\">\n",
              "      <th></th>\n",
              "      <th>image_path</th>\n",
              "      <th>gender_female</th>\n",
              "      <th>gender_male</th>\n",
              "      <th>imagequality_Average</th>\n",
              "      <th>imagequality_Bad</th>\n",
              "      <th>imagequality_Good</th>\n",
              "      <th>age_15-25</th>\n",
              "      <th>age_25-35</th>\n",
              "      <th>age_35-45</th>\n",
              "      <th>age_45-55</th>\n",
              "      <th>age_55+</th>\n",
              "      <th>weight_normal-healthy</th>\n",
              "      <th>weight_over-weight</th>\n",
              "      <th>weight_slightly-overweight</th>\n",
              "      <th>weight_underweight</th>\n",
              "      <th>carryingbag_Daily/Office/Work Bag</th>\n",
              "      <th>carryingbag_Grocery/Home/Plastic Bag</th>\n",
              "      <th>carryingbag_None</th>\n",
              "      <th>footwear_CantSee</th>\n",
              "      <th>footwear_Fancy</th>\n",
              "      <th>footwear_Normal</th>\n",
              "      <th>emotion_Angry/Serious</th>\n",
              "      <th>emotion_Happy</th>\n",
              "      <th>emotion_Neutral</th>\n",
              "      <th>emotion_Sad</th>\n",
              "      <th>bodypose_Back</th>\n",
              "      <th>bodypose_Front-Frontish</th>\n",
              "      <th>bodypose_Side</th>\n",
              "    </tr>\n",
              "  </thead>\n",
              "  <tbody>\n",
              "    <tr>\n",
              "      <th>0</th>\n",
              "      <td>resized/1.jpg</td>\n",
              "      <td>0</td>\n",
              "      <td>1</td>\n",
              "      <td>1</td>\n",
              "      <td>0</td>\n",
              "      <td>0</td>\n",
              "      <td>0</td>\n",
              "      <td>0</td>\n",
              "      <td>1</td>\n",
              "      <td>0</td>\n",
              "      <td>0</td>\n",
              "      <td>1</td>\n",
              "      <td>0</td>\n",
              "      <td>0</td>\n",
              "      <td>0</td>\n",
              "      <td>0</td>\n",
              "      <td>1</td>\n",
              "      <td>0</td>\n",
              "      <td>0</td>\n",
              "      <td>0</td>\n",
              "      <td>1</td>\n",
              "      <td>0</td>\n",
              "      <td>0</td>\n",
              "      <td>1</td>\n",
              "      <td>0</td>\n",
              "      <td>0</td>\n",
              "      <td>1</td>\n",
              "      <td>0</td>\n",
              "    </tr>\n",
              "    <tr>\n",
              "      <th>1</th>\n",
              "      <td>resized/2.jpg</td>\n",
              "      <td>1</td>\n",
              "      <td>0</td>\n",
              "      <td>1</td>\n",
              "      <td>0</td>\n",
              "      <td>0</td>\n",
              "      <td>0</td>\n",
              "      <td>0</td>\n",
              "      <td>1</td>\n",
              "      <td>0</td>\n",
              "      <td>0</td>\n",
              "      <td>0</td>\n",
              "      <td>1</td>\n",
              "      <td>0</td>\n",
              "      <td>0</td>\n",
              "      <td>0</td>\n",
              "      <td>0</td>\n",
              "      <td>1</td>\n",
              "      <td>0</td>\n",
              "      <td>0</td>\n",
              "      <td>1</td>\n",
              "      <td>1</td>\n",
              "      <td>0</td>\n",
              "      <td>0</td>\n",
              "      <td>0</td>\n",
              "      <td>0</td>\n",
              "      <td>1</td>\n",
              "      <td>0</td>\n",
              "    </tr>\n",
              "    <tr>\n",
              "      <th>2</th>\n",
              "      <td>resized/3.jpg</td>\n",
              "      <td>0</td>\n",
              "      <td>1</td>\n",
              "      <td>0</td>\n",
              "      <td>0</td>\n",
              "      <td>1</td>\n",
              "      <td>0</td>\n",
              "      <td>0</td>\n",
              "      <td>0</td>\n",
              "      <td>1</td>\n",
              "      <td>0</td>\n",
              "      <td>1</td>\n",
              "      <td>0</td>\n",
              "      <td>0</td>\n",
              "      <td>0</td>\n",
              "      <td>0</td>\n",
              "      <td>1</td>\n",
              "      <td>0</td>\n",
              "      <td>1</td>\n",
              "      <td>0</td>\n",
              "      <td>0</td>\n",
              "      <td>0</td>\n",
              "      <td>0</td>\n",
              "      <td>1</td>\n",
              "      <td>0</td>\n",
              "      <td>0</td>\n",
              "      <td>1</td>\n",
              "      <td>0</td>\n",
              "    </tr>\n",
              "    <tr>\n",
              "      <th>3</th>\n",
              "      <td>resized/4.jpg</td>\n",
              "      <td>0</td>\n",
              "      <td>1</td>\n",
              "      <td>0</td>\n",
              "      <td>0</td>\n",
              "      <td>1</td>\n",
              "      <td>0</td>\n",
              "      <td>0</td>\n",
              "      <td>0</td>\n",
              "      <td>1</td>\n",
              "      <td>0</td>\n",
              "      <td>1</td>\n",
              "      <td>0</td>\n",
              "      <td>0</td>\n",
              "      <td>0</td>\n",
              "      <td>1</td>\n",
              "      <td>0</td>\n",
              "      <td>0</td>\n",
              "      <td>0</td>\n",
              "      <td>0</td>\n",
              "      <td>1</td>\n",
              "      <td>0</td>\n",
              "      <td>0</td>\n",
              "      <td>1</td>\n",
              "      <td>0</td>\n",
              "      <td>0</td>\n",
              "      <td>1</td>\n",
              "      <td>0</td>\n",
              "    </tr>\n",
              "    <tr>\n",
              "      <th>4</th>\n",
              "      <td>resized/5.jpg</td>\n",
              "      <td>1</td>\n",
              "      <td>0</td>\n",
              "      <td>0</td>\n",
              "      <td>0</td>\n",
              "      <td>1</td>\n",
              "      <td>0</td>\n",
              "      <td>0</td>\n",
              "      <td>1</td>\n",
              "      <td>0</td>\n",
              "      <td>0</td>\n",
              "      <td>0</td>\n",
              "      <td>0</td>\n",
              "      <td>1</td>\n",
              "      <td>0</td>\n",
              "      <td>0</td>\n",
              "      <td>0</td>\n",
              "      <td>1</td>\n",
              "      <td>1</td>\n",
              "      <td>0</td>\n",
              "      <td>0</td>\n",
              "      <td>0</td>\n",
              "      <td>0</td>\n",
              "      <td>1</td>\n",
              "      <td>0</td>\n",
              "      <td>0</td>\n",
              "      <td>1</td>\n",
              "      <td>0</td>\n",
              "    </tr>\n",
              "  </tbody>\n",
              "</table>\n",
              "</div>"
            ],
            "text/plain": [
              "      image_path  gender_female  ...  bodypose_Front-Frontish  bodypose_Side\n",
              "0  resized/1.jpg              0  ...                        1              0\n",
              "1  resized/2.jpg              1  ...                        1              0\n",
              "2  resized/3.jpg              0  ...                        1              0\n",
              "3  resized/4.jpg              0  ...                        1              0\n",
              "4  resized/5.jpg              1  ...                        1              0\n",
              "\n",
              "[5 rows x 28 columns]"
            ]
          },
          "metadata": {
            "tags": []
          },
          "execution_count": 4
        }
      ]
    },
    {
      "cell_type": "code",
      "metadata": {
        "id": "8tRIn8bySNds",
        "colab_type": "code",
        "outputId": "afd8aad8-67dc-457c-d842-3a4739a28d59",
        "colab": {
          "base_uri": "https://localhost:8080/",
          "height": 35
        }
      },
      "source": [
        "print(one_hot_df.image_path[0])"
      ],
      "execution_count": 5,
      "outputs": [
        {
          "output_type": "stream",
          "text": [
            "resized/1.jpg\n"
          ],
          "name": "stdout"
        }
      ]
    },
    {
      "cell_type": "code",
      "metadata": {
        "id": "AcknNFL0SV4T",
        "colab_type": "code",
        "colab": {}
      },
      "source": [
        "img = cv2.imread(one_hot_df.image_path[0])\n",
        "#cv2_imshow(img)"
      ],
      "execution_count": 0,
      "outputs": []
    },
    {
      "cell_type": "code",
      "metadata": {
        "id": "vxD5C-j8Umad",
        "colab_type": "code",
        "outputId": "c0d75e6b-3ed8-4bf7-8881-93a5701e4b01",
        "colab": {
          "base_uri": "https://localhost:8080/",
          "height": 35
        }
      },
      "source": [
        "img.shape"
      ],
      "execution_count": 7,
      "outputs": [
        {
          "output_type": "execute_result",
          "data": {
            "text/plain": [
              "(224, 224, 3)"
            ]
          },
          "metadata": {
            "tags": []
          },
          "execution_count": 7
        }
      ]
    },
    {
      "cell_type": "markdown",
      "metadata": {
        "id": "yi6WzXOqjXyM",
        "colab_type": "text"
      },
      "source": [
        "***Create DataGenerator class***"
      ]
    },
    {
      "cell_type": "code",
      "metadata": {
        "id": "0ll94zTv6w5i",
        "colab_type": "code",
        "outputId": "243815df-5f75-4e40-a375-dae491a278fe",
        "colab": {
          "base_uri": "https://localhost:8080/",
          "height": 54
        }
      },
      "source": [
        "import keras\n",
        "import numpy as np\n",
        "\n",
        "# Label columns per attribute\n",
        "_gender_cols_ = [col for col in one_hot_df.columns if col.startswith(\"gender\")]\n",
        "_imagequality_cols_ = [col for col in one_hot_df.columns if col.startswith(\"imagequality\")]\n",
        "_age_cols_ = [col for col in one_hot_df.columns if col.startswith(\"age\")]\n",
        "_weight_cols_ = [col for col in one_hot_df.columns if col.startswith(\"weight\")]\n",
        "_carryingbag_cols_ = [col for col in one_hot_df.columns if col.startswith(\"carryingbag\")]\n",
        "_footwear_cols_ = [col for col in one_hot_df.columns if col.startswith(\"footwear\")]\n",
        "_emotion_cols_ = [col for col in one_hot_df.columns if col.startswith(\"emotion\")]\n",
        "_bodypose_cols_ = [col for col in one_hot_df.columns if col.startswith(\"bodypose\")]\n",
        "\n",
        "print('gender   ', _gender_cols_)\n",
        "print('bodypose ', _bodypose_cols_)\n",
        "class PersonDataGenerator(keras.utils.Sequence):\n",
        "    \"\"\"Ground truth data generator\"\"\"\n",
        "    \n",
        "    def __init__(self, df, batch_size=32, shuffle=True,augmentation=None):\n",
        "        #print('one1')\n",
        "        self.df = df\n",
        "        self.batch_size=batch_size\n",
        "        self.shuffle = shuffle\n",
        "        self.on_epoch_end()\n",
        "        self.augmentation = augmentation\n",
        "        print('augumentation', augmentation)\n",
        "        #print('one2')\n",
        "\n",
        "\n",
        "    def __len__(self):\n",
        "        #print(self.df.shape[0])\n",
        "        #print('two', int(np.floor(self.df.shape[0] / self.batch_size)))\n",
        "        return int(np.floor(self.df.shape[0] / self.batch_size))\n",
        "\n",
        "    def __getitem__(self, index):\n",
        "        \"\"\"fetch batched images and targets\"\"\"\n",
        "        #print('index3', index)\n",
        "        batch_slice = slice(index * self.batch_size, (index + 1) * self.batch_size)\n",
        "        #print('bslice3', batch_slice)\n",
        "        items = self.df.iloc[batch_slice]\n",
        "        #print(\"2item head\", items)\n",
        "        image = np.stack([cv2.imread(item[\"image_path\"]) for _, item in items.iterrows()])\n",
        "\n",
        "        if self.augmentation is not None:\n",
        "          self.augmentation.fit(image)\n",
        "          image = self.augmentation.flow(image, shuffle=False,batch_size = self.batch_size).next()\n",
        "\n",
        "        target = {\n",
        "            \"gender_output\": items[_gender_cols_].values,\n",
        "            \"image_quality_output\": items[_imagequality_cols_].values,\n",
        "            \"age_output\": items[_age_cols_].values,\n",
        "            \"weight_output\": items[_weight_cols_].values,\n",
        "            \"bag_output\": items[_carryingbag_cols_].values,\n",
        "            \"pose_output\": items[_bodypose_cols_].values,\n",
        "            \"footwear_output\": items[_footwear_cols_].values,\n",
        "            \"emotion_output\": items[_emotion_cols_].values,\n",
        "        }\n",
        "        return image, target\n",
        "\n",
        "\n",
        "    def on_epoch_end(self):\n",
        "        \"\"\"Updates indexes after each epoch\"\"\"\n",
        "        if self.shuffle == True:\n",
        "            self.df = self.df.sample(frac=1).reset_index(drop=True)\n",
        "            #print(\"last\" , self.df.head())\n",
        "    \n"
      ],
      "execution_count": 9,
      "outputs": [
        {
          "output_type": "stream",
          "text": [
            "gender    ['gender_female', 'gender_male']\n",
            "bodypose  ['bodypose_Back', 'bodypose_Front-Frontish', 'bodypose_Side']\n"
          ],
          "name": "stdout"
        }
      ]
    },
    {
      "cell_type": "markdown",
      "metadata": {
        "id": "o-1agMr2jxfS",
        "colab_type": "text"
      },
      "source": [
        "***Train / val Split***"
      ]
    },
    {
      "cell_type": "code",
      "metadata": {
        "id": "yVE8-OaZ8J5q",
        "colab_type": "code",
        "outputId": "21e25691-5fcd-4813-e408-ac6df723947e",
        "colab": {
          "base_uri": "https://localhost:8080/",
          "height": 35
        }
      },
      "source": [
        "from sklearn.model_selection import train_test_split\n",
        "train_df, val_df = train_test_split(one_hot_df, test_size=0.15,random_state=1)\n",
        "train_df.shape, val_df.shape"
      ],
      "execution_count": 10,
      "outputs": [
        {
          "output_type": "execute_result",
          "data": {
            "text/plain": [
              "((11537, 28), (2036, 28))"
            ]
          },
          "metadata": {
            "tags": []
          },
          "execution_count": 10
        }
      ]
    },
    {
      "cell_type": "code",
      "metadata": {
        "id": "IO9FaMIVUxfb",
        "colab_type": "code",
        "outputId": "7ed7285e-5384-4bee-f665-255d3bf4da23",
        "colab": {
          "base_uri": "https://localhost:8080/",
          "height": 35
        }
      },
      "source": [
        "img = cv2.imread(one_hot_df.image_path[0])\n",
        "img.shape"
      ],
      "execution_count": 11,
      "outputs": [
        {
          "output_type": "execute_result",
          "data": {
            "text/plain": [
              "(224, 224, 3)"
            ]
          },
          "metadata": {
            "tags": []
          },
          "execution_count": 11
        }
      ]
    },
    {
      "cell_type": "code",
      "metadata": {
        "id": "K5m15DLyF2ot",
        "colab_type": "code",
        "outputId": "dcbfdc8d-b3c7-4cf4-c71d-6968ca488305",
        "colab": {
          "base_uri": "https://localhost:8080/",
          "height": 244
        }
      },
      "source": [
        "train_df.head()"
      ],
      "execution_count": 12,
      "outputs": [
        {
          "output_type": "execute_result",
          "data": {
            "text/html": [
              "<div>\n",
              "<style scoped>\n",
              "    .dataframe tbody tr th:only-of-type {\n",
              "        vertical-align: middle;\n",
              "    }\n",
              "\n",
              "    .dataframe tbody tr th {\n",
              "        vertical-align: top;\n",
              "    }\n",
              "\n",
              "    .dataframe thead th {\n",
              "        text-align: right;\n",
              "    }\n",
              "</style>\n",
              "<table border=\"1\" class=\"dataframe\">\n",
              "  <thead>\n",
              "    <tr style=\"text-align: right;\">\n",
              "      <th></th>\n",
              "      <th>image_path</th>\n",
              "      <th>gender_female</th>\n",
              "      <th>gender_male</th>\n",
              "      <th>imagequality_Average</th>\n",
              "      <th>imagequality_Bad</th>\n",
              "      <th>imagequality_Good</th>\n",
              "      <th>age_15-25</th>\n",
              "      <th>age_25-35</th>\n",
              "      <th>age_35-45</th>\n",
              "      <th>age_45-55</th>\n",
              "      <th>age_55+</th>\n",
              "      <th>weight_normal-healthy</th>\n",
              "      <th>weight_over-weight</th>\n",
              "      <th>weight_slightly-overweight</th>\n",
              "      <th>weight_underweight</th>\n",
              "      <th>carryingbag_Daily/Office/Work Bag</th>\n",
              "      <th>carryingbag_Grocery/Home/Plastic Bag</th>\n",
              "      <th>carryingbag_None</th>\n",
              "      <th>footwear_CantSee</th>\n",
              "      <th>footwear_Fancy</th>\n",
              "      <th>footwear_Normal</th>\n",
              "      <th>emotion_Angry/Serious</th>\n",
              "      <th>emotion_Happy</th>\n",
              "      <th>emotion_Neutral</th>\n",
              "      <th>emotion_Sad</th>\n",
              "      <th>bodypose_Back</th>\n",
              "      <th>bodypose_Front-Frontish</th>\n",
              "      <th>bodypose_Side</th>\n",
              "    </tr>\n",
              "  </thead>\n",
              "  <tbody>\n",
              "    <tr>\n",
              "      <th>58</th>\n",
              "      <td>resized/59.jpg</td>\n",
              "      <td>0</td>\n",
              "      <td>1</td>\n",
              "      <td>0</td>\n",
              "      <td>0</td>\n",
              "      <td>1</td>\n",
              "      <td>0</td>\n",
              "      <td>0</td>\n",
              "      <td>1</td>\n",
              "      <td>0</td>\n",
              "      <td>0</td>\n",
              "      <td>0</td>\n",
              "      <td>0</td>\n",
              "      <td>1</td>\n",
              "      <td>0</td>\n",
              "      <td>0</td>\n",
              "      <td>0</td>\n",
              "      <td>1</td>\n",
              "      <td>1</td>\n",
              "      <td>0</td>\n",
              "      <td>0</td>\n",
              "      <td>0</td>\n",
              "      <td>0</td>\n",
              "      <td>1</td>\n",
              "      <td>0</td>\n",
              "      <td>0</td>\n",
              "      <td>1</td>\n",
              "      <td>0</td>\n",
              "    </tr>\n",
              "    <tr>\n",
              "      <th>2106</th>\n",
              "      <td>resized/2107.jpg</td>\n",
              "      <td>1</td>\n",
              "      <td>0</td>\n",
              "      <td>0</td>\n",
              "      <td>0</td>\n",
              "      <td>1</td>\n",
              "      <td>0</td>\n",
              "      <td>0</td>\n",
              "      <td>1</td>\n",
              "      <td>0</td>\n",
              "      <td>0</td>\n",
              "      <td>0</td>\n",
              "      <td>0</td>\n",
              "      <td>1</td>\n",
              "      <td>0</td>\n",
              "      <td>1</td>\n",
              "      <td>0</td>\n",
              "      <td>0</td>\n",
              "      <td>0</td>\n",
              "      <td>0</td>\n",
              "      <td>1</td>\n",
              "      <td>0</td>\n",
              "      <td>0</td>\n",
              "      <td>1</td>\n",
              "      <td>0</td>\n",
              "      <td>0</td>\n",
              "      <td>1</td>\n",
              "      <td>0</td>\n",
              "    </tr>\n",
              "    <tr>\n",
              "      <th>5206</th>\n",
              "      <td>resized/5207.jpg</td>\n",
              "      <td>0</td>\n",
              "      <td>1</td>\n",
              "      <td>1</td>\n",
              "      <td>0</td>\n",
              "      <td>0</td>\n",
              "      <td>0</td>\n",
              "      <td>0</td>\n",
              "      <td>0</td>\n",
              "      <td>0</td>\n",
              "      <td>1</td>\n",
              "      <td>1</td>\n",
              "      <td>0</td>\n",
              "      <td>0</td>\n",
              "      <td>0</td>\n",
              "      <td>0</td>\n",
              "      <td>0</td>\n",
              "      <td>1</td>\n",
              "      <td>1</td>\n",
              "      <td>0</td>\n",
              "      <td>0</td>\n",
              "      <td>0</td>\n",
              "      <td>0</td>\n",
              "      <td>0</td>\n",
              "      <td>1</td>\n",
              "      <td>0</td>\n",
              "      <td>1</td>\n",
              "      <td>0</td>\n",
              "    </tr>\n",
              "    <tr>\n",
              "      <th>1163</th>\n",
              "      <td>resized/1164.jpg</td>\n",
              "      <td>1</td>\n",
              "      <td>0</td>\n",
              "      <td>1</td>\n",
              "      <td>0</td>\n",
              "      <td>0</td>\n",
              "      <td>0</td>\n",
              "      <td>1</td>\n",
              "      <td>0</td>\n",
              "      <td>0</td>\n",
              "      <td>0</td>\n",
              "      <td>0</td>\n",
              "      <td>1</td>\n",
              "      <td>0</td>\n",
              "      <td>0</td>\n",
              "      <td>1</td>\n",
              "      <td>0</td>\n",
              "      <td>0</td>\n",
              "      <td>0</td>\n",
              "      <td>0</td>\n",
              "      <td>1</td>\n",
              "      <td>0</td>\n",
              "      <td>0</td>\n",
              "      <td>1</td>\n",
              "      <td>0</td>\n",
              "      <td>0</td>\n",
              "      <td>1</td>\n",
              "      <td>0</td>\n",
              "    </tr>\n",
              "    <tr>\n",
              "      <th>13534</th>\n",
              "      <td>resized/13536.jpg</td>\n",
              "      <td>1</td>\n",
              "      <td>0</td>\n",
              "      <td>1</td>\n",
              "      <td>0</td>\n",
              "      <td>0</td>\n",
              "      <td>0</td>\n",
              "      <td>1</td>\n",
              "      <td>0</td>\n",
              "      <td>0</td>\n",
              "      <td>0</td>\n",
              "      <td>1</td>\n",
              "      <td>0</td>\n",
              "      <td>0</td>\n",
              "      <td>0</td>\n",
              "      <td>1</td>\n",
              "      <td>0</td>\n",
              "      <td>0</td>\n",
              "      <td>1</td>\n",
              "      <td>0</td>\n",
              "      <td>0</td>\n",
              "      <td>0</td>\n",
              "      <td>1</td>\n",
              "      <td>0</td>\n",
              "      <td>0</td>\n",
              "      <td>0</td>\n",
              "      <td>0</td>\n",
              "      <td>1</td>\n",
              "    </tr>\n",
              "  </tbody>\n",
              "</table>\n",
              "</div>"
            ],
            "text/plain": [
              "              image_path  gender_female  ...  bodypose_Front-Frontish  bodypose_Side\n",
              "58        resized/59.jpg              0  ...                        1              0\n",
              "2106    resized/2107.jpg              1  ...                        1              0\n",
              "5206    resized/5207.jpg              0  ...                        1              0\n",
              "1163    resized/1164.jpg              1  ...                        1              0\n",
              "13534  resized/13536.jpg              1  ...                        0              1\n",
              "\n",
              "[5 rows x 28 columns]"
            ]
          },
          "metadata": {
            "tags": []
          },
          "execution_count": 12
        }
      ]
    },
    {
      "cell_type": "markdown",
      "metadata": {
        "id": "PpzF8ZtMj6Yr",
        "colab_type": "text"
      },
      "source": [
        "***Creating Data generator objects***"
      ]
    },
    {
      "cell_type": "code",
      "metadata": {
        "id": "oTiOi5tVBnhS",
        "colab_type": "code",
        "outputId": "3327540c-bd06-42b1-a139-38965d590782",
        "colab": {
          "base_uri": "https://localhost:8080/",
          "height": 54
        }
      },
      "source": [
        "# create train and validation data generators\n",
        "train_gen = PersonDataGenerator(train_df, batch_size=32,augmentation=ImageDataGenerator(\n",
        "        horizontal_flip=True,\n",
        "        zoom_range=0.2,\n",
        "        width_shift_range=0.3\n",
        "        #rescale=1./255\n",
        "        ))\n",
        "valid_gen = PersonDataGenerator(val_df, batch_size=32, shuffle=False)"
      ],
      "execution_count": 15,
      "outputs": [
        {
          "output_type": "stream",
          "text": [
            "augumentation <keras.preprocessing.image.ImageDataGenerator object at 0x7f6b7d0c1940>\n",
            "augumentation None\n"
          ],
          "name": "stdout"
        }
      ]
    },
    {
      "cell_type": "code",
      "metadata": {
        "id": "2pMDGat-Ghow",
        "colab_type": "code",
        "outputId": "64cc7285-8fc7-4313-add3-341028551c5a",
        "colab": {
          "base_uri": "https://localhost:8080/",
          "height": 164
        }
      },
      "source": [
        "# get number of output units from data\n",
        "images, targets = next(iter(train_gen))\n",
        "#print(targets)\n",
        "#print(targets['pose_output'])\n",
        "num_units = { k.split(\"_output\")[0]:v.shape[1] for k, v in targets.items()}\n",
        "num_units"
      ],
      "execution_count": 16,
      "outputs": [
        {
          "output_type": "execute_result",
          "data": {
            "text/plain": [
              "{'age': 5,\n",
              " 'bag': 3,\n",
              " 'emotion': 4,\n",
              " 'footwear': 3,\n",
              " 'gender': 2,\n",
              " 'image_quality': 3,\n",
              " 'pose': 3,\n",
              " 'weight': 4}"
            ]
          },
          "metadata": {
            "tags": []
          },
          "execution_count": 16
        }
      ]
    },
    {
      "cell_type": "markdown",
      "metadata": {
        "id": "QLI2zA6ykG9U",
        "colab_type": "text"
      },
      "source": [
        "***Trying different Models***<br>\n",
        "\n",
        "***\n",
        "1.   Custom model from scratch\n",
        "2.   Custom model with Separable Concolutions\n",
        "3.   Inception V3\n",
        "4.   Resnet 50\n",
        "5.   Xception\n",
        "\n"
      ]
    },
    {
      "cell_type": "markdown",
      "metadata": {
        "id": "pP5DyqZSkgLJ",
        "colab_type": "text"
      },
      "source": [
        "***1. Custom Model***"
      ]
    },
    {
      "cell_type": "code",
      "metadata": {
        "id": "OQoga3CCNnff",
        "colab_type": "code",
        "outputId": "f4bc3ea2-3cf1-4e9b-e8d3-b53aad2b8ad1",
        "colab": {
          "base_uri": "https://localhost:8080/",
          "height": 292
        }
      },
      "source": [
        "model = Sequential()\n",
        "\n",
        "model.add(Convolution2D(32, 3, 3, activation='relu', use_bias=False, input_shape=(224,224,3))) #222\n",
        "model.add(BatchNormalization())\n",
        "model.add(Dropout(0.1))\n",
        "\n",
        "model.add(Convolution2D(32, 3, 3, activation='relu',use_bias=False)) #220\n",
        "model.add(BatchNormalization())\n",
        "model.add(Dropout(0.25))\n",
        "\n",
        "model.add(MaxPooling2D(pool_size=(2,2))) #110\n",
        "\n",
        "model.add(Convolution2D(10, 1, 1, activation='relu',use_bias=False)) #110\n",
        "model.add(BatchNormalization())\n",
        "model.add(Dropout(0.1))\n",
        "\n",
        "model.add(Convolution2D(16, 3, 3, activation='relu',use_bias=False)) #108\n",
        "model.add(BatchNormalization())\n",
        "model.add(Dropout(0.2))\n",
        "\n",
        "model.add(MaxPooling2D(pool_size=(2,2))) #54\n",
        "\n",
        "model.add(Convolution2D(16, 3, 3, activation='relu',use_bias=False)) #52\n",
        "model.add(BatchNormalization())\n",
        "model.add(Dropout(0.2))\n",
        "\n",
        "model.add(Convolution2D(16, 3, 3, activation='relu',use_bias=False)) #50\n",
        "model.add(BatchNormalization())\n",
        "model.add(Dropout(0.25))\n",
        "\n",
        "model.add(Convolution2D(20, 3, 3, activation='relu',use_bias=False)) #48\n",
        "model.add(BatchNormalization())\n",
        "model.add(Dropout(0.1))\n",
        "\n",
        "model.add(MaxPooling2D(pool_size=(2,2))) #24\n",
        "\n",
        "model.add(Convolution2D(10, 1, 1, activation='relu',use_bias=False)) #24\n",
        "model.add(BatchNormalization())\n",
        "\n",
        "model.add(Convolution2D(16, 3, 3, activation='relu',use_bias=False)) #22\n",
        "model.add(BatchNormalization())\n",
        "model.add(Dropout(0.25))\n",
        "\n",
        "model.add(Convolution2D(20, 3, 3, activation='relu',use_bias=False)) #20\n",
        "model.add(BatchNormalization())\n",
        "model.add(Dropout(0.1))\n",
        "\n",
        "model.add(MaxPooling2D(pool_size=(2,2))) #10\n",
        "\n",
        "model.add(Convolution2D(32, 3, 3, activation='relu',use_bias=False)) #8\n",
        "model.add(BatchNormalization())\n",
        "\n",
        "model.add(Convolution2D(64, 3, 3, activation='relu',use_bias=False)) #6\n"
      ],
      "execution_count": 0,
      "outputs": [
        {
          "output_type": "stream",
          "text": [
            "/usr/local/lib/python3.6/dist-packages/ipykernel_launcher.py:3: UserWarning: Update your `Conv2D` call to the Keras 2 API: `Conv2D(32, (3, 3), activation=\"relu\", use_bias=False, input_shape=(224, 224,...)`\n",
            "  This is separate from the ipykernel package so we can avoid doing imports until\n",
            "/usr/local/lib/python3.6/dist-packages/ipykernel_launcher.py:7: UserWarning: Update your `Conv2D` call to the Keras 2 API: `Conv2D(32, (3, 3), activation=\"relu\", use_bias=False)`\n",
            "  import sys\n",
            "/usr/local/lib/python3.6/dist-packages/ipykernel_launcher.py:13: UserWarning: Update your `Conv2D` call to the Keras 2 API: `Conv2D(10, (1, 1), activation=\"relu\", use_bias=False)`\n",
            "  del sys.path[0]\n",
            "/usr/local/lib/python3.6/dist-packages/ipykernel_launcher.py:17: UserWarning: Update your `Conv2D` call to the Keras 2 API: `Conv2D(16, (3, 3), activation=\"relu\", use_bias=False)`\n",
            "/usr/local/lib/python3.6/dist-packages/ipykernel_launcher.py:23: UserWarning: Update your `Conv2D` call to the Keras 2 API: `Conv2D(16, (3, 3), activation=\"relu\", use_bias=False)`\n",
            "/usr/local/lib/python3.6/dist-packages/ipykernel_launcher.py:27: UserWarning: Update your `Conv2D` call to the Keras 2 API: `Conv2D(16, (3, 3), activation=\"relu\", use_bias=False)`\n",
            "/usr/local/lib/python3.6/dist-packages/ipykernel_launcher.py:31: UserWarning: Update your `Conv2D` call to the Keras 2 API: `Conv2D(20, (3, 3), activation=\"relu\", use_bias=False)`\n",
            "/usr/local/lib/python3.6/dist-packages/ipykernel_launcher.py:37: UserWarning: Update your `Conv2D` call to the Keras 2 API: `Conv2D(10, (1, 1), activation=\"relu\", use_bias=False)`\n",
            "/usr/local/lib/python3.6/dist-packages/ipykernel_launcher.py:40: UserWarning: Update your `Conv2D` call to the Keras 2 API: `Conv2D(16, (3, 3), activation=\"relu\", use_bias=False)`\n",
            "/usr/local/lib/python3.6/dist-packages/ipykernel_launcher.py:44: UserWarning: Update your `Conv2D` call to the Keras 2 API: `Conv2D(20, (3, 3), activation=\"relu\", use_bias=False)`\n",
            "/usr/local/lib/python3.6/dist-packages/ipykernel_launcher.py:50: UserWarning: Update your `Conv2D` call to the Keras 2 API: `Conv2D(32, (3, 3), activation=\"relu\", use_bias=False)`\n",
            "/usr/local/lib/python3.6/dist-packages/ipykernel_launcher.py:53: UserWarning: Update your `Conv2D` call to the Keras 2 API: `Conv2D(64, (3, 3), activation=\"relu\", use_bias=False)`\n"
          ],
          "name": "stderr"
        }
      ]
    },
    {
      "cell_type": "code",
      "metadata": {
        "id": "YBftugQZPLcB",
        "colab_type": "code",
        "outputId": "2844f3f7-43b5-470b-b7e5-7620b7487ca2",
        "colab": {
          "base_uri": "https://localhost:8080/",
          "height": 1000
        }
      },
      "source": [
        "model.summary()"
      ],
      "execution_count": 0,
      "outputs": [
        {
          "output_type": "stream",
          "text": [
            "Model: \"sequential_2\"\n",
            "_________________________________________________________________\n",
            "Layer (type)                 Output Shape              Param #   \n",
            "=================================================================\n",
            "conv2d_1 (Conv2D)            (None, 222, 222, 32)      864       \n",
            "_________________________________________________________________\n",
            "batch_normalization_10 (Batc (None, 222, 222, 32)      128       \n",
            "_________________________________________________________________\n",
            "dropout_7 (Dropout)          (None, 222, 222, 32)      0         \n",
            "_________________________________________________________________\n",
            "conv2d_2 (Conv2D)            (None, 220, 220, 32)      9216      \n",
            "_________________________________________________________________\n",
            "batch_normalization_11 (Batc (None, 220, 220, 32)      128       \n",
            "_________________________________________________________________\n",
            "dropout_8 (Dropout)          (None, 220, 220, 32)      0         \n",
            "_________________________________________________________________\n",
            "max_pooling2d_5 (MaxPooling2 (None, 110, 110, 32)      0         \n",
            "_________________________________________________________________\n",
            "conv2d_3 (Conv2D)            (None, 110, 110, 10)      320       \n",
            "_________________________________________________________________\n",
            "batch_normalization_12 (Batc (None, 110, 110, 10)      40        \n",
            "_________________________________________________________________\n",
            "dropout_9 (Dropout)          (None, 110, 110, 10)      0         \n",
            "_________________________________________________________________\n",
            "conv2d_4 (Conv2D)            (None, 108, 108, 16)      1440      \n",
            "_________________________________________________________________\n",
            "batch_normalization_13 (Batc (None, 108, 108, 16)      64        \n",
            "_________________________________________________________________\n",
            "dropout_10 (Dropout)         (None, 108, 108, 16)      0         \n",
            "_________________________________________________________________\n",
            "max_pooling2d_6 (MaxPooling2 (None, 54, 54, 16)        0         \n",
            "_________________________________________________________________\n",
            "conv2d_5 (Conv2D)            (None, 52, 52, 16)        2304      \n",
            "_________________________________________________________________\n",
            "batch_normalization_14 (Batc (None, 52, 52, 16)        64        \n",
            "_________________________________________________________________\n",
            "dropout_11 (Dropout)         (None, 52, 52, 16)        0         \n",
            "_________________________________________________________________\n",
            "conv2d_6 (Conv2D)            (None, 50, 50, 16)        2304      \n",
            "_________________________________________________________________\n",
            "batch_normalization_15 (Batc (None, 50, 50, 16)        64        \n",
            "_________________________________________________________________\n",
            "dropout_12 (Dropout)         (None, 50, 50, 16)        0         \n",
            "_________________________________________________________________\n",
            "conv2d_7 (Conv2D)            (None, 48, 48, 20)        2880      \n",
            "_________________________________________________________________\n",
            "batch_normalization_16 (Batc (None, 48, 48, 20)        80        \n",
            "_________________________________________________________________\n",
            "dropout_13 (Dropout)         (None, 48, 48, 20)        0         \n",
            "_________________________________________________________________\n",
            "max_pooling2d_7 (MaxPooling2 (None, 24, 24, 20)        0         \n",
            "_________________________________________________________________\n",
            "conv2d_8 (Conv2D)            (None, 24, 24, 10)        200       \n",
            "_________________________________________________________________\n",
            "batch_normalization_17 (Batc (None, 24, 24, 10)        40        \n",
            "_________________________________________________________________\n",
            "conv2d_9 (Conv2D)            (None, 22, 22, 16)        1440      \n",
            "_________________________________________________________________\n",
            "batch_normalization_18 (Batc (None, 22, 22, 16)        64        \n",
            "_________________________________________________________________\n",
            "dropout_14 (Dropout)         (None, 22, 22, 16)        0         \n",
            "_________________________________________________________________\n",
            "conv2d_10 (Conv2D)           (None, 20, 20, 20)        2880      \n",
            "_________________________________________________________________\n",
            "batch_normalization_19 (Batc (None, 20, 20, 20)        80        \n",
            "_________________________________________________________________\n",
            "dropout_15 (Dropout)         (None, 20, 20, 20)        0         \n",
            "_________________________________________________________________\n",
            "max_pooling2d_8 (MaxPooling2 (None, 10, 10, 20)        0         \n",
            "_________________________________________________________________\n",
            "conv2d_11 (Conv2D)           (None, 8, 8, 32)          5760      \n",
            "_________________________________________________________________\n",
            "batch_normalization_20 (Batc (None, 8, 8, 32)          128       \n",
            "_________________________________________________________________\n",
            "conv2d_12 (Conv2D)           (None, 6, 6, 64)          18432     \n",
            "=================================================================\n",
            "Total params: 48,920\n",
            "Trainable params: 48,480\n",
            "Non-trainable params: 440\n",
            "_________________________________________________________________\n"
          ],
          "name": "stdout"
        }
      ]
    },
    {
      "cell_type": "markdown",
      "metadata": {
        "id": "mbIrDFQOkmu1",
        "colab_type": "text"
      },
      "source": [
        "***2) Custom Model with Separable Conv***"
      ]
    },
    {
      "cell_type": "code",
      "metadata": {
        "id": "X80U6rECGX3J",
        "colab_type": "code",
        "colab": {}
      },
      "source": [
        "\n",
        "model1 = Sequential()\n",
        "\n",
        "#BLOCK 1\n",
        "model1.add(SeparableConv2D(32, kernel_size=(3, 3), activation='relu', input_shape=(224, 224, 3), padding='same')) #224\n",
        "model1.add(BatchNormalization())\n",
        "\n",
        "model1.add(SeparableConv2D(32, kernel_size=(3, 3), activation='relu'))# 222\n",
        "model1.add(BatchNormalization())\n",
        "model1.add(Dropout(0.1))\n",
        "\n",
        "model1.add(MaxPooling2D(pool_size=(2, 2))) #111\n",
        "\n",
        "#BLOCK 2\n",
        "# model1.add(Conv2D(32, 1, 1 , activation='relu')) #110\n",
        "# model1.add(BatchNormalization())\n",
        "# model1.add(Dropout(0.1))\n",
        "\n",
        "model1.add(SeparableConv2D(64, kernel_size=(3, 3), activation='relu')) # 109\n",
        "model1.add(BatchNormalization())\n",
        "model1.add(Dropout(0.2))\n",
        "\n",
        "model1.add(SeparableConv2D(64, kernel_size=(3, 3), activation='relu')) #107\n",
        "model1.add(BatchNormalization())\n",
        "model1.add(Dropout(0.2))\n",
        "\n",
        "model1.add(MaxPooling2D(pool_size=(2, 2))) #54\n",
        "\n",
        "#FINAL BLOCK\n",
        "model1.add(SeparableConv2D(64, kernel_size=(3, 3), activation='relu')) #52\n",
        "model1.add(BatchNormalization())\n",
        "model1.add(Dropout(0.15))\n",
        "\n",
        "# model1.add(SeparableConv2D(128, kernel_size=(3, 3), activation='relu')) #50\n",
        "# model1.add(BatchNormalization())\n",
        "\n",
        "model1.add(MaxPooling2D(pool_size=(2, 2))) #26\n",
        "\n",
        "\n",
        "model1.add(SeparableConv2D(64, kernel_size=(3, 3), activation='relu')) #24\n",
        "model1.add(BatchNormalization())\n",
        "model1.add(Dropout(0.2))\n",
        "\n",
        "model1.add(SeparableConv2D(128, kernel_size=(3, 3), activation='relu')) #22\n",
        "model1.add(BatchNormalization())\n",
        "\n",
        "model1.add(MaxPooling2D(pool_size=(2, 2))) #11\n",
        "\n",
        "\n",
        "model1.add(SeparableConv2D(64, kernel_size=(3, 3), activation='relu')) #9\n",
        "model1.add(BatchNormalization())\n",
        "model1.add(Dropout(0.15))\n",
        "\n",
        "model1.add(SeparableConv2D(128, kernel_size=(3, 3), activation='relu')) #7\n",
        "model1.add(BatchNormalization())\n",
        "\n"
      ],
      "execution_count": 0,
      "outputs": []
    },
    {
      "cell_type": "markdown",
      "metadata": {
        "id": "YAWsU8yokv_G",
        "colab_type": "text"
      },
      "source": [
        "***Code for building class towers for above two models***"
      ]
    },
    {
      "cell_type": "code",
      "metadata": {
        "id": "V3xkaTOzV20U",
        "colab_type": "code",
        "outputId": "234d726b-b13e-43bd-ba14-5101f04d37cf",
        "colab": {
          "base_uri": "https://localhost:8080/",
          "height": 35
        }
      },
      "source": [
        "neck = model1.output\n",
        "print(neck.shape)\n",
        "neck = Flatten(name=\"flatten\")(neck)\n",
        "neck = Dense(256, activation=\"relu\")(neck)\n",
        "\n",
        "\n",
        "def build_tower(in_layer):\n",
        "    neck = Dropout(0.5)(in_layer)\n",
        "    neck = Dense(128, activation=\"relu\")(neck)\n",
        "    neck = Dropout(0.5)(neck)\n",
        "    neck = Dense(128, activation=\"relu\")(neck)\n",
        "    return neck\n",
        "\n",
        "\n",
        "def build_head(name, in_layer):\n",
        "    return Dense(\n",
        "        num_units[name], activation=\"softmax\", name=f\"{name}_output\"\n",
        "    )(in_layer)\n",
        "\n",
        "# heads\n",
        "gender = build_head(\"gender\", build_tower(neck))\n",
        "image_quality = build_head(\"image_quality\", build_tower(neck))\n",
        "age = build_head(\"age\", build_tower(neck))\n",
        "weight = build_head(\"weight\", build_tower(neck))\n",
        "bag = build_head(\"bag\", build_tower(neck))\n",
        "footwear = build_head(\"footwear\", build_tower(neck))\n",
        "emotion = build_head(\"emotion\", build_tower(neck))\n",
        "pose = build_head(\"pose\", build_tower(neck))\n",
        "\n",
        "\n",
        "model2 = Model(\n",
        "    inputs=model1.input, \n",
        "    outputs=[gender, image_quality, age, weight, bag, footwear, pose, emotion]\n",
        ")"
      ],
      "execution_count": 0,
      "outputs": [
        {
          "output_type": "stream",
          "text": [
            "(?, 6, 6, 128)\n"
          ],
          "name": "stdout"
        }
      ]
    },
    {
      "cell_type": "markdown",
      "metadata": {
        "id": "h9kutXKck6eo",
        "colab_type": "text"
      },
      "source": [
        "***3) VGG16***"
      ]
    },
    {
      "cell_type": "code",
      "metadata": {
        "id": "03W8Pagg_Ppp",
        "colab_type": "code",
        "colab": {}
      },
      "source": [
        "# backbone = VGG16(\n",
        "#     #weights=\"imagenet\",\n",
        "#     weights=None, \n",
        "#     include_top=False, \n",
        "#     input_tensor=Input(shape=(224, 224, 3))\n",
        "# )\n",
        "\n",
        "# neck = backbone.output\n",
        "# print(neck.shape)\n",
        "# neck = Flatten(name=\"flatten\")(neck)\n",
        "# neck = Dense(256, activation=\"relu\")(neck)\n",
        "\n",
        "\n",
        "# def build_tower(in_layer):\n",
        "#     neck = Dropout(0.5)(in_layer)\n",
        "#     neck = Dense(128, activation=\"relu\")(neck)\n",
        "#     neck = Dropout(0.5)(in_layer)\n",
        "#     neck = Dense(128, activation=\"relu\")(neck)\n",
        "#     return neck\n",
        "\n",
        "\n",
        "# def build_head(name, in_layer):\n",
        "#     return Dense(\n",
        "#         num_units[name], activation=\"softmax\", name=f\"{name}_output\"\n",
        "#     )(in_layer)\n",
        "\n",
        "# # heads\n",
        "# gender = build_head(\"gender\", build_tower(neck))\n",
        "# image_quality = build_head(\"image_quality\", build_tower(neck))\n",
        "# age = build_head(\"age\", build_tower(neck))\n",
        "# weight = build_head(\"weight\", build_tower(neck))\n",
        "# bag = build_head(\"bag\", build_tower(neck))\n",
        "# footwear = build_head(\"footwear\", build_tower(neck))\n",
        "# emotion = build_head(\"emotion\", build_tower(neck))\n",
        "# pose = build_head(\"pose\", build_tower(neck))\n",
        "\n",
        "\n",
        "# model3 = Model(\n",
        "#     inputs=backbone.input, \n",
        "#     outputs=[gender, image_quality, age, weight, bag, footwear, pose, emotion]\n",
        "# )"
      ],
      "execution_count": 0,
      "outputs": []
    },
    {
      "cell_type": "markdown",
      "metadata": {
        "id": "leXh2LRHOw4y",
        "colab_type": "text"
      },
      "source": [
        "***4) INCEPTION V3***"
      ]
    },
    {
      "cell_type": "code",
      "metadata": {
        "id": "7ZKMX62ArpWG",
        "colab_type": "code",
        "outputId": "92c22f77-4132-43a8-984c-59341e083c41",
        "colab": {
          "base_uri": "https://localhost:8080/",
          "height": 34
        }
      },
      "source": [
        "backbone = InceptionV3(\n",
        "    #weights=\"imagenet\",\n",
        "    weights=None, \n",
        "    include_top=False, \n",
        "    input_tensor=Input(shape=(224, 224, 3))\n",
        ")\n",
        "\n",
        "neck = backbone.output\n",
        "print(neck.shape)\n",
        "neck = Flatten(name=\"flatten\")(neck)\n",
        "neck = Dense(256, activation=\"relu\")(neck)\n",
        "\n",
        "\n",
        "def build_tower(in_layer):\n",
        "    neck = Dropout(0.5)(in_layer)\n",
        "    neck = Dense(256, activation=\"relu\")(neck)\n",
        "    #neck = Dropout(0.5)(neck)\n",
        "    #neck = Dense(128, activation=\"relu\")(neck)\n",
        "    return neck\n",
        "\n",
        "\n",
        "def build_head(name, in_layer):\n",
        "    return Dense(\n",
        "        num_units[name], activation=\"softmax\", name=f\"{name}_output\"\n",
        "    )(in_layer)\n",
        "\n",
        "# heads\n",
        "gender = build_head(\"gender\", build_tower(neck))\n",
        "image_quality = build_head(\"image_quality\", build_tower(neck))\n",
        "age = build_head(\"age\", build_tower(neck))\n",
        "weight = build_head(\"weight\", build_tower(neck))\n",
        "bag = build_head(\"bag\", build_tower(neck))\n",
        "footwear = build_head(\"footwear\", build_tower(neck))\n",
        "emotion = build_head(\"emotion\", build_tower(neck))\n",
        "pose = build_head(\"pose\", build_tower(neck))\n",
        "\n",
        "\n",
        "model4 = Model(\n",
        "    inputs=backbone.input, \n",
        "    outputs=[gender, image_quality, age, weight, bag, footwear, pose, emotion]\n",
        ")"
      ],
      "execution_count": 0,
      "outputs": [
        {
          "output_type": "stream",
          "text": [
            "(?, 5, 5, 2048)\n"
          ],
          "name": "stdout"
        }
      ]
    },
    {
      "cell_type": "markdown",
      "metadata": {
        "id": "ZyA9OFZslE15",
        "colab_type": "text"
      },
      "source": [
        "***5) Resnet 50*** "
      ]
    },
    {
      "cell_type": "code",
      "metadata": {
        "id": "r4JNSmdLA3YN",
        "colab_type": "code",
        "outputId": "87592b66-b181-4be4-f945-b563c83ce91c",
        "colab": {
          "base_uri": "https://localhost:8080/",
          "height": 625
        }
      },
      "source": [
        "backbone = ResNet50(\n",
        "    #weights=\"imagenet\",\n",
        "    weights=None, \n",
        "    include_top=False, \n",
        "    input_tensor=Input(shape=(224, 224, 3))\n",
        ")\n",
        "\n",
        "neck = backbone.output\n",
        "print(neck.shape)\n",
        "neck = Flatten(name=\"flatten\")(neck)\n",
        "neck = Dense(256, activation=\"relu\")(neck)\n",
        "\n",
        "\n",
        "def build_tower(in_layer):\n",
        "    neck = Dropout(0.5)(in_layer)\n",
        "    neck = Dense(256, activation=\"relu\")(neck)\n",
        "    neck = Dropout(0.5)(in_layer)\n",
        "    neck = Dense(128, activation=\"relu\")(neck)\n",
        "    return neck\n",
        "\n",
        "\n",
        "def build_head(name, in_layer):\n",
        "    return Dense(\n",
        "        num_units[name], activation=\"softmax\", name=f\"{name}_output\"\n",
        "    )(in_layer)\n",
        "\n",
        "# heads\n",
        "gender = build_head(\"gender\", build_tower(neck))\n",
        "image_quality = build_head(\"image_quality\", build_tower(neck))\n",
        "age = build_head(\"age\", build_tower(neck))\n",
        "weight = build_head(\"weight\", build_tower(neck))\n",
        "bag = build_head(\"bag\", build_tower(neck))\n",
        "footwear = build_head(\"footwear\", build_tower(neck))\n",
        "emotion = build_head(\"emotion\", build_tower(neck))\n",
        "pose = build_head(\"pose\", build_tower(neck))\n",
        "\n",
        "\n",
        "model4 = Model(\n",
        "    inputs=backbone.input, \n",
        "    outputs=[gender, image_quality, age, weight, bag, footwear, pose, emotion]\n",
        ")"
      ],
      "execution_count": 0,
      "outputs": [
        {
          "output_type": "stream",
          "text": [
            "WARNING:tensorflow:From /usr/local/lib/python3.6/dist-packages/keras/backend/tensorflow_backend.py:66: The name tf.get_default_graph is deprecated. Please use tf.compat.v1.get_default_graph instead.\n",
            "\n",
            "WARNING:tensorflow:From /usr/local/lib/python3.6/dist-packages/keras/backend/tensorflow_backend.py:541: The name tf.placeholder is deprecated. Please use tf.compat.v1.placeholder instead.\n",
            "\n",
            "WARNING:tensorflow:From /usr/local/lib/python3.6/dist-packages/keras/backend/tensorflow_backend.py:4479: The name tf.truncated_normal is deprecated. Please use tf.random.truncated_normal instead.\n",
            "\n",
            "WARNING:tensorflow:From /usr/local/lib/python3.6/dist-packages/keras/backend/tensorflow_backend.py:190: The name tf.get_default_session is deprecated. Please use tf.compat.v1.get_default_session instead.\n",
            "\n",
            "WARNING:tensorflow:From /usr/local/lib/python3.6/dist-packages/keras/backend/tensorflow_backend.py:197: The name tf.ConfigProto is deprecated. Please use tf.compat.v1.ConfigProto instead.\n",
            "\n",
            "WARNING:tensorflow:From /usr/local/lib/python3.6/dist-packages/keras/backend/tensorflow_backend.py:203: The name tf.Session is deprecated. Please use tf.compat.v1.Session instead.\n",
            "\n",
            "WARNING:tensorflow:From /usr/local/lib/python3.6/dist-packages/keras/backend/tensorflow_backend.py:207: The name tf.global_variables is deprecated. Please use tf.compat.v1.global_variables instead.\n",
            "\n",
            "WARNING:tensorflow:From /usr/local/lib/python3.6/dist-packages/keras/backend/tensorflow_backend.py:216: The name tf.is_variable_initialized is deprecated. Please use tf.compat.v1.is_variable_initialized instead.\n",
            "\n",
            "WARNING:tensorflow:From /usr/local/lib/python3.6/dist-packages/keras/backend/tensorflow_backend.py:223: The name tf.variables_initializer is deprecated. Please use tf.compat.v1.variables_initializer instead.\n",
            "\n",
            "WARNING:tensorflow:From /usr/local/lib/python3.6/dist-packages/keras/backend/tensorflow_backend.py:2041: The name tf.nn.fused_batch_norm is deprecated. Please use tf.compat.v1.nn.fused_batch_norm instead.\n",
            "\n",
            "WARNING:tensorflow:From /usr/local/lib/python3.6/dist-packages/keras/backend/tensorflow_backend.py:148: The name tf.placeholder_with_default is deprecated. Please use tf.compat.v1.placeholder_with_default instead.\n",
            "\n",
            "WARNING:tensorflow:From /usr/local/lib/python3.6/dist-packages/keras/backend/tensorflow_backend.py:4267: The name tf.nn.max_pool is deprecated. Please use tf.nn.max_pool2d instead.\n",
            "\n",
            "(?, 7, 7, 2048)\n",
            "WARNING:tensorflow:From /usr/local/lib/python3.6/dist-packages/keras/backend/tensorflow_backend.py:4432: The name tf.random_uniform is deprecated. Please use tf.random.uniform instead.\n",
            "\n",
            "WARNING:tensorflow:From /usr/local/lib/python3.6/dist-packages/keras/backend/tensorflow_backend.py:3733: calling dropout (from tensorflow.python.ops.nn_ops) with keep_prob is deprecated and will be removed in a future version.\n",
            "Instructions for updating:\n",
            "Please use `rate` instead of `keep_prob`. Rate should be set to `rate = 1 - keep_prob`.\n"
          ],
          "name": "stdout"
        },
        {
          "output_type": "stream",
          "text": [
            "/usr/local/lib/python3.6/dist-packages/keras_applications/resnet50.py:265: UserWarning: The output shape of `ResNet50(include_top=False)` has been changed since Keras 2.2.0.\n",
            "  warnings.warn('The output shape of `ResNet50(include_top=False)` '\n"
          ],
          "name": "stderr"
        }
      ]
    },
    {
      "cell_type": "markdown",
      "metadata": {
        "id": "dBTzPgW8lLgF",
        "colab_type": "text"
      },
      "source": [
        "***6) Xception***\n",
        "***"
      ]
    },
    {
      "cell_type": "code",
      "metadata": {
        "id": "JWEQxt0GPHsZ",
        "colab_type": "code",
        "outputId": "00c24969-9387-451a-a79c-7d867af343ff",
        "colab": {
          "base_uri": "https://localhost:8080/",
          "height": 513
        }
      },
      "source": [
        "backbone = Xception(\n",
        "    #weights=\"imagenet\",\n",
        "    weights=None, \n",
        "    include_top=False, \n",
        "    input_tensor=Input(shape=(224, 224, 3))\n",
        ")\n",
        "\n",
        "neck = backbone.output\n",
        "print(neck.shape)\n",
        "neck = Flatten(name=\"flatten\")(neck)\n",
        "neck = Dense(256, activation=\"relu\")(neck)\n",
        "\n",
        "\n",
        "def build_tower(in_layer):\n",
        "    neck = Dropout(0.5)(in_layer)\n",
        "    neck = Dense(256, activation=\"relu\")(neck)\n",
        "    neck = Dropout(0.5)(in_layer)\n",
        "    neck = Dense(128, activation=\"relu\")(neck)\n",
        "    return neck\n",
        "\n",
        "\n",
        "def build_head(name, in_layer):\n",
        "    return Dense(\n",
        "        num_units[name], activation=\"softmax\", name=f\"{name}_output\"\n",
        "    )(in_layer)\n",
        "\n",
        "# heads\n",
        "gender = build_head(\"gender\", build_tower(neck))\n",
        "image_quality = build_head(\"image_quality\", build_tower(neck))\n",
        "age = build_head(\"age\", build_tower(neck))\n",
        "weight = build_head(\"weight\", build_tower(neck))\n",
        "bag = build_head(\"bag\", build_tower(neck))\n",
        "footwear = build_head(\"footwear\", build_tower(neck))\n",
        "emotion = build_head(\"emotion\", build_tower(neck))\n",
        "pose = build_head(\"pose\", build_tower(neck))\n",
        "\n",
        "\n",
        "model5 = Model(\n",
        "    inputs=backbone.input, \n",
        "    outputs=[gender, image_quality, age, weight, bag, footwear, pose, emotion]\n",
        ")"
      ],
      "execution_count": 0,
      "outputs": [
        {
          "output_type": "stream",
          "text": [
            "WARNING:tensorflow:From /usr/local/lib/python3.6/dist-packages/keras/backend/tensorflow_backend.py:66: The name tf.get_default_graph is deprecated. Please use tf.compat.v1.get_default_graph instead.\n",
            "\n",
            "WARNING:tensorflow:From /usr/local/lib/python3.6/dist-packages/keras/backend/tensorflow_backend.py:541: The name tf.placeholder is deprecated. Please use tf.compat.v1.placeholder instead.\n",
            "\n",
            "WARNING:tensorflow:From /usr/local/lib/python3.6/dist-packages/keras/backend/tensorflow_backend.py:4432: The name tf.random_uniform is deprecated. Please use tf.random.uniform instead.\n",
            "\n",
            "WARNING:tensorflow:From /usr/local/lib/python3.6/dist-packages/keras/backend/tensorflow_backend.py:190: The name tf.get_default_session is deprecated. Please use tf.compat.v1.get_default_session instead.\n",
            "\n",
            "WARNING:tensorflow:From /usr/local/lib/python3.6/dist-packages/keras/backend/tensorflow_backend.py:197: The name tf.ConfigProto is deprecated. Please use tf.compat.v1.ConfigProto instead.\n",
            "\n",
            "WARNING:tensorflow:From /usr/local/lib/python3.6/dist-packages/keras/backend/tensorflow_backend.py:203: The name tf.Session is deprecated. Please use tf.compat.v1.Session instead.\n",
            "\n",
            "WARNING:tensorflow:From /usr/local/lib/python3.6/dist-packages/keras/backend/tensorflow_backend.py:207: The name tf.global_variables is deprecated. Please use tf.compat.v1.global_variables instead.\n",
            "\n",
            "WARNING:tensorflow:From /usr/local/lib/python3.6/dist-packages/keras/backend/tensorflow_backend.py:216: The name tf.is_variable_initialized is deprecated. Please use tf.compat.v1.is_variable_initialized instead.\n",
            "\n",
            "WARNING:tensorflow:From /usr/local/lib/python3.6/dist-packages/keras/backend/tensorflow_backend.py:223: The name tf.variables_initializer is deprecated. Please use tf.compat.v1.variables_initializer instead.\n",
            "\n",
            "WARNING:tensorflow:From /usr/local/lib/python3.6/dist-packages/keras/backend/tensorflow_backend.py:2041: The name tf.nn.fused_batch_norm is deprecated. Please use tf.compat.v1.nn.fused_batch_norm instead.\n",
            "\n",
            "WARNING:tensorflow:From /usr/local/lib/python3.6/dist-packages/keras/backend/tensorflow_backend.py:148: The name tf.placeholder_with_default is deprecated. Please use tf.compat.v1.placeholder_with_default instead.\n",
            "\n",
            "WARNING:tensorflow:From /usr/local/lib/python3.6/dist-packages/keras/backend/tensorflow_backend.py:4267: The name tf.nn.max_pool is deprecated. Please use tf.nn.max_pool2d instead.\n",
            "\n",
            "(?, 7, 7, 2048)\n",
            "WARNING:tensorflow:From /usr/local/lib/python3.6/dist-packages/keras/backend/tensorflow_backend.py:3733: calling dropout (from tensorflow.python.ops.nn_ops) with keep_prob is deprecated and will be removed in a future version.\n",
            "Instructions for updating:\n",
            "Please use `rate` instead of `keep_prob`. Rate should be set to `rate = 1 - keep_prob`.\n"
          ],
          "name": "stdout"
        }
      ]
    },
    {
      "cell_type": "markdown",
      "metadata": {
        "id": "iLX6SFrslSJ3",
        "colab_type": "text"
      },
      "source": [
        "***Summary of final model selected (basic custom model)***"
      ]
    },
    {
      "cell_type": "code",
      "metadata": {
        "id": "EA8xJuikw6ia",
        "colab_type": "code",
        "outputId": "784c7a94-3f6c-4b9e-b401-9a6c0d21ac50",
        "colab": {
          "base_uri": "https://localhost:8080/",
          "height": 172
        }
      },
      "source": [
        "model2.summary()"
      ],
      "execution_count": 0,
      "outputs": [
        {
          "output_type": "error",
          "ename": "NameError",
          "evalue": "ignored",
          "traceback": [
            "\u001b[0;31m---------------------------------------------------------------------------\u001b[0m",
            "\u001b[0;31mNameError\u001b[0m                                 Traceback (most recent call last)",
            "\u001b[0;32m<ipython-input-1-378732ef5219>\u001b[0m in \u001b[0;36m<module>\u001b[0;34m()\u001b[0m\n\u001b[0;32m----> 1\u001b[0;31m \u001b[0mmodel2\u001b[0m\u001b[0;34m.\u001b[0m\u001b[0msummary\u001b[0m\u001b[0;34m(\u001b[0m\u001b[0;34m)\u001b[0m\u001b[0;34m\u001b[0m\u001b[0;34m\u001b[0m\u001b[0m\n\u001b[0m",
            "\u001b[0;31mNameError\u001b[0m: name 'model2' is not defined"
          ]
        }
      ]
    },
    {
      "cell_type": "code",
      "metadata": {
        "id": "JPQn8xnAbnms",
        "colab_type": "code",
        "outputId": "bf1c0ed3-e95e-4cb1-da66-0199536a9c9e",
        "colab": {
          "base_uri": "https://localhost:8080/",
          "height": 1000
        }
      },
      "source": [
        "from keras.utils import plot_model\n",
        "plot_model(model2)"
      ],
      "execution_count": 0,
      "outputs": [
        {
          "output_type": "execute_result",
          "data": {
            "image/png": "[encoded data removed]",
            "text/plain": [
              "<IPython.core.display.Image object>"
            ]
          },
          "metadata": {
            "tags": []
          },
          "execution_count": 21
        }
      ]
    },
    {
      "cell_type": "markdown",
      "metadata": {
        "id": "b7Vcxus1lfwf",
        "colab_type": "text"
      },
      "source": [
        "***LR SCHEDULER***"
      ]
    },
    {
      "cell_type": "code",
      "metadata": {
        "id": "ZlNyNKvrNL7K",
        "colab_type": "code",
        "colab": {}
      },
      "source": [
        "def lr_schedule(epoch):\n",
        "    \"\"\"Learning Rate Schedule\n",
        "\n",
        "    Learning rate is scheduled to be reduced after 80, 120, 160, 180 epochs.\n",
        "    Called automatically every epoch as part of callbacks during training.\n",
        "\n",
        "    # Arguments\n",
        "        epoch (int): The number of epochs\n",
        "\n",
        "    # Returns\n",
        "        lr (float32): learning rate\n",
        "    \"\"\"\n",
        "    lr = 1e-2\n",
        "    if epoch > 80:\n",
        "        lr *= 1e-2\n",
        "    elif epoch > 60:\n",
        "        lr *= 1\n",
        "    elif epoch > 55:\n",
        "        lr *= 1e-2\n",
        "    elif epoch > 40:\n",
        "        lr *= 1e-1\n",
        "    print('Learning rate: ', lr)\n",
        "    return lr\n"
      ],
      "execution_count": 0,
      "outputs": []
    },
    {
      "cell_type": "code",
      "metadata": {
        "id": "YUD7P_8ZNlIX",
        "colab_type": "code",
        "colab": {}
      },
      "source": [
        "from keras.callbacks import ModelCheckpoint, LearningRateScheduler\n",
        "from keras.callbacks import ReduceLROnPlateau\n",
        "\n",
        "lr_scheduler = LearningRateScheduler(lr_schedule)\n",
        "lr_reducer = ReduceLROnPlateau(factor=np.sqrt(0.1),\n",
        "                              cooldown=0,#\n",
        "                               patience=5,\n",
        "                               min_lr=0.5e-6)\n",
        "callbacks=[lr_scheduler]"
      ],
      "execution_count": 0,
      "outputs": []
    },
    {
      "cell_type": "markdown",
      "metadata": {
        "id": "PrAaPfhWllrU",
        "colab_type": "text"
      },
      "source": [
        "***COMPILE AND FIT MODEL (CUSTOM MODEL TRIAL)***"
      ]
    },
    {
      "cell_type": "code",
      "metadata": {
        "id": "RfPG9C2eA1zn",
        "colab_type": "code",
        "outputId": "6fbd015f-8ad5-4f73-c158-0c8d33b8a940",
        "colab": {
          "base_uri": "https://localhost:8080/",
          "height": 105
        }
      },
      "source": [
        "# losses = {\n",
        "# \t\"gender_output\": \"binary_crossentropy\",\n",
        "# \t\"image_quality_output\": \"categorical_crossentropy\",\n",
        "# \t\"age_output\": \"categorical_crossentropy\",\n",
        "# \t\"weight_output\": \"categorical_crossentropy\",\n",
        "\n",
        "# }\n",
        "# loss_weights = {\"gender_output\": 1.0, \"image_quality_output\": 1.0, \"age_output\": 1.0}\n",
        "opt = SGD(lr=0.01, momentum=0.9)\n",
        "model2.compile(\n",
        "    #optimizer=opt,\n",
        "    optimizer=keras.optimizers.\n",
        "    loss=\"categorical_crossentropy\", \n",
        "    # loss_weights=loss_weights, \n",
        "    metrics=[\"accuracy\"]\n",
        ")"
      ],
      "execution_count": 0,
      "outputs": [
        {
          "output_type": "stream",
          "text": [
            "WARNING:tensorflow:From /usr/local/lib/python3.6/dist-packages/keras/optimizers.py:793: The name tf.train.Optimizer is deprecated. Please use tf.compat.v1.train.Optimizer instead.\n",
            "\n",
            "WARNING:tensorflow:From /usr/local/lib/python3.6/dist-packages/keras/backend/tensorflow_backend.py:3576: The name tf.log is deprecated. Please use tf.math.log instead.\n",
            "\n"
          ],
          "name": "stdout"
        }
      ]
    },
    {
      "cell_type": "code",
      "metadata": {
        "id": "rpxv41EyNmN4",
        "colab_type": "code",
        "outputId": "6dfd6f5c-f027-406f-c01b-9cdbde101395",
        "colab": {
          "base_uri": "https://localhost:8080/",
          "height": 1000
        }
      },
      "source": [
        "model2.fit_generator(\n",
        "    generator=train_gen,\n",
        "    validation_data=valid_gen,\n",
        "    use_multiprocessing=True,\n",
        "    workers=4, \n",
        "    epochs=100,\n",
        "    verbose=1\n",
        "    #callbacks=callbacks\n",
        ")"
      ],
      "execution_count": 0,
      "outputs": [
        {
          "output_type": "stream",
          "text": [
            "WARNING:tensorflow:From /usr/local/lib/python3.6/dist-packages/tensorflow_core/python/ops/math_grad.py:1424: where (from tensorflow.python.ops.array_ops) is deprecated and will be removed in a future version.\n",
            "Instructions for updating:\n",
            "Use tf.where in 2.0, which has the same broadcast rule as np.where\n",
            "WARNING:tensorflow:From /usr/local/lib/python3.6/dist-packages/keras/backend/tensorflow_backend.py:1033: The name tf.assign_add is deprecated. Please use tf.compat.v1.assign_add instead.\n",
            "\n",
            "WARNING:tensorflow:From /usr/local/lib/python3.6/dist-packages/keras/backend/tensorflow_backend.py:1020: The name tf.assign is deprecated. Please use tf.compat.v1.assign instead.\n",
            "\n",
            "Epoch 1/100\n",
            "338/339 [============================>.] - ETA: 0s - loss: 7.9602 - gender_output_loss: 0.6937 - image_quality_output_loss: 0.9952 - age_output_loss: 1.4452 - weight_output_loss: 0.9970 - bag_output_loss: 0.9272 - footwear_output_loss: 1.0279 - pose_output_loss: 0.9391 - emotion_output_loss: 0.9349 - gender_output_acc: 0.5571 - image_quality_output_acc: 0.5500 - age_output_acc: 0.3927 - weight_output_acc: 0.6370 - bag_output_acc: 0.5586 - footwear_output_acc: 0.4850 - pose_output_acc: 0.6132 - emotion_output_acc: 0.7064Epoch 1/100\n",
            "339/339 [==============================] - 169s 499ms/step - loss: 7.9605 - gender_output_loss: 0.6937 - image_quality_output_loss: 0.9952 - age_output_loss: 1.4454 - weight_output_loss: 0.9965 - bag_output_loss: 0.9273 - footwear_output_loss: 1.0278 - pose_output_loss: 0.9395 - emotion_output_loss: 0.9352 - gender_output_acc: 0.5573 - image_quality_output_acc: 0.5499 - age_output_acc: 0.3926 - weight_output_acc: 0.6374 - bag_output_acc: 0.5589 - footwear_output_acc: 0.4850 - pose_output_acc: 0.6128 - emotion_output_acc: 0.7062 - val_loss: 8.0481 - val_gender_output_loss: 0.6851 - val_image_quality_output_loss: 0.9821 - val_age_output_loss: 1.4706 - val_weight_output_loss: 1.0351 - val_bag_output_loss: 0.9353 - val_footwear_output_loss: 1.0914 - val_pose_output_loss: 0.9173 - val_emotion_output_loss: 0.9312 - val_gender_output_acc: 0.5495 - val_image_quality_output_acc: 0.5502 - val_age_output_acc: 0.3940 - val_weight_output_acc: 0.6131 - val_bag_output_acc: 0.5565 - val_footwear_output_acc: 0.4907 - val_pose_output_acc: 0.6280 - val_emotion_output_acc: 0.7072\n",
            "Epoch 2/100\n",
            "338/339 [============================>.] - ETA: 0s - loss: 7.7994 - gender_output_loss: 0.6847 - image_quality_output_loss: 0.9840 - age_output_loss: 1.4249 - weight_output_loss: 0.9774 - bag_output_loss: 0.9150 - footwear_output_loss: 0.9779 - pose_output_loss: 0.9292 - emotion_output_loss: 0.9064 - gender_output_acc: 0.5653 - image_quality_output_acc: 0.5540 - age_output_acc: 0.4002 - weight_output_acc: 0.6409 - bag_output_acc: 0.5659 - footwear_output_acc: 0.5332 - pose_output_acc: 0.6150 - emotion_output_acc: 0.7130Epoch 2/100\n",
            "339/339 [==============================] - 152s 448ms/step - loss: 7.7991 - gender_output_loss: 0.6848 - image_quality_output_loss: 0.9842 - age_output_loss: 1.4248 - weight_output_loss: 0.9768 - bag_output_loss: 0.9151 - footwear_output_loss: 0.9776 - pose_output_loss: 0.9291 - emotion_output_loss: 0.9066 - gender_output_acc: 0.5650 - image_quality_output_acc: 0.5537 - age_output_acc: 0.3998 - weight_output_acc: 0.6413 - bag_output_acc: 0.5659 - footwear_output_acc: 0.5333 - pose_output_acc: 0.6151 - emotion_output_acc: 0.7129 - val_loss: 8.3935 - val_gender_output_loss: 0.6975 - val_image_quality_output_loss: 0.9776 - val_age_output_loss: 1.4559 - val_weight_output_loss: 1.0113 - val_bag_output_loss: 0.9288 - val_footwear_output_loss: 1.4812 - val_pose_output_loss: 0.9182 - val_emotion_output_loss: 0.9229 - val_gender_output_acc: 0.5487 - val_image_quality_output_acc: 0.5484 - val_age_output_acc: 0.3687 - val_weight_output_acc: 0.6131 - val_bag_output_acc: 0.5565 - val_footwear_output_acc: 0.3843 - val_pose_output_acc: 0.6280 - val_emotion_output_acc: 0.7072\n",
            "Epoch 3/100\n",
            "339/339 [==============================] - 151s 446ms/step - loss: 7.7621 - gender_output_loss: 0.6804 - image_quality_output_loss: 0.9830 - age_output_loss: 1.4223 - weight_output_loss: 0.9749 - bag_output_loss: 0.9124 - footwear_output_loss: 0.9548 - pose_output_loss: 0.9281 - emotion_output_loss: 0.9063 - gender_output_acc: 0.5656 - image_quality_output_acc: 0.5542 - age_output_acc: 0.3980 - weight_output_acc: 0.6412 - bag_output_acc: 0.5654 - footwear_output_acc: 0.5502 - pose_output_acc: 0.6150 - emotion_output_acc: 0.7127 - val_loss: 8.0101 - val_gender_output_loss: 0.6840 - val_image_quality_output_loss: 0.9771 - val_age_output_loss: 1.4424 - val_weight_output_loss: 1.0082 - val_bag_output_loss: 0.9218 - val_footwear_output_loss: 1.1411 - val_pose_output_loss: 0.9225 - val_emotion_output_loss: 0.9129 - val_gender_output_acc: 0.5502 - val_image_quality_output_acc: 0.5491 - val_age_output_acc: 0.3940 - val_weight_output_acc: 0.6127 - val_bag_output_acc: 0.5565 - val_footwear_output_acc: 0.4732 - val_pose_output_acc: 0.6280 - val_emotion_output_acc: 0.7072\n",
            "Epoch 4/100\n",
            "339/339 [==============================] - 152s 447ms/step - loss: 7.7300 - gender_output_loss: 0.6688 - image_quality_output_loss: 0.9827 - age_output_loss: 1.4179 - weight_output_loss: 0.9749 - bag_output_loss: 0.9112 - footwear_output_loss: 0.9442 - pose_output_loss: 0.9245 - emotion_output_loss: 0.9058 - gender_output_acc: 0.5666 - image_quality_output_acc: 0.5532 - age_output_acc: 0.3995 - weight_output_acc: 0.6416 - bag_output_acc: 0.5647 - footwear_output_acc: 0.5635 - pose_output_acc: 0.6152 - emotion_output_acc: 0.7125 - val_loss: 7.8919 - val_gender_output_loss: 0.6721 - val_image_quality_output_loss: 0.9767 - val_age_output_loss: 1.4335 - val_weight_output_loss: 1.0074 - val_bag_output_loss: 0.9193 - val_footwear_output_loss: 1.0443 - val_pose_output_loss: 0.9234 - val_emotion_output_loss: 0.9152 - val_gender_output_acc: 0.5513 - val_image_quality_output_acc: 0.5502 - val_age_output_acc: 0.3940 - val_weight_output_acc: 0.6131 - val_bag_output_acc: 0.5565 - val_footwear_output_acc: 0.4859 - val_pose_output_acc: 0.6280 - val_emotion_output_acc: 0.7072\n",
            "Epoch 5/100\n",
            "339/339 [==============================] - 152s 448ms/step - loss: 7.6953 - gender_output_loss: 0.6596 - image_quality_output_loss: 0.9821 - age_output_loss: 1.4114 - weight_output_loss: 0.9721 - bag_output_loss: 0.9090 - footwear_output_loss: 0.9333 - pose_output_loss: 0.9244 - emotion_output_loss: 0.9035 - gender_output_acc: 0.5808 - image_quality_output_acc: 0.5523 - age_output_acc: 0.4004 - weight_output_acc: 0.6411 - bag_output_acc: 0.5653 - footwear_output_acc: 0.5663 - pose_output_acc: 0.6151 - emotion_output_acc: 0.7126 - val_loss: 8.2886 - val_gender_output_loss: 0.6793 - val_image_quality_output_loss: 0.9765 - val_age_output_loss: 1.4428 - val_weight_output_loss: 1.0077 - val_bag_output_loss: 0.9253 - val_footwear_output_loss: 1.4161 - val_pose_output_loss: 0.9255 - val_emotion_output_loss: 0.9154 - val_gender_output_acc: 0.5532 - val_image_quality_output_acc: 0.5502 - val_age_output_acc: 0.3921 - val_weight_output_acc: 0.6131 - val_bag_output_acc: 0.5565 - val_footwear_output_acc: 0.3936 - val_pose_output_acc: 0.6280 - val_emotion_output_acc: 0.7072\n",
            "Epoch 6/100\n",
            "339/339 [==============================] - 152s 449ms/step - loss: 7.6708 - gender_output_loss: 0.6522 - image_quality_output_loss: 0.9805 - age_output_loss: 1.4104 - weight_output_loss: 0.9715 - bag_output_loss: 0.9057 - footwear_output_loss: 0.9260 - pose_output_loss: 0.9216 - emotion_output_loss: 0.9030 - gender_output_acc: 0.5916 - image_quality_output_acc: 0.5534 - age_output_acc: 0.3994 - weight_output_acc: 0.6410 - bag_output_acc: 0.5669 - footwear_output_acc: 0.5715 - pose_output_acc: 0.6151 - emotion_output_acc: 0.7127 - val_loss: 7.8474 - val_gender_output_loss: 0.6662 - val_image_quality_output_loss: 0.9769 - val_age_output_loss: 1.4276 - val_weight_output_loss: 1.0052 - val_bag_output_loss: 0.9130 - val_footwear_output_loss: 1.0217 - val_pose_output_loss: 0.9240 - val_emotion_output_loss: 0.9129 - val_gender_output_acc: 0.6031 - val_image_quality_output_acc: 0.5502 - val_age_output_acc: 0.3940 - val_weight_output_acc: 0.6131 - val_bag_output_acc: 0.5569 - val_footwear_output_acc: 0.4870 - val_pose_output_acc: 0.6280 - val_emotion_output_acc: 0.7072\n",
            "Epoch 7/100\n",
            "339/339 [==============================] - 151s 447ms/step - loss: 7.6499 - gender_output_loss: 0.6470 - image_quality_output_loss: 0.9818 - age_output_loss: 1.4072 - weight_output_loss: 0.9715 - bag_output_loss: 0.9020 - footwear_output_loss: 0.9190 - pose_output_loss: 0.9183 - emotion_output_loss: 0.9030 - gender_output_acc: 0.6091 - image_quality_output_acc: 0.5529 - age_output_acc: 0.3975 - weight_output_acc: 0.6412 - bag_output_acc: 0.5664 - footwear_output_acc: 0.5765 - pose_output_acc: 0.6154 - emotion_output_acc: 0.7126 - val_loss: 7.9772 - val_gender_output_loss: 0.6644 - val_image_quality_output_loss: 0.9777 - val_age_output_loss: 1.4305 - val_weight_output_loss: 1.0061 - val_bag_output_loss: 0.9122 - val_footwear_output_loss: 1.1426 - val_pose_output_loss: 0.9308 - val_emotion_output_loss: 0.9128 - val_gender_output_acc: 0.5938 - val_image_quality_output_acc: 0.5502 - val_age_output_acc: 0.3940 - val_weight_output_acc: 0.6131 - val_bag_output_acc: 0.5588 - val_footwear_output_acc: 0.4568 - val_pose_output_acc: 0.6280 - val_emotion_output_acc: 0.7072\n",
            "Epoch 8/100\n",
            "339/339 [==============================] - 152s 448ms/step - loss: 7.6187 - gender_output_loss: 0.6384 - image_quality_output_loss: 0.9812 - age_output_loss: 1.4030 - weight_output_loss: 0.9691 - bag_output_loss: 0.8996 - footwear_output_loss: 0.9109 - pose_output_loss: 0.9139 - emotion_output_loss: 0.9026 - gender_output_acc: 0.6285 - image_quality_output_acc: 0.5535 - age_output_acc: 0.3967 - weight_output_acc: 0.6411 - bag_output_acc: 0.5673 - footwear_output_acc: 0.5811 - pose_output_acc: 0.6154 - emotion_output_acc: 0.7127 - val_loss: 7.9080 - val_gender_output_loss: 0.6529 - val_image_quality_output_loss: 0.9788 - val_age_output_loss: 1.4226 - val_weight_output_loss: 1.0038 - val_bag_output_loss: 0.9110 - val_footwear_output_loss: 1.1040 - val_pose_output_loss: 0.9234 - val_emotion_output_loss: 0.9115 - val_gender_output_acc: 0.6094 - val_image_quality_output_acc: 0.5502 - val_age_output_acc: 0.3940 - val_weight_output_acc: 0.6131 - val_bag_output_acc: 0.5606 - val_footwear_output_acc: 0.4717 - val_pose_output_acc: 0.6280 - val_emotion_output_acc: 0.7072\n",
            "Epoch 9/100\n",
            "339/339 [==============================] - 152s 448ms/step - loss: 7.6059 - gender_output_loss: 0.6370 - image_quality_output_loss: 0.9816 - age_output_loss: 1.4041 - weight_output_loss: 0.9680 - bag_output_loss: 0.8978 - footwear_output_loss: 0.9043 - pose_output_loss: 0.9112 - emotion_output_loss: 0.9019 - gender_output_acc: 0.6223 - image_quality_output_acc: 0.5534 - age_output_acc: 0.3965 - weight_output_acc: 0.6411 - bag_output_acc: 0.5690 - footwear_output_acc: 0.5877 - pose_output_acc: 0.6149 - emotion_output_acc: 0.7128 - val_loss: 7.8915 - val_gender_output_loss: 0.6655 - val_image_quality_output_loss: 0.9754 - val_age_output_loss: 1.4253 - val_weight_output_loss: 1.0122 - val_bag_output_loss: 0.9077 - val_footwear_output_loss: 1.0467 - val_pose_output_loss: 0.9492 - val_emotion_output_loss: 0.9097 - val_gender_output_acc: 0.5964 - val_image_quality_output_acc: 0.5502 - val_age_output_acc: 0.3940 - val_weight_output_acc: 0.6131 - val_bag_output_acc: 0.5625 - val_footwear_output_acc: 0.4773 - val_pose_output_acc: 0.6280 - val_emotion_output_acc: 0.7072\n",
            "Epoch 10/100\n",
            "339/339 [==============================] - 152s 448ms/step - loss: 7.5647 - gender_output_loss: 0.6210 - image_quality_output_loss: 0.9806 - age_output_loss: 1.4003 - weight_output_loss: 0.9672 - bag_output_loss: 0.8929 - footwear_output_loss: 0.8962 - pose_output_loss: 0.9055 - emotion_output_loss: 0.9010 - gender_output_acc: 0.6461 - image_quality_output_acc: 0.5533 - age_output_acc: 0.3989 - weight_output_acc: 0.6410 - bag_output_acc: 0.5753 - footwear_output_acc: 0.5901 - pose_output_acc: 0.6154 - emotion_output_acc: 0.7128 - val_loss: 7.8210 - val_gender_output_loss: 0.6463 - val_image_quality_output_loss: 0.9734 - val_age_output_loss: 1.4283 - val_weight_output_loss: 1.0073 - val_bag_output_loss: 0.9065 - val_footwear_output_loss: 1.0270 - val_pose_output_loss: 0.9224 - val_emotion_output_loss: 0.9098 - val_gender_output_acc: 0.6176 - val_image_quality_output_acc: 0.5502 - val_age_output_acc: 0.3966 - val_weight_output_acc: 0.6131 - val_bag_output_acc: 0.5744 - val_footwear_output_acc: 0.5089 - val_pose_output_acc: 0.6280 - val_emotion_output_acc: 0.7072\n",
            "Epoch 11/100\n",
            "339/339 [==============================] - 151s 446ms/step - loss: 7.5475 - gender_output_loss: 0.6178 - image_quality_output_loss: 0.9802 - age_output_loss: 1.4010 - weight_output_loss: 0.9677 - bag_output_loss: 0.8896 - footwear_output_loss: 0.8941 - pose_output_loss: 0.8972 - emotion_output_loss: 0.8999 - gender_output_acc: 0.6493 - image_quality_output_acc: 0.5537 - age_output_acc: 0.3982 - weight_output_acc: 0.6400 - bag_output_acc: 0.5787 - footwear_output_acc: 0.5943 - pose_output_acc: 0.6152 - emotion_output_acc: 0.7127 - val_loss: 7.7729 - val_gender_output_loss: 0.6320 - val_image_quality_output_loss: 0.9760 - val_age_output_loss: 1.4196 - val_weight_output_loss: 1.0018 - val_bag_output_loss: 0.8912 - val_footwear_output_loss: 1.0439 - val_pose_output_loss: 0.9002 - val_emotion_output_loss: 0.9082 - val_gender_output_acc: 0.6380 - val_image_quality_output_acc: 0.5480 - val_age_output_acc: 0.3940 - val_weight_output_acc: 0.6131 - val_bag_output_acc: 0.5770 - val_footwear_output_acc: 0.5186 - val_pose_output_acc: 0.6280 - val_emotion_output_acc: 0.7072\n",
            "Epoch 12/100\n",
            "339/339 [==============================] - 151s 445ms/step - loss: 7.5310 - gender_output_loss: 0.6132 - image_quality_output_loss: 0.9805 - age_output_loss: 1.4014 - weight_output_loss: 0.9654 - bag_output_loss: 0.8889 - footwear_output_loss: 0.8910 - pose_output_loss: 0.8914 - emotion_output_loss: 0.8992 - gender_output_acc: 0.6583 - image_quality_output_acc: 0.5529 - age_output_acc: 0.3979 - weight_output_acc: 0.6416 - bag_output_acc: 0.5794 - footwear_output_acc: 0.5893 - pose_output_acc: 0.6154 - emotion_output_acc: 0.7129 - val_loss: 7.7016 - val_gender_output_loss: 0.6351 - val_image_quality_output_loss: 0.9742 - val_age_output_loss: 1.4182 - val_weight_output_loss: 0.9998 - val_bag_output_loss: 0.8971 - val_footwear_output_loss: 0.9505 - val_pose_output_loss: 0.9183 - val_emotion_output_loss: 0.9084 - val_gender_output_acc: 0.6347 - val_image_quality_output_acc: 0.5502 - val_age_output_acc: 0.3943 - val_weight_output_acc: 0.6131 - val_bag_output_acc: 0.5685 - val_footwear_output_acc: 0.5592 - val_pose_output_acc: 0.6276 - val_emotion_output_acc: 0.7072\n",
            "Epoch 13/100\n",
            "Epoch 12/100\n",
            "339/339 [==============================] - 151s 445ms/step - loss: 7.4958 - gender_output_loss: 0.6057 - image_quality_output_loss: 0.9797 - age_output_loss: 1.3997 - weight_output_loss: 0.9656 - bag_output_loss: 0.8890 - footwear_output_loss: 0.8821 - pose_output_loss: 0.8758 - emotion_output_loss: 0.8981 - gender_output_acc: 0.6613 - image_quality_output_acc: 0.5524 - age_output_acc: 0.3973 - weight_output_acc: 0.6410 - bag_output_acc: 0.5758 - footwear_output_acc: 0.5992 - pose_output_acc: 0.6152 - emotion_output_acc: 0.7129 - val_loss: 7.7143 - val_gender_output_loss: 0.6337 - val_image_quality_output_loss: 0.9754 - val_age_output_loss: 1.4204 - val_weight_output_loss: 1.0029 - val_bag_output_loss: 0.8997 - val_footwear_output_loss: 0.9780 - val_pose_output_loss: 0.8956 - val_emotion_output_loss: 0.9086 - val_gender_output_acc: 0.6228 - val_image_quality_output_acc: 0.5502 - val_age_output_acc: 0.3947 - val_weight_output_acc: 0.6131 - val_bag_output_acc: 0.5725 - val_footwear_output_acc: 0.5499 - val_pose_output_acc: 0.6328 - val_emotion_output_acc: 0.7072\n",
            "Epoch 14/100\n",
            "339/339 [==============================] - 151s 445ms/step - loss: 7.4725 - gender_output_loss: 0.6007 - image_quality_output_loss: 0.9813 - age_output_loss: 1.3976 - weight_output_loss: 0.9636 - bag_output_loss: 0.8866 - footwear_output_loss: 0.8776 - pose_output_loss: 0.8668 - emotion_output_loss: 0.8983 - gender_output_acc: 0.6705 - image_quality_output_acc: 0.5534 - age_output_acc: 0.4010 - weight_output_acc: 0.6413 - bag_output_acc: 0.5782 - footwear_output_acc: 0.6053 - pose_output_acc: 0.6215 - emotion_output_acc: 0.7129 - val_loss: 7.6820 - val_gender_output_loss: 0.6342 - val_image_quality_output_loss: 0.9757 - val_age_output_loss: 1.4225 - val_weight_output_loss: 1.0090 - val_bag_output_loss: 0.8993 - val_footwear_output_loss: 0.9484 - val_pose_output_loss: 0.8855 - val_emotion_output_loss: 0.9073 - val_gender_output_acc: 0.6343 - val_image_quality_output_acc: 0.5502 - val_age_output_acc: 0.3940 - val_weight_output_acc: 0.6131 - val_bag_output_acc: 0.5744 - val_footwear_output_acc: 0.5580 - val_pose_output_acc: 0.6347 - val_emotion_output_acc: 0.7072\n",
            "Epoch 15/100\n",
            "339/339 [==============================] - 151s 445ms/step - loss: 7.4450 - gender_output_loss: 0.5998 - image_quality_output_loss: 0.9794 - age_output_loss: 1.3993 - weight_output_loss: 0.9648 - bag_output_loss: 0.8832 - footwear_output_loss: 0.8781 - pose_output_loss: 0.8443 - emotion_output_loss: 0.8960 - gender_output_acc: 0.6754 - image_quality_output_acc: 0.5534 - age_output_acc: 0.3989 - weight_output_acc: 0.6412 - bag_output_acc: 0.5829 - footwear_output_acc: 0.5984 - pose_output_acc: 0.6293 - emotion_output_acc: 0.7128 - val_loss: 7.9005 - val_gender_output_loss: 0.6775 - val_image_quality_output_loss: 0.9778 - val_age_output_loss: 1.4342 - val_weight_output_loss: 1.0073 - val_bag_output_loss: 0.9164 - val_footwear_output_loss: 1.0297 - val_pose_output_loss: 0.9459 - val_emotion_output_loss: 0.9116 - val_gender_output_acc: 0.5458 - val_image_quality_output_acc: 0.5499 - val_age_output_acc: 0.3943 - val_weight_output_acc: 0.6131 - val_bag_output_acc: 0.5647 - val_footwear_output_acc: 0.4881 - val_pose_output_acc: 0.6283 - val_emotion_output_acc: 0.7072\n",
            "Epoch 16/100\n",
            "\n",
            "339/339 [==============================] - 151s 446ms/step - loss: 7.4205 - gender_output_loss: 0.5968 - image_quality_output_loss: 0.9797 - age_output_loss: 1.3975 - weight_output_loss: 0.9629 - bag_output_loss: 0.8820 - footwear_output_loss: 0.8727 - pose_output_loss: 0.8327 - emotion_output_loss: 0.8962 - gender_output_acc: 0.6714 - image_quality_output_acc: 0.5539 - age_output_acc: 0.3988 - weight_output_acc: 0.6417 - bag_output_acc: 0.5802 - footwear_output_acc: 0.5994 - pose_output_acc: 0.6357 - emotion_output_acc: 0.7128 - val_loss: 7.5659 - val_gender_output_loss: 0.6330 - val_image_quality_output_loss: 0.9755 - val_age_output_loss: 1.4132 - val_weight_output_loss: 0.9995 - val_bag_output_loss: 0.8948 - val_footwear_output_loss: 0.8997 - val_pose_output_loss: 0.8441 - val_emotion_output_loss: 0.9061 - val_gender_output_acc: 0.6350 - val_image_quality_output_acc: 0.5502 - val_age_output_acc: 0.3929 - val_weight_output_acc: 0.6131 - val_bag_output_acc: 0.5696 - val_footwear_output_acc: 0.5871 - val_pose_output_acc: 0.6462 - val_emotion_output_acc: 0.7072\n",
            "Epoch 17/100\n",
            "339/339 [==============================] - 151s 446ms/step - loss: 7.3808 - gender_output_loss: 0.5881 - image_quality_output_loss: 0.9804 - age_output_loss: 1.3913 - weight_output_loss: 0.9613 - bag_output_loss: 0.8828 - footwear_output_loss: 0.8683 - pose_output_loss: 0.8155 - emotion_output_loss: 0.8932 - gender_output_acc: 0.6818 - image_quality_output_acc: 0.5537 - age_output_acc: 0.4008 - weight_output_acc: 0.6407 - bag_output_acc: 0.5803 - footwear_output_acc: 0.6066 - pose_output_acc: 0.6425 - emotion_output_acc: 0.7131 - val_loss: 7.6342 - val_gender_output_loss: 0.6271 - val_image_quality_output_loss: 0.9737 - val_age_output_loss: 1.4170 - val_weight_output_loss: 0.9955 - val_bag_output_loss: 0.8917 - val_footwear_output_loss: 0.9683 - val_pose_output_loss: 0.8529 - val_emotion_output_loss: 0.9081 - val_gender_output_acc: 0.6376 - val_image_quality_output_acc: 0.5502 - val_age_output_acc: 0.3940 - val_weight_output_acc: 0.6131 - val_bag_output_acc: 0.5714 - val_footwear_output_acc: 0.5554 - val_pose_output_acc: 0.6403 - val_emotion_output_acc: 0.7072\n",
            "Epoch 18/100\n",
            "339/339 [==============================] - 151s 446ms/step - loss: 7.3626 - gender_output_loss: 0.5831 - image_quality_output_loss: 0.9790 - age_output_loss: 1.3934 - weight_output_loss: 0.9624 - bag_output_loss: 0.8805 - footwear_output_loss: 0.8723 - pose_output_loss: 0.7996 - emotion_output_loss: 0.8922 - gender_output_acc: 0.6846 - image_quality_output_acc: 0.5536 - age_output_acc: 0.3992 - weight_output_acc: 0.6408 - bag_output_acc: 0.5824 - footwear_output_acc: 0.6070 - pose_output_acc: 0.6522 - emotion_output_acc: 0.7128 - val_loss: 7.5739 - val_gender_output_loss: 0.6160 - val_image_quality_output_loss: 0.9746 - val_age_output_loss: 1.4175 - val_weight_output_loss: 0.9982 - val_bag_output_loss: 0.8927 - val_footwear_output_loss: 0.9374 - val_pose_output_loss: 0.8335 - val_emotion_output_loss: 0.9039 - val_gender_output_acc: 0.6589 - val_image_quality_output_acc: 0.5502 - val_age_output_acc: 0.3940 - val_weight_output_acc: 0.6131 - val_bag_output_acc: 0.5725 - val_footwear_output_acc: 0.5670 - val_pose_output_acc: 0.6514 - val_emotion_output_acc: 0.7072\n",
            "Epoch 19/100\n",
            "339/339 [==============================] - 151s 445ms/step - loss: 7.3159 - gender_output_loss: 0.5696 - image_quality_output_loss: 0.9791 - age_output_loss: 1.3930 - weight_output_loss: 0.9596 - bag_output_loss: 0.8782 - footwear_output_loss: 0.8611 - pose_output_loss: 0.7827 - emotion_output_loss: 0.8925 - gender_output_acc: 0.6941 - image_quality_output_acc: 0.5525 - age_output_acc: 0.3992 - weight_output_acc: 0.6417 - bag_output_acc: 0.5855 - footwear_output_acc: 0.6108 - pose_output_acc: 0.6628 - emotion_output_acc: 0.7126 - val_loss: 7.5730 - val_gender_output_loss: 0.6151 - val_image_quality_output_loss: 0.9765 - val_age_output_loss: 1.4208 - val_weight_output_loss: 0.9961 - val_bag_output_loss: 0.8988 - val_footwear_output_loss: 0.9611 - val_pose_output_loss: 0.8004 - val_emotion_output_loss: 0.9042 - val_gender_output_acc: 0.6429 - val_image_quality_output_acc: 0.5502 - val_age_output_acc: 0.3962 - val_weight_output_acc: 0.6131 - val_bag_output_acc: 0.5748 - val_footwear_output_acc: 0.5569 - val_pose_output_acc: 0.6607 - val_emotion_output_acc: 0.7072\n",
            "Epoch 20/100\n",
            "339/339 [==============================] - 151s 446ms/step - loss: 7.3066 - gender_output_loss: 0.5729 - image_quality_output_loss: 0.9780 - age_output_loss: 1.3886 - weight_output_loss: 0.9589 - bag_output_loss: 0.8782 - footwear_output_loss: 0.8641 - pose_output_loss: 0.7754 - emotion_output_loss: 0.8906 - gender_output_acc: 0.6958 - image_quality_output_acc: 0.5543 - age_output_acc: 0.4004 - weight_output_acc: 0.6421 - bag_output_acc: 0.5838 - footwear_output_acc: 0.6103 - pose_output_acc: 0.6678 - emotion_output_acc: 0.7128 - val_loss: 7.4688 - val_gender_output_loss: 0.6041 - val_image_quality_output_loss: 0.9803 - val_age_output_loss: 1.4088 - val_weight_output_loss: 0.9946 - val_bag_output_loss: 0.8913 - val_footwear_output_loss: 0.9022 - val_pose_output_loss: 0.7888 - val_emotion_output_loss: 0.8988 - val_gender_output_acc: 0.6704 - val_image_quality_output_acc: 0.5502 - val_age_output_acc: 0.3966 - val_weight_output_acc: 0.6135 - val_bag_output_acc: 0.5725 - val_footwear_output_acc: 0.5859 - val_pose_output_acc: 0.6600 - val_emotion_output_acc: 0.7072\n",
            "Epoch 21/100\n",
            "339/339 [==============================] - 151s 446ms/step - loss: 7.2912 - gender_output_loss: 0.5667 - image_quality_output_loss: 0.9771 - age_output_loss: 1.3882 - weight_output_loss: 0.9588 - bag_output_loss: 0.8770 - footwear_output_loss: 0.8674 - pose_output_loss: 0.7673 - emotion_output_loss: 0.8888 - gender_output_acc: 0.7022 - image_quality_output_acc: 0.5543 - age_output_acc: 0.4005 - weight_output_acc: 0.6412 - bag_output_acc: 0.5857 - footwear_output_acc: 0.6028 - pose_output_acc: 0.6709 - emotion_output_acc: 0.7128 - val_loss: 7.6961 - val_gender_output_loss: 0.6237 - val_image_quality_output_loss: 0.9788 - val_age_output_loss: 1.4221 - val_weight_output_loss: 1.0030 - val_bag_output_loss: 0.9115 - val_footwear_output_loss: 0.9864 - val_pose_output_loss: 0.8686 - val_emotion_output_loss: 0.9021 - val_gender_output_acc: 0.6529 - val_image_quality_output_acc: 0.5502 - val_age_output_acc: 0.3940 - val_weight_output_acc: 0.6131 - val_bag_output_acc: 0.5625 - val_footwear_output_acc: 0.5283 - val_pose_output_acc: 0.5841 - val_emotion_output_acc: 0.7072\n",
            "Epoch 22/100\n",
            "339/339 [==============================] - 150s 444ms/step - loss: 7.2498 - gender_output_loss: 0.5602 - image_quality_output_loss: 0.9767 - age_output_loss: 1.3887 - weight_output_loss: 0.9570 - bag_output_loss: 0.8723 - footwear_output_loss: 0.8586 - pose_output_loss: 0.7494 - emotion_output_loss: 0.8870 - gender_output_acc: 0.7059 - image_quality_output_acc: 0.5536 - age_output_acc: 0.3981 - weight_output_acc: 0.6418 - bag_output_acc: 0.5893 - footwear_output_acc: 0.6135 - pose_output_acc: 0.6806 - emotion_output_acc: 0.7127 - val_loss: 7.6364 - val_gender_output_loss: 0.6052 - val_image_quality_output_loss: 0.9747 - val_age_output_loss: 1.4131 - val_weight_output_loss: 1.0009 - val_bag_output_loss: 0.8975 - val_footwear_output_loss: 0.9841 - val_pose_output_loss: 0.8535 - val_emotion_output_loss: 0.9075 - val_gender_output_acc: 0.6663 - val_image_quality_output_acc: 0.5502 - val_age_output_acc: 0.3932 - val_weight_output_acc: 0.6131 - val_bag_output_acc: 0.5707 - val_footwear_output_acc: 0.5454 - val_pose_output_acc: 0.6060 - val_emotion_output_acc: 0.7072\n",
            "Epoch 23/100\n",
            "339/339 [==============================] - 151s 445ms/step - loss: 7.2363 - gender_output_loss: 0.5602 - image_quality_output_loss: 0.9772 - age_output_loss: 1.3899 - weight_output_loss: 0.9586 - bag_output_loss: 0.8738 - footwear_output_loss: 0.8536 - pose_output_loss: 0.7374 - emotion_output_loss: 0.8856 - gender_output_acc: 0.7063 - image_quality_output_acc: 0.5549 - age_output_acc: 0.4000 - weight_output_acc: 0.6424 - bag_output_acc: 0.5888 - footwear_output_acc: 0.6140 - pose_output_acc: 0.6844 - emotion_output_acc: 0.7125 - val_loss: 7.6889 - val_gender_output_loss: 0.6410 - val_image_quality_output_loss: 0.9755 - val_age_output_loss: 1.4147 - val_weight_output_loss: 0.9965 - val_bag_output_loss: 0.8970 - val_footwear_output_loss: 1.0266 - val_pose_output_loss: 0.8279 - val_emotion_output_loss: 0.9097 - val_gender_output_acc: 0.6306 - val_image_quality_output_acc: 0.5502 - val_age_output_acc: 0.3936 - val_weight_output_acc: 0.6131 - val_bag_output_acc: 0.5751 - val_footwear_output_acc: 0.5182 - val_pose_output_acc: 0.6373 - val_emotion_output_acc: 0.7072\n",
            "Epoch 24/100\n",
            "339/339 [==============================] - 150s 444ms/step - loss: 7.2094 - gender_output_loss: 0.5506 - image_quality_output_loss: 0.9777 - age_output_loss: 1.3866 - weight_output_loss: 0.9577 - bag_output_loss: 0.8693 - footwear_output_loss: 0.8596 - pose_output_loss: 0.7221 - emotion_output_loss: 0.8856 - gender_output_acc: 0.7123 - image_quality_output_acc: 0.5521 - age_output_acc: 0.4018 - weight_output_acc: 0.6426 - bag_output_acc: 0.5969 - footwear_output_acc: 0.6085 - pose_output_acc: 0.6938 - emotion_output_acc: 0.7129 - val_loss: 7.5004 - val_gender_output_loss: 0.6294 - val_image_quality_output_loss: 0.9775 - val_age_output_loss: 1.4117 - val_weight_output_loss: 0.9922 - val_bag_output_loss: 0.8944 - val_footwear_output_loss: 0.8958 - val_pose_output_loss: 0.7952 - val_emotion_output_loss: 0.9043 - val_gender_output_acc: 0.6328 - val_image_quality_output_acc: 0.5502 - val_age_output_acc: 0.3958 - val_weight_output_acc: 0.6131 - val_bag_output_acc: 0.5778 - val_footwear_output_acc: 0.5882 - val_pose_output_acc: 0.6510 - val_emotion_output_acc: 0.7072\n",
            "Epoch 25/100\n",
            "\n",
            "339/339 [==============================] - 151s 444ms/step - loss: 7.1909 - gender_output_loss: 0.5451 - image_quality_output_loss: 0.9769 - age_output_loss: 1.3855 - weight_output_loss: 0.9558 - bag_output_loss: 0.8693 - footwear_output_loss: 0.8606 - pose_output_loss: 0.7142 - emotion_output_loss: 0.8835 - gender_output_acc: 0.7235 - image_quality_output_acc: 0.5537 - age_output_acc: 0.4019 - weight_output_acc: 0.6415 - bag_output_acc: 0.5920 - footwear_output_acc: 0.6117 - pose_output_acc: 0.6958 - emotion_output_acc: 0.7127 - val_loss: 7.4258 - val_gender_output_loss: 0.5863 - val_image_quality_output_loss: 0.9834 - val_age_output_loss: 1.4084 - val_weight_output_loss: 0.9917 - val_bag_output_loss: 0.8929 - val_footwear_output_loss: 0.9124 - val_pose_output_loss: 0.7530 - val_emotion_output_loss: 0.8977 - val_gender_output_acc: 0.6767 - val_image_quality_output_acc: 0.5502 - val_age_output_acc: 0.3936 - val_weight_output_acc: 0.6131 - val_bag_output_acc: 0.5722 - val_footwear_output_acc: 0.5763 - val_pose_output_acc: 0.6778 - val_emotion_output_acc: 0.7072\n",
            "Epoch 26/100\n",
            "Epoch 25/100\n",
            "339/339 [==============================] - 150s 442ms/step - loss: 7.1809 - gender_output_loss: 0.5363 - image_quality_output_loss: 0.9780 - age_output_loss: 1.3877 - weight_output_loss: 0.9568 - bag_output_loss: 0.8702 - footwear_output_loss: 0.8559 - pose_output_loss: 0.7127 - emotion_output_loss: 0.8834 - gender_output_acc: 0.7276 - image_quality_output_acc: 0.5533 - age_output_acc: 0.4006 - weight_output_acc: 0.6421 - bag_output_acc: 0.5904 - footwear_output_acc: 0.6079 - pose_output_acc: 0.6965 - emotion_output_acc: 0.7126 - val_loss: 7.3598 - val_gender_output_loss: 0.5615 - val_image_quality_output_loss: 0.9738 - val_age_output_loss: 1.4084 - val_weight_output_loss: 0.9879 - val_bag_output_loss: 0.8808 - val_footwear_output_loss: 0.8821 - val_pose_output_loss: 0.7622 - val_emotion_output_loss: 0.9031 - val_gender_output_acc: 0.6975 - val_image_quality_output_acc: 0.5502 - val_age_output_acc: 0.3940 - val_weight_output_acc: 0.6131 - val_bag_output_acc: 0.5964 - val_footwear_output_acc: 0.5982 - val_pose_output_acc: 0.6663 - val_emotion_output_acc: 0.7072\n",
            "Epoch 27/100\n",
            "339/339 [==============================] - 150s 444ms/step - loss: 7.1501 - gender_output_loss: 0.5302 - image_quality_output_loss: 0.9733 - age_output_loss: 1.3841 - weight_output_loss: 0.9553 - bag_output_loss: 0.8661 - footwear_output_loss: 0.8564 - pose_output_loss: 0.7028 - emotion_output_loss: 0.8820 - gender_output_acc: 0.7280 - image_quality_output_acc: 0.5554 - age_output_acc: 0.4027 - weight_output_acc: 0.6423 - bag_output_acc: 0.5973 - footwear_output_acc: 0.6103 - pose_output_acc: 0.7030 - emotion_output_acc: 0.7127 - val_loss: 7.3966 - val_gender_output_loss: 0.5754 - val_image_quality_output_loss: 0.9719 - val_age_output_loss: 1.4110 - val_weight_output_loss: 0.9941 - val_bag_output_loss: 0.8876 - val_footwear_output_loss: 0.8918 - val_pose_output_loss: 0.7631 - val_emotion_output_loss: 0.9016 - val_gender_output_acc: 0.6912 - val_image_quality_output_acc: 0.5502 - val_age_output_acc: 0.3966 - val_weight_output_acc: 0.6131 - val_bag_output_acc: 0.5837 - val_footwear_output_acc: 0.6019 - val_pose_output_acc: 0.6752 - val_emotion_output_acc: 0.7072\n",
            "Epoch 28/100\n",
            "Epoch 27/100\n",
            "339/339 [==============================] - 150s 443ms/step - loss: 7.1276 - gender_output_loss: 0.5244 - image_quality_output_loss: 0.9761 - age_output_loss: 1.3803 - weight_output_loss: 0.9538 - bag_output_loss: 0.8650 - footwear_output_loss: 0.8530 - pose_output_loss: 0.6928 - emotion_output_loss: 0.8821 - gender_output_acc: 0.7329 - image_quality_output_acc: 0.5531 - age_output_acc: 0.4050 - weight_output_acc: 0.6421 - bag_output_acc: 0.6002 - footwear_output_acc: 0.6140 - pose_output_acc: 0.7063 - emotion_output_acc: 0.7127 - val_loss: 7.5008 - val_gender_output_loss: 0.6170 - val_image_quality_output_loss: 0.9767 - val_age_output_loss: 1.4100 - val_weight_output_loss: 0.9891 - val_bag_output_loss: 0.8863 - val_footwear_output_loss: 0.9685 - val_pose_output_loss: 0.7527 - val_emotion_output_loss: 0.9005 - val_gender_output_acc: 0.6529 - val_image_quality_output_acc: 0.5502 - val_age_output_acc: 0.3940 - val_weight_output_acc: 0.6131 - val_bag_output_acc: 0.5923 - val_footwear_output_acc: 0.5569 - val_pose_output_acc: 0.6763 - val_emotion_output_acc: 0.7072\n",
            "Epoch 29/100\n",
            "339/339 [==============================] - 150s 441ms/step - loss: 7.1065 - gender_output_loss: 0.5178 - image_quality_output_loss: 0.9745 - age_output_loss: 1.3785 - weight_output_loss: 0.9541 - bag_output_loss: 0.8626 - footwear_output_loss: 0.8505 - pose_output_loss: 0.6884 - emotion_output_loss: 0.8801 - gender_output_acc: 0.7374 - image_quality_output_acc: 0.5530 - age_output_acc: 0.4051 - weight_output_acc: 0.6418 - bag_output_acc: 0.6020 - footwear_output_acc: 0.6218 - pose_output_acc: 0.7124 - emotion_output_acc: 0.7129 - val_loss: 7.3240 - val_gender_output_loss: 0.5667 - val_image_quality_output_loss: 0.9735 - val_age_output_loss: 1.4060 - val_weight_output_loss: 0.9923 - val_bag_output_loss: 0.8850 - val_footwear_output_loss: 0.8905 - val_pose_output_loss: 0.7143 - val_emotion_output_loss: 0.8958 - val_gender_output_acc: 0.7001 - val_image_quality_output_acc: 0.5506 - val_age_output_acc: 0.3932 - val_weight_output_acc: 0.6131 - val_bag_output_acc: 0.5822 - val_footwear_output_acc: 0.5945 - val_pose_output_acc: 0.6961 - val_emotion_output_acc: 0.7072\n",
            "Epoch 30/100\n",
            "339/339 [==============================] - 149s 439ms/step - loss: 7.0868 - gender_output_loss: 0.5102 - image_quality_output_loss: 0.9728 - age_output_loss: 1.3772 - weight_output_loss: 0.9521 - bag_output_loss: 0.8610 - footwear_output_loss: 0.8524 - pose_output_loss: 0.6801 - emotion_output_loss: 0.8810 - gender_output_acc: 0.7454 - image_quality_output_acc: 0.5524 - age_output_acc: 0.4055 - weight_output_acc: 0.6409 - bag_output_acc: 0.6090 - footwear_output_acc: 0.6158 - pose_output_acc: 0.7121 - emotion_output_acc: 0.7124 - val_loss: 7.3460 - val_gender_output_loss: 0.5590 - val_image_quality_output_loss: 0.9809 - val_age_output_loss: 1.4070 - val_weight_output_loss: 0.9940 - val_bag_output_loss: 0.8871 - val_footwear_output_loss: 0.8828 - val_pose_output_loss: 0.7409 - val_emotion_output_loss: 0.8943 - val_gender_output_acc: 0.7143 - val_image_quality_output_acc: 0.5502 - val_age_output_acc: 0.3936 - val_weight_output_acc: 0.6131 - val_bag_output_acc: 0.5863 - val_footwear_output_acc: 0.5971 - val_pose_output_acc: 0.6894 - val_emotion_output_acc: 0.7072\n",
            "Epoch 31/100\n",
            "\n",
            "339/339 [==============================] - 149s 439ms/step - loss: 7.0959 - gender_output_loss: 0.5060 - image_quality_output_loss: 0.9720 - age_output_loss: 1.3801 - weight_output_loss: 0.9517 - bag_output_loss: 0.8623 - footwear_output_loss: 0.8529 - pose_output_loss: 0.6892 - emotion_output_loss: 0.8817 - gender_output_acc: 0.7472 - image_quality_output_acc: 0.5532 - age_output_acc: 0.4026 - weight_output_acc: 0.6398 - bag_output_acc: 0.5964 - footwear_output_acc: 0.6178 - pose_output_acc: 0.7138 - emotion_output_acc: 0.7127 - val_loss: 7.2999 - val_gender_output_loss: 0.5560 - val_image_quality_output_loss: 0.9735 - val_age_output_loss: 1.4042 - val_weight_output_loss: 0.9890 - val_bag_output_loss: 0.8782 - val_footwear_output_loss: 0.8905 - val_pose_output_loss: 0.7084 - val_emotion_output_loss: 0.9001 - val_gender_output_acc: 0.7117 - val_image_quality_output_acc: 0.5502 - val_age_output_acc: 0.3977 - val_weight_output_acc: 0.6131 - val_bag_output_acc: 0.6042 - val_footwear_output_acc: 0.6004 - val_pose_output_acc: 0.7091 - val_emotion_output_acc: 0.7072\n",
            "Epoch 32/100\n",
            "Epoch 31/100\n",
            "339/339 [==============================] - 149s 439ms/step - loss: 7.0724 - gender_output_loss: 0.5087 - image_quality_output_loss: 0.9710 - age_output_loss: 1.3810 - weight_output_loss: 0.9501 - bag_output_loss: 0.8608 - footwear_output_loss: 0.8481 - pose_output_loss: 0.6717 - emotion_output_loss: 0.8811 - gender_output_acc: 0.7491 - image_quality_output_acc: 0.5538 - age_output_acc: 0.4039 - weight_output_acc: 0.6425 - bag_output_acc: 0.6007 - footwear_output_acc: 0.6159 - pose_output_acc: 0.7148 - emotion_output_acc: 0.7128 - val_loss: 7.3044 - val_gender_output_loss: 0.5798 - val_image_quality_output_loss: 0.9798 - val_age_output_loss: 1.4025 - val_weight_output_loss: 0.9902 - val_bag_output_loss: 0.8790 - val_footwear_output_loss: 0.8892 - val_pose_output_loss: 0.6892 - val_emotion_output_loss: 0.8947 - val_gender_output_acc: 0.6920 - val_image_quality_output_acc: 0.5502 - val_age_output_acc: 0.3981 - val_weight_output_acc: 0.6131 - val_bag_output_acc: 0.5926 - val_footwear_output_acc: 0.5941 - val_pose_output_acc: 0.7236 - val_emotion_output_acc: 0.7072\n",
            "Epoch 33/100\n",
            "Epoch 32/100\n",
            "339/339 [==============================] - 149s 439ms/step - loss: 7.0495 - gender_output_loss: 0.5048 - image_quality_output_loss: 0.9712 - age_output_loss: 1.3738 - weight_output_loss: 0.9464 - bag_output_loss: 0.8590 - footwear_output_loss: 0.8479 - pose_output_loss: 0.6675 - emotion_output_loss: 0.8790 - gender_output_acc: 0.7495 - image_quality_output_acc: 0.5537 - age_output_acc: 0.4032 - weight_output_acc: 0.6427 - bag_output_acc: 0.6027 - footwear_output_acc: 0.6187 - pose_output_acc: 0.7205 - emotion_output_acc: 0.7125 - val_loss: 7.4738 - val_gender_output_loss: 0.6913 - val_image_quality_output_loss: 0.9886 - val_age_output_loss: 1.4103 - val_weight_output_loss: 0.9917 - val_bag_output_loss: 0.8839 - val_footwear_output_loss: 0.8906 - val_pose_output_loss: 0.7215 - val_emotion_output_loss: 0.8959 - val_gender_output_acc: 0.6190 - val_image_quality_output_acc: 0.5499 - val_age_output_acc: 0.3943 - val_weight_output_acc: 0.6135 - val_bag_output_acc: 0.5889 - val_footwear_output_acc: 0.5859 - val_pose_output_acc: 0.6949 - val_emotion_output_acc: 0.7072\n",
            "Epoch 34/100\n",
            "339/339 [==============================] - 149s 439ms/step - loss: 7.0314 - gender_output_loss: 0.4986 - image_quality_output_loss: 0.9700 - age_output_loss: 1.3773 - weight_output_loss: 0.9491 - bag_output_loss: 0.8559 - footwear_output_loss: 0.8449 - pose_output_loss: 0.6570 - emotion_output_loss: 0.8787 - gender_output_acc: 0.7542 - image_quality_output_acc: 0.5550 - age_output_acc: 0.4074 - weight_output_acc: 0.6420 - bag_output_acc: 0.6065 - footwear_output_acc: 0.6185 - pose_output_acc: 0.7290 - emotion_output_acc: 0.7121 - val_loss: 7.3324 - val_gender_output_loss: 0.5585 - val_image_quality_output_loss: 0.9698 - val_age_output_loss: 1.4046 - val_weight_output_loss: 0.9895 - val_bag_output_loss: 0.8863 - val_footwear_output_loss: 0.9231 - val_pose_output_loss: 0.7085 - val_emotion_output_loss: 0.8921 - val_gender_output_acc: 0.7057 - val_image_quality_output_acc: 0.5495 - val_age_output_acc: 0.3936 - val_weight_output_acc: 0.6131 - val_bag_output_acc: 0.5848 - val_footwear_output_acc: 0.5729 - val_pose_output_acc: 0.7031 - val_emotion_output_acc: 0.7072\n",
            "Epoch 35/100\n",
            "339/339 [==============================] - 151s 445ms/step - loss: 7.0241 - gender_output_loss: 0.4972 - image_quality_output_loss: 0.9659 - age_output_loss: 1.3754 - weight_output_loss: 0.9494 - bag_output_loss: 0.8555 - footwear_output_loss: 0.8459 - pose_output_loss: 0.6574 - emotion_output_loss: 0.8774 - gender_output_acc: 0.7549 - image_quality_output_acc: 0.5544 - age_output_acc: 0.4019 - weight_output_acc: 0.6397 - bag_output_acc: 0.6054 - footwear_output_acc: 0.6185 - pose_output_acc: 0.7261 - emotion_output_acc: 0.7127 - val_loss: 7.3236 - val_gender_output_loss: 0.5485 - val_image_quality_output_loss: 0.9706 - val_age_output_loss: 1.4015 - val_weight_output_loss: 0.9855 - val_bag_output_loss: 0.8811 - val_footwear_output_loss: 0.9039 - val_pose_output_loss: 0.7324 - val_emotion_output_loss: 0.9001 - val_gender_output_acc: 0.7210 - val_image_quality_output_acc: 0.5513 - val_age_output_acc: 0.3940 - val_weight_output_acc: 0.6131 - val_bag_output_acc: 0.5874 - val_footwear_output_acc: 0.5837 - val_pose_output_acc: 0.6864 - val_emotion_output_acc: 0.7072\n",
            "Epoch 36/100\n",
            "339/339 [==============================] - 151s 446ms/step - loss: 6.9989 - gender_output_loss: 0.4927 - image_quality_output_loss: 0.9681 - age_output_loss: 1.3744 - weight_output_loss: 0.9471 - bag_output_loss: 0.8501 - footwear_output_loss: 0.8459 - pose_output_loss: 0.6452 - emotion_output_loss: 0.8756 - gender_output_acc: 0.7622 - image_quality_output_acc: 0.5530 - age_output_acc: 0.4035 - weight_output_acc: 0.6424 - bag_output_acc: 0.6092 - footwear_output_acc: 0.6212 - pose_output_acc: 0.7301 - emotion_output_acc: 0.7127 - val_loss: 7.2820 - val_gender_output_loss: 0.5494 - val_image_quality_output_loss: 0.9697 - val_age_output_loss: 1.4065 - val_weight_output_loss: 0.9938 - val_bag_output_loss: 0.8709 - val_footwear_output_loss: 0.8798 - val_pose_output_loss: 0.7147 - val_emotion_output_loss: 0.8974 - val_gender_output_acc: 0.7214 - val_image_quality_output_acc: 0.5499 - val_age_output_acc: 0.3951 - val_weight_output_acc: 0.6131 - val_bag_output_acc: 0.6045 - val_footwear_output_acc: 0.6019 - val_pose_output_acc: 0.6964 - val_emotion_output_acc: 0.7072\n",
            "Epoch 37/100\n",
            "339/339 [==============================] - 151s 446ms/step - loss: 6.9992 - gender_output_loss: 0.4915 - image_quality_output_loss: 0.9652 - age_output_loss: 1.3752 - weight_output_loss: 0.9492 - bag_output_loss: 0.8521 - footwear_output_loss: 0.8420 - pose_output_loss: 0.6477 - emotion_output_loss: 0.8765 - gender_output_acc: 0.7618 - image_quality_output_acc: 0.5549 - age_output_acc: 0.4057 - weight_output_acc: 0.6421 - bag_output_acc: 0.6078 - footwear_output_acc: 0.6176 - pose_output_acc: 0.7297 - emotion_output_acc: 0.7123 - val_loss: 7.2815 - val_gender_output_loss: 0.5559 - val_image_quality_output_loss: 0.9824 - val_age_output_loss: 1.3976 - val_weight_output_loss: 0.9846 - val_bag_output_loss: 0.8823 - val_footwear_output_loss: 0.8732 - val_pose_output_loss: 0.7096 - val_emotion_output_loss: 0.8958 - val_gender_output_acc: 0.7281 - val_image_quality_output_acc: 0.5499 - val_age_output_acc: 0.3943 - val_weight_output_acc: 0.6131 - val_bag_output_acc: 0.5919 - val_footwear_output_acc: 0.6064 - val_pose_output_acc: 0.7054 - val_emotion_output_acc: 0.7072\n",
            "Epoch 38/100\n",
            "339/339 [==============================] - 151s 445ms/step - loss: 6.9688 - gender_output_loss: 0.4838 - image_quality_output_loss: 0.9624 - age_output_loss: 1.3733 - weight_output_loss: 0.9465 - bag_output_loss: 0.8518 - footwear_output_loss: 0.8355 - pose_output_loss: 0.6393 - emotion_output_loss: 0.8762 - gender_output_acc: 0.7655 - image_quality_output_acc: 0.5536 - age_output_acc: 0.4053 - weight_output_acc: 0.6445 - bag_output_acc: 0.6083 - footwear_output_acc: 0.6256 - pose_output_acc: 0.7348 - emotion_output_acc: 0.7123 - val_loss: 7.2787 - val_gender_output_loss: 0.5511 - val_image_quality_output_loss: 0.9714 - val_age_output_loss: 1.4009 - val_weight_output_loss: 0.9945 - val_bag_output_loss: 0.8791 - val_footwear_output_loss: 0.8807 - val_pose_output_loss: 0.7047 - val_emotion_output_loss: 0.8965 - val_gender_output_acc: 0.7295 - val_image_quality_output_acc: 0.5495 - val_age_output_acc: 0.3951 - val_weight_output_acc: 0.6131 - val_bag_output_acc: 0.5960 - val_footwear_output_acc: 0.5990 - val_pose_output_acc: 0.7147 - val_emotion_output_acc: 0.7072\n",
            "Epoch 39/100\n",
            "Epoch 38/100\n",
            "339/339 [==============================] - 152s 448ms/step - loss: 6.9598 - gender_output_loss: 0.4840 - image_quality_output_loss: 0.9643 - age_output_loss: 1.3709 - weight_output_loss: 0.9431 - bag_output_loss: 0.8455 - footwear_output_loss: 0.8333 - pose_output_loss: 0.6416 - emotion_output_loss: 0.8770 - gender_output_acc: 0.7615 - image_quality_output_acc: 0.5525 - age_output_acc: 0.4034 - weight_output_acc: 0.6430 - bag_output_acc: 0.6218 - footwear_output_acc: 0.6224 - pose_output_acc: 0.7378 - emotion_output_acc: 0.7126 - val_loss: 7.2501 - val_gender_output_loss: 0.5358 - val_image_quality_output_loss: 0.9776 - val_age_output_loss: 1.4001 - val_weight_output_loss: 0.9882 - val_bag_output_loss: 0.8854 - val_footwear_output_loss: 0.8768 - val_pose_output_loss: 0.6905 - val_emotion_output_loss: 0.8958 - val_gender_output_acc: 0.7429 - val_image_quality_output_acc: 0.5502 - val_age_output_acc: 0.3914 - val_weight_output_acc: 0.6131 - val_bag_output_acc: 0.5919 - val_footwear_output_acc: 0.6023 - val_pose_output_acc: 0.7124 - val_emotion_output_acc: 0.7072\n",
            "Epoch 40/100\n",
            "339/339 [==============================] - 153s 453ms/step - loss: 6.9415 - gender_output_loss: 0.4733 - image_quality_output_loss: 0.9645 - age_output_loss: 1.3719 - weight_output_loss: 0.9433 - bag_output_loss: 0.8484 - footwear_output_loss: 0.8357 - pose_output_loss: 0.6301 - emotion_output_loss: 0.8745 - gender_output_acc: 0.7704 - image_quality_output_acc: 0.5532 - age_output_acc: 0.4048 - weight_output_acc: 0.6431 - bag_output_acc: 0.6169 - footwear_output_acc: 0.6216 - pose_output_acc: 0.7438 - emotion_output_acc: 0.7123 - val_loss: 7.4429 - val_gender_output_loss: 0.5656 - val_image_quality_output_loss: 0.9789 - val_age_output_loss: 1.4132 - val_weight_output_loss: 0.9987 - val_bag_output_loss: 0.9193 - val_footwear_output_loss: 0.9267 - val_pose_output_loss: 0.7418 - val_emotion_output_loss: 0.8986 - val_gender_output_acc: 0.7124 - val_image_quality_output_acc: 0.5499 - val_age_output_acc: 0.3932 - val_weight_output_acc: 0.6131 - val_bag_output_acc: 0.5651 - val_footwear_output_acc: 0.5703 - val_pose_output_acc: 0.6868 - val_emotion_output_acc: 0.7072\n",
            "Epoch 41/100\n",
            "339/339 [==============================] - 154s 454ms/step - loss: 6.9402 - gender_output_loss: 0.4748 - image_quality_output_loss: 0.9640 - age_output_loss: 1.3695 - weight_output_loss: 0.9412 - bag_output_loss: 0.8452 - footwear_output_loss: 0.8370 - pose_output_loss: 0.6315 - emotion_output_loss: 0.8770 - gender_output_acc: 0.7754 - image_quality_output_acc: 0.5550 - age_output_acc: 0.4051 - weight_output_acc: 0.6439 - bag_output_acc: 0.6174 - footwear_output_acc: 0.6262 - pose_output_acc: 0.7417 - emotion_output_acc: 0.7127 - val_loss: 7.2277 - val_gender_output_loss: 0.5458 - val_image_quality_output_loss: 0.9833 - val_age_output_loss: 1.3965 - val_weight_output_loss: 0.9859 - val_bag_output_loss: 0.8722 - val_footwear_output_loss: 0.8646 - val_pose_output_loss: 0.6876 - val_emotion_output_loss: 0.8918 - val_gender_output_acc: 0.7262 - val_image_quality_output_acc: 0.5502 - val_age_output_acc: 0.3951 - val_weight_output_acc: 0.6131 - val_bag_output_acc: 0.6038 - val_footwear_output_acc: 0.6034 - val_pose_output_acc: 0.7195 - val_emotion_output_acc: 0.7072\n",
            "Epoch 42/100\n",
            "339/339 [==============================] - 155s 456ms/step - loss: 6.9173 - gender_output_loss: 0.4710 - image_quality_output_loss: 0.9597 - age_output_loss: 1.3732 - weight_output_loss: 0.9412 - bag_output_loss: 0.8397 - footwear_output_loss: 0.8348 - pose_output_loss: 0.6239 - emotion_output_loss: 0.8736 - gender_output_acc: 0.7693 - image_quality_output_acc: 0.5560 - age_output_acc: 0.4051 - weight_output_acc: 0.6446 - bag_output_acc: 0.6224 - footwear_output_acc: 0.6268 - pose_output_acc: 0.7393 - emotion_output_acc: 0.7128 - val_loss: 7.2072 - val_gender_output_loss: 0.5305 - val_image_quality_output_loss: 0.9882 - val_age_output_loss: 1.3992 - val_weight_output_loss: 0.9863 - val_bag_output_loss: 0.8748 - val_footwear_output_loss: 0.8673 - val_pose_output_loss: 0.6618 - val_emotion_output_loss: 0.8991 - val_gender_output_acc: 0.7467 - val_image_quality_output_acc: 0.5502 - val_age_output_acc: 0.3958 - val_weight_output_acc: 0.6131 - val_bag_output_acc: 0.5990 - val_footwear_output_acc: 0.6190 - val_pose_output_acc: 0.7307 - val_emotion_output_acc: 0.7072\n",
            "Epoch 43/100\n",
            "339/339 [==============================] - 155s 457ms/step - loss: 6.9154 - gender_output_loss: 0.4664 - image_quality_output_loss: 0.9609 - age_output_loss: 1.3722 - weight_output_loss: 0.9403 - bag_output_loss: 0.8409 - footwear_output_loss: 0.8365 - pose_output_loss: 0.6250 - emotion_output_loss: 0.8732 - gender_output_acc: 0.7722 - image_quality_output_acc: 0.5526 - age_output_acc: 0.4071 - weight_output_acc: 0.6420 - bag_output_acc: 0.6167 - footwear_output_acc: 0.6219 - pose_output_acc: 0.7425 - emotion_output_acc: 0.7129 - val_loss: 7.2180 - val_gender_output_loss: 0.5627 - val_image_quality_output_loss: 0.9727 - val_age_output_loss: 1.3983 - val_weight_output_loss: 0.9838 - val_bag_output_loss: 0.8756 - val_footwear_output_loss: 0.8704 - val_pose_output_loss: 0.6608 - val_emotion_output_loss: 0.8937 - val_gender_output_acc: 0.7080 - val_image_quality_output_acc: 0.5510 - val_age_output_acc: 0.3969 - val_weight_output_acc: 0.6131 - val_bag_output_acc: 0.6016 - val_footwear_output_acc: 0.6090 - val_pose_output_acc: 0.7214 - val_emotion_output_acc: 0.7072\n",
            "Epoch 44/100\n",
            "339/339 [==============================] - 156s 461ms/step - loss: 6.8992 - gender_output_loss: 0.4616 - image_quality_output_loss: 0.9605 - age_output_loss: 1.3718 - weight_output_loss: 0.9408 - bag_output_loss: 0.8433 - footwear_output_loss: 0.8320 - pose_output_loss: 0.6173 - emotion_output_loss: 0.8720 - gender_output_acc: 0.7763 - image_quality_output_acc: 0.5545 - age_output_acc: 0.4052 - weight_output_acc: 0.6456 - bag_output_acc: 0.6199 - footwear_output_acc: 0.6250 - pose_output_acc: 0.7447 - emotion_output_acc: 0.7126 - val_loss: 7.3250 - val_gender_output_loss: 0.6213 - val_image_quality_output_loss: 0.9972 - val_age_output_loss: 1.3961 - val_weight_output_loss: 0.9868 - val_bag_output_loss: 0.8779 - val_footwear_output_loss: 0.8639 - val_pose_output_loss: 0.6869 - val_emotion_output_loss: 0.8950 - val_gender_output_acc: 0.6864 - val_image_quality_output_acc: 0.5517 - val_age_output_acc: 0.3966 - val_weight_output_acc: 0.6150 - val_bag_output_acc: 0.6008 - val_footwear_output_acc: 0.6120 - val_pose_output_acc: 0.7098 - val_emotion_output_acc: 0.7072\n",
            "Epoch 45/100\n",
            "339/339 [==============================] - 156s 460ms/step - loss: 6.8803 - gender_output_loss: 0.4618 - image_quality_output_loss: 0.9558 - age_output_loss: 1.3661 - weight_output_loss: 0.9376 - bag_output_loss: 0.8384 - footwear_output_loss: 0.8295 - pose_output_loss: 0.6182 - emotion_output_loss: 0.8731 - gender_output_acc: 0.7791 - image_quality_output_acc: 0.5533 - age_output_acc: 0.4104 - weight_output_acc: 0.6444 - bag_output_acc: 0.6231 - footwear_output_acc: 0.6255 - pose_output_acc: 0.7461 - emotion_output_acc: 0.7124 - val_loss: 7.2673 - val_gender_output_loss: 0.5443 - val_image_quality_output_loss: 1.0081 - val_age_output_loss: 1.4064 - val_weight_output_loss: 0.9827 - val_bag_output_loss: 0.8763 - val_footwear_output_loss: 0.8721 - val_pose_output_loss: 0.6833 - val_emotion_output_loss: 0.8940 - val_gender_output_acc: 0.7284 - val_image_quality_output_acc: 0.5480 - val_age_output_acc: 0.3925 - val_weight_output_acc: 0.6131 - val_bag_output_acc: 0.6071 - val_footwear_output_acc: 0.6142 - val_pose_output_acc: 0.7210 - val_emotion_output_acc: 0.7072\n",
            "Epoch 46/100\n",
            "339/339 [==============================] - 156s 461ms/step - loss: 6.8793 - gender_output_loss: 0.4561 - image_quality_output_loss: 0.9555 - age_output_loss: 1.3691 - weight_output_loss: 0.9394 - bag_output_loss: 0.8380 - footwear_output_loss: 0.8347 - pose_output_loss: 0.6129 - emotion_output_loss: 0.8736 - gender_output_acc: 0.7857 - image_quality_output_acc: 0.5541 - age_output_acc: 0.4065 - weight_output_acc: 0.6464 - bag_output_acc: 0.6190 - footwear_output_acc: 0.6244 - pose_output_acc: 0.7471 - emotion_output_acc: 0.7127 - val_loss: 7.1975 - val_gender_output_loss: 0.5222 - val_image_quality_output_loss: 0.9672 - val_age_output_loss: 1.3963 - val_weight_output_loss: 0.9807 - val_bag_output_loss: 0.8712 - val_footwear_output_loss: 0.8700 - val_pose_output_loss: 0.6959 - val_emotion_output_loss: 0.8941 - val_gender_output_acc: 0.7396 - val_image_quality_output_acc: 0.5495 - val_age_output_acc: 0.3984 - val_weight_output_acc: 0.6157 - val_bag_output_acc: 0.6057 - val_footwear_output_acc: 0.6034 - val_pose_output_acc: 0.7113 - val_emotion_output_acc: 0.7072\n",
            "Epoch 47/100\n",
            " - 156s 460ms/step - loss: 6.8803 - gender_output_loss: 0.4618 - image_quality_output_loss: 0.9558 - age_output_loss: 1.3661 - weight_output_loss: 0.9376 - bag_output_loss: 0.8384 - footwear_output_loss: 0.8295 - pose_output_loss: 0.6182 - emotion_output_loss: 0.8731 - gender_output_acc: 0.7791 - image_quality_output_acc: 0.5533 - age_output_acc: 0.4104 - weight_output_acc: 0.6444 - bag_output_acc: 0.6231 - footwear_output_acc: 0.6255 - pose_output_acc: 0.7461 - emotion_output_acc: 0.7124 - val_loss: 7.2673 - val_gender_output_loss: 0.5443 - val_image_quality_output_loss: 1.0081 - val_age_output_loss: 1.4064 - val_weight_output_loss: 0.9827 - val_bag_output_loss: 0.8763 - val_footwear_output_loss: 0.8721 - val_pose_output_loss: 0.6833 - val_emotion_output_loss: 0.8940 - val_gender_output_acc: 0.7284 - val_image_quality_output_acc: 0.5480 - val_age_output_acc: 0.3925 - val_weight_output_acc: 0.6131 - val_bag_output_acc: 0.6071 - val_footwear_output_acc: 0.6142 - val_pose_output_acc: 0.7210 - val_emotion_output_acc: 0.7072\n",
            "338/339 [============================>.] - ETA: 0s - loss: 6.8672 - gender_output_loss: 0.4622 - image_quality_output_loss: 0.9556 - age_output_loss: 1.3690 - weight_output_loss: 0.9378 - bag_output_loss: 0.8390 - footwear_output_loss: 0.8277 - pose_output_loss: 0.6075 - emotion_output_loss: 0.8685 - gender_output_acc: 0.7791 - image_quality_output_acc: 0.5561 - age_output_acc: 0.4046 - weight_output_acc: 0.6452 - bag_output_acc: 0.6232 - footwear_output_acc: 0.6244 - pose_output_acc: 0.7555 - emotion_output_acc: 0.7126Epoch 47/100\n",
            "339/339 [==============================] - 157s 463ms/step - loss: 6.8697 - gender_output_loss: 0.4625 - image_quality_output_loss: 0.9558 - age_output_loss: 1.3688 - weight_output_loss: 0.9376 - bag_output_loss: 0.8391 - footwear_output_loss: 0.8283 - pose_output_loss: 0.6085 - emotion_output_loss: 0.8691 - gender_output_acc: 0.7789 - image_quality_output_acc: 0.5560 - age_output_acc: 0.4047 - weight_output_acc: 0.6455 - bag_output_acc: 0.6230 - footwear_output_acc: 0.6242 - pose_output_acc: 0.7550 - emotion_output_acc: 0.7124 - val_loss: 7.2146 - val_gender_output_loss: 0.5155 - val_image_quality_output_loss: 0.9653 - val_age_output_loss: 1.4015 - val_weight_output_loss: 0.9893 - val_bag_output_loss: 0.8872 - val_footwear_output_loss: 0.8757 - val_pose_output_loss: 0.6842 - val_emotion_output_loss: 0.8959 - val_gender_output_acc: 0.7452 - val_image_quality_output_acc: 0.5517 - val_age_output_acc: 0.3951 - val_weight_output_acc: 0.6131 - val_bag_output_acc: 0.5833 - val_footwear_output_acc: 0.6235 - val_pose_output_acc: 0.7165 - val_emotion_output_acc: 0.7072\n",
            "Epoch 48/100\n",
            "339/339 [==============================] - 157s 462ms/step - loss: 6.8495 - gender_output_loss: 0.4508 - image_quality_output_loss: 0.9555 - age_output_loss: 1.3644 - weight_output_loss: 0.9361 - bag_output_loss: 0.8407 - footwear_output_loss: 0.8267 - pose_output_loss: 0.6073 - emotion_output_loss: 0.8680 - gender_output_acc: 0.7871 - image_quality_output_acc: 0.5525 - age_output_acc: 0.4062 - weight_output_acc: 0.6466 - bag_output_acc: 0.6211 - footwear_output_acc: 0.6294 - pose_output_acc: 0.7496 - emotion_output_acc: 0.7122 - val_loss: 7.2809 - val_gender_output_loss: 0.5410 - val_image_quality_output_loss: 0.9849 - val_age_output_loss: 1.4029 - val_weight_output_loss: 0.9914 - val_bag_output_loss: 0.8827 - val_footwear_output_loss: 0.8857 - val_pose_output_loss: 0.7006 - val_emotion_output_loss: 0.8916 - val_gender_output_acc: 0.7321 - val_image_quality_output_acc: 0.5506 - val_age_output_acc: 0.3966 - val_weight_output_acc: 0.6131 - val_bag_output_acc: 0.5807 - val_footwear_output_acc: 0.6016 - val_pose_output_acc: 0.7057 - val_emotion_output_acc: 0.7072\n",
            "Epoch 49/100\n",
            "339/339 [==============================] - 157s 462ms/step - loss: 6.8477 - gender_output_loss: 0.4542 - image_quality_output_loss: 0.9499 - age_output_loss: 1.3659 - weight_output_loss: 0.9348 - bag_output_loss: 0.8359 - footwear_output_loss: 0.8289 - pose_output_loss: 0.6065 - emotion_output_loss: 0.8717 - gender_output_acc: 0.7850 - image_quality_output_acc: 0.5560 - age_output_acc: 0.4056 - weight_output_acc: 0.6452 - bag_output_acc: 0.6256 - footwear_output_acc: 0.6242 - pose_output_acc: 0.7515 - emotion_output_acc: 0.7119 - val_loss: 7.1641 - val_gender_output_loss: 0.5160 - val_image_quality_output_loss: 0.9927 - val_age_output_loss: 1.3930 - val_weight_output_loss: 0.9784 - val_bag_output_loss: 0.8718 - val_footwear_output_loss: 0.8617 - val_pose_output_loss: 0.6638 - val_emotion_output_loss: 0.8868 - val_gender_output_acc: 0.7526 - val_image_quality_output_acc: 0.5469 - val_age_output_acc: 0.4010 - val_weight_output_acc: 0.6142 - val_bag_output_acc: 0.6083 - val_footwear_output_acc: 0.6153 - val_pose_output_acc: 0.7284 - val_emotion_output_acc: 0.7072\n",
            "Epoch 50/100\n",
            "339/339 [==============================] - 156s 460ms/step - loss: 6.8327 - gender_output_loss: 0.4474 - image_quality_output_loss: 0.9543 - age_output_loss: 1.3642 - weight_output_loss: 0.9342 - bag_output_loss: 0.8347 - footwear_output_loss: 0.8242 - pose_output_loss: 0.6018 - emotion_output_loss: 0.8717 - gender_output_acc: 0.7841 - image_quality_output_acc: 0.5543 - age_output_acc: 0.4104 - weight_output_acc: 0.6457 - bag_output_acc: 0.6224 - footwear_output_acc: 0.6303 - pose_output_acc: 0.7523 - emotion_output_acc: 0.7127 - val_loss: 7.1450 - val_gender_output_loss: 0.5073 - val_image_quality_output_loss: 0.9869 - val_age_output_loss: 1.3976 - val_weight_output_loss: 0.9892 - val_bag_output_loss: 0.8672 - val_footwear_output_loss: 0.8608 - val_pose_output_loss: 0.6438 - val_emotion_output_loss: 0.8921 - val_gender_output_acc: 0.7556 - val_image_quality_output_acc: 0.5513 - val_age_output_acc: 0.3947 - val_weight_output_acc: 0.6135 - val_bag_output_acc: 0.6083 - val_footwear_output_acc: 0.6164 - val_pose_output_acc: 0.7374 - val_emotion_output_acc: 0.7072\n",
            "Epoch 51/100\n",
            "339/339 [==============================] - 157s 463ms/step - loss: 6.8211 - gender_output_loss: 0.4422 - image_quality_output_loss: 0.9545 - age_output_loss: 1.3629 - weight_output_loss: 0.9339 - bag_output_loss: 0.8318 - footwear_output_loss: 0.8230 - pose_output_loss: 0.6026 - emotion_output_loss: 0.8703 - gender_output_acc: 0.7899 - image_quality_output_acc: 0.5556 - age_output_acc: 0.4082 - weight_output_acc: 0.6446 - bag_output_acc: 0.6268 - footwear_output_acc: 0.6300 - pose_output_acc: 0.7513 - emotion_output_acc: 0.7123 - val_loss: 7.3420 - val_gender_output_loss: 0.5395 - val_image_quality_output_loss: 0.9922 - val_age_output_loss: 1.3992 - val_weight_output_loss: 0.9947 - val_bag_output_loss: 0.8961 - val_footwear_output_loss: 0.9204 - val_pose_output_loss: 0.7024 - val_emotion_output_loss: 0.8975 - val_gender_output_acc: 0.7284 - val_image_quality_output_acc: 0.5491 - val_age_output_acc: 0.3947 - val_weight_output_acc: 0.6138 - val_bag_output_acc: 0.5759 - val_footwear_output_acc: 0.5755 - val_pose_output_acc: 0.7050 - val_emotion_output_acc: 0.7072\n",
            "Epoch 52/100\n",
            "339/339 [==============================] - 157s 464ms/step - loss: 6.8133 - gender_output_loss: 0.4427 - image_quality_output_loss: 0.9483 - age_output_loss: 1.3640 - weight_output_loss: 0.9327 - bag_output_loss: 0.8343 - footwear_output_loss: 0.8286 - pose_output_loss: 0.5953 - emotion_output_loss: 0.8674 - gender_output_acc: 0.7919 - image_quality_output_acc: 0.5573 - age_output_acc: 0.4105 - weight_output_acc: 0.6481 - bag_output_acc: 0.6253 - footwear_output_acc: 0.6278 - pose_output_acc: 0.7574 - emotion_output_acc: 0.7122 - val_loss: 7.4207 - val_gender_output_loss: 0.5570 - val_image_quality_output_loss: 0.9921 - val_age_output_loss: 1.4102 - val_weight_output_loss: 0.9928 - val_bag_output_loss: 0.9126 - val_footwear_output_loss: 0.9465 - val_pose_output_loss: 0.7107 - val_emotion_output_loss: 0.8987 - val_gender_output_acc: 0.7113 - val_image_quality_output_acc: 0.5513 - val_age_output_acc: 0.3962 - val_weight_output_acc: 0.6146 - val_bag_output_acc: 0.5789 - val_footwear_output_acc: 0.5606 - val_pose_output_acc: 0.6927 - val_emotion_output_acc: 0.7072\n",
            "Epoch 53/100\n",
            "339/339 [==============================] - 158s 465ms/step - loss: 6.7915 - gender_output_loss: 0.4367 - image_quality_output_loss: 0.9468 - age_output_loss: 1.3632 - weight_output_loss: 0.9318 - bag_output_loss: 0.8305 - footwear_output_loss: 0.8184 - pose_output_loss: 0.5957 - emotion_output_loss: 0.8683 - gender_output_acc: 0.7907 - image_quality_output_acc: 0.5554 - age_output_acc: 0.4141 - weight_output_acc: 0.6455 - bag_output_acc: 0.6279 - footwear_output_acc: 0.6345 - pose_output_acc: 0.7547 - emotion_output_acc: 0.7123 - val_loss: 7.2182 - val_gender_output_loss: 0.5182 - val_image_quality_output_loss: 0.9568 - val_age_output_loss: 1.3916 - val_weight_output_loss: 0.9817 - val_bag_output_loss: 0.8748 - val_footwear_output_loss: 0.8758 - val_pose_output_loss: 0.7213 - val_emotion_output_loss: 0.8980 - val_gender_output_acc: 0.7500 - val_image_quality_output_acc: 0.5487 - val_age_output_acc: 0.3958 - val_weight_output_acc: 0.6135 - val_bag_output_acc: 0.6019 - val_footwear_output_acc: 0.6090 - val_pose_output_acc: 0.6901 - val_emotion_output_acc: 0.7072\n",
            "Epoch 54/100\n",
            "339/339 [==============================] - 158s 465ms/step - loss: 6.7878 - gender_output_loss: 0.4326 - image_quality_output_loss: 0.9469 - age_output_loss: 1.3635 - weight_output_loss: 0.9331 - bag_output_loss: 0.8259 - footwear_output_loss: 0.8255 - pose_output_loss: 0.5930 - emotion_output_loss: 0.8672 - gender_output_acc: 0.7948 - image_quality_output_acc: 0.5572 - age_output_acc: 0.4101 - weight_output_acc: 0.6445 - bag_output_acc: 0.6347 - footwear_output_acc: 0.6293 - pose_output_acc: 0.7580 - emotion_output_acc: 0.7126 - val_loss: 7.4342 - val_gender_output_loss: 0.5689 - val_image_quality_output_loss: 0.9584 - val_age_output_loss: 1.4058 - val_weight_output_loss: 0.9885 - val_bag_output_loss: 0.8929 - val_footwear_output_loss: 1.0257 - val_pose_output_loss: 0.6975 - val_emotion_output_loss: 0.8966 - val_gender_output_acc: 0.7020 - val_image_quality_output_acc: 0.5499 - val_age_output_acc: 0.3966 - val_weight_output_acc: 0.6153 - val_bag_output_acc: 0.5900 - val_footwear_output_acc: 0.5365 - val_pose_output_acc: 0.7150 - val_emotion_output_acc: 0.7072\n",
            "Epoch 55/100\n",
            "339/339 [==============================] - 158s 466ms/step - loss: 6.7758 - gender_output_loss: 0.4418 - image_quality_output_loss: 0.9467 - age_output_loss: 1.3585 - weight_output_loss: 0.9320 - bag_output_loss: 0.8251 - footwear_output_loss: 0.8129 - pose_output_loss: 0.5898 - emotion_output_loss: 0.8692 - gender_output_acc: 0.7885 - image_quality_output_acc: 0.5579 - age_output_acc: 0.4071 - weight_output_acc: 0.6445 - bag_output_acc: 0.6363 - footwear_output_acc: 0.6375 - pose_output_acc: 0.7562 - emotion_output_acc: 0.7127 - val_loss: 7.1610 - val_gender_output_loss: 0.5090 - val_image_quality_output_loss: 0.9871 - val_age_output_loss: 1.3907 - val_weight_output_loss: 0.9775 - val_bag_output_loss: 0.8733 - val_footwear_output_loss: 0.8606 - val_pose_output_loss: 0.6634 - val_emotion_output_loss: 0.8993 - val_gender_output_acc: 0.7526 - val_image_quality_output_acc: 0.5391 - val_age_output_acc: 0.3996 - val_weight_output_acc: 0.6142 - val_bag_output_acc: 0.5964 - val_footwear_output_acc: 0.6142 - val_pose_output_acc: 0.7206 - val_emotion_output_acc: 0.7072\n",
            "Epoch 56/100\n",
            "339/339 [==============================] - 158s 467ms/step - loss: 6.7712 - gender_output_loss: 0.4333 - image_quality_output_loss: 0.9448 - age_output_loss: 1.3566 - weight_output_loss: 0.9354 - bag_output_loss: 0.8241 - footwear_output_loss: 0.8178 - pose_output_loss: 0.5928 - emotion_output_loss: 0.8664 - gender_output_acc: 0.7963 - image_quality_output_acc: 0.5552 - age_output_acc: 0.4123 - weight_output_acc: 0.6442 - bag_output_acc: 0.6378 - footwear_output_acc: 0.6329 - pose_output_acc: 0.7574 - emotion_output_acc: 0.7122 - val_loss: 7.2134 - val_gender_output_loss: 0.5233 - val_image_quality_output_loss: 0.9837 - val_age_output_loss: 1.4072 - val_weight_output_loss: 0.9862 - val_bag_output_loss: 0.8658 - val_footwear_output_loss: 0.8853 - val_pose_output_loss: 0.6715 - val_emotion_output_loss: 0.8904 - val_gender_output_acc: 0.7355 - val_image_quality_output_acc: 0.5539 - val_age_output_acc: 0.3936 - val_weight_output_acc: 0.6131 - val_bag_output_acc: 0.6109 - val_footwear_output_acc: 0.5964 - val_pose_output_acc: 0.7281 - val_emotion_output_acc: 0.7072\n",
            "Epoch 57/100\n",
            "339/339 [==============================] - 158s 466ms/step - loss: 6.7511 - gender_output_loss: 0.4288 - image_quality_output_loss: 0.9451 - age_output_loss: 1.3556 - weight_output_loss: 0.9260 - bag_output_loss: 0.8213 - footwear_output_loss: 0.8174 - pose_output_loss: 0.5897 - emotion_output_loss: 0.8670 - gender_output_acc: 0.7955 - image_quality_output_acc: 0.5554 - age_output_acc: 0.4148 - weight_output_acc: 0.6489 - bag_output_acc: 0.6364 - footwear_output_acc: 0.6356 - pose_output_acc: 0.7560 - emotion_output_acc: 0.7128 - val_loss: 7.2890 - val_gender_output_loss: 0.5177 - val_image_quality_output_loss: 0.9604 - val_age_output_loss: 1.3952 - val_weight_output_loss: 0.9863 - val_bag_output_loss: 0.8915 - val_footwear_output_loss: 0.9381 - val_pose_output_loss: 0.7066 - val_emotion_output_loss: 0.8932 - val_gender_output_acc: 0.7437 - val_image_quality_output_acc: 0.5502 - val_age_output_acc: 0.3973 - val_weight_output_acc: 0.6131 - val_bag_output_acc: 0.5815 - val_footwear_output_acc: 0.5792 - val_pose_output_acc: 0.7035 - val_emotion_output_acc: 0.7072\n",
            "Epoch 58/100\n",
            "339/339 [==============================] - 157s 464ms/step - loss: 6.7536 - gender_output_loss: 0.4358 - image_quality_output_loss: 0.9430 - age_output_loss: 1.3590 - weight_output_loss: 0.9311 - bag_output_loss: 0.8254 - footwear_output_loss: 0.8159 - pose_output_loss: 0.5762 - emotion_output_loss: 0.8671 - gender_output_acc: 0.7920 - image_quality_output_acc: 0.5578 - age_output_acc: 0.4042 - weight_output_acc: 0.6453 - bag_output_acc: 0.6307 - footwear_output_acc: 0.6303 - pose_output_acc: 0.7638 - emotion_output_acc: 0.7128 - val_loss: 7.2500 - val_gender_output_loss: 0.5284 - val_image_quality_output_loss: 0.9703 - val_age_output_loss: 1.3983 - val_weight_output_loss: 0.9745 - val_bag_output_loss: 0.8834 - val_footwear_output_loss: 0.8945 - val_pose_output_loss: 0.7034 - val_emotion_output_loss: 0.8971 - val_gender_output_acc: 0.7463 - val_image_quality_output_acc: 0.5521 - val_age_output_acc: 0.3943 - val_weight_output_acc: 0.6135 - val_bag_output_acc: 0.5897 - val_footwear_output_acc: 0.6001 - val_pose_output_acc: 0.6987 - val_emotion_output_acc: 0.7072\n",
            "Epoch 59/100\n",
            "339/339 [==============================] - 158s 465ms/step - loss: 6.7393 - gender_output_loss: 0.4227 - image_quality_output_loss: 0.9379 - age_output_loss: 1.3632 - weight_output_loss: 0.9254 - bag_output_loss: 0.8243 - footwear_output_loss: 0.8142 - pose_output_loss: 0.5795 - emotion_output_loss: 0.8723 - gender_output_acc: 0.8013 - image_quality_output_acc: 0.5543 - age_output_acc: 0.4117 - weight_output_acc: 0.6466 - bag_output_acc: 0.6345 - footwear_output_acc: 0.6297 - pose_output_acc: 0.7631 - emotion_output_acc: 0.7127 - val_loss: 7.1640 - val_gender_output_loss: 0.5309 - val_image_quality_output_loss: 0.9565 - val_age_output_loss: 1.3939 - val_weight_output_loss: 0.9829 - val_bag_output_loss: 0.8799 - val_footwear_output_loss: 0.8755 - val_pose_output_loss: 0.6567 - val_emotion_output_loss: 0.8878 - val_gender_output_acc: 0.7336 - val_image_quality_output_acc: 0.5499 - val_age_output_acc: 0.3969 - val_weight_output_acc: 0.6142 - val_bag_output_acc: 0.6049 - val_footwear_output_acc: 0.6094 - val_pose_output_acc: 0.7240 - val_emotion_output_acc: 0.7072\n",
            "Epoch 60/100\n",
            "339/339 [==============================] - 158s 466ms/step - loss: 6.7412 - gender_output_loss: 0.4289 - image_quality_output_loss: 0.9396 - age_output_loss: 1.3580 - weight_output_loss: 0.9257 - bag_output_loss: 0.8257 - footwear_output_loss: 0.8174 - pose_output_loss: 0.5802 - emotion_output_loss: 0.8658 - gender_output_acc: 0.7967 - image_quality_output_acc: 0.5571 - age_output_acc: 0.4132 - weight_output_acc: 0.6471 - bag_output_acc: 0.6313 - footwear_output_acc: 0.6344 - pose_output_acc: 0.7593 - emotion_output_acc: 0.7125 - val_loss: 7.2424 - val_gender_output_loss: 0.5231 - val_image_quality_output_loss: 1.0038 - val_age_output_loss: 1.3995 - val_weight_output_loss: 0.9797 - val_bag_output_loss: 0.8760 - val_footwear_output_loss: 0.8705 - val_pose_output_loss: 0.6896 - val_emotion_output_loss: 0.9001 - val_gender_output_acc: 0.7455 - val_image_quality_output_acc: 0.5372 - val_age_output_acc: 0.3936 - val_weight_output_acc: 0.6146 - val_bag_output_acc: 0.6034 - val_footwear_output_acc: 0.6068 - val_pose_output_acc: 0.7113 - val_emotion_output_acc: 0.7072\n",
            "Epoch 61/100\n",
            "339/339 [==============================] - 158s 466ms/step - loss: 6.7183 - gender_output_loss: 0.4245 - image_quality_output_loss: 0.9371 - age_output_loss: 1.3522 - weight_output_loss: 0.9261 - bag_output_loss: 0.8236 - footwear_output_loss: 0.8142 - pose_output_loss: 0.5743 - emotion_output_loss: 0.8663 - gender_output_acc: 0.8018 - image_quality_output_acc: 0.5576 - age_output_acc: 0.4112 - weight_output_acc: 0.6483 - bag_output_acc: 0.6355 - footwear_output_acc: 0.6302 - pose_output_acc: 0.7671 - emotion_output_acc: 0.7122 - val_loss: 7.2430 - val_gender_output_loss: 0.5520 - val_image_quality_output_loss: 0.9881 - val_age_output_loss: 1.3933 - val_weight_output_loss: 0.9813 - val_bag_output_loss: 0.8802 - val_footwear_output_loss: 0.8724 - val_pose_output_loss: 0.6847 - val_emotion_output_loss: 0.8911 - val_gender_output_acc: 0.7247 - val_image_quality_output_acc: 0.5406 - val_age_output_acc: 0.4014 - val_weight_output_acc: 0.6153 - val_bag_output_acc: 0.5908 - val_footwear_output_acc: 0.6053 - val_pose_output_acc: 0.7132 - val_emotion_output_acc: 0.7072\n",
            "Epoch 62/100\n",
            "338/339 [============================>.] - ETA: 0s - loss: 6.7042 - gender_output_loss: 0.4221 - image_quality_output_loss: 0.9372 - age_output_loss: 1.3537 - weight_output_loss: 0.9260 - bag_output_loss: 0.8159 - footwear_output_loss: 0.8094 - pose_output_loss: 0.5748 - emotion_output_loss: 0.8652 - gender_output_acc: 0.8015 - image_quality_output_acc: 0.5570 - age_output_acc: 0.4089 - weight_output_acc: 0.6475 - bag_output_acc: 0.6441 - footwear_output_acc: 0.6365 - pose_output_acc: 0.7634 - emotion_output_acc: 0.7126Epoch 62/100\n",
            "339/339 [==============================] - 159s 468ms/step - loss: 6.7038 - gender_output_loss: 0.4218 - image_quality_output_loss: 0.9370 - age_output_loss: 1.3537 - weight_output_loss: 0.9263 - bag_output_loss: 0.8156 - footwear_output_loss: 0.8093 - pose_output_loss: 0.5747 - emotion_output_loss: 0.8654 - gender_output_acc: 0.8017 - image_quality_output_acc: 0.5571 - age_output_acc: 0.4091 - weight_output_acc: 0.6473 - bag_output_acc: 0.6442 - footwear_output_acc: 0.6364 - pose_output_acc: 0.7635 - emotion_output_acc: 0.7124 - val_loss: 7.1606 - val_gender_output_loss: 0.5152 - val_image_quality_output_loss: 0.9701 - val_age_output_loss: 1.3906 - val_weight_output_loss: 0.9801 - val_bag_output_loss: 0.8798 - val_footwear_output_loss: 0.8881 - val_pose_output_loss: 0.6487 - val_emotion_output_loss: 0.8880 - val_gender_output_acc: 0.7533 - val_image_quality_output_acc: 0.5454 - val_age_output_acc: 0.3958 - val_weight_output_acc: 0.6135 - val_bag_output_acc: 0.5952 - val_footwear_output_acc: 0.6150 - val_pose_output_acc: 0.7362 - val_emotion_output_acc: 0.7072\n",
            "339/339 [==============================] - 158s 466ms/step - loss: 6.7183 - gender_output_loss: 0.4245 - image_quality_output_loss: 0.9371 - age_output_loss: 1.3522 - weight_output_loss: 0.9261 - bag_output_loss: 0.8236 - footwear_output_loss: 0.8142 - pose_output_loss: 0.5743 - emotion_output_loss: 0.8663 - gender_output_acc: 0.8018 - image_quality_output_acc: 0.5576 - age_output_acc: 0.4112 - weight_output_acc: 0.6483 - bag_output_acc: 0.6355 - footwear_output_acc: 0.6302 - pose_output_acc: 0.7671 - emotion_output_acc: 0.7122 - val_loss: 7.2430 - val_gender_output_loss: 0.5520 - val_image_quality_output_loss: 0.9881 - val_age_output_loss: 1.3933 - val_weight_output_loss: 0.9813 - val_bag_output_loss: 0.8802 - val_footwear_output_loss: 0.8724 - val_pose_output_loss: 0.6847 - val_emotion_output_loss: 0.8911 - val_gender_output_acc: 0.7247 - val_image_quality_output_acc: 0.5406 - val_age_output_acc: 0.4014 - val_weight_output_acc: 0.6153 - val_bag_output_acc: 0.5908 - val_footwear_output_acc: 0.6053 - val_pose_output_acc: 0.7132 - val_emotion_output_acc: 0.7072\n",
            "Epoch 63/100\n",
            "339/339 [==============================] - 160s 471ms/step - loss: 6.6946 - gender_output_loss: 0.4215 - image_quality_output_loss: 0.9381 - age_output_loss: 1.3534 - weight_output_loss: 0.9195 - bag_output_loss: 0.8164 - footwear_output_loss: 0.8124 - pose_output_loss: 0.5677 - emotion_output_loss: 0.8656 - gender_output_acc: 0.8054 - image_quality_output_acc: 0.5589 - age_output_acc: 0.4101 - weight_output_acc: 0.6474 - bag_output_acc: 0.6397 - footwear_output_acc: 0.6392 - pose_output_acc: 0.7695 - emotion_output_acc: 0.7121 - val_loss: 7.1955 - val_gender_output_loss: 0.4950 - val_image_quality_output_loss: 0.9878 - val_age_output_loss: 1.4005 - val_weight_output_loss: 0.9802 - val_bag_output_loss: 0.8760 - val_footwear_output_loss: 0.8949 - val_pose_output_loss: 0.6689 - val_emotion_output_loss: 0.8923 - val_gender_output_acc: 0.7645 - val_image_quality_output_acc: 0.5446 - val_age_output_acc: 0.3873 - val_weight_output_acc: 0.6131 - val_bag_output_acc: 0.6068 - val_footwear_output_acc: 0.5978 - val_pose_output_acc: 0.7232 - val_emotion_output_acc: 0.7072\n",
            "Epoch 64/100\n",
            "Epoch 63/100\n",
            "339/339 [==============================] - 160s 471ms/step - loss: 6.6957 - gender_output_loss: 0.4154 - image_quality_output_loss: 0.9378 - age_output_loss: 1.3559 - weight_output_loss: 0.9218 - bag_output_loss: 0.8209 - footwear_output_loss: 0.8104 - pose_output_loss: 0.5695 - emotion_output_loss: 0.8639 - gender_output_acc: 0.8079 - image_quality_output_acc: 0.5614 - age_output_acc: 0.4072 - weight_output_acc: 0.6443 - bag_output_acc: 0.6374 - footwear_output_acc: 0.6368 - pose_output_acc: 0.7685 - emotion_output_acc: 0.7139 - val_loss: 7.1402 - val_gender_output_loss: 0.4832 - val_image_quality_output_loss: 0.9738 - val_age_output_loss: 1.3977 - val_weight_output_loss: 0.9778 - val_bag_output_loss: 0.8930 - val_footwear_output_loss: 0.8703 - val_pose_output_loss: 0.6530 - val_emotion_output_loss: 0.8915 - val_gender_output_acc: 0.7712 - val_image_quality_output_acc: 0.5491 - val_age_output_acc: 0.3962 - val_weight_output_acc: 0.6146 - val_bag_output_acc: 0.5934 - val_footwear_output_acc: 0.6198 - val_pose_output_acc: 0.7310 - val_emotion_output_acc: 0.7072\n",
            "Epoch 65/100\n",
            "339/339 [==============================] - 160s 473ms/step - loss: 6.6912 - gender_output_loss: 0.4154 - image_quality_output_loss: 0.9386 - age_output_loss: 1.3512 - weight_output_loss: 0.9212 - bag_output_loss: 0.8168 - footwear_output_loss: 0.8077 - pose_output_loss: 0.5762 - emotion_output_loss: 0.8640 - gender_output_acc: 0.8117 - image_quality_output_acc: 0.5628 - age_output_acc: 0.4114 - weight_output_acc: 0.6488 - bag_output_acc: 0.6352 - footwear_output_acc: 0.6346 - pose_output_acc: 0.7672 - emotion_output_acc: 0.7124 - val_loss: 7.3028 - val_gender_output_loss: 0.5231 - val_image_quality_output_loss: 1.0253 - val_age_output_loss: 1.4061 - val_weight_output_loss: 0.9914 - val_bag_output_loss: 0.9033 - val_footwear_output_loss: 0.8767 - val_pose_output_loss: 0.6840 - val_emotion_output_loss: 0.8928 - val_gender_output_acc: 0.7474 - val_image_quality_output_acc: 0.5112 - val_age_output_acc: 0.4010 - val_weight_output_acc: 0.6131 - val_bag_output_acc: 0.5874 - val_footwear_output_acc: 0.6101 - val_pose_output_acc: 0.7210 - val_emotion_output_acc: 0.7072\n",
            "Epoch 66/100\n",
            "339/339 [==============================] - 159s 470ms/step - loss: 6.6833 - gender_output_loss: 0.4130 - image_quality_output_loss: 0.9362 - age_output_loss: 1.3560 - weight_output_loss: 0.9236 - bag_output_loss: 0.8206 - footwear_output_loss: 0.8052 - pose_output_loss: 0.5668 - emotion_output_loss: 0.8618 - gender_output_acc: 0.8109 - image_quality_output_acc: 0.5594 - age_output_acc: 0.4117 - weight_output_acc: 0.6466 - bag_output_acc: 0.6381 - footwear_output_acc: 0.6379 - pose_output_acc: 0.7700 - emotion_output_acc: 0.7126 - val_loss: 7.1630 - val_gender_output_loss: 0.5099 - val_image_quality_output_loss: 0.9669 - val_age_output_loss: 1.4035 - val_weight_output_loss: 0.9806 - val_bag_output_loss: 0.8784 - val_footwear_output_loss: 0.8715 - val_pose_output_loss: 0.6639 - val_emotion_output_loss: 0.8883 - val_gender_output_acc: 0.7541 - val_image_quality_output_acc: 0.5465 - val_age_output_acc: 0.3955 - val_weight_output_acc: 0.6131 - val_bag_output_acc: 0.5978 - val_footwear_output_acc: 0.6109 - val_pose_output_acc: 0.7217 - val_emotion_output_acc: 0.7072\n",
            "Epoch 67/100\n",
            "339/339 [==============================] - 159s 470ms/step - loss: 6.6531 - gender_output_loss: 0.4102 - image_quality_output_loss: 0.9330 - age_output_loss: 1.3490 - weight_output_loss: 0.9178 - bag_output_loss: 0.8115 - footwear_output_loss: 0.8064 - pose_output_loss: 0.5621 - emotion_output_loss: 0.8631 - gender_output_acc: 0.8093 - image_quality_output_acc: 0.5601 - age_output_acc: 0.4154 - weight_output_acc: 0.6463 - bag_output_acc: 0.6450 - footwear_output_acc: 0.6390 - pose_output_acc: 0.7690 - emotion_output_acc: 0.7126 - val_loss: 7.1351 - val_gender_output_loss: 0.5101 - val_image_quality_output_loss: 0.9675 - val_age_output_loss: 1.3958 - val_weight_output_loss: 0.9843 - val_bag_output_loss: 0.8748 - val_footwear_output_loss: 0.8639 - val_pose_output_loss: 0.6494 - val_emotion_output_loss: 0.8894 - val_gender_output_acc: 0.7452 - val_image_quality_output_acc: 0.5510 - val_age_output_acc: 0.3958 - val_weight_output_acc: 0.6142 - val_bag_output_acc: 0.5967 - val_footwear_output_acc: 0.6079 - val_pose_output_acc: 0.7333 - val_emotion_output_acc: 0.7072\n",
            "Epoch 68/100\n",
            "Epoch 67/100\n",
            "339/339 [==============================] - 159s 469ms/step - loss: 6.6753 - gender_output_loss: 0.4037 - image_quality_output_loss: 0.9337 - age_output_loss: 1.3507 - weight_output_loss: 0.9252 - bag_output_loss: 0.8157 - footwear_output_loss: 0.8063 - pose_output_loss: 0.5737 - emotion_output_loss: 0.8662 - gender_output_acc: 0.8145 - image_quality_output_acc: 0.5622 - age_output_acc: 0.4071 - weight_output_acc: 0.6465 - bag_output_acc: 0.6399 - footwear_output_acc: 0.6380 - pose_output_acc: 0.7667 - emotion_output_acc: 0.7120 - val_loss: 7.3663 - val_gender_output_loss: 0.5376 - val_image_quality_output_loss: 1.0817 - val_age_output_loss: 1.4043 - val_weight_output_loss: 1.0087 - val_bag_output_loss: 0.8779 - val_footwear_output_loss: 0.8739 - val_pose_output_loss: 0.6884 - val_emotion_output_loss: 0.8938 - val_gender_output_acc: 0.7295 - val_image_quality_output_acc: 0.4877 - val_age_output_acc: 0.3917 - val_weight_output_acc: 0.6135 - val_bag_output_acc: 0.5993 - val_footwear_output_acc: 0.6034 - val_pose_output_acc: 0.7147 - val_emotion_output_acc: 0.7072\n",
            "Epoch 69/100\n",
            "339/339 [==============================] - 162s 477ms/step - loss: 6.6543 - gender_output_loss: 0.4122 - image_quality_output_loss: 0.9296 - age_output_loss: 1.3547 - weight_output_loss: 0.9215 - bag_output_loss: 0.8121 - footwear_output_loss: 0.8014 - pose_output_loss: 0.5583 - emotion_output_loss: 0.8644 - gender_output_acc: 0.8113 - image_quality_output_acc: 0.5632 - age_output_acc: 0.4083 - weight_output_acc: 0.6492 - bag_output_acc: 0.6443 - footwear_output_acc: 0.6397 - pose_output_acc: 0.7731 - emotion_output_acc: 0.7126 - val_loss: 7.1142 - val_gender_output_loss: 0.4886 - val_image_quality_output_loss: 0.9673 - val_age_output_loss: 1.3967 - val_weight_output_loss: 0.9742 - val_bag_output_loss: 0.8770 - val_footwear_output_loss: 0.8724 - val_pose_output_loss: 0.6470 - val_emotion_output_loss: 0.8908 - val_gender_output_acc: 0.7671 - val_image_quality_output_acc: 0.5484 - val_age_output_acc: 0.3947 - val_weight_output_acc: 0.6131 - val_bag_output_acc: 0.5997 - val_footwear_output_acc: 0.6079 - val_pose_output_acc: 0.7221 - val_emotion_output_acc: 0.7072\n",
            "Epoch 70/100\n",
            "339/339 [==============================] - 159s 469ms/step - loss: 6.6258 - gender_output_loss: 0.4022 - image_quality_output_loss: 0.9313 - age_output_loss: 1.3490 - weight_output_loss: 0.9160 - bag_output_loss: 0.8067 - footwear_output_loss: 0.8037 - pose_output_loss: 0.5564 - emotion_output_loss: 0.8605 - gender_output_acc: 0.8173 - image_quality_output_acc: 0.5592 - age_output_acc: 0.4110 - weight_output_acc: 0.6476 - bag_output_acc: 0.6483 - footwear_output_acc: 0.6354 - pose_output_acc: 0.7756 - emotion_output_acc: 0.7120 - val_loss: 7.1896 - val_gender_output_loss: 0.4978 - val_image_quality_output_loss: 0.9823 - val_age_output_loss: 1.3986 - val_weight_output_loss: 0.9763 - val_bag_output_loss: 0.8877 - val_footwear_output_loss: 0.8804 - val_pose_output_loss: 0.6746 - val_emotion_output_loss: 0.8920 - val_gender_output_acc: 0.7597 - val_image_quality_output_acc: 0.5487 - val_age_output_acc: 0.3888 - val_weight_output_acc: 0.6127 - val_bag_output_acc: 0.5878 - val_footwear_output_acc: 0.6001 - val_pose_output_acc: 0.7251 - val_emotion_output_acc: 0.7072\n",
            "\n",
            "Epoch 71/100\n",
            "339/339 [==============================] - 159s 470ms/step - loss: 6.6324 - gender_output_loss: 0.4040 - image_quality_output_loss: 0.9272 - age_output_loss: 1.3517 - weight_output_loss: 0.9139 - bag_output_loss: 0.8077 - footwear_output_loss: 0.8011 - pose_output_loss: 0.5662 - emotion_output_loss: 0.8606 - gender_output_acc: 0.8168 - image_quality_output_acc: 0.5638 - age_output_acc: 0.4100 - weight_output_acc: 0.6498 - bag_output_acc: 0.6427 - footwear_output_acc: 0.6405 - pose_output_acc: 0.7730 - emotion_output_acc: 0.7129 - val_loss: 7.1395 - val_gender_output_loss: 0.4897 - val_image_quality_output_loss: 0.9537 - val_age_output_loss: 1.3960 - val_weight_output_loss: 0.9783 - val_bag_output_loss: 0.8952 - val_footwear_output_loss: 0.8587 - val_pose_output_loss: 0.6760 - val_emotion_output_loss: 0.8919 - val_gender_output_acc: 0.7582 - val_image_quality_output_acc: 0.5502 - val_age_output_acc: 0.3947 - val_weight_output_acc: 0.6131 - val_bag_output_acc: 0.5911 - val_footwear_output_acc: 0.6179 - val_pose_output_acc: 0.7295 - val_emotion_output_acc: 0.7072\n",
            "Epoch 72/100\n",
            "339/339 [==============================] - 158s 467ms/step - loss: 6.6038 - gender_output_loss: 0.3943 - image_quality_output_loss: 0.9307 - age_output_loss: 1.3479 - weight_output_loss: 0.9164 - bag_output_loss: 0.8074 - footwear_output_loss: 0.7991 - pose_output_loss: 0.5479 - emotion_output_loss: 0.8600 - gender_output_acc: 0.8206 - image_quality_output_acc: 0.5586 - age_output_acc: 0.4158 - weight_output_acc: 0.6486 - bag_output_acc: 0.6475 - footwear_output_acc: 0.6436 - pose_output_acc: 0.7748 - emotion_output_acc: 0.7118 - val_loss: 7.1770 - val_gender_output_loss: 0.5057 - val_image_quality_output_loss: 0.9828 - val_age_output_loss: 1.3962 - val_weight_output_loss: 0.9904 - val_bag_output_loss: 0.8758 - val_footwear_output_loss: 0.8705 - val_pose_output_loss: 0.6633 - val_emotion_output_loss: 0.8925 - val_gender_output_acc: 0.7578 - val_image_quality_output_acc: 0.5461 - val_age_output_acc: 0.3981 - val_weight_output_acc: 0.6138 - val_bag_output_acc: 0.5971 - val_footwear_output_acc: 0.6176 - val_pose_output_acc: 0.7195 - val_emotion_output_acc: 0.7072\n",
            "Epoch 73/100\n",
            "\n",
            "339/339 [==============================] - 158s 467ms/step - loss: 6.6140 - gender_output_loss: 0.4037 - image_quality_output_loss: 0.9296 - age_output_loss: 1.3487 - weight_output_loss: 0.9138 - bag_output_loss: 0.8098 - footwear_output_loss: 0.7982 - pose_output_loss: 0.5471 - emotion_output_loss: 0.8631 - gender_output_acc: 0.8118 - image_quality_output_acc: 0.5629 - age_output_acc: 0.4116 - weight_output_acc: 0.6489 - bag_output_acc: 0.6477 - footwear_output_acc: 0.6393 - pose_output_acc: 0.7792 - emotion_output_acc: 0.7124 - val_loss: 7.1803 - val_gender_output_loss: 0.5031 - val_image_quality_output_loss: 0.9988 - val_age_output_loss: 1.3973 - val_weight_output_loss: 0.9789 - val_bag_output_loss: 0.8853 - val_footwear_output_loss: 0.8645 - val_pose_output_loss: 0.6593 - val_emotion_output_loss: 0.8932 - val_gender_output_acc: 0.7552 - val_image_quality_output_acc: 0.5521 - val_age_output_acc: 0.3943 - val_weight_output_acc: 0.6135 - val_bag_output_acc: 0.5967 - val_footwear_output_acc: 0.6146 - val_pose_output_acc: 0.7191 - val_emotion_output_acc: 0.7072\n",
            "Epoch 74/100\n",
            "339/339 [==============================] - 159s 468ms/step - loss: 6.6313 - gender_output_loss: 0.4058 - image_quality_output_loss: 0.9276 - age_output_loss: 1.3522 - weight_output_loss: 0.9162 - bag_output_loss: 0.8119 - footwear_output_loss: 0.8016 - pose_output_loss: 0.5534 - emotion_output_loss: 0.8626 - gender_output_acc: 0.8143 - image_quality_output_acc: 0.5658 - age_output_acc: 0.4139 - weight_output_acc: 0.6503 - bag_output_acc: 0.6450 - footwear_output_acc: 0.6387 - pose_output_acc: 0.7710 - emotion_output_acc: 0.7127 - val_loss: 7.1529 - val_gender_output_loss: 0.5028 - val_image_quality_output_loss: 0.9576 - val_age_output_loss: 1.4066 - val_weight_output_loss: 0.9813 - val_bag_output_loss: 0.8960 - val_footwear_output_loss: 0.8664 - val_pose_output_loss: 0.6527 - val_emotion_output_loss: 0.8895 - val_gender_output_acc: 0.7489 - val_image_quality_output_acc: 0.5502 - val_age_output_acc: 0.3891 - val_weight_output_acc: 0.6142 - val_bag_output_acc: 0.5878 - val_footwear_output_acc: 0.6131 - val_pose_output_acc: 0.7318 - val_emotion_output_acc: 0.7072\n",
            "Epoch 75/100\n",
            "339/339 [==============================] - 158s 467ms/step - loss: 6.6019 - gender_output_loss: 0.3996 - image_quality_output_loss: 0.9270 - age_output_loss: 1.3458 - weight_output_loss: 0.9146 - bag_output_loss: 0.8042 - footwear_output_loss: 0.7981 - pose_output_loss: 0.5503 - emotion_output_loss: 0.8623 - gender_output_acc: 0.8188 - image_quality_output_acc: 0.5592 - age_output_acc: 0.4151 - weight_output_acc: 0.6495 - bag_output_acc: 0.6524 - footwear_output_acc: 0.6396 - pose_output_acc: 0.7779 - emotion_output_acc: 0.7128 - val_loss: 7.2537 - val_gender_output_loss: 0.5247 - val_image_quality_output_loss: 1.0062 - val_age_output_loss: 1.4015 - val_weight_output_loss: 0.9758 - val_bag_output_loss: 0.9123 - val_footwear_output_loss: 0.8648 - val_pose_output_loss: 0.6734 - val_emotion_output_loss: 0.8949 - val_gender_output_acc: 0.7485 - val_image_quality_output_acc: 0.5458 - val_age_output_acc: 0.3966 - val_weight_output_acc: 0.6157 - val_bag_output_acc: 0.5781 - val_footwear_output_acc: 0.6205 - val_pose_output_acc: 0.7262 - val_emotion_output_acc: 0.7072\n",
            "Epoch 76/100\n",
            "339/339 [==============================] - 158s 467ms/step - loss: 6.5958 - gender_output_loss: 0.3979 - image_quality_output_loss: 0.9275 - age_output_loss: 1.3453 - weight_output_loss: 0.9118 - bag_output_loss: 0.8078 - footwear_output_loss: 0.7987 - pose_output_loss: 0.5492 - emotion_output_loss: 0.8576 - gender_output_acc: 0.8132 - image_quality_output_acc: 0.5634 - age_output_acc: 0.4149 - weight_output_acc: 0.6532 - bag_output_acc: 0.6452 - footwear_output_acc: 0.6443 - pose_output_acc: 0.7788 - emotion_output_acc: 0.7130 - val_loss: 7.3055 - val_gender_output_loss: 0.5347 - val_image_quality_output_loss: 0.9529 - val_age_output_loss: 1.4084 - val_weight_output_loss: 0.9861 - val_bag_output_loss: 0.8919 - val_footwear_output_loss: 0.9569 - val_pose_output_loss: 0.6741 - val_emotion_output_loss: 0.9005 - val_gender_output_acc: 0.7303 - val_image_quality_output_acc: 0.5513 - val_age_output_acc: 0.3962 - val_weight_output_acc: 0.6131 - val_bag_output_acc: 0.5945 - val_footwear_output_acc: 0.5725 - val_pose_output_acc: 0.7147 - val_emotion_output_acc: 0.7072\n",
            "Epoch 77/100\n",
            "339/339 [==============================] - 158s 466ms/step - loss: 6.5704 - gender_output_loss: 0.3917 - image_quality_output_loss: 0.9235 - age_output_loss: 1.3430 - weight_output_loss: 0.9072 - bag_output_loss: 0.8007 - footwear_output_loss: 0.7975 - pose_output_loss: 0.5452 - emotion_output_loss: 0.8616 - gender_output_acc: 0.8223 - image_quality_output_acc: 0.5651 - age_output_acc: 0.4145 - weight_output_acc: 0.6504 - bag_output_acc: 0.6521 - footwear_output_acc: 0.6479 - pose_output_acc: 0.7813 - emotion_output_acc: 0.7130 - val_loss: 7.0650 - val_gender_output_loss: 0.4765 - val_image_quality_output_loss: 0.9543 - val_age_output_loss: 1.3905 - val_weight_output_loss: 0.9749 - val_bag_output_loss: 0.8639 - val_footwear_output_loss: 0.8663 - val_pose_output_loss: 0.6472 - val_emotion_output_loss: 0.8914 - val_gender_output_acc: 0.7693 - val_image_quality_output_acc: 0.5517 - val_age_output_acc: 0.3903 - val_weight_output_acc: 0.6161 - val_bag_output_acc: 0.6094 - val_footwear_output_acc: 0.6131 - val_pose_output_acc: 0.7333 - val_emotion_output_acc: 0.7072\n",
            "Epoch 78/100\n",
            "339/339 [==============================] - 158s 466ms/step - loss: 6.5743 - gender_output_loss: 0.3922 - image_quality_output_loss: 0.9225 - age_output_loss: 1.3426 - weight_output_loss: 0.9160 - bag_output_loss: 0.8005 - footwear_output_loss: 0.7973 - pose_output_loss: 0.5430 - emotion_output_loss: 0.8603 - gender_output_acc: 0.8183 - image_quality_output_acc: 0.5605 - age_output_acc: 0.4183 - weight_output_acc: 0.6501 - bag_output_acc: 0.6502 - footwear_output_acc: 0.6461 - pose_output_acc: 0.7845 - emotion_output_acc: 0.7123 - val_loss: 7.2442 - val_gender_output_loss: 0.4988 - val_image_quality_output_loss: 1.0460 - val_age_output_loss: 1.3951 - val_weight_output_loss: 0.9754 - val_bag_output_loss: 0.8846 - val_footwear_output_loss: 0.8810 - val_pose_output_loss: 0.6710 - val_emotion_output_loss: 0.8922 - val_gender_output_acc: 0.7489 - val_image_quality_output_acc: 0.5316 - val_age_output_acc: 0.3969 - val_weight_output_acc: 0.6150 - val_bag_output_acc: 0.6016 - val_footwear_output_acc: 0.6187 - val_pose_output_acc: 0.7206 - val_emotion_output_acc: 0.7072\n",
            "Epoch 79/100\n",
            "339/339 [==============================] - 158s 468ms/step - loss: 6.5579 - gender_output_loss: 0.3960 - image_quality_output_loss: 0.9240 - age_output_loss: 1.3387 - weight_output_loss: 0.9102 - bag_output_loss: 0.7999 - footwear_output_loss: 0.7902 - pose_output_loss: 0.5383 - emotion_output_loss: 0.8605 - gender_output_acc: 0.8228 - image_quality_output_acc: 0.5626 - age_output_acc: 0.4166 - weight_output_acc: 0.6489 - bag_output_acc: 0.6532 - footwear_output_acc: 0.6489 - pose_output_acc: 0.7822 - emotion_output_acc: 0.7128 - val_loss: 7.2673 - val_gender_output_loss: 0.5449 - val_image_quality_output_loss: 0.9796 - val_age_output_loss: 1.4054 - val_weight_output_loss: 0.9886 - val_bag_output_loss: 0.8713 - val_footwear_output_loss: 0.9139 - val_pose_output_loss: 0.6696 - val_emotion_output_loss: 0.8940 - val_gender_output_acc: 0.7273 - val_image_quality_output_acc: 0.5480 - val_age_output_acc: 0.3955 - val_weight_output_acc: 0.6127 - val_bag_output_acc: 0.6038 - val_footwear_output_acc: 0.5986 - val_pose_output_acc: 0.7158 - val_emotion_output_acc: 0.7072\n",
            "Epoch 80/100\n",
            "339/339 [==============================] - 159s 469ms/step - loss: 6.5629 - gender_output_loss: 0.3943 - image_quality_output_loss: 0.9239 - age_output_loss: 1.3383 - weight_output_loss: 0.9119 - bag_output_loss: 0.8000 - footwear_output_loss: 0.7968 - pose_output_loss: 0.5412 - emotion_output_loss: 0.8565 - gender_output_acc: 0.8195 - image_quality_output_acc: 0.5615 - age_output_acc: 0.4148 - weight_output_acc: 0.6480 - bag_output_acc: 0.6502 - footwear_output_acc: 0.6432 - pose_output_acc: 0.7878 - emotion_output_acc: 0.7130 - val_loss: 7.1754 - val_gender_output_loss: 0.4927 - val_image_quality_output_loss: 0.9879 - val_age_output_loss: 1.4011 - val_weight_output_loss: 1.0068 - val_bag_output_loss: 0.8810 - val_footwear_output_loss: 0.8639 - val_pose_output_loss: 0.6499 - val_emotion_output_loss: 0.8921 - val_gender_output_acc: 0.7634 - val_image_quality_output_acc: 0.5428 - val_age_output_acc: 0.3958 - val_weight_output_acc: 0.6131 - val_bag_output_acc: 0.5964 - val_footwear_output_acc: 0.6131 - val_pose_output_acc: 0.7247 - val_emotion_output_acc: 0.7072\n",
            "Epoch 81/100\n",
            "339/339 [==============================] - 159s 469ms/step - loss: 6.5561 - gender_output_loss: 0.3948 - image_quality_output_loss: 0.9244 - age_output_loss: 1.3376 - weight_output_loss: 0.9133 - bag_output_loss: 0.7963 - footwear_output_loss: 0.7900 - pose_output_loss: 0.5420 - emotion_output_loss: 0.8577 - gender_output_acc: 0.8199 - image_quality_output_acc: 0.5631 - age_output_acc: 0.4182 - weight_output_acc: 0.6501 - bag_output_acc: 0.6513 - footwear_output_acc: 0.6478 - pose_output_acc: 0.7784 - emotion_output_acc: 0.7122 - val_loss: 7.2813 - val_gender_output_loss: 0.5433 - val_image_quality_output_loss: 0.9778 - val_age_output_loss: 1.4080 - val_weight_output_loss: 0.9986 - val_bag_output_loss: 0.8871 - val_footwear_output_loss: 0.8766 - val_pose_output_loss: 0.6984 - val_emotion_output_loss: 0.8915 - val_gender_output_acc: 0.7310 - val_image_quality_output_acc: 0.5428 - val_age_output_acc: 0.3925 - val_weight_output_acc: 0.6146 - val_bag_output_acc: 0.6019 - val_footwear_output_acc: 0.5986 - val_pose_output_acc: 0.7098 - val_emotion_output_acc: 0.7072\n",
            "Epoch 82/100\n",
            "339/339 [==============================] - 158s 465ms/step - loss: 6.5437 - gender_output_loss: 0.3856 - image_quality_output_loss: 0.9203 - age_output_loss: 1.3418 - weight_output_loss: 0.9115 - bag_output_loss: 0.8021 - footwear_output_loss: 0.7947 - pose_output_loss: 0.5301 - emotion_output_loss: 0.8576 - gender_output_acc: 0.8263 - image_quality_output_acc: 0.5644 - age_output_acc: 0.4174 - weight_output_acc: 0.6511 - bag_output_acc: 0.6494 - footwear_output_acc: 0.6462 - pose_output_acc: 0.7876 - emotion_output_acc: 0.7125 - val_loss: 7.2162 - val_gender_output_loss: 0.4989 - val_image_quality_output_loss: 1.0158 - val_age_output_loss: 1.3911 - val_weight_output_loss: 0.9828 - val_bag_output_loss: 0.8781 - val_footwear_output_loss: 0.8876 - val_pose_output_loss: 0.6693 - val_emotion_output_loss: 0.8924 - val_gender_output_acc: 0.7552 - val_image_quality_output_acc: 0.5424 - val_age_output_acc: 0.3947 - val_weight_output_acc: 0.6131 - val_bag_output_acc: 0.6079 - val_footwear_output_acc: 0.5997 - val_pose_output_acc: 0.7281 - val_emotion_output_acc: 0.7072\n",
            "Epoch 83/100\n",
            "339/339 [==============================] - 158s 466ms/step - loss: 6.5185 - gender_output_loss: 0.3864 - image_quality_output_loss: 0.9177 - age_output_loss: 1.3319 - weight_output_loss: 0.9048 - bag_output_loss: 0.7963 - footwear_output_loss: 0.7867 - pose_output_loss: 0.5367 - emotion_output_loss: 0.8580 - gender_output_acc: 0.8279 - image_quality_output_acc: 0.5701 - age_output_acc: 0.4208 - weight_output_acc: 0.6509 - bag_output_acc: 0.6562 - footwear_output_acc: 0.6493 - pose_output_acc: 0.7826 - emotion_output_acc: 0.7124 - val_loss: 7.2080 - val_gender_output_loss: 0.4959 - val_image_quality_output_loss: 0.9671 - val_age_output_loss: 1.4038 - val_weight_output_loss: 0.9805 - val_bag_output_loss: 0.9267 - val_footwear_output_loss: 0.8832 - val_pose_output_loss: 0.6556 - val_emotion_output_loss: 0.8952 - val_gender_output_acc: 0.7496 - val_image_quality_output_acc: 0.5450 - val_age_output_acc: 0.3951 - val_weight_output_acc: 0.6120 - val_bag_output_acc: 0.5885 - val_footwear_output_acc: 0.5952 - val_pose_output_acc: 0.7240 - val_emotion_output_acc: 0.7072\n",
            "Epoch 84/100\n",
            "339/339 [==============================] - 159s 468ms/step - loss: 6.5301 - gender_output_loss: 0.3813 - image_quality_output_loss: 0.9249 - age_output_loss: 1.3340 - weight_output_loss: 0.9059 - bag_output_loss: 0.8012 - footwear_output_loss: 0.7933 - pose_output_loss: 0.5330 - emotion_output_loss: 0.8564 - gender_output_acc: 0.8251 - image_quality_output_acc: 0.5637 - age_output_acc: 0.4151 - weight_output_acc: 0.6525 - bag_output_acc: 0.6491 - footwear_output_acc: 0.6472 - pose_output_acc: 0.7833 - emotion_output_acc: 0.7125 - val_loss: 7.3033 - val_gender_output_loss: 0.5068 - val_image_quality_output_loss: 1.0056 - val_age_output_loss: 1.4054 - val_weight_output_loss: 0.9835 - val_bag_output_loss: 0.9056 - val_footwear_output_loss: 0.8768 - val_pose_output_loss: 0.7148 - val_emotion_output_loss: 0.9047 - val_gender_output_acc: 0.7515 - val_image_quality_output_acc: 0.5495 - val_age_output_acc: 0.3847 - val_weight_output_acc: 0.6124 - val_bag_output_acc: 0.5893 - val_footwear_output_acc: 0.6094 - val_pose_output_acc: 0.6949 - val_emotion_output_acc: 0.7072\n",
            "Epoch 85/100\n",
            "339/339 [==============================] - 158s 467ms/step - loss: 6.5352 - gender_output_loss: 0.3855 - image_quality_output_loss: 0.9259 - age_output_loss: 1.3363 - weight_output_loss: 0.9114 - bag_output_loss: 0.7966 - footwear_output_loss: 0.7857 - pose_output_loss: 0.5365 - emotion_output_loss: 0.8573 - gender_output_acc: 0.8239 - image_quality_output_acc: 0.5630 - age_output_acc: 0.4131 - weight_output_acc: 0.6537 - bag_output_acc: 0.6522 - footwear_output_acc: 0.6476 - pose_output_acc: 0.7875 - emotion_output_acc: 0.7134 - val_loss: 7.1178 - val_gender_output_loss: 0.5004 - val_image_quality_output_loss: 0.9768 - val_age_output_loss: 1.3922 - val_weight_output_loss: 0.9769 - val_bag_output_loss: 0.8783 - val_footwear_output_loss: 0.8551 - val_pose_output_loss: 0.6458 - val_emotion_output_loss: 0.8922 - val_gender_output_acc: 0.7626 - val_image_quality_output_acc: 0.5458 - val_age_output_acc: 0.3899 - val_weight_output_acc: 0.6127 - val_bag_output_acc: 0.6057 - val_footwear_output_acc: 0.6190 - val_pose_output_acc: 0.7303 - val_emotion_output_acc: 0.7072\n",
            "Epoch 86/100\n",
            "339/339 [==============================] - 159s 469ms/step - loss: 6.4989 - gender_output_loss: 0.3783 - image_quality_output_loss: 0.9198 - age_output_loss: 1.3318 - weight_output_loss: 0.9035 - bag_output_loss: 0.7882 - footwear_output_loss: 0.7882 - pose_output_loss: 0.5285 - emotion_output_loss: 0.8605 - gender_output_acc: 0.8323 - image_quality_output_acc: 0.5643 - age_output_acc: 0.4176 - weight_output_acc: 0.6543 - bag_output_acc: 0.6645 - footwear_output_acc: 0.6468 - pose_output_acc: 0.7866 - emotion_output_acc: 0.7117 - val_loss: 7.1500 - val_gender_output_loss: 0.4827 - val_image_quality_output_loss: 0.9966 - val_age_output_loss: 1.4006 - val_weight_output_loss: 0.9896 - val_bag_output_loss: 0.8779 - val_footwear_output_loss: 0.8693 - val_pose_output_loss: 0.6414 - val_emotion_output_loss: 0.8919 - val_gender_output_acc: 0.7701 - val_image_quality_output_acc: 0.5353 - val_age_output_acc: 0.3955 - val_weight_output_acc: 0.6131 - val_bag_output_acc: 0.6038 - val_footwear_output_acc: 0.6146 - val_pose_output_acc: 0.7381 - val_emotion_output_acc: 0.7072\n",
            "Epoch 87/100\n",
            "339/339 [==============================] - 160s 471ms/step - loss: 6.5059 - gender_output_loss: 0.3830 - image_quality_output_loss: 0.9141 - age_output_loss: 1.3374 - weight_output_loss: 0.9062 - bag_output_loss: 0.7908 - footwear_output_loss: 0.7870 - pose_output_loss: 0.5295 - emotion_output_loss: 0.8580 - gender_output_acc: 0.8250 - image_quality_output_acc: 0.5676 - age_output_acc: 0.4183 - weight_output_acc: 0.6545 - bag_output_acc: 0.6573 - footwear_output_acc: 0.6497 - pose_output_acc: 0.7892 - emotion_output_acc: 0.7127 - val_loss: 7.1593 - val_gender_output_loss: 0.4977 - val_image_quality_output_loss: 0.9833 - val_age_output_loss: 1.3970 - val_weight_output_loss: 0.9836 - val_bag_output_loss: 0.8886 - val_footwear_output_loss: 0.8647 - val_pose_output_loss: 0.6478 - val_emotion_output_loss: 0.8967 - val_gender_output_acc: 0.7567 - val_image_quality_output_acc: 0.5480 - val_age_output_acc: 0.3962 - val_weight_output_acc: 0.6127 - val_bag_output_acc: 0.6038 - val_footwear_output_acc: 0.6124 - val_pose_output_acc: 0.7414 - val_emotion_output_acc: 0.7072\n",
            "Epoch 88/100\n",
            "Epoch 87/100\n",
            "339/339 [==============================] - 159s 470ms/step - loss: 6.4787 - gender_output_loss: 0.3749 - image_quality_output_loss: 0.9140 - age_output_loss: 1.3358 - weight_output_loss: 0.9017 - bag_output_loss: 0.7955 - footwear_output_loss: 0.7834 - pose_output_loss: 0.5177 - emotion_output_loss: 0.8557 - gender_output_acc: 0.8321 - image_quality_output_acc: 0.5662 - age_output_acc: 0.4169 - weight_output_acc: 0.6533 - bag_output_acc: 0.6518 - footwear_output_acc: 0.6488 - pose_output_acc: 0.7907 - emotion_output_acc: 0.7119 - val_loss: 7.0765 - val_gender_output_loss: 0.4935 - val_image_quality_output_loss: 0.9706 - val_age_output_loss: 1.3876 - val_weight_output_loss: 0.9784 - val_bag_output_loss: 0.8589 - val_footwear_output_loss: 0.8559 - val_pose_output_loss: 0.6413 - val_emotion_output_loss: 0.8903 - val_gender_output_acc: 0.7679 - val_image_quality_output_acc: 0.5506 - val_age_output_acc: 0.3984 - val_weight_output_acc: 0.6116 - val_bag_output_acc: 0.6153 - val_footwear_output_acc: 0.6153 - val_pose_output_acc: 0.7351 - val_emotion_output_acc: 0.7072\n",
            "Epoch 89/100\n",
            "339/339 [==============================] - 160s 471ms/step - loss: 6.4955 - gender_output_loss: 0.3881 - image_quality_output_loss: 0.9170 - age_output_loss: 1.3410 - weight_output_loss: 0.9076 - bag_output_loss: 0.7871 - footwear_output_loss: 0.7838 - pose_output_loss: 0.5183 - emotion_output_loss: 0.8526 - gender_output_acc: 0.8234 - image_quality_output_acc: 0.5687 - age_output_acc: 0.4211 - weight_output_acc: 0.6526 - bag_output_acc: 0.6604 - footwear_output_acc: 0.6481 - pose_output_acc: 0.7897 - emotion_output_acc: 0.7129 - val_loss: 7.2490 - val_gender_output_loss: 0.5133 - val_image_quality_output_loss: 1.0047 - val_age_output_loss: 1.3944 - val_weight_output_loss: 0.9787 - val_bag_output_loss: 0.9128 - val_footwear_output_loss: 0.9052 - val_pose_output_loss: 0.6470 - val_emotion_output_loss: 0.8929 - val_gender_output_acc: 0.7526 - val_image_quality_output_acc: 0.5309 - val_age_output_acc: 0.3929 - val_weight_output_acc: 0.6131 - val_bag_output_acc: 0.5833 - val_footwear_output_acc: 0.6012 - val_pose_output_acc: 0.7385 - val_emotion_output_acc: 0.7072\n",
            "Epoch 90/100\n",
            "Epoch 89/100\n",
            "339/339 [==============================] - 158s 467ms/step - loss: 6.4958 - gender_output_loss: 0.3846 - image_quality_output_loss: 0.9155 - age_output_loss: 1.3372 - weight_output_loss: 0.8990 - bag_output_loss: 0.7950 - footwear_output_loss: 0.7934 - pose_output_loss: 0.5159 - emotion_output_loss: 0.8552 - gender_output_acc: 0.8269 - image_quality_output_acc: 0.5654 - age_output_acc: 0.4237 - weight_output_acc: 0.6539 - bag_output_acc: 0.6543 - footwear_output_acc: 0.6445 - pose_output_acc: 0.7909 - emotion_output_acc: 0.7129 - val_loss: 7.1234 - val_gender_output_loss: 0.4892 - val_image_quality_output_loss: 0.9731 - val_age_output_loss: 1.4019 - val_weight_output_loss: 0.9898 - val_bag_output_loss: 0.8701 - val_footwear_output_loss: 0.8614 - val_pose_output_loss: 0.6398 - val_emotion_output_loss: 0.8981 - val_gender_output_acc: 0.7578 - val_image_quality_output_acc: 0.5510 - val_age_output_acc: 0.3940 - val_weight_output_acc: 0.6131 - val_bag_output_acc: 0.6045 - val_footwear_output_acc: 0.6172 - val_pose_output_acc: 0.7273 - val_emotion_output_acc: 0.7072\n",
            "Epoch 91/100\n",
            "339/339 [==============================] - 158s 466ms/step - loss: 6.4761 - gender_output_loss: 0.3666 - image_quality_output_loss: 0.9174 - age_output_loss: 1.3327 - weight_output_loss: 0.9039 - bag_output_loss: 0.7946 - footwear_output_loss: 0.7863 - pose_output_loss: 0.5158 - emotion_output_loss: 0.8587 - gender_output_acc: 0.8348 - image_quality_output_acc: 0.5664 - age_output_acc: 0.4180 - weight_output_acc: 0.6504 - bag_output_acc: 0.6581 - footwear_output_acc: 0.6469 - pose_output_acc: 0.7883 - emotion_output_acc: 0.7126 - val_loss: 7.1361 - val_gender_output_loss: 0.4876 - val_image_quality_output_loss: 0.9754 - val_age_output_loss: 1.4015 - val_weight_output_loss: 0.9777 - val_bag_output_loss: 0.8922 - val_footwear_output_loss: 0.8681 - val_pose_output_loss: 0.6454 - val_emotion_output_loss: 0.8882 - val_gender_output_acc: 0.7675 - val_image_quality_output_acc: 0.5510 - val_age_output_acc: 0.3836 - val_weight_output_acc: 0.6127 - val_bag_output_acc: 0.5952 - val_footwear_output_acc: 0.6101 - val_pose_output_acc: 0.7403 - val_emotion_output_acc: 0.7072\n",
            "Epoch 92/100\n",
            "339/339 [==============================] - 160s 472ms/step - loss: 6.4650 - gender_output_loss: 0.3725 - image_quality_output_loss: 0.9167 - age_output_loss: 1.3347 - weight_output_loss: 0.9001 - bag_output_loss: 0.7865 - footwear_output_loss: 0.7787 - pose_output_loss: 0.5250 - emotion_output_loss: 0.8508 - gender_output_acc: 0.8296 - image_quality_output_acc: 0.5687 - age_output_acc: 0.4186 - weight_output_acc: 0.6543 - bag_output_acc: 0.6633 - footwear_output_acc: 0.6523 - pose_output_acc: 0.7898 - emotion_output_acc: 0.7124 - val_loss: 7.1815 - val_gender_output_loss: 0.4882 - val_image_quality_output_loss: 0.9786 - val_age_output_loss: 1.3987 - val_weight_output_loss: 0.9794 - val_bag_output_loss: 0.8734 - val_footwear_output_loss: 0.8811 - val_pose_output_loss: 0.6851 - val_emotion_output_loss: 0.8970 - val_gender_output_acc: 0.7597 - val_image_quality_output_acc: 0.5491 - val_age_output_acc: 0.3958 - val_weight_output_acc: 0.6124 - val_bag_output_acc: 0.6034 - val_footwear_output_acc: 0.6049 - val_pose_output_acc: 0.7169 - val_emotion_output_acc: 0.7072\n",
            "Epoch 93/100\n",
            "339/339 [==============================] - 160s 473ms/step - loss: 6.4570 - gender_output_loss: 0.3763 - image_quality_output_loss: 0.9108 - age_output_loss: 1.3328 - weight_output_loss: 0.9022 - bag_output_loss: 0.7972 - footwear_output_loss: 0.7721 - pose_output_loss: 0.5140 - emotion_output_loss: 0.8517 - gender_output_acc: 0.8312 - image_quality_output_acc: 0.5681 - age_output_acc: 0.4163 - weight_output_acc: 0.6536 - bag_output_acc: 0.6548 - footwear_output_acc: 0.6603 - pose_output_acc: 0.7978 - emotion_output_acc: 0.7121 - val_loss: 7.1926 - val_gender_output_loss: 0.5126 - val_image_quality_output_loss: 1.0234 - val_age_output_loss: 1.3936 - val_weight_output_loss: 0.9834 - val_bag_output_loss: 0.8646 - val_footwear_output_loss: 0.8528 - val_pose_output_loss: 0.6671 - val_emotion_output_loss: 0.8951 - val_gender_output_acc: 0.7530 - val_image_quality_output_acc: 0.5309 - val_age_output_acc: 0.3943 - val_weight_output_acc: 0.6127 - val_bag_output_acc: 0.6131 - val_footwear_output_acc: 0.6131 - val_pose_output_acc: 0.7333 - val_emotion_output_acc: 0.7072\n",
            "Epoch 94/100\n",
            "339/339 [==============================] - 158s 467ms/step - loss: 6.4544 - gender_output_loss: 0.3705 - image_quality_output_loss: 0.9185 - age_output_loss: 1.3297 - weight_output_loss: 0.8997 - bag_output_loss: 0.7948 - footwear_output_loss: 0.7748 - pose_output_loss: 0.5115 - emotion_output_loss: 0.8550 - gender_output_acc: 0.8362 - image_quality_output_acc: 0.5674 - age_output_acc: 0.4195 - weight_output_acc: 0.6499 - bag_output_acc: 0.6560 - footwear_output_acc: 0.6525 - pose_output_acc: 0.7952 - emotion_output_acc: 0.7107 - val_loss: 7.1705 - val_gender_output_loss: 0.5043 - val_image_quality_output_loss: 0.9785 - val_age_output_loss: 1.3985 - val_weight_output_loss: 0.9754 - val_bag_output_loss: 0.8809 - val_footwear_output_loss: 0.8885 - val_pose_output_loss: 0.6463 - val_emotion_output_loss: 0.8980 - val_gender_output_acc: 0.7481 - val_image_quality_output_acc: 0.5465 - val_age_output_acc: 0.3836 - val_weight_output_acc: 0.6138 - val_bag_output_acc: 0.6112 - val_footwear_output_acc: 0.6012 - val_pose_output_acc: 0.7333 - val_emotion_output_acc: 0.7072\n",
            "Epoch 95/100\n",
            "339/339 [==============================] - 158s 467ms/step - loss: 6.4451 - gender_output_loss: 0.3687 - image_quality_output_loss: 0.9125 - age_output_loss: 1.3288 - weight_output_loss: 0.9010 - bag_output_loss: 0.7893 - footwear_output_loss: 0.7775 - pose_output_loss: 0.5124 - emotion_output_loss: 0.8548 - gender_output_acc: 0.8349 - image_quality_output_acc: 0.5664 - age_output_acc: 0.4210 - weight_output_acc: 0.6562 - bag_output_acc: 0.6594 - footwear_output_acc: 0.6496 - pose_output_acc: 0.7959 - emotion_output_acc: 0.7130 - val_loss: 7.1599 - val_gender_output_loss: 0.5014 - val_image_quality_output_loss: 0.9687 - val_age_output_loss: 1.4040 - val_weight_output_loss: 0.9838 - val_bag_output_loss: 0.8739 - val_footwear_output_loss: 0.8801 - val_pose_output_loss: 0.6613 - val_emotion_output_loss: 0.8869 - val_gender_output_acc: 0.7515 - val_image_quality_output_acc: 0.5517 - val_age_output_acc: 0.3854 - val_weight_output_acc: 0.6135 - val_bag_output_acc: 0.6124 - val_footwear_output_acc: 0.6053 - val_pose_output_acc: 0.7258 - val_emotion_output_acc: 0.7072\n",
            "Epoch 96/100\n",
            "339/339 [==============================] - 159s 469ms/step - loss: 6.4281 - gender_output_loss: 0.3694 - image_quality_output_loss: 0.9102 - age_output_loss: 1.3277 - weight_output_loss: 0.8945 - bag_output_loss: 0.7861 - footwear_output_loss: 0.7761 - pose_output_loss: 0.5090 - emotion_output_loss: 0.8552 - gender_output_acc: 0.8311 - image_quality_output_acc: 0.5726 - age_output_acc: 0.4235 - weight_output_acc: 0.6562 - bag_output_acc: 0.6604 - footwear_output_acc: 0.6541 - pose_output_acc: 0.7967 - emotion_output_acc: 0.7124 - val_loss: 7.1866 - val_gender_output_loss: 0.5143 - val_image_quality_output_loss: 0.9664 - val_age_output_loss: 1.4005 - val_weight_output_loss: 0.9806 - val_bag_output_loss: 0.8864 - val_footwear_output_loss: 0.8837 - val_pose_output_loss: 0.6631 - val_emotion_output_loss: 0.8915 - val_gender_output_acc: 0.7370 - val_image_quality_output_acc: 0.5461 - val_age_output_acc: 0.3981 - val_weight_output_acc: 0.6135 - val_bag_output_acc: 0.5997 - val_footwear_output_acc: 0.6008 - val_pose_output_acc: 0.7266 - val_emotion_output_acc: 0.7072\n",
            "Epoch 97/100\n",
            "339/339 [==============================] - 158s 467ms/step - loss: 6.4365 - gender_output_loss: 0.3645 - image_quality_output_loss: 0.9116 - age_output_loss: 1.3309 - weight_output_loss: 0.8973 - bag_output_loss: 0.7818 - footwear_output_loss: 0.7769 - pose_output_loss: 0.5195 - emotion_output_loss: 0.8540 - gender_output_acc: 0.8396 - image_quality_output_acc: 0.5701 - age_output_acc: 0.4180 - weight_output_acc: 0.6573 - bag_output_acc: 0.6637 - footwear_output_acc: 0.6549 - pose_output_acc: 0.7922 - emotion_output_acc: 0.7124 - val_loss: 7.2118 - val_gender_output_loss: 0.4922 - val_image_quality_output_loss: 0.9506 - val_age_output_loss: 1.4024 - val_weight_output_loss: 0.9812 - val_bag_output_loss: 0.8889 - val_footwear_output_loss: 0.9178 - val_pose_output_loss: 0.6893 - val_emotion_output_loss: 0.8894 - val_gender_output_acc: 0.7589 - val_image_quality_output_acc: 0.5536 - val_age_output_acc: 0.3865 - val_weight_output_acc: 0.6142 - val_bag_output_acc: 0.6042 - val_footwear_output_acc: 0.5889 - val_pose_output_acc: 0.7020 - val_emotion_output_acc: 0.7072\n",
            "Epoch 98/100\n",
            "339/339 [==============================] - 159s 470ms/step - loss: 6.4161 - gender_output_loss: 0.3694 - image_quality_output_loss: 0.9114 - age_output_loss: 1.3260 - weight_output_loss: 0.9002 - bag_output_loss: 0.7764 - footwear_output_loss: 0.7757 - pose_output_loss: 0.5063 - emotion_output_loss: 0.8506 - gender_output_acc: 0.8342 - image_quality_output_acc: 0.5724 - age_output_acc: 0.4194 - weight_output_acc: 0.6515 - bag_output_acc: 0.6686 - footwear_output_acc: 0.6545 - pose_output_acc: 0.7950 - emotion_output_acc: 0.7127 - val_loss: 7.2238 - val_gender_output_loss: 0.5016 - val_image_quality_output_loss: 1.0211 - val_age_output_loss: 1.3966 - val_weight_output_loss: 0.9782 - val_bag_output_loss: 0.8882 - val_footwear_output_loss: 0.8737 - val_pose_output_loss: 0.6669 - val_emotion_output_loss: 0.8973 - val_gender_output_acc: 0.7593 - val_image_quality_output_acc: 0.5435 - val_age_output_acc: 0.3869 - val_weight_output_acc: 0.6150 - val_bag_output_acc: 0.5949 - val_footwear_output_acc: 0.6127 - val_pose_output_acc: 0.7228 - val_emotion_output_acc: 0.7072\n",
            "Epoch 99/100\n",
            "339/339 [==============================] - 158s 468ms/step - loss: 6.4382 - gender_output_loss: 0.3710 - image_quality_output_loss: 0.9149 - age_output_loss: 1.3311 - weight_output_loss: 0.8979 - bag_output_loss: 0.7825 - footwear_output_loss: 0.7778 - pose_output_loss: 0.5120 - emotion_output_loss: 0.8510 - gender_output_acc: 0.8331 - image_quality_output_acc: 0.5690 - age_output_acc: 0.4204 - weight_output_acc: 0.6524 - bag_output_acc: 0.6642 - footwear_output_acc: 0.6542 - pose_output_acc: 0.7934 - emotion_output_acc: 0.7124 - val_loss: 7.1807 - val_gender_output_loss: 0.4864 - val_image_quality_output_loss: 0.9781 - val_age_output_loss: 1.3913 - val_weight_output_loss: 0.9765 - val_bag_output_loss: 0.8921 - val_footwear_output_loss: 0.8819 - val_pose_output_loss: 0.6822 - val_emotion_output_loss: 0.8923 - val_gender_output_acc: 0.7630 - val_image_quality_output_acc: 0.5513 - val_age_output_acc: 0.4033 - val_weight_output_acc: 0.6135 - val_bag_output_acc: 0.6034 - val_footwear_output_acc: 0.6038 - val_pose_output_acc: 0.7102 - val_emotion_output_acc: 0.7072\n",
            "Epoch 100/100\n",
            "339/339 [==============================] - 158s 467ms/step - loss: 6.3898 - gender_output_loss: 0.3584 - image_quality_output_loss: 0.9059 - age_output_loss: 1.3229 - weight_output_loss: 0.8899 - bag_output_loss: 0.7821 - footwear_output_loss: 0.7837 - pose_output_loss: 0.4960 - emotion_output_loss: 0.8510 - gender_output_acc: 0.8434 - image_quality_output_acc: 0.5713 - age_output_acc: 0.4250 - weight_output_acc: 0.6552 - bag_output_acc: 0.6694 - footwear_output_acc: 0.6476 - pose_output_acc: 0.8039 - emotion_output_acc: 0.7130 - val_loss: 7.2389 - val_gender_output_loss: 0.5063 - val_image_quality_output_loss: 0.9879 - val_age_output_loss: 1.4034 - val_weight_output_loss: 0.9833 - val_bag_output_loss: 0.8917 - val_footwear_output_loss: 0.8917 - val_pose_output_loss: 0.6820 - val_emotion_output_loss: 0.8926 - val_gender_output_acc: 0.7470 - val_image_quality_output_acc: 0.5443 - val_age_output_acc: 0.3891 - val_weight_output_acc: 0.6131 - val_bag_output_acc: 0.5930 - val_footwear_output_acc: 0.5949 - val_pose_output_acc: 0.7195 - val_emotion_output_acc: 0.7072\n"
          ],
          "name": "stdout"
        },
        {
          "output_type": "execute_result",
          "data": {
            "text/plain": [
              "<keras.callbacks.History at 0x7f2b8bfe8f60>"
            ]
          },
          "metadata": {
            "tags": []
          },
          "execution_count": 15
        }
      ]
    },
    {
      "cell_type": "code",
      "metadata": {
        "id": "AemAWfUIEHlN",
        "colab_type": "code",
        "outputId": "8d03f574-5a1a-429e-da48-284b2ae6ffa1",
        "colab": {
          "base_uri": "https://localhost:8080/",
          "height": 323
        }
      },
      "source": [
        "results = model2.evaluate_generator(valid_gen,verbose=1)\n",
        "dict(zip(model2.metrics_names,results))"
      ],
      "execution_count": 0,
      "outputs": [
        {
          "output_type": "stream",
          "text": [
            "84/84 [==============================] - 29s 347ms/step\n"
          ],
          "name": "stdout"
        },
        {
          "output_type": "execute_result",
          "data": {
            "text/plain": [
              "{'age_output_acc': 0.38764880952380953,\n",
              " 'age_output_loss': 1.3999247877370744,\n",
              " 'bag_output_acc': 0.6000744047619048,\n",
              " 'bag_output_loss': 0.8945860344739187,\n",
              " 'emotion_output_acc': 0.7072172619047619,\n",
              " 'emotion_output_loss': 0.8955246284604073,\n",
              " 'footwear_output_acc': 0.6015625,\n",
              " 'footwear_output_loss': 0.8871597051620483,\n",
              " 'gender_output_acc': 0.7533482142857143,\n",
              " 'gender_output_loss': 0.5045456822429385,\n",
              " 'image_quality_output_acc': 0.5487351190476191,\n",
              " 'image_quality_output_loss': 0.9840448924473354,\n",
              " 'loss': 7.229524419421241,\n",
              " 'pose_output_acc': 0.7217261904761905,\n",
              " 'pose_output_loss': 0.6869065733182997,\n",
              " 'weight_output_acc': 0.6104910714285714,\n",
              " 'weight_output_loss': 0.9768321088382176}"
            ]
          },
          "metadata": {
            "tags": []
          },
          "execution_count": 16
        }
      ]
    },
    {
      "cell_type": "markdown",
      "metadata": {
        "id": "nZoV8Ls7lvbS",
        "colab_type": "text"
      },
      "source": [
        "***SAVING MODEL TO DRIVE***"
      ]
    },
    {
      "cell_type": "code",
      "metadata": {
        "id": "r_gf8OWAwfK4",
        "colab_type": "code",
        "colab": {}
      },
      "source": [
        "!pip install -U -q PyDrive\n",
        "from pydrive.auth import GoogleAuth\n",
        "from pydrive.drive import GoogleDrive \n",
        "from google.colab import auth \n",
        "from oauth2client.client import GoogleCredentials"
      ],
      "execution_count": 0,
      "outputs": []
    },
    {
      "cell_type": "code",
      "metadata": {
        "id": "hyiUnWtFwfIR",
        "colab_type": "code",
        "colab": {}
      },
      "source": [
        "auth.authenticate_user()\n",
        "gauth = GoogleAuth()\n",
        "gauth.credentials = GoogleCredentials.get_application_default()                       \n",
        "drive = GoogleDrive(gauth)"
      ],
      "execution_count": 0,
      "outputs": []
    },
    {
      "cell_type": "code",
      "metadata": {
        "id": "j9MM3qmZwfEx",
        "colab_type": "code",
        "colab": {}
      },
      "source": [
        "model2.save('model.h5')\n",
        "model_file = drive.CreateFile({'title' : 'model.h5'})                      \n",
        "model_file.SetContentFile('model.h5')                      \n",
        "model_file.Upload()"
      ],
      "execution_count": 0,
      "outputs": []
    },
    {
      "cell_type": "code",
      "metadata": {
        "id": "OymhKABcwfA8",
        "colab_type": "code",
        "outputId": "ab713180-92aa-4fb5-a570-054b31466ca5",
        "colab": {
          "base_uri": "https://localhost:8080/",
          "height": 34
        }
      },
      "source": [
        "# download to google drive                       \n",
        "drive.CreateFile({'id': model_file.get('id')})\n"
      ],
      "execution_count": 0,
      "outputs": [
        {
          "output_type": "execute_result",
          "data": {
            "text/plain": [
              "GoogleDriveFile({'id': '12oNjcP00gbNQdxetTHNzIWr23ulBeP73'})"
            ]
          },
          "metadata": {
            "tags": []
          },
          "execution_count": 22
        }
      ]
    },
    {
      "cell_type": "markdown",
      "metadata": {
        "id": "Gv8VSOoql1TG",
        "colab_type": "text"
      },
      "source": [
        "***LOADING THE MODEL BACK FROM DRIVE***"
      ]
    },
    {
      "cell_type": "code",
      "metadata": {
        "id": "TfrT7zj-we9b",
        "colab_type": "code",
        "colab": {}
      },
      "source": [
        "file_obj = drive.CreateFile({'id': '12oNjcP00gbNQdxetTHNzIWr23ulBeP73'})                       \n",
        "file_obj.GetContentFile('keras.h5')"
      ],
      "execution_count": 0,
      "outputs": []
    },
    {
      "cell_type": "code",
      "metadata": {
        "id": "TnuRUq43IuAU",
        "colab_type": "code",
        "outputId": "bc644c01-5f5f-4397-ff46-d2f7434c8be5",
        "colab": {
          "base_uri": "https://localhost:8080/",
          "height": 683
        }
      },
      "source": [
        "from keras.models import load_model\n",
        "# Assuming your model includes instance of an \"AttentionLayer\" class\n",
        "modelone = load_model('keras.h5')"
      ],
      "execution_count": 0,
      "outputs": [
        {
          "output_type": "stream",
          "text": [
            "WARNING:tensorflow:From /usr/local/lib/python3.6/dist-packages/keras/backend/tensorflow_backend.py:541: The name tf.placeholder is deprecated. Please use tf.compat.v1.placeholder instead.\n",
            "\n",
            "WARNING:tensorflow:From /usr/local/lib/python3.6/dist-packages/keras/backend/tensorflow_backend.py:4432: The name tf.random_uniform is deprecated. Please use tf.random.uniform instead.\n",
            "\n",
            "WARNING:tensorflow:From /usr/local/lib/python3.6/dist-packages/keras/backend/tensorflow_backend.py:66: The name tf.get_default_graph is deprecated. Please use tf.compat.v1.get_default_graph instead.\n",
            "\n",
            "WARNING:tensorflow:From /usr/local/lib/python3.6/dist-packages/keras/backend/tensorflow_backend.py:190: The name tf.get_default_session is deprecated. Please use tf.compat.v1.get_default_session instead.\n",
            "\n",
            "WARNING:tensorflow:From /usr/local/lib/python3.6/dist-packages/keras/backend/tensorflow_backend.py:197: The name tf.ConfigProto is deprecated. Please use tf.compat.v1.ConfigProto instead.\n",
            "\n",
            "WARNING:tensorflow:From /usr/local/lib/python3.6/dist-packages/keras/backend/tensorflow_backend.py:203: The name tf.Session is deprecated. Please use tf.compat.v1.Session instead.\n",
            "\n",
            "WARNING:tensorflow:From /usr/local/lib/python3.6/dist-packages/keras/backend/tensorflow_backend.py:207: The name tf.global_variables is deprecated. Please use tf.compat.v1.global_variables instead.\n",
            "\n",
            "WARNING:tensorflow:From /usr/local/lib/python3.6/dist-packages/keras/backend/tensorflow_backend.py:216: The name tf.is_variable_initialized is deprecated. Please use tf.compat.v1.is_variable_initialized instead.\n",
            "\n",
            "WARNING:tensorflow:From /usr/local/lib/python3.6/dist-packages/keras/backend/tensorflow_backend.py:223: The name tf.variables_initializer is deprecated. Please use tf.compat.v1.variables_initializer instead.\n",
            "\n",
            "WARNING:tensorflow:From /usr/local/lib/python3.6/dist-packages/keras/backend/tensorflow_backend.py:2041: The name tf.nn.fused_batch_norm is deprecated. Please use tf.compat.v1.nn.fused_batch_norm instead.\n",
            "\n",
            "WARNING:tensorflow:From /usr/local/lib/python3.6/dist-packages/keras/backend/tensorflow_backend.py:148: The name tf.placeholder_with_default is deprecated. Please use tf.compat.v1.placeholder_with_default instead.\n",
            "\n",
            "WARNING:tensorflow:From /usr/local/lib/python3.6/dist-packages/keras/backend/tensorflow_backend.py:3733: calling dropout (from tensorflow.python.ops.nn_ops) with keep_prob is deprecated and will be removed in a future version.\n",
            "Instructions for updating:\n",
            "Please use `rate` instead of `keep_prob`. Rate should be set to `rate = 1 - keep_prob`.\n",
            "WARNING:tensorflow:From /usr/local/lib/python3.6/dist-packages/keras/backend/tensorflow_backend.py:4267: The name tf.nn.max_pool is deprecated. Please use tf.nn.max_pool2d instead.\n",
            "\n",
            "WARNING:tensorflow:From /usr/local/lib/python3.6/dist-packages/keras/optimizers.py:793: The name tf.train.Optimizer is deprecated. Please use tf.compat.v1.train.Optimizer instead.\n",
            "\n",
            "WARNING:tensorflow:From /usr/local/lib/python3.6/dist-packages/keras/backend/tensorflow_backend.py:3576: The name tf.log is deprecated. Please use tf.math.log instead.\n",
            "\n",
            "WARNING:tensorflow:From /usr/local/lib/python3.6/dist-packages/tensorflow_core/python/ops/math_grad.py:1424: where (from tensorflow.python.ops.array_ops) is deprecated and will be removed in a future version.\n",
            "Instructions for updating:\n",
            "Use tf.where in 2.0, which has the same broadcast rule as np.where\n",
            "WARNING:tensorflow:From /usr/local/lib/python3.6/dist-packages/keras/backend/tensorflow_backend.py:1033: The name tf.assign_add is deprecated. Please use tf.compat.v1.assign_add instead.\n",
            "\n",
            "WARNING:tensorflow:From /usr/local/lib/python3.6/dist-packages/keras/backend/tensorflow_backend.py:1020: The name tf.assign is deprecated. Please use tf.compat.v1.assign instead.\n",
            "\n"
          ],
          "name": "stdout"
        }
      ]
    },
    {
      "cell_type": "code",
      "metadata": {
        "id": "DOjkGVqQJdEF",
        "colab_type": "code",
        "outputId": "eb578b4e-5e5b-4037-d15d-e8637ad998f6",
        "colab": {
          "base_uri": "https://localhost:8080/",
          "height": 1000
        }
      },
      "source": [
        "modelone.summary()"
      ],
      "execution_count": 0,
      "outputs": [
        {
          "output_type": "stream",
          "text": [
            "Model: \"model_1\"\n",
            "__________________________________________________________________________________________________\n",
            "Layer (type)                    Output Shape         Param #     Connected to                     \n",
            "==================================================================================================\n",
            "conv2d_1_input (InputLayer)     (None, 224, 224, 3)  0                                            \n",
            "__________________________________________________________________________________________________\n",
            "conv2d_1 (Conv2D)               (None, 222, 222, 32) 864         conv2d_1_input[0][0]             \n",
            "__________________________________________________________________________________________________\n",
            "batch_normalization_10 (BatchNo (None, 222, 222, 32) 128         conv2d_1[0][0]                   \n",
            "__________________________________________________________________________________________________\n",
            "dropout_7 (Dropout)             (None, 222, 222, 32) 0           batch_normalization_10[0][0]     \n",
            "__________________________________________________________________________________________________\n",
            "conv2d_2 (Conv2D)               (None, 220, 220, 32) 9216        dropout_7[0][0]                  \n",
            "__________________________________________________________________________________________________\n",
            "batch_normalization_11 (BatchNo (None, 220, 220, 32) 128         conv2d_2[0][0]                   \n",
            "__________________________________________________________________________________________________\n",
            "dropout_8 (Dropout)             (None, 220, 220, 32) 0           batch_normalization_11[0][0]     \n",
            "__________________________________________________________________________________________________\n",
            "max_pooling2d_5 (MaxPooling2D)  (None, 110, 110, 32) 0           dropout_8[0][0]                  \n",
            "__________________________________________________________________________________________________\n",
            "conv2d_3 (Conv2D)               (None, 110, 110, 10) 320         max_pooling2d_5[0][0]            \n",
            "__________________________________________________________________________________________________\n",
            "batch_normalization_12 (BatchNo (None, 110, 110, 10) 40          conv2d_3[0][0]                   \n",
            "__________________________________________________________________________________________________\n",
            "dropout_9 (Dropout)             (None, 110, 110, 10) 0           batch_normalization_12[0][0]     \n",
            "__________________________________________________________________________________________________\n",
            "conv2d_4 (Conv2D)               (None, 108, 108, 16) 1440        dropout_9[0][0]                  \n",
            "__________________________________________________________________________________________________\n",
            "batch_normalization_13 (BatchNo (None, 108, 108, 16) 64          conv2d_4[0][0]                   \n",
            "__________________________________________________________________________________________________\n",
            "dropout_10 (Dropout)            (None, 108, 108, 16) 0           batch_normalization_13[0][0]     \n",
            "__________________________________________________________________________________________________\n",
            "max_pooling2d_6 (MaxPooling2D)  (None, 54, 54, 16)   0           dropout_10[0][0]                 \n",
            "__________________________________________________________________________________________________\n",
            "conv2d_5 (Conv2D)               (None, 52, 52, 16)   2304        max_pooling2d_6[0][0]            \n",
            "__________________________________________________________________________________________________\n",
            "batch_normalization_14 (BatchNo (None, 52, 52, 16)   64          conv2d_5[0][0]                   \n",
            "__________________________________________________________________________________________________\n",
            "dropout_11 (Dropout)            (None, 52, 52, 16)   0           batch_normalization_14[0][0]     \n",
            "__________________________________________________________________________________________________\n",
            "conv2d_6 (Conv2D)               (None, 50, 50, 16)   2304        dropout_11[0][0]                 \n",
            "__________________________________________________________________________________________________\n",
            "batch_normalization_15 (BatchNo (None, 50, 50, 16)   64          conv2d_6[0][0]                   \n",
            "__________________________________________________________________________________________________\n",
            "dropout_12 (Dropout)            (None, 50, 50, 16)   0           batch_normalization_15[0][0]     \n",
            "__________________________________________________________________________________________________\n",
            "conv2d_7 (Conv2D)               (None, 48, 48, 20)   2880        dropout_12[0][0]                 \n",
            "__________________________________________________________________________________________________\n",
            "batch_normalization_16 (BatchNo (None, 48, 48, 20)   80          conv2d_7[0][0]                   \n",
            "__________________________________________________________________________________________________\n",
            "dropout_13 (Dropout)            (None, 48, 48, 20)   0           batch_normalization_16[0][0]     \n",
            "__________________________________________________________________________________________________\n",
            "max_pooling2d_7 (MaxPooling2D)  (None, 24, 24, 20)   0           dropout_13[0][0]                 \n",
            "__________________________________________________________________________________________________\n",
            "conv2d_8 (Conv2D)               (None, 24, 24, 10)   200         max_pooling2d_7[0][0]            \n",
            "__________________________________________________________________________________________________\n",
            "batch_normalization_17 (BatchNo (None, 24, 24, 10)   40          conv2d_8[0][0]                   \n",
            "__________________________________________________________________________________________________\n",
            "conv2d_9 (Conv2D)               (None, 22, 22, 16)   1440        batch_normalization_17[0][0]     \n",
            "__________________________________________________________________________________________________\n",
            "batch_normalization_18 (BatchNo (None, 22, 22, 16)   64          conv2d_9[0][0]                   \n",
            "__________________________________________________________________________________________________\n",
            "dropout_14 (Dropout)            (None, 22, 22, 16)   0           batch_normalization_18[0][0]     \n",
            "__________________________________________________________________________________________________\n",
            "conv2d_10 (Conv2D)              (None, 20, 20, 20)   2880        dropout_14[0][0]                 \n",
            "__________________________________________________________________________________________________\n",
            "batch_normalization_19 (BatchNo (None, 20, 20, 20)   80          conv2d_10[0][0]                  \n",
            "__________________________________________________________________________________________________\n",
            "dropout_15 (Dropout)            (None, 20, 20, 20)   0           batch_normalization_19[0][0]     \n",
            "__________________________________________________________________________________________________\n",
            "max_pooling2d_8 (MaxPooling2D)  (None, 10, 10, 20)   0           dropout_15[0][0]                 \n",
            "__________________________________________________________________________________________________\n",
            "conv2d_11 (Conv2D)              (None, 8, 8, 32)     5760        max_pooling2d_8[0][0]            \n",
            "__________________________________________________________________________________________________\n",
            "batch_normalization_20 (BatchNo (None, 8, 8, 32)     128         conv2d_11[0][0]                  \n",
            "__________________________________________________________________________________________________\n",
            "conv2d_12 (Conv2D)              (None, 6, 6, 64)     18432       batch_normalization_20[0][0]     \n",
            "__________________________________________________________________________________________________\n",
            "flatten (Flatten)               (None, 2304)         0           conv2d_12[0][0]                  \n",
            "__________________________________________________________________________________________________\n",
            "dense_1 (Dense)                 (None, 256)          590080      flatten[0][0]                    \n",
            "__________________________________________________________________________________________________\n",
            "dropout_16 (Dropout)            (None, 256)          0           dense_1[0][0]                    \n",
            "__________________________________________________________________________________________________\n",
            "dropout_18 (Dropout)            (None, 256)          0           dense_1[0][0]                    \n",
            "__________________________________________________________________________________________________\n",
            "dropout_20 (Dropout)            (None, 256)          0           dense_1[0][0]                    \n",
            "__________________________________________________________________________________________________\n",
            "dropout_22 (Dropout)            (None, 256)          0           dense_1[0][0]                    \n",
            "__________________________________________________________________________________________________\n",
            "dropout_24 (Dropout)            (None, 256)          0           dense_1[0][0]                    \n",
            "__________________________________________________________________________________________________\n",
            "dropout_26 (Dropout)            (None, 256)          0           dense_1[0][0]                    \n",
            "__________________________________________________________________________________________________\n",
            "dropout_30 (Dropout)            (None, 256)          0           dense_1[0][0]                    \n",
            "__________________________________________________________________________________________________\n",
            "dropout_28 (Dropout)            (None, 256)          0           dense_1[0][0]                    \n",
            "__________________________________________________________________________________________________\n",
            "dense_2 (Dense)                 (None, 128)          32896       dropout_16[0][0]                 \n",
            "__________________________________________________________________________________________________\n",
            "dense_4 (Dense)                 (None, 128)          32896       dropout_18[0][0]                 \n",
            "__________________________________________________________________________________________________\n",
            "dense_6 (Dense)                 (None, 128)          32896       dropout_20[0][0]                 \n",
            "__________________________________________________________________________________________________\n",
            "dense_8 (Dense)                 (None, 128)          32896       dropout_22[0][0]                 \n",
            "__________________________________________________________________________________________________\n",
            "dense_10 (Dense)                (None, 128)          32896       dropout_24[0][0]                 \n",
            "__________________________________________________________________________________________________\n",
            "dense_12 (Dense)                (None, 128)          32896       dropout_26[0][0]                 \n",
            "__________________________________________________________________________________________________\n",
            "dense_16 (Dense)                (None, 128)          32896       dropout_30[0][0]                 \n",
            "__________________________________________________________________________________________________\n",
            "dense_14 (Dense)                (None, 128)          32896       dropout_28[0][0]                 \n",
            "__________________________________________________________________________________________________\n",
            "dropout_17 (Dropout)            (None, 128)          0           dense_2[0][0]                    \n",
            "__________________________________________________________________________________________________\n",
            "dropout_19 (Dropout)            (None, 128)          0           dense_4[0][0]                    \n",
            "__________________________________________________________________________________________________\n",
            "dropout_21 (Dropout)            (None, 128)          0           dense_6[0][0]                    \n",
            "__________________________________________________________________________________________________\n",
            "dropout_23 (Dropout)            (None, 128)          0           dense_8[0][0]                    \n",
            "__________________________________________________________________________________________________\n",
            "dropout_25 (Dropout)            (None, 128)          0           dense_10[0][0]                   \n",
            "__________________________________________________________________________________________________\n",
            "dropout_27 (Dropout)            (None, 128)          0           dense_12[0][0]                   \n",
            "__________________________________________________________________________________________________\n",
            "dropout_31 (Dropout)            (None, 128)          0           dense_16[0][0]                   \n",
            "__________________________________________________________________________________________________\n",
            "dropout_29 (Dropout)            (None, 128)          0           dense_14[0][0]                   \n",
            "__________________________________________________________________________________________________\n",
            "dense_3 (Dense)                 (None, 128)          16512       dropout_17[0][0]                 \n",
            "__________________________________________________________________________________________________\n",
            "dense_5 (Dense)                 (None, 128)          16512       dropout_19[0][0]                 \n",
            "__________________________________________________________________________________________________\n",
            "dense_7 (Dense)                 (None, 128)          16512       dropout_21[0][0]                 \n",
            "__________________________________________________________________________________________________\n",
            "dense_9 (Dense)                 (None, 128)          16512       dropout_23[0][0]                 \n",
            "__________________________________________________________________________________________________\n",
            "dense_11 (Dense)                (None, 128)          16512       dropout_25[0][0]                 \n",
            "__________________________________________________________________________________________________\n",
            "dense_13 (Dense)                (None, 128)          16512       dropout_27[0][0]                 \n",
            "__________________________________________________________________________________________________\n",
            "dense_17 (Dense)                (None, 128)          16512       dropout_31[0][0]                 \n",
            "__________________________________________________________________________________________________\n",
            "dense_15 (Dense)                (None, 128)          16512       dropout_29[0][0]                 \n",
            "__________________________________________________________________________________________________\n",
            "gender_output (Dense)           (None, 2)            258         dense_3[0][0]                    \n",
            "__________________________________________________________________________________________________\n",
            "image_quality_output (Dense)    (None, 3)            387         dense_5[0][0]                    \n",
            "__________________________________________________________________________________________________\n",
            "age_output (Dense)              (None, 5)            645         dense_7[0][0]                    \n",
            "__________________________________________________________________________________________________\n",
            "weight_output (Dense)           (None, 4)            516         dense_9[0][0]                    \n",
            "__________________________________________________________________________________________________\n",
            "bag_output (Dense)              (None, 3)            387         dense_11[0][0]                   \n",
            "__________________________________________________________________________________________________\n",
            "footwear_output (Dense)         (None, 3)            387         dense_13[0][0]                   \n",
            "__________________________________________________________________________________________________\n",
            "pose_output (Dense)             (None, 3)            387         dense_17[0][0]                   \n",
            "__________________________________________________________________________________________________\n",
            "emotion_output (Dense)          (None, 4)            516         dense_15[0][0]                   \n",
            "==================================================================================================\n",
            "Total params: 1,037,747\n",
            "Trainable params: 1,037,307\n",
            "Non-trainable params: 440\n",
            "__________________________________________________________________________________________________\n"
          ],
          "name": "stdout"
        }
      ]
    },
    {
      "cell_type": "code",
      "metadata": {
        "id": "okDd-O4xKSD7",
        "colab_type": "code",
        "colab": {}
      },
      "source": [
        "opt = SGD(lr=0.01, momentum=0.9)\n",
        "modelone.compile(\n",
        "    optimizer=opt,\n",
        "    loss=\"categorical_crossentropy\", \n",
        "    # loss_weights=loss_weights, \n",
        "    metrics=[\"accuracy\"]\n",
        ")"
      ],
      "execution_count": 0,
      "outputs": []
    },
    {
      "cell_type": "code",
      "metadata": {
        "id": "XVP03mJkKV7z",
        "colab_type": "code",
        "outputId": "ae2f2ded-b342-4ec5-ad45-6fac90aa8b4a",
        "colab": {
          "base_uri": "https://localhost:8080/",
          "height": 1000
        }
      },
      "source": [
        "modelone.fit_generator(\n",
        "    generator=train_gen,\n",
        "    validation_data=valid_gen,\n",
        "    use_multiprocessing=True,\n",
        "    workers=4, \n",
        "    epochs=100,\n",
        "    verbose=1\n",
        "    #callbacks=callbacks\n",
        ")"
      ],
      "execution_count": 0,
      "outputs": [
        {
          "output_type": "stream",
          "text": [
            "Epoch 1/100\n",
            "360/360 [==============================] - 168s 466ms/step - loss: 6.6539 - gender_output_loss: 0.4153 - image_quality_output_loss: 0.9235 - age_output_loss: 1.3513 - weight_output_loss: 0.9258 - bag_output_loss: 0.8049 - footwear_output_loss: 0.8095 - pose_output_loss: 0.5621 - emotion_output_loss: 0.8616 - gender_output_acc: 0.8151 - image_quality_output_acc: 0.5594 - age_output_acc: 0.4123 - weight_output_acc: 0.6451 - bag_output_acc: 0.6466 - footwear_output_acc: 0.6394 - pose_output_acc: 0.7731 - emotion_output_acc: 0.7115 - val_loss: 6.8496 - val_gender_output_loss: 0.4469 - val_image_quality_output_loss: 0.9353 - val_age_output_loss: 1.3585 - val_weight_output_loss: 0.9099 - val_bag_output_loss: 0.8801 - val_footwear_output_loss: 0.8688 - val_pose_output_loss: 0.5774 - val_emotion_output_loss: 0.8728 - val_gender_output_acc: 0.7887 - val_image_quality_output_acc: 0.5625 - val_age_output_acc: 0.4072 - val_weight_output_acc: 0.6424 - val_bag_output_acc: 0.5977 - val_footwear_output_acc: 0.5883 - val_pose_output_acc: 0.7758 - val_emotion_output_acc: 0.7113\n",
            "Epoch 2/100\n",
            "360/360 [==============================] - 154s 428ms/step - loss: 6.6410 - gender_output_loss: 0.4114 - image_quality_output_loss: 0.9209 - age_output_loss: 1.3527 - weight_output_loss: 0.9259 - bag_output_loss: 0.8026 - footwear_output_loss: 0.8032 - pose_output_loss: 0.5604 - emotion_output_loss: 0.8638 - gender_output_acc: 0.8134 - image_quality_output_acc: 0.5662 - age_output_acc: 0.4124 - weight_output_acc: 0.6424 - bag_output_acc: 0.6516 - footwear_output_acc: 0.6411 - pose_output_acc: 0.7747 - emotion_output_acc: 0.7122 - val_loss: 6.7162 - val_gender_output_loss: 0.4305 - val_image_quality_output_loss: 0.9262 - val_age_output_loss: 1.3628 - val_weight_output_loss: 0.9005 - val_bag_output_loss: 0.8503 - val_footwear_output_loss: 0.8221 - val_pose_output_loss: 0.5557 - val_emotion_output_loss: 0.8682 - val_gender_output_acc: 0.8140 - val_image_quality_output_acc: 0.5575 - val_age_output_acc: 0.4013 - val_weight_output_acc: 0.6453 - val_bag_output_acc: 0.6250 - val_footwear_output_acc: 0.6364 - val_pose_output_acc: 0.7892 - val_emotion_output_acc: 0.7113\n",
            "Epoch 3/100\n",
            "360/360 [==============================] - 154s 429ms/step - loss: 6.6062 - gender_output_loss: 0.3968 - image_quality_output_loss: 0.9205 - age_output_loss: 1.3478 - weight_output_loss: 0.9246 - bag_output_loss: 0.8073 - footwear_output_loss: 0.8017 - pose_output_loss: 0.5463 - emotion_output_loss: 0.8613 - gender_output_acc: 0.8191 - image_quality_output_acc: 0.5661 - age_output_acc: 0.4105 - weight_output_acc: 0.6422 - bag_output_acc: 0.6481 - footwear_output_acc: 0.6476 - pose_output_acc: 0.7810 - emotion_output_acc: 0.7117 - val_loss: 6.7968 - val_gender_output_loss: 0.4504 - val_image_quality_output_loss: 0.9546 - val_age_output_loss: 1.3527 - val_weight_output_loss: 0.9001 - val_bag_output_loss: 0.8639 - val_footwear_output_loss: 0.8370 - val_pose_output_loss: 0.5724 - val_emotion_output_loss: 0.8656 - val_gender_output_acc: 0.7981 - val_image_quality_output_acc: 0.5729 - val_age_output_acc: 0.4028 - val_weight_output_acc: 0.6453 - val_bag_output_acc: 0.6052 - val_footwear_output_acc: 0.6275 - val_pose_output_acc: 0.7812 - val_emotion_output_acc: 0.7113\n",
            "Epoch 4/100\n",
            "360/360 [==============================] - 154s 428ms/step - loss: 6.6410 - gender_output_loss: 0.4114 - image_quality_output_loss: 0.9209 - age_output_loss: 1.3527 - weight_output_loss: 0.9259 - bag_output_loss: 0.8026 - footwear_output_loss: 0.8032 - pose_output_loss: 0.5604 - emotion_output_loss: 0.8638 - gender_output_acc: 0.8134 - image_quality_output_acc: 0.5662 - age_output_acc: 0.4124 - weight_output_acc: 0.6424 - bag_output_acc: 0.6516 - footwear_output_acc: 0.6411 - pose_output_acc: 0.7747 - emotion_output_acc: 0.7122 - val_loss: 6.7162 - val_gender_output_loss: 0.4305 - val_image_quality_output_loss: 0.9262 - val_age_output_loss: 1.3628 - val_weight_output_loss: 0.9005 - val_bag_output_loss: 0.8503 - val_footwear_output_loss: 0.8221 - val_pose_output_loss: 0.5557 - val_emotion_output_loss: 0.8682 - val_gender_output_acc: 0.8140 - val_image_quality_output_acc: 0.5575 - val_age_output_acc: 0.4013 - val_weight_output_acc: 0.6453 - val_bag_output_acc: 0.6250 - val_footwear_output_acc: 0.6364 - val_pose_output_acc: 0.7892 - val_emotion_output_acc: 0.7113\n",
            "360/360 [==============================] - 155s 429ms/step - loss: 6.6072 - gender_output_loss: 0.4045 - image_quality_output_loss: 0.9210 - age_output_loss: 1.3455 - weight_output_loss: 0.9282 - bag_output_loss: 0.8027 - footwear_output_loss: 0.7936 - pose_output_loss: 0.5522 - emotion_output_loss: 0.8595 - gender_output_acc: 0.8196 - image_quality_output_acc: 0.5628 - age_output_acc: 0.4170 - weight_output_acc: 0.6429 - bag_output_acc: 0.6554 - footwear_output_acc: 0.6466 - pose_output_acc: 0.7786 - emotion_output_acc: 0.7123 - val_loss: 6.7305 - val_gender_output_loss: 0.4254 - val_image_quality_output_loss: 0.9312 - val_age_output_loss: 1.3535 - val_weight_output_loss: 0.9088 - val_bag_output_loss: 0.8472 - val_footwear_output_loss: 0.8357 - val_pose_output_loss: 0.5604 - val_emotion_output_loss: 0.8684 - val_gender_output_acc: 0.8189 - val_image_quality_output_acc: 0.5580 - val_age_output_acc: 0.4048 - val_weight_output_acc: 0.6438 - val_bag_output_acc: 0.6225 - val_footwear_output_acc: 0.6319 - val_pose_output_acc: 0.7783 - val_emotion_output_acc: 0.7113\n",
            "Epoch 5/100\n",
            "360/360 [==============================] - 154s 429ms/step - loss: 6.5828 - gender_output_loss: 0.3953 - image_quality_output_loss: 0.9160 - age_output_loss: 1.3447 - weight_output_loss: 0.9237 - bag_output_loss: 0.7955 - footwear_output_loss: 0.7979 - pose_output_loss: 0.5494 - emotion_output_loss: 0.8602 - gender_output_acc: 0.8233 - image_quality_output_acc: 0.5672 - age_output_acc: 0.4198 - weight_output_acc: 0.6453 - bag_output_acc: 0.6549 - footwear_output_acc: 0.6464 - pose_output_acc: 0.7750 - emotion_output_acc: 0.7114 - val_loss: 6.7183 - val_gender_output_loss: 0.4240 - val_image_quality_output_loss: 0.9313 - val_age_output_loss: 1.3561 - val_weight_output_loss: 0.9102 - val_bag_output_loss: 0.8403 - val_footwear_output_loss: 0.8254 - val_pose_output_loss: 0.5628 - val_emotion_output_loss: 0.8684 - val_gender_output_acc: 0.8170 - val_image_quality_output_acc: 0.5546 - val_age_output_acc: 0.4072 - val_weight_output_acc: 0.6434 - val_bag_output_acc: 0.6339 - val_footwear_output_acc: 0.6354 - val_pose_output_acc: 0.7872 - val_emotion_output_acc: 0.7113\n",
            "Epoch 6/100\n",
            "360/360 [==============================] - 154s 428ms/step - loss: 6.5938 - gender_output_loss: 0.3926 - image_quality_output_loss: 0.9186 - age_output_loss: 1.3460 - weight_output_loss: 0.9247 - bag_output_loss: 0.8026 - footwear_output_loss: 0.8055 - pose_output_loss: 0.5450 - emotion_output_loss: 0.8588 - gender_output_acc: 0.8246 - image_quality_output_acc: 0.5662 - age_output_acc: 0.4141 - weight_output_acc: 0.6458 - bag_output_acc: 0.6492 - footwear_output_acc: 0.6388 - pose_output_acc: 0.7792 - emotion_output_acc: 0.7121 - val_loss: 6.7557 - val_gender_output_loss: 0.4129 - val_image_quality_output_loss: 0.9249 - val_age_output_loss: 1.3584 - val_weight_output_loss: 0.9084 - val_bag_output_loss: 0.8524 - val_footwear_output_loss: 0.8438 - val_pose_output_loss: 0.5862 - val_emotion_output_loss: 0.8688 - val_gender_output_acc: 0.8209 - val_image_quality_output_acc: 0.5605 - val_age_output_acc: 0.4003 - val_weight_output_acc: 0.6409 - val_bag_output_acc: 0.6136 - val_footwear_output_acc: 0.6285 - val_pose_output_acc: 0.7852 - val_emotion_output_acc: 0.7113\n",
            "Epoch 7/100\n",
            "360/360 [==============================] - 156s 433ms/step - loss: 6.5820 - gender_output_loss: 0.3987 - image_quality_output_loss: 0.9220 - age_output_loss: 1.3406 - weight_output_loss: 0.9176 - bag_output_loss: 0.7964 - footwear_output_loss: 0.8028 - pose_output_loss: 0.5445 - emotion_output_loss: 0.8594 - gender_output_acc: 0.8250 - image_quality_output_acc: 0.5613 - age_output_acc: 0.4183 - weight_output_acc: 0.6427 - bag_output_acc: 0.6572 - footwear_output_acc: 0.6457 - pose_output_acc: 0.7767 - emotion_output_acc: 0.7113 - val_loss: 6.9123 - val_gender_output_loss: 0.4669 - val_image_quality_output_loss: 0.9371 - val_age_output_loss: 1.3740 - val_weight_output_loss: 0.9166 - val_bag_output_loss: 0.8703 - val_footwear_output_loss: 0.8646 - val_pose_output_loss: 0.6072 - val_emotion_output_loss: 0.8755 - val_gender_output_acc: 0.7917 - val_image_quality_output_acc: 0.5511 - val_age_output_acc: 0.4028 - val_weight_output_acc: 0.6438 - val_bag_output_acc: 0.6047 - val_footwear_output_acc: 0.6205 - val_pose_output_acc: 0.7560 - val_emotion_output_acc: 0.7113\n",
            "Epoch 8/100\n",
            "360/360 [==============================] - 154s 429ms/step - loss: 6.5749 - gender_output_loss: 0.4002 - image_quality_output_loss: 0.9207 - age_output_loss: 1.3457 - weight_output_loss: 0.9141 - bag_output_loss: 0.7939 - footwear_output_loss: 0.7948 - pose_output_loss: 0.5470 - emotion_output_loss: 0.8585 - gender_output_acc: 0.8148 - image_quality_output_acc: 0.5629 - age_output_acc: 0.4141 - weight_output_acc: 0.6442 - bag_output_acc: 0.6561 - footwear_output_acc: 0.6425 - pose_output_acc: 0.7815 - emotion_output_acc: 0.7110 - val_loss: 6.8646 - val_gender_output_loss: 0.4563 - val_image_quality_output_loss: 0.9787 - val_age_output_loss: 1.3667 - val_weight_output_loss: 0.9162 - val_bag_output_loss: 0.8478 - val_footwear_output_loss: 0.8329 - val_pose_output_loss: 0.5899 - val_emotion_output_loss: 0.8761 - val_gender_output_acc: 0.7937 - val_image_quality_output_acc: 0.5595 - val_age_output_acc: 0.4003 - val_weight_output_acc: 0.6438 - val_bag_output_acc: 0.6195 - val_footwear_output_acc: 0.6275 - val_pose_output_acc: 0.7698 - val_emotion_output_acc: 0.7113\n",
            "Epoch 9/100\n",
            "360/360 [==============================] - 155s 430ms/step - loss: 6.5597 - gender_output_loss: 0.3952 - image_quality_output_loss: 0.9145 - age_output_loss: 1.3426 - weight_output_loss: 0.9211 - bag_output_loss: 0.7909 - footwear_output_loss: 0.8002 - pose_output_loss: 0.5362 - emotion_output_loss: 0.8589 - gender_output_acc: 0.8186 - image_quality_output_acc: 0.5645 - age_output_acc: 0.4183 - weight_output_acc: 0.6463 - bag_output_acc: 0.6622 - footwear_output_acc: 0.6483 - pose_output_acc: 0.7878 - emotion_output_acc: 0.7121 - val_loss: 6.8173 - val_gender_output_loss: 0.4542 - val_image_quality_output_loss: 0.9362 - val_age_output_loss: 1.3559 - val_weight_output_loss: 0.9110 - val_bag_output_loss: 0.8578 - val_footwear_output_loss: 0.8424 - val_pose_output_loss: 0.5887 - val_emotion_output_loss: 0.8711 - val_gender_output_acc: 0.7917 - val_image_quality_output_acc: 0.5521 - val_age_output_acc: 0.4097 - val_weight_output_acc: 0.6409 - val_bag_output_acc: 0.6195 - val_footwear_output_acc: 0.6235 - val_pose_output_acc: 0.7743 - val_emotion_output_acc: 0.7113\n",
            "Epoch 10/100\n",
            "360/360 [==============================] - 156s 432ms/step - loss: 6.5604 - gender_output_loss: 0.3961 - image_quality_output_loss: 0.9164 - age_output_loss: 1.3465 - weight_output_loss: 0.9144 - bag_output_loss: 0.7954 - footwear_output_loss: 0.7935 - pose_output_loss: 0.5394 - emotion_output_loss: 0.8588 - gender_output_acc: 0.8206 - image_quality_output_acc: 0.5652 - age_output_acc: 0.4150 - weight_output_acc: 0.6428 - bag_output_acc: 0.6562 - footwear_output_acc: 0.6439 - pose_output_acc: 0.7834 - emotion_output_acc: 0.7113 - val_loss: 6.9777 - val_gender_output_loss: 0.5022 - val_image_quality_output_loss: 0.9585 - val_age_output_loss: 1.3747 - val_weight_output_loss: 0.9282 - val_bag_output_loss: 0.8687 - val_footwear_output_loss: 0.8501 - val_pose_output_loss: 0.6202 - val_emotion_output_loss: 0.8751 - val_gender_output_acc: 0.7545 - val_image_quality_output_acc: 0.5585 - val_age_output_acc: 0.4028 - val_weight_output_acc: 0.6424 - val_bag_output_acc: 0.6136 - val_footwear_output_acc: 0.6121 - val_pose_output_acc: 0.7500 - val_emotion_output_acc: 0.7113\n",
            "Epoch 11/100\n",
            "Epoch 10/100\n",
            "360/360 [==============================] - 156s 434ms/step - loss: 6.5481 - gender_output_loss: 0.3918 - image_quality_output_loss: 0.9174 - age_output_loss: 1.3395 - weight_output_loss: 0.9160 - bag_output_loss: 0.7895 - footwear_output_loss: 0.7908 - pose_output_loss: 0.5455 - emotion_output_loss: 0.8575 - gender_output_acc: 0.8252 - image_quality_output_acc: 0.5627 - age_output_acc: 0.4135 - weight_output_acc: 0.6435 - bag_output_acc: 0.6609 - footwear_output_acc: 0.6493 - pose_output_acc: 0.7838 - emotion_output_acc: 0.7127 - val_loss: 6.8557 - val_gender_output_loss: 0.4642 - val_image_quality_output_loss: 0.9645 - val_age_output_loss: 1.3559 - val_weight_output_loss: 0.9110 - val_bag_output_loss: 0.8503 - val_footwear_output_loss: 0.8399 - val_pose_output_loss: 0.5960 - val_emotion_output_loss: 0.8738 - val_gender_output_acc: 0.7822 - val_image_quality_output_acc: 0.5645 - val_age_output_acc: 0.4043 - val_weight_output_acc: 0.6429 - val_bag_output_acc: 0.6161 - val_footwear_output_acc: 0.6324 - val_pose_output_acc: 0.7738 - val_emotion_output_acc: 0.7113\n",
            "Epoch 12/100\n",
            "360/360 [==============================] - 156s 434ms/step - loss: 6.5407 - gender_output_loss: 0.3984 - image_quality_output_loss: 0.9170 - age_output_loss: 1.3385 - weight_output_loss: 0.9127 - bag_output_loss: 0.7902 - footwear_output_loss: 0.7857 - pose_output_loss: 0.5397 - emotion_output_loss: 0.8585 - gender_output_acc: 0.8201 - image_quality_output_acc: 0.5662 - age_output_acc: 0.4194 - weight_output_acc: 0.6429 - bag_output_acc: 0.6580 - footwear_output_acc: 0.6479 - pose_output_acc: 0.7842 - emotion_output_acc: 0.7112 - val_loss: 6.8652 - val_gender_output_loss: 0.4694 - val_image_quality_output_loss: 0.9419 - val_age_output_loss: 1.3636 - val_weight_output_loss: 0.9231 - val_bag_output_loss: 0.8504 - val_footwear_output_loss: 0.8462 - val_pose_output_loss: 0.5988 - val_emotion_output_loss: 0.8719 - val_gender_output_acc: 0.7872 - val_image_quality_output_acc: 0.5605 - val_age_output_acc: 0.4048 - val_weight_output_acc: 0.6414 - val_bag_output_acc: 0.6136 - val_footwear_output_acc: 0.6151 - val_pose_output_acc: 0.7708 - val_emotion_output_acc: 0.7113\n",
            "Epoch 13/100\n",
            "360/360 [==============================] - 156s 434ms/step - loss: 6.5481 - gender_output_loss: 0.3918 - image_quality_output_loss: 0.9174 - age_output_loss: 1.3395 - weight_output_loss: 0.9160 - bag_output_loss: 0.7895 - footwear_output_loss: 0.7908 - pose_output_loss: 0.5455 - emotion_output_loss: 0.8575 - gender_output_acc: 0.8252 - image_quality_output_acc: 0.5627 - age_output_acc: 0.4135 - weight_output_acc: 0.6435 - bag_output_acc: 0.6609 - footwear_output_acc: 0.6493 - pose_output_acc: 0.7838 - emotion_output_acc: 0.7127 - val_loss: 6.8557 - val_gender_output_loss: 0.4642 - val_image_quality_output_loss: 0.9645 - val_age_output_loss: 1.3559 - val_weight_output_loss: 0.9110 - val_bag_output_loss: 0.8503 - val_footwear_output_loss: 0.8399 - val_pose_output_loss: 0.5960 - val_emotion_output_loss: 0.8738 - val_gender_output_acc: 0.7822 - val_image_quality_output_acc: 0.5645 - val_age_output_acc: 0.4043 - val_weight_output_acc: 0.6429 - val_bag_output_acc: 0.6161 - val_footwear_output_acc: 0.6324 - val_pose_output_acc: 0.7738 - val_emotion_output_acc: 0.7113\n",
            "360/360 [==============================] - 157s 436ms/step - loss: 6.5335 - gender_output_loss: 0.3907 - image_quality_output_loss: 0.9119 - age_output_loss: 1.3371 - weight_output_loss: 0.9179 - bag_output_loss: 0.7926 - footwear_output_loss: 0.7938 - pose_output_loss: 0.5312 - emotion_output_loss: 0.8584 - gender_output_acc: 0.8236 - image_quality_output_acc: 0.5658 - age_output_acc: 0.4192 - weight_output_acc: 0.6471 - bag_output_acc: 0.6589 - footwear_output_acc: 0.6446 - pose_output_acc: 0.7932 - emotion_output_acc: 0.7121 - val_loss: 6.8182 - val_gender_output_loss: 0.4803 - val_image_quality_output_loss: 0.9398 - val_age_output_loss: 1.3562 - val_weight_output_loss: 0.9064 - val_bag_output_loss: 0.8497 - val_footwear_output_loss: 0.8409 - val_pose_output_loss: 0.5712 - val_emotion_output_loss: 0.8737 - val_gender_output_acc: 0.7892 - val_image_quality_output_acc: 0.5575 - val_age_output_acc: 0.4008 - val_weight_output_acc: 0.6448 - val_bag_output_acc: 0.6190 - val_footwear_output_acc: 0.6344 - val_pose_output_acc: 0.7872 - val_emotion_output_acc: 0.7113\n",
            "Epoch 14/100\n",
            "360/360 [==============================] - 158s 438ms/step - loss: 6.5104 - gender_output_loss: 0.3790 - image_quality_output_loss: 0.9147 - age_output_loss: 1.3354 - weight_output_loss: 0.9164 - bag_output_loss: 0.7919 - footwear_output_loss: 0.7922 - pose_output_loss: 0.5273 - emotion_output_loss: 0.8536 - gender_output_acc: 0.8326 - image_quality_output_acc: 0.5669 - age_output_acc: 0.4188 - weight_output_acc: 0.6451 - bag_output_acc: 0.6585 - footwear_output_acc: 0.6456 - pose_output_acc: 0.7893 - emotion_output_acc: 0.7115 - val_loss: 6.8641 - val_gender_output_loss: 0.4703 - val_image_quality_output_loss: 0.9426 - val_age_output_loss: 1.3645 - val_weight_output_loss: 0.9169 - val_bag_output_loss: 0.8727 - val_footwear_output_loss: 0.8532 - val_pose_output_loss: 0.5698 - val_emotion_output_loss: 0.8742 - val_gender_output_acc: 0.7783 - val_image_quality_output_acc: 0.5620 - val_age_output_acc: 0.3938 - val_weight_output_acc: 0.6404 - val_bag_output_acc: 0.6141 - val_footwear_output_acc: 0.6200 - val_pose_output_acc: 0.7768 - val_emotion_output_acc: 0.7113\n",
            "Epoch 15/100\n",
            "360/360 [==============================] - 158s 438ms/step - loss: 6.5314 - gender_output_loss: 0.3876 - image_quality_output_loss: 0.9108 - age_output_loss: 1.3388 - weight_output_loss: 0.9177 - bag_output_loss: 0.7884 - footwear_output_loss: 0.7946 - pose_output_loss: 0.5372 - emotion_output_loss: 0.8562 - gender_output_acc: 0.8247 - image_quality_output_acc: 0.5732 - age_output_acc: 0.4156 - weight_output_acc: 0.6476 - bag_output_acc: 0.6601 - footwear_output_acc: 0.6409 - pose_output_acc: 0.7850 - emotion_output_acc: 0.7135 - val_loss: 6.9231 - val_gender_output_loss: 0.4888 - val_image_quality_output_loss: 0.9434 - val_age_output_loss: 1.3704 - val_weight_output_loss: 0.9171 - val_bag_output_loss: 0.8718 - val_footwear_output_loss: 0.8620 - val_pose_output_loss: 0.5966 - val_emotion_output_loss: 0.8729 - val_gender_output_acc: 0.7574 - val_image_quality_output_acc: 0.5600 - val_age_output_acc: 0.4082 - val_weight_output_acc: 0.6453 - val_bag_output_acc: 0.6017 - val_footwear_output_acc: 0.6181 - val_pose_output_acc: 0.7579 - val_emotion_output_acc: 0.7113\n",
            "Epoch 16/100\n",
            "360/360 [==============================] - 159s 441ms/step - loss: 6.5199 - gender_output_loss: 0.3882 - image_quality_output_loss: 0.9139 - age_output_loss: 1.3394 - weight_output_loss: 0.9129 - bag_output_loss: 0.7880 - footwear_output_loss: 0.7916 - pose_output_loss: 0.5281 - emotion_output_loss: 0.8577 - gender_output_acc: 0.8246 - image_quality_output_acc: 0.5649 - age_output_acc: 0.4168 - weight_output_acc: 0.6442 - bag_output_acc: 0.6602 - footwear_output_acc: 0.6465 - pose_output_acc: 0.7894 - emotion_output_acc: 0.7122 - val_loss: 6.7025 - val_gender_output_loss: 0.4207 - val_image_quality_output_loss: 0.9240 - val_age_output_loss: 1.3611 - val_weight_output_loss: 0.9011 - val_bag_output_loss: 0.8329 - val_footwear_output_loss: 0.8269 - val_pose_output_loss: 0.5609 - val_emotion_output_loss: 0.8749 - val_gender_output_acc: 0.8175 - val_image_quality_output_acc: 0.5551 - val_age_output_acc: 0.4092 - val_weight_output_acc: 0.6443 - val_bag_output_acc: 0.6354 - val_footwear_output_acc: 0.6379 - val_pose_output_acc: 0.7892 - val_emotion_output_acc: 0.7113\n",
            "Epoch 17/100\n",
            "360/360 [==============================] - 154s 429ms/step - loss: 6.5073 - gender_output_loss: 0.3843 - image_quality_output_loss: 0.9165 - age_output_loss: 1.3356 - weight_output_loss: 0.9147 - bag_output_loss: 0.7862 - footwear_output_loss: 0.7908 - pose_output_loss: 0.5247 - emotion_output_loss: 0.8545 - gender_output_acc: 0.8274 - image_quality_output_acc: 0.5614 - age_output_acc: 0.4162 - weight_output_acc: 0.6452 - bag_output_acc: 0.6671 - footwear_output_acc: 0.6470 - pose_output_acc: 0.7883 - emotion_output_acc: 0.7125 - val_loss: 6.8342 - val_gender_output_loss: 0.4208 - val_image_quality_output_loss: 1.0224 - val_age_output_loss: 1.3554 - val_weight_output_loss: 0.9095 - val_bag_output_loss: 0.8567 - val_footwear_output_loss: 0.8321 - val_pose_output_loss: 0.5642 - val_emotion_output_loss: 0.8730 - val_gender_output_acc: 0.8100 - val_image_quality_output_acc: 0.5228 - val_age_output_acc: 0.4112 - val_weight_output_acc: 0.6419 - val_bag_output_acc: 0.6166 - val_footwear_output_acc: 0.6305 - val_pose_output_acc: 0.7872 - val_emotion_output_acc: 0.7113\n",
            "Epoch 18/100\n",
            "360/360 [==============================] - 150s 418ms/step - loss: 6.5122 - gender_output_loss: 0.3836 - image_quality_output_loss: 0.9175 - age_output_loss: 1.3327 - weight_output_loss: 0.9136 - bag_output_loss: 0.7918 - footwear_output_loss: 0.7887 - pose_output_loss: 0.5277 - emotion_output_loss: 0.8566 - gender_output_acc: 0.8302 - image_quality_output_acc: 0.5658 - age_output_acc: 0.4187 - weight_output_acc: 0.6462 - bag_output_acc: 0.6559 - footwear_output_acc: 0.6468 - pose_output_acc: 0.7913 - emotion_output_acc: 0.7123 - val_loss: 6.9146 - val_gender_output_loss: 0.4653 - val_image_quality_output_loss: 0.9610 - val_age_output_loss: 1.3665 - val_weight_output_loss: 0.9198 - val_bag_output_loss: 0.8814 - val_footwear_output_loss: 0.8472 - val_pose_output_loss: 0.5956 - val_emotion_output_loss: 0.8778 - val_gender_output_acc: 0.7872 - val_image_quality_output_acc: 0.5575 - val_age_output_acc: 0.4048 - val_weight_output_acc: 0.6399 - val_bag_output_acc: 0.6121 - val_footwear_output_acc: 0.6210 - val_pose_output_acc: 0.7713 - val_emotion_output_acc: 0.7113\n",
            "Epoch 19/100\n",
            "360/360 [==============================] - 148s 411ms/step - loss: 6.4985 - gender_output_loss: 0.3804 - image_quality_output_loss: 0.9166 - age_output_loss: 1.3364 - weight_output_loss: 0.9118 - bag_output_loss: 0.7857 - footwear_output_loss: 0.7841 - pose_output_loss: 0.5260 - emotion_output_loss: 0.8574 - gender_output_acc: 0.8319 - image_quality_output_acc: 0.5668 - age_output_acc: 0.4178 - weight_output_acc: 0.6421 - bag_output_acc: 0.6599 - footwear_output_acc: 0.6490 - pose_output_acc: 0.7885 - emotion_output_acc: 0.7109 - val_loss: 6.9291 - val_gender_output_loss: 0.4473 - val_image_quality_output_loss: 0.9444 - val_age_output_loss: 1.3778 - val_weight_output_loss: 0.9112 - val_bag_output_loss: 0.8635 - val_footwear_output_loss: 0.8896 - val_pose_output_loss: 0.6147 - val_emotion_output_loss: 0.8806 - val_gender_output_acc: 0.7976 - val_image_quality_output_acc: 0.5526 - val_age_output_acc: 0.4067 - val_weight_output_acc: 0.6448 - val_bag_output_acc: 0.6131 - val_footwear_output_acc: 0.6057 - val_pose_output_acc: 0.7639 - val_emotion_output_acc: 0.7113\n",
            "Epoch 20/100\n",
            "\n",
            "360/360 [==============================] - 145s 404ms/step - loss: 6.4832 - gender_output_loss: 0.3774 - image_quality_output_loss: 0.9100 - age_output_loss: 1.3355 - weight_output_loss: 0.9138 - bag_output_loss: 0.7850 - footwear_output_loss: 0.7831 - pose_output_loss: 0.5222 - emotion_output_loss: 0.8562 - gender_output_acc: 0.8317 - image_quality_output_acc: 0.5696 - age_output_acc: 0.4191 - weight_output_acc: 0.6454 - bag_output_acc: 0.6651 - footwear_output_acc: 0.6512 - pose_output_acc: 0.7892 - emotion_output_acc: 0.7106 - val_loss: 6.7359 - val_gender_output_loss: 0.4289 - val_image_quality_output_loss: 0.9530 - val_age_output_loss: 1.3529 - val_weight_output_loss: 0.8979 - val_bag_output_loss: 0.8327 - val_footwear_output_loss: 0.8296 - val_pose_output_loss: 0.5691 - val_emotion_output_loss: 0.8718 - val_gender_output_acc: 0.8080 - val_image_quality_output_acc: 0.5709 - val_age_output_acc: 0.4082 - val_weight_output_acc: 0.6473 - val_bag_output_acc: 0.6324 - val_footwear_output_acc: 0.6275 - val_pose_output_acc: 0.7808 - val_emotion_output_acc: 0.7113\n",
            "Epoch 21/100\n",
            "360/360 [==============================] - 145s 402ms/step - loss: 6.4869 - gender_output_loss: 0.3861 - image_quality_output_loss: 0.9100 - age_output_loss: 1.3295 - weight_output_loss: 0.9104 - bag_output_loss: 0.7829 - footwear_output_loss: 0.7830 - pose_output_loss: 0.5269 - emotion_output_loss: 0.8581 - gender_output_acc: 0.8231 - image_quality_output_acc: 0.5662 - age_output_acc: 0.4232 - weight_output_acc: 0.6486 - bag_output_acc: 0.6634 - footwear_output_acc: 0.6523 - pose_output_acc: 0.7891 - emotion_output_acc: 0.7121 - val_loss: 6.9401 - val_gender_output_loss: 0.5050 - val_image_quality_output_loss: 0.9480 - val_age_output_loss: 1.3730 - val_weight_output_loss: 0.9154 - val_bag_output_loss: 0.8625 - val_footwear_output_loss: 0.8514 - val_pose_output_loss: 0.6114 - val_emotion_output_loss: 0.8734 - val_gender_output_acc: 0.7659 - val_image_quality_output_acc: 0.5635 - val_age_output_acc: 0.4018 - val_weight_output_acc: 0.6384 - val_bag_output_acc: 0.6062 - val_footwear_output_acc: 0.6240 - val_pose_output_acc: 0.7545 - val_emotion_output_acc: 0.7113\n",
            "Epoch 22/100\n",
            "360/360 [==============================] - 145s 404ms/step - loss: 6.4565 - gender_output_loss: 0.3724 - image_quality_output_loss: 0.9096 - age_output_loss: 1.3294 - weight_output_loss: 0.9078 - bag_output_loss: 0.7861 - footwear_output_loss: 0.7854 - pose_output_loss: 0.5131 - emotion_output_loss: 0.8526 - gender_output_acc: 0.8324 - image_quality_output_acc: 0.5681 - age_output_acc: 0.4215 - weight_output_acc: 0.6484 - bag_output_acc: 0.6590 - footwear_output_acc: 0.6530 - pose_output_acc: 0.7989 - emotion_output_acc: 0.7119 - val_loss: 6.8546 - val_gender_output_loss: 0.4403 - val_image_quality_output_loss: 0.9592 - val_age_output_loss: 1.3565 - val_weight_output_loss: 0.9136 - val_bag_output_loss: 0.8752 - val_footwear_output_loss: 0.8359 - val_pose_output_loss: 0.5971 - val_emotion_output_loss: 0.8767 - val_gender_output_acc: 0.8011 - val_image_quality_output_acc: 0.5655 - val_age_output_acc: 0.4092 - val_weight_output_acc: 0.6414 - val_bag_output_acc: 0.6027 - val_footwear_output_acc: 0.6295 - val_pose_output_acc: 0.7669 - val_emotion_output_acc: 0.7113\n",
            "Epoch 23/100\n",
            "360/360 [==============================] - 143s 398ms/step - loss: 6.4808 - gender_output_loss: 0.3835 - image_quality_output_loss: 0.9063 - age_output_loss: 1.3315 - weight_output_loss: 0.9101 - bag_output_loss: 0.7853 - footwear_output_loss: 0.7870 - pose_output_loss: 0.5215 - emotion_output_loss: 0.8558 - gender_output_acc: 0.8293 - image_quality_output_acc: 0.5667 - age_output_acc: 0.4241 - weight_output_acc: 0.6470 - bag_output_acc: 0.6655 - footwear_output_acc: 0.6470 - pose_output_acc: 0.7928 - emotion_output_acc: 0.7116 - val_loss: 7.0413 - val_gender_output_loss: 0.5100 - val_image_quality_output_loss: 0.9584 - val_age_output_loss: 1.3648 - val_weight_output_loss: 0.9112 - val_bag_output_loss: 0.9543 - val_footwear_output_loss: 0.8499 - val_pose_output_loss: 0.6157 - val_emotion_output_loss: 0.8772 - val_gender_output_acc: 0.7421 - val_image_quality_output_acc: 0.5670 - val_age_output_acc: 0.4092 - val_weight_output_acc: 0.6429 - val_bag_output_acc: 0.5699 - val_footwear_output_acc: 0.6195 - val_pose_output_acc: 0.7475 - val_emotion_output_acc: 0.7113\n",
            "Epoch 24/100\n",
            "360/360 [==============================] - 144s 401ms/step - loss: 6.4708 - gender_output_loss: 0.3840 - image_quality_output_loss: 0.9059 - age_output_loss: 1.3297 - weight_output_loss: 0.9122 - bag_output_loss: 0.7848 - footwear_output_loss: 0.7807 - pose_output_loss: 0.5187 - emotion_output_loss: 0.8547 - gender_output_acc: 0.8251 - image_quality_output_acc: 0.5723 - age_output_acc: 0.4226 - weight_output_acc: 0.6443 - bag_output_acc: 0.6622 - footwear_output_acc: 0.6521 - pose_output_acc: 0.7926 - emotion_output_acc: 0.7128 - val_loss: 6.9499 - val_gender_output_loss: 0.5249 - val_image_quality_output_loss: 0.9450 - val_age_output_loss: 1.3611 - val_weight_output_loss: 0.9071 - val_bag_output_loss: 0.8661 - val_footwear_output_loss: 0.8781 - val_pose_output_loss: 0.5896 - val_emotion_output_loss: 0.8780 - val_gender_output_acc: 0.7381 - val_image_quality_output_acc: 0.5546 - val_age_output_acc: 0.4107 - val_weight_output_acc: 0.6429 - val_bag_output_acc: 0.6220 - val_footwear_output_acc: 0.5962 - val_pose_output_acc: 0.7659 - val_emotion_output_acc: 0.7113\n",
            "Epoch 25/100\n",
            "360/360 [==============================] - 144s 401ms/step - loss: 6.4760 - gender_output_loss: 0.3765 - image_quality_output_loss: 0.9105 - age_output_loss: 1.3336 - weight_output_loss: 0.9092 - bag_output_loss: 0.7825 - footwear_output_loss: 0.7849 - pose_output_loss: 0.5256 - emotion_output_loss: 0.8532 - gender_output_acc: 0.8314 - image_quality_output_acc: 0.5696 - age_output_acc: 0.4242 - weight_output_acc: 0.6475 - bag_output_acc: 0.6653 - footwear_output_acc: 0.6473 - pose_output_acc: 0.7911 - emotion_output_acc: 0.7117 - val_loss: 6.9199 - val_gender_output_loss: 0.4662 - val_image_quality_output_loss: 0.9920 - val_age_output_loss: 1.3683 - val_weight_output_loss: 0.9122 - val_bag_output_loss: 0.8737 - val_footwear_output_loss: 0.8471 - val_pose_output_loss: 0.5830 - val_emotion_output_loss: 0.8774 - val_gender_output_acc: 0.7753 - val_image_quality_output_acc: 0.5630 - val_age_output_acc: 0.4008 - val_weight_output_acc: 0.6443 - val_bag_output_acc: 0.6076 - val_footwear_output_acc: 0.6156 - val_pose_output_acc: 0.7693 - val_emotion_output_acc: 0.7113\n",
            "Epoch 26/100\n",
            "360/360 [==============================] - 146s 405ms/step - loss: 6.4506 - gender_output_loss: 0.3741 - image_quality_output_loss: 0.9065 - age_output_loss: 1.3302 - weight_output_loss: 0.9079 - bag_output_loss: 0.7825 - footwear_output_loss: 0.7847 - pose_output_loss: 0.5132 - emotion_output_loss: 0.8514 - gender_output_acc: 0.8353 - image_quality_output_acc: 0.5669 - age_output_acc: 0.4187 - weight_output_acc: 0.6407 - bag_output_acc: 0.6682 - footwear_output_acc: 0.6489 - pose_output_acc: 0.7957 - emotion_output_acc: 0.7119 - val_loss: 6.8516 - val_gender_output_loss: 0.4487 - val_image_quality_output_loss: 0.9417 - val_age_output_loss: 1.3646 - val_weight_output_loss: 0.9203 - val_bag_output_loss: 0.8552 - val_footwear_output_loss: 0.8621 - val_pose_output_loss: 0.5848 - val_emotion_output_loss: 0.8742 - val_gender_output_acc: 0.7966 - val_image_quality_output_acc: 0.5561 - val_age_output_acc: 0.3993 - val_weight_output_acc: 0.6429 - val_bag_output_acc: 0.6240 - val_footwear_output_acc: 0.6116 - val_pose_output_acc: 0.7698 - val_emotion_output_acc: 0.7113\n",
            "Epoch 27/100\n",
            "360/360 [==============================] - 145s 402ms/step - loss: 6.4377 - gender_output_loss: 0.3707 - image_quality_output_loss: 0.9097 - age_output_loss: 1.3384 - weight_output_loss: 0.9057 - bag_output_loss: 0.7804 - footwear_output_loss: 0.7754 - pose_output_loss: 0.5113 - emotion_output_loss: 0.8460 - gender_output_acc: 0.8317 - image_quality_output_acc: 0.5676 - age_output_acc: 0.4196 - weight_output_acc: 0.6481 - bag_output_acc: 0.6680 - footwear_output_acc: 0.6562 - pose_output_acc: 0.7931 - emotion_output_acc: 0.7121 - val_loss: 6.8313 - val_gender_output_loss: 0.4857 - val_image_quality_output_loss: 0.9377 - val_age_output_loss: 1.3654 - val_weight_output_loss: 0.9099 - val_bag_output_loss: 0.8430 - val_footwear_output_loss: 0.8405 - val_pose_output_loss: 0.5767 - val_emotion_output_loss: 0.8723 - val_gender_output_acc: 0.7684 - val_image_quality_output_acc: 0.5635 - val_age_output_acc: 0.4033 - val_weight_output_acc: 0.6448 - val_bag_output_acc: 0.6334 - val_footwear_output_acc: 0.6205 - val_pose_output_acc: 0.7728 - val_emotion_output_acc: 0.7113\n",
            "Epoch 28/100\n",
            "360/360 [==============================] - 146s 406ms/step - loss: 6.4539 - gender_output_loss: 0.3792 - image_quality_output_loss: 0.9065 - age_output_loss: 1.3306 - weight_output_loss: 0.9069 - bag_output_loss: 0.7815 - footwear_output_loss: 0.7810 - pose_output_loss: 0.5171 - emotion_output_loss: 0.8511 - gender_output_acc: 0.8310 - image_quality_output_acc: 0.5697 - age_output_acc: 0.4231 - weight_output_acc: 0.6457 - bag_output_acc: 0.6707 - footwear_output_acc: 0.6494 - pose_output_acc: 0.7910 - emotion_output_acc: 0.7115 - val_loss: 6.9928 - val_gender_output_loss: 0.4615 - val_image_quality_output_loss: 1.0646 - val_age_output_loss: 1.3617 - val_weight_output_loss: 0.9073 - val_bag_output_loss: 0.8572 - val_footwear_output_loss: 0.8533 - val_pose_output_loss: 0.6073 - val_emotion_output_loss: 0.8799 - val_gender_output_acc: 0.7748 - val_image_quality_output_acc: 0.5283 - val_age_output_acc: 0.4033 - val_weight_output_acc: 0.6488 - val_bag_output_acc: 0.6146 - val_footwear_output_acc: 0.6101 - val_pose_output_acc: 0.7713 - val_emotion_output_acc: 0.7113\n",
            "Epoch 29/100\n",
            "360/360 [==============================] - 144s 401ms/step - loss: 6.4250 - gender_output_loss: 0.3743 - image_quality_output_loss: 0.9034 - age_output_loss: 1.3269 - weight_output_loss: 0.9023 - bag_output_loss: 0.7827 - footwear_output_loss: 0.7772 - pose_output_loss: 0.5081 - emotion_output_loss: 0.8502 - gender_output_acc: 0.8294 - image_quality_output_acc: 0.5742 - age_output_acc: 0.4217 - weight_output_acc: 0.6476 - bag_output_acc: 0.6624 - footwear_output_acc: 0.6498 - pose_output_acc: 0.7961 - emotion_output_acc: 0.7130 - val_loss: 7.0546 - val_gender_output_loss: 0.4682 - val_image_quality_output_loss: 1.1420 - val_age_output_loss: 1.3552 - val_weight_output_loss: 0.9133 - val_bag_output_loss: 0.8620 - val_footwear_output_loss: 0.8489 - val_pose_output_loss: 0.5889 - val_emotion_output_loss: 0.8763 - val_gender_output_acc: 0.7723 - val_image_quality_output_acc: 0.4891 - val_age_output_acc: 0.4058 - val_weight_output_acc: 0.6438 - val_bag_output_acc: 0.6012 - val_footwear_output_acc: 0.6181 - val_pose_output_acc: 0.7688 - val_emotion_output_acc: 0.7113\n",
            "Epoch 30/100\n",
            "360/360 [==============================] - 144s 401ms/step - loss: 6.4134 - gender_output_loss: 0.3715 - image_quality_output_loss: 0.9066 - age_output_loss: 1.3246 - weight_output_loss: 0.9002 - bag_output_loss: 0.7806 - footwear_output_loss: 0.7766 - pose_output_loss: 0.5039 - emotion_output_loss: 0.8494 - gender_output_acc: 0.8332 - image_quality_output_acc: 0.5707 - age_output_acc: 0.4245 - weight_output_acc: 0.6503 - bag_output_acc: 0.6661 - footwear_output_acc: 0.6557 - pose_output_acc: 0.8003 - emotion_output_acc: 0.7129 - val_loss: 6.8558 - val_gender_output_loss: 0.4532 - val_image_quality_output_loss: 0.9390 - val_age_output_loss: 1.3616 - val_weight_output_loss: 0.9085 - val_bag_output_loss: 0.8723 - val_footwear_output_loss: 0.8532 - val_pose_output_loss: 0.5938 - val_emotion_output_loss: 0.8742 - val_gender_output_acc: 0.7783 - val_image_quality_output_acc: 0.5595 - val_age_output_acc: 0.4028 - val_weight_output_acc: 0.6463 - val_bag_output_acc: 0.5997 - val_footwear_output_acc: 0.6181 - val_pose_output_acc: 0.7679 - val_emotion_output_acc: 0.7118\n",
            "Epoch 31/100\n",
            "360/360 [==============================] - 147s 407ms/step - loss: 6.4292 - gender_output_loss: 0.3714 - image_quality_output_loss: 0.8991 - age_output_loss: 1.3316 - weight_output_loss: 0.9062 - bag_output_loss: 0.7781 - footwear_output_loss: 0.7795 - pose_output_loss: 0.5117 - emotion_output_loss: 0.8517 - gender_output_acc: 0.8350 - image_quality_output_acc: 0.5730 - age_output_acc: 0.4172 - weight_output_acc: 0.6491 - bag_output_acc: 0.6701 - footwear_output_acc: 0.6493 - pose_output_acc: 0.7984 - emotion_output_acc: 0.7126 - val_loss: 6.8624 - val_gender_output_loss: 0.4366 - val_image_quality_output_loss: 0.9815 - val_age_output_loss: 1.3624 - val_weight_output_loss: 0.9115 - val_bag_output_loss: 0.8804 - val_footwear_output_loss: 0.8422 - val_pose_output_loss: 0.5768 - val_emotion_output_loss: 0.8710 - val_gender_output_acc: 0.8011 - val_image_quality_output_acc: 0.5625 - val_age_output_acc: 0.4008 - val_weight_output_acc: 0.6448 - val_bag_output_acc: 0.5933 - val_footwear_output_acc: 0.6176 - val_pose_output_acc: 0.7887 - val_emotion_output_acc: 0.7113\n",
            "Epoch 32/100\n",
            "360/360 [==============================] - 148s 411ms/step - loss: 6.4208 - gender_output_loss: 0.3762 - image_quality_output_loss: 0.9051 - age_output_loss: 1.3245 - weight_output_loss: 0.9047 - bag_output_loss: 0.7680 - footwear_output_loss: 0.7808 - pose_output_loss: 0.5127 - emotion_output_loss: 0.8488 - gender_output_acc: 0.8328 - image_quality_output_acc: 0.5705 - age_output_acc: 0.4206 - weight_output_acc: 0.6477 - bag_output_acc: 0.6754 - footwear_output_acc: 0.6558 - pose_output_acc: 0.7957 - emotion_output_acc: 0.7125 - val_loss: 6.9648 - val_gender_output_loss: 0.4876 - val_image_quality_output_loss: 0.9973 - val_age_output_loss: 1.3636 - val_weight_output_loss: 0.9065 - val_bag_output_loss: 0.8648 - val_footwear_output_loss: 0.8645 - val_pose_output_loss: 0.6026 - val_emotion_output_loss: 0.8778 - val_gender_output_acc: 0.7728 - val_image_quality_output_acc: 0.5650 - val_age_output_acc: 0.4067 - val_weight_output_acc: 0.6473 - val_bag_output_acc: 0.6136 - val_footwear_output_acc: 0.6176 - val_pose_output_acc: 0.7698 - val_emotion_output_acc: 0.7113\n",
            "Epoch 33/100\n",
            "360/360 [==============================] - 148s 411ms/step - loss: 6.4316 - gender_output_loss: 0.3714 - image_quality_output_loss: 0.9064 - age_output_loss: 1.3260 - weight_output_loss: 0.9070 - bag_output_loss: 0.7798 - footwear_output_loss: 0.7743 - pose_output_loss: 0.5127 - emotion_output_loss: 0.8541 - gender_output_acc: 0.8363 - image_quality_output_acc: 0.5704 - age_output_acc: 0.4225 - weight_output_acc: 0.6484 - bag_output_acc: 0.6710 - footwear_output_acc: 0.6525 - pose_output_acc: 0.7999 - emotion_output_acc: 0.7113 - val_loss: 6.8630 - val_gender_output_loss: 0.4547 - val_image_quality_output_loss: 0.9628 - val_age_output_loss: 1.3605 - val_weight_output_loss: 0.9109 - val_bag_output_loss: 0.8704 - val_footwear_output_loss: 0.8464 - val_pose_output_loss: 0.5840 - val_emotion_output_loss: 0.8732 - val_gender_output_acc: 0.7937 - val_image_quality_output_acc: 0.5640 - val_age_output_acc: 0.4107 - val_weight_output_acc: 0.6409 - val_bag_output_acc: 0.6047 - val_footwear_output_acc: 0.6225 - val_pose_output_acc: 0.7693 - val_emotion_output_acc: 0.7113\n",
            "Epoch 34/100\n",
            "360/360 [==============================] - 147s 409ms/step - loss: 6.4081 - gender_output_loss: 0.3657 - image_quality_output_loss: 0.9018 - age_output_loss: 1.3260 - weight_output_loss: 0.9050 - bag_output_loss: 0.7771 - footwear_output_loss: 0.7821 - pose_output_loss: 0.5007 - emotion_output_loss: 0.8497 - gender_output_acc: 0.8399 - image_quality_output_acc: 0.5756 - age_output_acc: 0.4247 - weight_output_acc: 0.6432 - bag_output_acc: 0.6667 - footwear_output_acc: 0.6558 - pose_output_acc: 0.7997 - emotion_output_acc: 0.7127 - val_loss: 6.7152 - val_gender_output_loss: 0.4158 - val_image_quality_output_loss: 0.9338 - val_age_output_loss: 1.3545 - val_weight_output_loss: 0.9096 - val_bag_output_loss: 0.8345 - val_footwear_output_loss: 0.8294 - val_pose_output_loss: 0.5639 - val_emotion_output_loss: 0.8737 - val_gender_output_acc: 0.8090 - val_image_quality_output_acc: 0.5660 - val_age_output_acc: 0.3993 - val_weight_output_acc: 0.6409 - val_bag_output_acc: 0.6409 - val_footwear_output_acc: 0.6339 - val_pose_output_acc: 0.7847 - val_emotion_output_acc: 0.7118\n",
            "Epoch 35/100\n",
            "\n",
            "360/360 [==============================] - 148s 411ms/step - loss: 6.4032 - gender_output_loss: 0.3633 - image_quality_output_loss: 0.9043 - age_output_loss: 1.3245 - weight_output_loss: 0.9002 - bag_output_loss: 0.7801 - footwear_output_loss: 0.7798 - pose_output_loss: 0.5025 - emotion_output_loss: 0.8485 - gender_output_acc: 0.8394 - image_quality_output_acc: 0.5688 - age_output_acc: 0.4284 - weight_output_acc: 0.6470 - bag_output_acc: 0.6628 - footwear_output_acc: 0.6533 - pose_output_acc: 0.7986 - emotion_output_acc: 0.7115 - val_loss: 6.8596 - val_gender_output_loss: 0.4465 - val_image_quality_output_loss: 0.9936 - val_age_output_loss: 1.3624 - val_weight_output_loss: 0.9161 - val_bag_output_loss: 0.8461 - val_footwear_output_loss: 0.8509 - val_pose_output_loss: 0.5734 - val_emotion_output_loss: 0.8707 - val_gender_output_acc: 0.7991 - val_image_quality_output_acc: 0.5570 - val_age_output_acc: 0.4023 - val_weight_output_acc: 0.6414 - val_bag_output_acc: 0.6334 - val_footwear_output_acc: 0.6166 - val_pose_output_acc: 0.7743 - val_emotion_output_acc: 0.7113\n",
            "Epoch 36/100\n",
            "360/360 [==============================] - 145s 404ms/step - loss: 6.4062 - gender_output_loss: 0.3682 - image_quality_output_loss: 0.9037 - age_output_loss: 1.3212 - weight_output_loss: 0.9083 - bag_output_loss: 0.7751 - footwear_output_loss: 0.7724 - pose_output_loss: 0.5100 - emotion_output_loss: 0.8474 - gender_output_acc: 0.8362 - image_quality_output_acc: 0.5746 - age_output_acc: 0.4266 - weight_output_acc: 0.6464 - bag_output_acc: 0.6739 - footwear_output_acc: 0.6540 - pose_output_acc: 0.7970 - emotion_output_acc: 0.7124 - val_loss: 6.9024 - val_gender_output_loss: 0.4631 - val_image_quality_output_loss: 0.9457 - val_age_output_loss: 1.3709 - val_weight_output_loss: 0.9238 - val_bag_output_loss: 0.8637 - val_footwear_output_loss: 0.8623 - val_pose_output_loss: 0.5925 - val_emotion_output_loss: 0.8805 - val_gender_output_acc: 0.7758 - val_image_quality_output_acc: 0.5600 - val_age_output_acc: 0.3973 - val_weight_output_acc: 0.6438 - val_bag_output_acc: 0.6062 - val_footwear_output_acc: 0.6171 - val_pose_output_acc: 0.7758 - val_emotion_output_acc: 0.7113\n",
            "Epoch 37/100\n",
            "360/360 [==============================] - 148s 410ms/step - loss: 6.3937 - gender_output_loss: 0.3669 - image_quality_output_loss: 0.9017 - age_output_loss: 1.3213 - weight_output_loss: 0.9045 - bag_output_loss: 0.7774 - footwear_output_loss: 0.7762 - pose_output_loss: 0.4959 - emotion_output_loss: 0.8496 - gender_output_acc: 0.8391 - image_quality_output_acc: 0.5713 - age_output_acc: 0.4253 - weight_output_acc: 0.6477 - bag_output_acc: 0.6681 - footwear_output_acc: 0.6521 - pose_output_acc: 0.8007 - emotion_output_acc: 0.7137 - val_loss: 6.8967 - val_gender_output_loss: 0.4794 - val_image_quality_output_loss: 0.9493 - val_age_output_loss: 1.3718 - val_weight_output_loss: 0.9167 - val_bag_output_loss: 0.8620 - val_footwear_output_loss: 0.8372 - val_pose_output_loss: 0.6035 - val_emotion_output_loss: 0.8768 - val_gender_output_acc: 0.7733 - val_image_quality_output_acc: 0.5541 - val_age_output_acc: 0.4003 - val_weight_output_acc: 0.6443 - val_bag_output_acc: 0.6210 - val_footwear_output_acc: 0.6230 - val_pose_output_acc: 0.7619 - val_emotion_output_acc: 0.7113\n",
            "Epoch 38/100\n",
            "360/360 [==============================] - 148s 410ms/step - loss: 6.3899 - gender_output_loss: 0.3652 - image_quality_output_loss: 0.9033 - age_output_loss: 1.3233 - weight_output_loss: 0.8985 - bag_output_loss: 0.7763 - footwear_output_loss: 0.7739 - pose_output_loss: 0.5006 - emotion_output_loss: 0.8488 - gender_output_acc: 0.8398 - image_quality_output_acc: 0.5754 - age_output_acc: 0.4220 - weight_output_acc: 0.6473 - bag_output_acc: 0.6664 - footwear_output_acc: 0.6566 - pose_output_acc: 0.8022 - emotion_output_acc: 0.7120 - val_loss: 6.7755 - val_gender_output_loss: 0.4210 - val_image_quality_output_loss: 0.9384 - val_age_output_loss: 1.3640 - val_weight_output_loss: 0.9055 - val_bag_output_loss: 0.8643 - val_footwear_output_loss: 0.8347 - val_pose_output_loss: 0.5796 - val_emotion_output_loss: 0.8679 - val_gender_output_acc: 0.8070 - val_image_quality_output_acc: 0.5620 - val_age_output_acc: 0.4008 - val_weight_output_acc: 0.6448 - val_bag_output_acc: 0.6131 - val_footwear_output_acc: 0.6300 - val_pose_output_acc: 0.7758 - val_emotion_output_acc: 0.7118\n",
            "Epoch 39/100\n",
            "360/360 [==============================] - 149s 414ms/step - loss: 6.3762 - gender_output_loss: 0.3599 - image_quality_output_loss: 0.9001 - age_output_loss: 1.3166 - weight_output_loss: 0.9014 - bag_output_loss: 0.7746 - footwear_output_loss: 0.7719 - pose_output_loss: 0.5066 - emotion_output_loss: 0.8451 - gender_output_acc: 0.8374 - image_quality_output_acc: 0.5724 - age_output_acc: 0.4269 - weight_output_acc: 0.6478 - bag_output_acc: 0.6713 - footwear_output_acc: 0.6600 - pose_output_acc: 0.7984 - emotion_output_acc: 0.7128 - val_loss: 6.8707 - val_gender_output_loss: 0.4568 - val_image_quality_output_loss: 0.9524 - val_age_output_loss: 1.3734 - val_weight_output_loss: 0.9159 - val_bag_output_loss: 0.8763 - val_footwear_output_loss: 0.8412 - val_pose_output_loss: 0.5834 - val_emotion_output_loss: 0.8713 - val_gender_output_acc: 0.7812 - val_image_quality_output_acc: 0.5704 - val_age_output_acc: 0.4008 - val_weight_output_acc: 0.6453 - val_bag_output_acc: 0.6111 - val_footwear_output_acc: 0.6220 - val_pose_output_acc: 0.7644 - val_emotion_output_acc: 0.7113\n",
            "Epoch 40/100\n",
            "360/360 [==============================] - 149s 414ms/step - loss: 6.3820 - gender_output_loss: 0.3630 - image_quality_output_loss: 0.8996 - age_output_loss: 1.3224 - weight_output_loss: 0.9059 - bag_output_loss: 0.7716 - footwear_output_loss: 0.7723 - pose_output_loss: 0.5000 - emotion_output_loss: 0.8471 - gender_output_acc: 0.8375 - image_quality_output_acc: 0.5744 - age_output_acc: 0.4235 - weight_output_acc: 0.6448 - bag_output_acc: 0.6763 - footwear_output_acc: 0.6521 - pose_output_acc: 0.8016 - emotion_output_acc: 0.7122 - val_loss: 6.9360 - val_gender_output_loss: 0.4796 - val_image_quality_output_loss: 0.9479 - val_age_output_loss: 1.3759 - val_weight_output_loss: 0.9169 - val_bag_output_loss: 0.8705 - val_footwear_output_loss: 0.8757 - val_pose_output_loss: 0.5969 - val_emotion_output_loss: 0.8727 - val_gender_output_acc: 0.7803 - val_image_quality_output_acc: 0.5531 - val_age_output_acc: 0.3978 - val_weight_output_acc: 0.6438 - val_bag_output_acc: 0.6086 - val_footwear_output_acc: 0.6081 - val_pose_output_acc: 0.7679 - val_emotion_output_acc: 0.7113\n",
            "Epoch 41/100\n",
            "360/360 [==============================] - 148s 411ms/step - loss: 6.3622 - gender_output_loss: 0.3565 - image_quality_output_loss: 0.8960 - age_output_loss: 1.3185 - weight_output_loss: 0.9029 - bag_output_loss: 0.7727 - footwear_output_loss: 0.7718 - pose_output_loss: 0.4960 - emotion_output_loss: 0.8478 - gender_output_acc: 0.8440 - image_quality_output_acc: 0.5720 - age_output_acc: 0.4267 - weight_output_acc: 0.6462 - bag_output_acc: 0.6714 - footwear_output_acc: 0.6541 - pose_output_acc: 0.8010 - emotion_output_acc: 0.7119 - val_loss: 6.8555 - val_gender_output_loss: 0.4513 - val_image_quality_output_loss: 0.9677 - val_age_output_loss: 1.3636 - val_weight_output_loss: 0.8995 - val_bag_output_loss: 0.8582 - val_footwear_output_loss: 0.8425 - val_pose_output_loss: 0.5954 - val_emotion_output_loss: 0.8774 - val_gender_output_acc: 0.7822 - val_image_quality_output_acc: 0.5590 - val_age_output_acc: 0.3958 - val_weight_output_acc: 0.6429 - val_bag_output_acc: 0.6141 - val_footwear_output_acc: 0.6195 - val_pose_output_acc: 0.7569 - val_emotion_output_acc: 0.7113\n",
            "Epoch 42/100\n",
            "360/360 [==============================] - 147s 407ms/step - loss: 6.3710 - gender_output_loss: 0.3629 - image_quality_output_loss: 0.9019 - age_output_loss: 1.3221 - weight_output_loss: 0.9000 - bag_output_loss: 0.7729 - footwear_output_loss: 0.7726 - pose_output_loss: 0.4900 - emotion_output_loss: 0.8485 - gender_output_acc: 0.8399 - image_quality_output_acc: 0.5719 - age_output_acc: 0.4209 - weight_output_acc: 0.6470 - bag_output_acc: 0.6694 - footwear_output_acc: 0.6545 - pose_output_acc: 0.8063 - emotion_output_acc: 0.7122 - val_loss: 6.9695 - val_gender_output_loss: 0.5209 - val_image_quality_output_loss: 0.9491 - val_age_output_loss: 1.3699 - val_weight_output_loss: 0.9132 - val_bag_output_loss: 0.8820 - val_footwear_output_loss: 0.8584 - val_pose_output_loss: 0.6039 - val_emotion_output_loss: 0.8723 - val_gender_output_acc: 0.7336 - val_image_quality_output_acc: 0.5551 - val_age_output_acc: 0.4008 - val_weight_output_acc: 0.6483 - val_bag_output_acc: 0.5992 - val_footwear_output_acc: 0.6086 - val_pose_output_acc: 0.7698 - val_emotion_output_acc: 0.7113\n",
            "Epoch 43/100\n",
            "360/360 [==============================] - 145s 403ms/step - loss: 6.3773 - gender_output_loss: 0.3659 - image_quality_output_loss: 0.8964 - age_output_loss: 1.3241 - weight_output_loss: 0.8991 - bag_output_loss: 0.7743 - footwear_output_loss: 0.7692 - pose_output_loss: 0.4971 - emotion_output_loss: 0.8511 - gender_output_acc: 0.8380 - image_quality_output_acc: 0.5730 - age_output_acc: 0.4247 - weight_output_acc: 0.6477 - bag_output_acc: 0.6729 - footwear_output_acc: 0.6584 - pose_output_acc: 0.8056 - emotion_output_acc: 0.7132 - val_loss: 6.9466 - val_gender_output_loss: 0.4606 - val_image_quality_output_loss: 0.9802 - val_age_output_loss: 1.3787 - val_weight_output_loss: 0.9114 - val_bag_output_loss: 0.8560 - val_footwear_output_loss: 0.8806 - val_pose_output_loss: 0.6055 - val_emotion_output_loss: 0.8737 - val_gender_output_acc: 0.7788 - val_image_quality_output_acc: 0.5585 - val_age_output_acc: 0.3948 - val_weight_output_acc: 0.6508 - val_bag_output_acc: 0.6126 - val_footwear_output_acc: 0.6086 - val_pose_output_acc: 0.7654 - val_emotion_output_acc: 0.7113\n",
            "Epoch 44/100\n",
            "360/360 [==============================] - 147s 408ms/step - loss: 6.3582 - gender_output_loss: 0.3586 - image_quality_output_loss: 0.8974 - age_output_loss: 1.3232 - weight_output_loss: 0.8957 - bag_output_loss: 0.7740 - footwear_output_loss: 0.7704 - pose_output_loss: 0.4940 - emotion_output_loss: 0.8450 - gender_output_acc: 0.8406 - image_quality_output_acc: 0.5719 - age_output_acc: 0.4250 - weight_output_acc: 0.6468 - bag_output_acc: 0.6689 - footwear_output_acc: 0.6573 - pose_output_acc: 0.8067 - emotion_output_acc: 0.7123 - val_loss: 6.9533 - val_gender_output_loss: 0.4524 - val_image_quality_output_loss: 1.0133 - val_age_output_loss: 1.3747 - val_weight_output_loss: 0.9135 - val_bag_output_loss: 0.8700 - val_footwear_output_loss: 0.8602 - val_pose_output_loss: 0.5960 - val_emotion_output_loss: 0.8734 - val_gender_output_acc: 0.7837 - val_image_quality_output_acc: 0.5605 - val_age_output_acc: 0.4023 - val_weight_output_acc: 0.6448 - val_bag_output_acc: 0.6136 - val_footwear_output_acc: 0.6136 - val_pose_output_acc: 0.7674 - val_emotion_output_acc: 0.7113\n",
            "Epoch 45/100\n",
            "360/360 [==============================] - 147s 409ms/step - loss: 6.3504 - gender_output_loss: 0.3593 - image_quality_output_loss: 0.8985 - age_output_loss: 1.3176 - weight_output_loss: 0.8966 - bag_output_loss: 0.7636 - footwear_output_loss: 0.7686 - pose_output_loss: 0.4955 - emotion_output_loss: 0.8508 - gender_output_acc: 0.8400 - image_quality_output_acc: 0.5750 - age_output_acc: 0.4247 - weight_output_acc: 0.6475 - bag_output_acc: 0.6774 - footwear_output_acc: 0.6591 - pose_output_acc: 0.8026 - emotion_output_acc: 0.7127 - val_loss: 7.0134 - val_gender_output_loss: 0.4974 - val_image_quality_output_loss: 1.0191 - val_age_output_loss: 1.3764 - val_weight_output_loss: 0.9182 - val_bag_output_loss: 0.8795 - val_footwear_output_loss: 0.8509 - val_pose_output_loss: 0.5983 - val_emotion_output_loss: 0.8736 - val_gender_output_acc: 0.7584 - val_image_quality_output_acc: 0.5387 - val_age_output_acc: 0.4008 - val_weight_output_acc: 0.6344 - val_bag_output_acc: 0.6101 - val_footwear_output_acc: 0.6260 - val_pose_output_acc: 0.7703 - val_emotion_output_acc: 0.7118\n",
            "Epoch 46/100\n",
            "\n",
            "360/360 [==============================] - 147s 408ms/step - loss: 6.3583 - gender_output_loss: 0.3599 - image_quality_output_loss: 0.8965 - age_output_loss: 1.3244 - weight_output_loss: 0.8964 - bag_output_loss: 0.7669 - footwear_output_loss: 0.7705 - pose_output_loss: 0.4945 - emotion_output_loss: 0.8492 - gender_output_acc: 0.8392 - image_quality_output_acc: 0.5736 - age_output_acc: 0.4249 - weight_output_acc: 0.6500 - bag_output_acc: 0.6773 - footwear_output_acc: 0.6549 - pose_output_acc: 0.8039 - emotion_output_acc: 0.7121 - val_loss: 6.9263 - val_gender_output_loss: 0.4633 - val_image_quality_output_loss: 0.9747 - val_age_output_loss: 1.3764 - val_weight_output_loss: 0.9150 - val_bag_output_loss: 0.8692 - val_footwear_output_loss: 0.8559 - val_pose_output_loss: 0.5938 - val_emotion_output_loss: 0.8780 - val_gender_output_acc: 0.7897 - val_image_quality_output_acc: 0.5625 - val_age_output_acc: 0.4033 - val_weight_output_acc: 0.6468 - val_bag_output_acc: 0.6171 - val_footwear_output_acc: 0.6151 - val_pose_output_acc: 0.7723 - val_emotion_output_acc: 0.7118\n",
            "Epoch 47/100\n",
            "360/360 [==============================] - 147s 409ms/step - loss: 6.3228 - gender_output_loss: 0.3541 - image_quality_output_loss: 0.8975 - age_output_loss: 1.3115 - weight_output_loss: 0.8987 - bag_output_loss: 0.7592 - footwear_output_loss: 0.7622 - pose_output_loss: 0.4939 - emotion_output_loss: 0.8458 - gender_output_acc: 0.8399 - image_quality_output_acc: 0.5737 - age_output_acc: 0.4295 - weight_output_acc: 0.6482 - bag_output_acc: 0.6764 - footwear_output_acc: 0.6634 - pose_output_acc: 0.8049 - emotion_output_acc: 0.7119 - val_loss: 6.9849 - val_gender_output_loss: 0.4598 - val_image_quality_output_loss: 0.9875 - val_age_output_loss: 1.3735 - val_weight_output_loss: 0.9180 - val_bag_output_loss: 0.9114 - val_footwear_output_loss: 0.8743 - val_pose_output_loss: 0.5836 - val_emotion_output_loss: 0.8768 - val_gender_output_acc: 0.7842 - val_image_quality_output_acc: 0.5496 - val_age_output_acc: 0.4013 - val_weight_output_acc: 0.6424 - val_bag_output_acc: 0.6057 - val_footwear_output_acc: 0.6126 - val_pose_output_acc: 0.7758 - val_emotion_output_acc: 0.7113\n",
            "Epoch 48/100\n",
            "360/360 [==============================] - 145s 403ms/step - loss: 6.3417 - gender_output_loss: 0.3582 - image_quality_output_loss: 0.8962 - age_output_loss: 1.3138 - weight_output_loss: 0.8972 - bag_output_loss: 0.7658 - footwear_output_loss: 0.7678 - pose_output_loss: 0.4947 - emotion_output_loss: 0.8480 - gender_output_acc: 0.8412 - image_quality_output_acc: 0.5792 - age_output_acc: 0.4292 - weight_output_acc: 0.6492 - bag_output_acc: 0.6747 - footwear_output_acc: 0.6574 - pose_output_acc: 0.8046 - emotion_output_acc: 0.7135 - val_loss: 6.9297 - val_gender_output_loss: 0.4588 - val_image_quality_output_loss: 0.9937 - val_age_output_loss: 1.3724 - val_weight_output_loss: 0.9171 - val_bag_output_loss: 0.8634 - val_footwear_output_loss: 0.8595 - val_pose_output_loss: 0.5909 - val_emotion_output_loss: 0.8738 - val_gender_output_acc: 0.7817 - val_image_quality_output_acc: 0.5585 - val_age_output_acc: 0.3943 - val_weight_output_acc: 0.6414 - val_bag_output_acc: 0.6081 - val_footwear_output_acc: 0.6146 - val_pose_output_acc: 0.7669 - val_emotion_output_acc: 0.7113\n",
            "Epoch 49/100\n",
            "359/360 [============================>.] - ETA: 0s - loss: 6.3268 - gender_output_loss: 0.3590 - image_quality_output_loss: 0.8976 - age_output_loss: 1.3180 - weight_output_loss: 0.8924 - bag_output_loss: 0.7655 - footwear_output_loss: 0.7668 - pose_output_loss: 0.4859 - emotion_output_loss: 0.8415 - gender_output_acc: 0.8396 - image_quality_output_acc: 0.5745 - age_output_acc: 0.4236 - weight_output_acc: 0.6495 - bag_output_acc: 0.6733 - footwear_output_acc: 0.6596 - pose_output_acc: 0.8075 - emotion_output_acc: 0.7140\n",
            "360/360 [==============================] - 143s 399ms/step - loss: 6.3268 - gender_output_loss: 0.3589 - image_quality_output_loss: 0.8975 - age_output_loss: 1.3176 - weight_output_loss: 0.8930 - bag_output_loss: 0.7651 - footwear_output_loss: 0.7667 - pose_output_loss: 0.4859 - emotion_output_loss: 0.8422 - gender_output_acc: 0.8398 - image_quality_output_acc: 0.5743 - age_output_acc: 0.4238 - weight_output_acc: 0.6492 - bag_output_acc: 0.6735 - footwear_output_acc: 0.6597 - pose_output_acc: 0.8076 - emotion_output_acc: 0.7136 - val_loss: 7.0193 - val_gender_output_loss: 0.4770 - val_image_quality_output_loss: 1.0567 - val_age_output_loss: 1.3756 - val_weight_output_loss: 0.9152 - val_bag_output_loss: 0.8705 - val_footwear_output_loss: 0.8492 - val_pose_output_loss: 0.5960 - val_emotion_output_loss: 0.8791 - val_gender_output_acc: 0.7698 - val_image_quality_output_acc: 0.5392 - val_age_output_acc: 0.3993 - val_weight_output_acc: 0.6453 - val_bag_output_acc: 0.6062 - val_footwear_output_acc: 0.6210 - val_pose_output_acc: 0.7599 - val_emotion_output_acc: 0.7113\n",
            "Epoch 50/100\n",
            "360/360 [==============================] - 142s 395ms/step - loss: 6.3106 - gender_output_loss: 0.3472 - image_quality_output_loss: 0.8928 - age_output_loss: 1.3173 - weight_output_loss: 0.8945 - bag_output_loss: 0.7619 - footwear_output_loss: 0.7649 - pose_output_loss: 0.4881 - emotion_output_loss: 0.8438 - gender_output_acc: 0.8446 - image_quality_output_acc: 0.5785 - age_output_acc: 0.4259 - weight_output_acc: 0.6480 - bag_output_acc: 0.6797 - footwear_output_acc: 0.6597 - pose_output_acc: 0.8052 - emotion_output_acc: 0.7126 - val_loss: 6.8128 - val_gender_output_loss: 0.4266 - val_image_quality_output_loss: 0.9625 - val_age_output_loss: 1.3718 - val_weight_output_loss: 0.9144 - val_bag_output_loss: 0.8490 - val_footwear_output_loss: 0.8438 - val_pose_output_loss: 0.5770 - val_emotion_output_loss: 0.8678 - val_gender_output_acc: 0.7996 - val_image_quality_output_acc: 0.5595 - val_age_output_acc: 0.3973 - val_weight_output_acc: 0.6468 - val_bag_output_acc: 0.6344 - val_footwear_output_acc: 0.6255 - val_pose_output_acc: 0.7698 - val_emotion_output_acc: 0.7113\n",
            "Epoch 51/100\n",
            "360/360 [==============================] - 143s 397ms/step - loss: 6.3191 - gender_output_loss: 0.3517 - image_quality_output_loss: 0.8924 - age_output_loss: 1.3159 - weight_output_loss: 0.8935 - bag_output_loss: 0.7626 - footwear_output_loss: 0.7670 - pose_output_loss: 0.4908 - emotion_output_loss: 0.8451 - gender_output_acc: 0.8450 - image_quality_output_acc: 0.5794 - age_output_acc: 0.4255 - weight_output_acc: 0.6497 - bag_output_acc: 0.6773 - footwear_output_acc: 0.6621 - pose_output_acc: 0.8064 - emotion_output_acc: 0.7137 - val_loss: 6.9138 - val_gender_output_loss: 0.4544 - val_image_quality_output_loss: 0.9473 - val_age_output_loss: 1.3830 - val_weight_output_loss: 0.9185 - val_bag_output_loss: 0.8767 - val_footwear_output_loss: 0.8572 - val_pose_output_loss: 0.5968 - val_emotion_output_loss: 0.8800 - val_gender_output_acc: 0.7837 - val_image_quality_output_acc: 0.5536 - val_age_output_acc: 0.3943 - val_weight_output_acc: 0.6424 - val_bag_output_acc: 0.6052 - val_footwear_output_acc: 0.6240 - val_pose_output_acc: 0.7540 - val_emotion_output_acc: 0.7113\n",
            "Epoch 52/100\n",
            "360/360 [==============================] - 143s 398ms/step - loss: 6.3166 - gender_output_loss: 0.3564 - image_quality_output_loss: 0.8951 - age_output_loss: 1.3122 - weight_output_loss: 0.8952 - bag_output_loss: 0.7641 - footwear_output_loss: 0.7618 - pose_output_loss: 0.4902 - emotion_output_loss: 0.8416 - gender_output_acc: 0.8435 - image_quality_output_acc: 0.5738 - age_output_acc: 0.4214 - weight_output_acc: 0.6511 - bag_output_acc: 0.6775 - footwear_output_acc: 0.6574 - pose_output_acc: 0.8049 - emotion_output_acc: 0.7122 - val_loss: 6.8454 - val_gender_output_loss: 0.4515 - val_image_quality_output_loss: 0.9603 - val_age_output_loss: 1.3685 - val_weight_output_loss: 0.9124 - val_bag_output_loss: 0.8445 - val_footwear_output_loss: 0.8397 - val_pose_output_loss: 0.5916 - val_emotion_output_loss: 0.8770 - val_gender_output_acc: 0.7932 - val_image_quality_output_acc: 0.5561 - val_age_output_acc: 0.3973 - val_weight_output_acc: 0.6468 - val_bag_output_acc: 0.6275 - val_footwear_output_acc: 0.6255 - val_pose_output_acc: 0.7733 - val_emotion_output_acc: 0.7113\n",
            "Epoch 53/100\n",
            "\n",
            "360/360 [==============================] - 144s 400ms/step - loss: 6.2876 - gender_output_loss: 0.3549 - image_quality_output_loss: 0.8901 - age_output_loss: 1.3147 - weight_output_loss: 0.8881 - bag_output_loss: 0.7600 - footwear_output_loss: 0.7651 - pose_output_loss: 0.4736 - emotion_output_loss: 0.8411 - gender_output_acc: 0.8424 - image_quality_output_acc: 0.5734 - age_output_acc: 0.4238 - weight_output_acc: 0.6523 - bag_output_acc: 0.6831 - footwear_output_acc: 0.6595 - pose_output_acc: 0.8116 - emotion_output_acc: 0.7127 - val_loss: 6.8808 - val_gender_output_loss: 0.4620 - val_image_quality_output_loss: 0.9468 - val_age_output_loss: 1.3722 - val_weight_output_loss: 0.9162 - val_bag_output_loss: 0.8718 - val_footwear_output_loss: 0.8423 - val_pose_output_loss: 0.5986 - val_emotion_output_loss: 0.8710 - val_gender_output_acc: 0.7976 - val_image_quality_output_acc: 0.5665 - val_age_output_acc: 0.3938 - val_weight_output_acc: 0.6463 - val_bag_output_acc: 0.6146 - val_footwear_output_acc: 0.6215 - val_pose_output_acc: 0.7599 - val_emotion_output_acc: 0.7113\n",
            "Epoch 54/100\n",
            "360/360 [==============================] - 143s 398ms/step - loss: 6.3247 - gender_output_loss: 0.3507 - image_quality_output_loss: 0.8979 - age_output_loss: 1.3129 - weight_output_loss: 0.8944 - bag_output_loss: 0.7634 - footwear_output_loss: 0.7691 - pose_output_loss: 0.4905 - emotion_output_loss: 0.8458 - gender_output_acc: 0.8443 - image_quality_output_acc: 0.5767 - age_output_acc: 0.4281 - weight_output_acc: 0.6505 - bag_output_acc: 0.6771 - footwear_output_acc: 0.6569 - pose_output_acc: 0.8059 - emotion_output_acc: 0.7125 - val_loss: 6.8361 - val_gender_output_loss: 0.4320 - val_image_quality_output_loss: 0.9474 - val_age_output_loss: 1.3643 - val_weight_output_loss: 0.9114 - val_bag_output_loss: 0.8647 - val_footwear_output_loss: 0.8541 - val_pose_output_loss: 0.5897 - val_emotion_output_loss: 0.8725 - val_gender_output_acc: 0.7927 - val_image_quality_output_acc: 0.5565 - val_age_output_acc: 0.4048 - val_weight_output_acc: 0.6409 - val_bag_output_acc: 0.6181 - val_footwear_output_acc: 0.6176 - val_pose_output_acc: 0.7693 - val_emotion_output_acc: 0.7113\n",
            "Epoch 55/100\n",
            "360/360 [==============================] - 145s 402ms/step - loss: 6.3062 - gender_output_loss: 0.3532 - image_quality_output_loss: 0.8972 - age_output_loss: 1.3101 - weight_output_loss: 0.8929 - bag_output_loss: 0.7692 - footwear_output_loss: 0.7599 - pose_output_loss: 0.4804 - emotion_output_loss: 0.8432 - gender_output_acc: 0.8451 - image_quality_output_acc: 0.5794 - age_output_acc: 0.4266 - weight_output_acc: 0.6494 - bag_output_acc: 0.6730 - footwear_output_acc: 0.6590 - pose_output_acc: 0.8068 - emotion_output_acc: 0.7128 - val_loss: 7.1090 - val_gender_output_loss: 0.4923 - val_image_quality_output_loss: 0.9727 - val_age_output_loss: 1.3822 - val_weight_output_loss: 0.9313 - val_bag_output_loss: 0.9149 - val_footwear_output_loss: 0.8786 - val_pose_output_loss: 0.6582 - val_emotion_output_loss: 0.8787 - val_gender_output_acc: 0.7480 - val_image_quality_output_acc: 0.5610 - val_age_output_acc: 0.3938 - val_weight_output_acc: 0.6429 - val_bag_output_acc: 0.5938 - val_footwear_output_acc: 0.5997 - val_pose_output_acc: 0.7277 - val_emotion_output_acc: 0.7113\n",
            "Epoch 56/100\n",
            "\n",
            "360/360 [==============================] - 144s 399ms/step - loss: 6.2831 - gender_output_loss: 0.3488 - image_quality_output_loss: 0.8940 - age_output_loss: 1.3139 - weight_output_loss: 0.8871 - bag_output_loss: 0.7593 - footwear_output_loss: 0.7656 - pose_output_loss: 0.4720 - emotion_output_loss: 0.8422 - gender_output_acc: 0.8467 - image_quality_output_acc: 0.5718 - age_output_acc: 0.4241 - weight_output_acc: 0.6510 - bag_output_acc: 0.6797 - footwear_output_acc: 0.6576 - pose_output_acc: 0.8135 - emotion_output_acc: 0.7137 - val_loss: 6.9236 - val_gender_output_loss: 0.4334 - val_image_quality_output_loss: 1.0032 - val_age_output_loss: 1.3712 - val_weight_output_loss: 0.9211 - val_bag_output_loss: 0.8701 - val_footwear_output_loss: 0.8551 - val_pose_output_loss: 0.5938 - val_emotion_output_loss: 0.8756 - val_gender_output_acc: 0.8006 - val_image_quality_output_acc: 0.5496 - val_age_output_acc: 0.3953 - val_weight_output_acc: 0.6404 - val_bag_output_acc: 0.6181 - val_footwear_output_acc: 0.6156 - val_pose_output_acc: 0.7614 - val_emotion_output_acc: 0.7113\n",
            "Epoch 57/100\n",
            "Epoch 56/100\n",
            "360/360 [==============================] - 148s 411ms/step - loss: 6.2904 - gender_output_loss: 0.3540 - image_quality_output_loss: 0.8865 - age_output_loss: 1.3135 - weight_output_loss: 0.8945 - bag_output_loss: 0.7595 - footwear_output_loss: 0.7640 - pose_output_loss: 0.4753 - emotion_output_loss: 0.8431 - gender_output_acc: 0.8438 - image_quality_output_acc: 0.5762 - age_output_acc: 0.4314 - weight_output_acc: 0.6490 - bag_output_acc: 0.6750 - footwear_output_acc: 0.6549 - pose_output_acc: 0.8122 - emotion_output_acc: 0.7126 - val_loss: 6.9079 - val_gender_output_loss: 0.4431 - val_image_quality_output_loss: 0.9663 - val_age_output_loss: 1.3815 - val_weight_output_loss: 0.9278 - val_bag_output_loss: 0.8628 - val_footwear_output_loss: 0.8647 - val_pose_output_loss: 0.5863 - val_emotion_output_loss: 0.8753 - val_gender_output_acc: 0.7976 - val_image_quality_output_acc: 0.5541 - val_age_output_acc: 0.3934 - val_weight_output_acc: 0.6409 - val_bag_output_acc: 0.6101 - val_footwear_output_acc: 0.6086 - val_pose_output_acc: 0.7644 - val_emotion_output_acc: 0.7113\n",
            "Epoch 58/100\n",
            "360/360 [==============================] - 151s 419ms/step - loss: 6.2743 - gender_output_loss: 0.3399 - image_quality_output_loss: 0.8931 - age_output_loss: 1.3105 - weight_output_loss: 0.8852 - bag_output_loss: 0.7596 - footwear_output_loss: 0.7582 - pose_output_loss: 0.4835 - emotion_output_loss: 0.8442 - gender_output_acc: 0.8482 - image_quality_output_acc: 0.5787 - age_output_acc: 0.4312 - weight_output_acc: 0.6526 - bag_output_acc: 0.6813 - footwear_output_acc: 0.6589 - pose_output_acc: 0.8095 - emotion_output_acc: 0.7116 - val_loss: 6.8702 - val_gender_output_loss: 0.4457 - val_image_quality_output_loss: 0.9398 - val_age_output_loss: 1.3760 - val_weight_output_loss: 0.9147 - val_bag_output_loss: 0.8936 - val_footwear_output_loss: 0.8590 - val_pose_output_loss: 0.5734 - val_emotion_output_loss: 0.8681 - val_gender_output_acc: 0.7832 - val_image_quality_output_acc: 0.5600 - val_age_output_acc: 0.4053 - val_weight_output_acc: 0.6538 - val_bag_output_acc: 0.6007 - val_footwear_output_acc: 0.6181 - val_pose_output_acc: 0.7738 - val_emotion_output_acc: 0.7118\n",
            "Epoch 59/100\n",
            "360/360 [==============================] - 152s 424ms/step - loss: 6.2910 - gender_output_loss: 0.3475 - image_quality_output_loss: 0.8939 - age_output_loss: 1.3097 - weight_output_loss: 0.8921 - bag_output_loss: 0.7607 - footwear_output_loss: 0.7594 - pose_output_loss: 0.4851 - emotion_output_loss: 0.8425 - gender_output_acc: 0.8455 - image_quality_output_acc: 0.5804 - age_output_acc: 0.4338 - weight_output_acc: 0.6510 - bag_output_acc: 0.6804 - footwear_output_acc: 0.6630 - pose_output_acc: 0.8089 - emotion_output_acc: 0.7124 - val_loss: 7.0357 - val_gender_output_loss: 0.4482 - val_image_quality_output_loss: 1.0821 - val_age_output_loss: 1.3744 - val_weight_output_loss: 0.9148 - val_bag_output_loss: 0.8881 - val_footwear_output_loss: 0.8543 - val_pose_output_loss: 0.5896 - val_emotion_output_loss: 0.8841 - val_gender_output_acc: 0.7778 - val_image_quality_output_acc: 0.5253 - val_age_output_acc: 0.4028 - val_weight_output_acc: 0.6448 - val_bag_output_acc: 0.6171 - val_footwear_output_acc: 0.6131 - val_pose_output_acc: 0.7708 - val_emotion_output_acc: 0.7113\n",
            "Epoch 60/100\n",
            "360/360 [==============================] - 153s 424ms/step - loss: 6.2774 - gender_output_loss: 0.3494 - image_quality_output_loss: 0.8966 - age_output_loss: 1.3127 - weight_output_loss: 0.8889 - bag_output_loss: 0.7569 - footwear_output_loss: 0.7520 - pose_output_loss: 0.4754 - emotion_output_loss: 0.8455 - gender_output_acc: 0.8453 - image_quality_output_acc: 0.5768 - age_output_acc: 0.4244 - weight_output_acc: 0.6530 - bag_output_acc: 0.6794 - footwear_output_acc: 0.6672 - pose_output_acc: 0.8146 - emotion_output_acc: 0.7129 - val_loss: 6.9552 - val_gender_output_loss: 0.4554 - val_image_quality_output_loss: 0.9917 - val_age_output_loss: 1.3723 - val_weight_output_loss: 0.9110 - val_bag_output_loss: 0.8782 - val_footwear_output_loss: 0.8677 - val_pose_output_loss: 0.6057 - val_emotion_output_loss: 0.8731 - val_gender_output_acc: 0.7897 - val_image_quality_output_acc: 0.5491 - val_age_output_acc: 0.4023 - val_weight_output_acc: 0.6463 - val_bag_output_acc: 0.6071 - val_footwear_output_acc: 0.6111 - val_pose_output_acc: 0.7639 - val_emotion_output_acc: 0.7113\n",
            "Epoch 61/100\n",
            "\n",
            "360/360 [==============================] - 154s 427ms/step - loss: 6.2865 - gender_output_loss: 0.3560 - image_quality_output_loss: 0.8922 - age_output_loss: 1.3094 - weight_output_loss: 0.8877 - bag_output_loss: 0.7587 - footwear_output_loss: 0.7607 - pose_output_loss: 0.4797 - emotion_output_loss: 0.8421 - gender_output_acc: 0.8420 - image_quality_output_acc: 0.5729 - age_output_acc: 0.4266 - weight_output_acc: 0.6546 - bag_output_acc: 0.6795 - footwear_output_acc: 0.6630 - pose_output_acc: 0.8104 - emotion_output_acc: 0.7119 - val_loss: 7.0613 - val_gender_output_loss: 0.4846 - val_image_quality_output_loss: 1.0129 - val_age_output_loss: 1.3870 - val_weight_output_loss: 0.9244 - val_bag_output_loss: 0.8797 - val_footwear_output_loss: 0.8767 - val_pose_output_loss: 0.6156 - val_emotion_output_loss: 0.8805 - val_gender_output_acc: 0.7788 - val_image_quality_output_acc: 0.5551 - val_age_output_acc: 0.3978 - val_weight_output_acc: 0.6434 - val_bag_output_acc: 0.6042 - val_footwear_output_acc: 0.6022 - val_pose_output_acc: 0.7564 - val_emotion_output_acc: 0.7113\n",
            "Epoch 62/100\n",
            "360/360 [==============================] - 155s 431ms/step - loss: 6.2554 - gender_output_loss: 0.3379 - image_quality_output_loss: 0.8869 - age_output_loss: 1.3050 - weight_output_loss: 0.8929 - bag_output_loss: 0.7557 - footwear_output_loss: 0.7606 - pose_output_loss: 0.4765 - emotion_output_loss: 0.8398 - gender_output_acc: 0.8504 - image_quality_output_acc: 0.5766 - age_output_acc: 0.4258 - weight_output_acc: 0.6555 - bag_output_acc: 0.6852 - footwear_output_acc: 0.6606 - pose_output_acc: 0.8084 - emotion_output_acc: 0.7128 - val_loss: 6.8952 - val_gender_output_loss: 0.4348 - val_image_quality_output_loss: 0.9720 - val_age_output_loss: 1.3736 - val_weight_output_loss: 0.9144 - val_bag_output_loss: 0.8669 - val_footwear_output_loss: 0.8507 - val_pose_output_loss: 0.6037 - val_emotion_output_loss: 0.8792 - val_gender_output_acc: 0.7946 - val_image_quality_output_acc: 0.5570 - val_age_output_acc: 0.4023 - val_weight_output_acc: 0.6434 - val_bag_output_acc: 0.6329 - val_footwear_output_acc: 0.6156 - val_pose_output_acc: 0.7723 - val_emotion_output_acc: 0.7113\n",
            "Epoch 63/100\n",
            "360/360 [==============================] - 155s 431ms/step - loss: 6.2634 - gender_output_loss: 0.3430 - image_quality_output_loss: 0.8919 - age_output_loss: 1.3051 - weight_output_loss: 0.8888 - bag_output_loss: 0.7537 - footwear_output_loss: 0.7629 - pose_output_loss: 0.4749 - emotion_output_loss: 0.8431 - gender_output_acc: 0.8497 - image_quality_output_acc: 0.5774 - age_output_acc: 0.4265 - weight_output_acc: 0.6521 - bag_output_acc: 0.6766 - footwear_output_acc: 0.6565 - pose_output_acc: 0.8135 - emotion_output_acc: 0.7134 - val_loss: 6.9865 - val_gender_output_loss: 0.4609 - val_image_quality_output_loss: 0.9792 - val_age_output_loss: 1.3804 - val_weight_output_loss: 0.9186 - val_bag_output_loss: 0.8799 - val_footwear_output_loss: 0.8598 - val_pose_output_loss: 0.6262 - val_emotion_output_loss: 0.8814 - val_gender_output_acc: 0.7803 - val_image_quality_output_acc: 0.5561 - val_age_output_acc: 0.4058 - val_weight_output_acc: 0.6458 - val_bag_output_acc: 0.6126 - val_footwear_output_acc: 0.6210 - val_pose_output_acc: 0.7574 - val_emotion_output_acc: 0.7113\n",
            "Epoch 64/100\n",
            "360/360 [==============================] - 160s 445ms/step - loss: 6.2522 - gender_output_loss: 0.3380 - image_quality_output_loss: 0.8889 - age_output_loss: 1.3152 - weight_output_loss: 0.8834 - bag_output_loss: 0.7572 - footwear_output_loss: 0.7581 - pose_output_loss: 0.4684 - emotion_output_loss: 0.8430 - gender_output_acc: 0.8518 - image_quality_output_acc: 0.5826 - age_output_acc: 0.4285 - weight_output_acc: 0.6503 - bag_output_acc: 0.6842 - footwear_output_acc: 0.6621 - pose_output_acc: 0.8183 - emotion_output_acc: 0.7122 - val_loss: 6.8779 - val_gender_output_loss: 0.4505 - val_image_quality_output_loss: 0.9628 - val_age_output_loss: 1.3757 - val_weight_output_loss: 0.9124 - val_bag_output_loss: 0.8528 - val_footwear_output_loss: 0.8513 - val_pose_output_loss: 0.5959 - val_emotion_output_loss: 0.8765 - val_gender_output_acc: 0.7951 - val_image_quality_output_acc: 0.5605 - val_age_output_acc: 0.3958 - val_weight_output_acc: 0.6463 - val_bag_output_acc: 0.6166 - val_footwear_output_acc: 0.6121 - val_pose_output_acc: 0.7659 - val_emotion_output_acc: 0.7113\n",
            "Epoch 65/100\n",
            "360/360 [==============================] - 161s 447ms/step - loss: 6.2548 - gender_output_loss: 0.3474 - image_quality_output_loss: 0.8894 - age_output_loss: 1.3034 - weight_output_loss: 0.8852 - bag_output_loss: 0.7594 - footwear_output_loss: 0.7579 - pose_output_loss: 0.4711 - emotion_output_loss: 0.8411 - gender_output_acc: 0.8484 - image_quality_output_acc: 0.5775 - age_output_acc: 0.4330 - weight_output_acc: 0.6497 - bag_output_acc: 0.6750 - footwear_output_acc: 0.6602 - pose_output_acc: 0.8100 - emotion_output_acc: 0.7127 - val_loss: 7.2058 - val_gender_output_loss: 0.4945 - val_image_quality_output_loss: 1.1043 - val_age_output_loss: 1.3885 - val_weight_output_loss: 0.9315 - val_bag_output_loss: 0.9213 - val_footwear_output_loss: 0.8676 - val_pose_output_loss: 0.6125 - val_emotion_output_loss: 0.8858 - val_gender_output_acc: 0.7604 - val_image_quality_output_acc: 0.5124 - val_age_output_acc: 0.3963 - val_weight_output_acc: 0.6414 - val_bag_output_acc: 0.5942 - val_footwear_output_acc: 0.6136 - val_pose_output_acc: 0.7639 - val_emotion_output_acc: 0.7113\n",
            "Epoch 66/100\n",
            "360/360 [==============================] - 159s 440ms/step - loss: 6.2650 - gender_output_loss: 0.3454 - image_quality_output_loss: 0.8907 - age_output_loss: 1.3073 - weight_output_loss: 0.8825 - bag_output_loss: 0.7602 - footwear_output_loss: 0.7625 - pose_output_loss: 0.4784 - emotion_output_loss: 0.8381 - gender_output_acc: 0.8510 - image_quality_output_acc: 0.5760 - age_output_acc: 0.4288 - weight_output_acc: 0.6529 - bag_output_acc: 0.6818 - footwear_output_acc: 0.6565 - pose_output_acc: 0.8115 - emotion_output_acc: 0.7127 - val_loss: 6.9517 - val_gender_output_loss: 0.4297 - val_image_quality_output_loss: 1.0045 - val_age_output_loss: 1.3809 - val_weight_output_loss: 0.9204 - val_bag_output_loss: 0.8656 - val_footwear_output_loss: 0.8532 - val_pose_output_loss: 0.6156 - val_emotion_output_loss: 0.8819 - val_gender_output_acc: 0.7991 - val_image_quality_output_acc: 0.5521 - val_age_output_acc: 0.3919 - val_weight_output_acc: 0.6488 - val_bag_output_acc: 0.6141 - val_footwear_output_acc: 0.6171 - val_pose_output_acc: 0.7569 - val_emotion_output_acc: 0.7113\n",
            "Epoch 67/100\n",
            "360/360 [==============================] - 157s 437ms/step - loss: 6.2456 - gender_output_loss: 0.3396 - image_quality_output_loss: 0.8901 - age_output_loss: 1.3060 - weight_output_loss: 0.8888 - bag_output_loss: 0.7500 - footwear_output_loss: 0.7548 - pose_output_loss: 0.4749 - emotion_output_loss: 0.8414 - gender_output_acc: 0.8531 - image_quality_output_acc: 0.5794 - age_output_acc: 0.4323 - weight_output_acc: 0.6552 - bag_output_acc: 0.6825 - footwear_output_acc: 0.6677 - pose_output_acc: 0.8130 - emotion_output_acc: 0.7116 - val_loss: 7.0195 - val_gender_output_loss: 0.4389 - val_image_quality_output_loss: 1.0336 - val_age_output_loss: 1.3833 - val_weight_output_loss: 0.9220 - val_bag_output_loss: 0.8843 - val_footwear_output_loss: 0.8596 - val_pose_output_loss: 0.6188 - val_emotion_output_loss: 0.8790 - val_gender_output_acc: 0.7897 - val_image_quality_output_acc: 0.5561 - val_age_output_acc: 0.3973 - val_weight_output_acc: 0.6498 - val_bag_output_acc: 0.6126 - val_footwear_output_acc: 0.6146 - val_pose_output_acc: 0.7421 - val_emotion_output_acc: 0.7113\n",
            "Epoch 68/100\n",
            "360/360 [==============================] - 158s 439ms/step - loss: 6.2574 - gender_output_loss: 0.3432 - image_quality_output_loss: 0.8808 - age_output_loss: 1.3099 - weight_output_loss: 0.8899 - bag_output_loss: 0.7510 - footwear_output_loss: 0.7552 - pose_output_loss: 0.4829 - emotion_output_loss: 0.8445 - gender_output_acc: 0.8496 - image_quality_output_acc: 0.5855 - age_output_acc: 0.4358 - weight_output_acc: 0.6506 - bag_output_acc: 0.6848 - footwear_output_acc: 0.6642 - pose_output_acc: 0.8118 - emotion_output_acc: 0.7126 - val_loss: 7.0911 - val_gender_output_loss: 0.5168 - val_image_quality_output_loss: 1.0170 - val_age_output_loss: 1.3831 - val_weight_output_loss: 0.9242 - val_bag_output_loss: 0.8847 - val_footwear_output_loss: 0.8673 - val_pose_output_loss: 0.6222 - val_emotion_output_loss: 0.8757 - val_gender_output_acc: 0.7728 - val_image_quality_output_acc: 0.5556 - val_age_output_acc: 0.3968 - val_weight_output_acc: 0.6429 - val_bag_output_acc: 0.5952 - val_footwear_output_acc: 0.5992 - val_pose_output_acc: 0.7450 - val_emotion_output_acc: 0.7113\n",
            "Epoch 69/100\n",
            "360/360 [==============================] - 158s 440ms/step - loss: 6.2296 - gender_output_loss: 0.3384 - image_quality_output_loss: 0.8876 - age_output_loss: 1.3028 - weight_output_loss: 0.8834 - bag_output_loss: 0.7574 - footwear_output_loss: 0.7572 - pose_output_loss: 0.4626 - emotion_output_loss: 0.8403 - gender_output_acc: 0.8529 - image_quality_output_acc: 0.5816 - age_output_acc: 0.4339 - weight_output_acc: 0.6543 - bag_output_acc: 0.6810 - footwear_output_acc: 0.6602 - pose_output_acc: 0.8167 - emotion_output_acc: 0.7123 - val_loss: 6.9876 - val_gender_output_loss: 0.4704 - val_image_quality_output_loss: 1.0020 - val_age_output_loss: 1.3823 - val_weight_output_loss: 0.9266 - val_bag_output_loss: 0.8480 - val_footwear_output_loss: 0.8707 - val_pose_output_loss: 0.6076 - val_emotion_output_loss: 0.8800 - val_gender_output_acc: 0.7698 - val_image_quality_output_acc: 0.5585 - val_age_output_acc: 0.3978 - val_weight_output_acc: 0.6429 - val_bag_output_acc: 0.6319 - val_footwear_output_acc: 0.6151 - val_pose_output_acc: 0.7688 - val_emotion_output_acc: 0.7113\n",
            "Epoch 70/100\n",
            "360/360 [==============================] - 160s 443ms/step - loss: 6.2232 - gender_output_loss: 0.3375 - image_quality_output_loss: 0.8807 - age_output_loss: 1.3020 - weight_output_loss: 0.8822 - bag_output_loss: 0.7506 - footwear_output_loss: 0.7574 - pose_output_loss: 0.4734 - emotion_output_loss: 0.8394 - gender_output_acc: 0.8490 - image_quality_output_acc: 0.5837 - age_output_acc: 0.4343 - weight_output_acc: 0.6497 - bag_output_acc: 0.6862 - footwear_output_acc: 0.6649 - pose_output_acc: 0.8143 - emotion_output_acc: 0.7128 - val_loss: 6.9414 - val_gender_output_loss: 0.4370 - val_image_quality_output_loss: 0.9693 - val_age_output_loss: 1.3839 - val_weight_output_loss: 0.9220 - val_bag_output_loss: 0.8925 - val_footwear_output_loss: 0.8671 - val_pose_output_loss: 0.5948 - val_emotion_output_loss: 0.8747 - val_gender_output_acc: 0.7956 - val_image_quality_output_acc: 0.5486 - val_age_output_acc: 0.4013 - val_weight_output_acc: 0.6409 - val_bag_output_acc: 0.6042 - val_footwear_output_acc: 0.6141 - val_pose_output_acc: 0.7708 - val_emotion_output_acc: 0.7113\n",
            "Epoch 71/100\n",
            "360/360 [==============================] - 157s 436ms/step - loss: 6.2117 - gender_output_loss: 0.3377 - image_quality_output_loss: 0.8805 - age_output_loss: 1.3027 - weight_output_loss: 0.8846 - bag_output_loss: 0.7490 - footwear_output_loss: 0.7536 - pose_output_loss: 0.4673 - emotion_output_loss: 0.8363 - gender_output_acc: 0.8525 - image_quality_output_acc: 0.5821 - age_output_acc: 0.4319 - weight_output_acc: 0.6506 - bag_output_acc: 0.6826 - footwear_output_acc: 0.6627 - pose_output_acc: 0.8152 - emotion_output_acc: 0.7143 - val_loss: 7.0066 - val_gender_output_loss: 0.4677 - val_image_quality_output_loss: 0.9742 - val_age_output_loss: 1.3843 - val_weight_output_loss: 0.9176 - val_bag_output_loss: 0.8968 - val_footwear_output_loss: 0.8730 - val_pose_output_loss: 0.6144 - val_emotion_output_loss: 0.8786 - val_gender_output_acc: 0.7768 - val_image_quality_output_acc: 0.5536 - val_age_output_acc: 0.3943 - val_weight_output_acc: 0.6414 - val_bag_output_acc: 0.6111 - val_footwear_output_acc: 0.6027 - val_pose_output_acc: 0.7599 - val_emotion_output_acc: 0.7118\n",
            "Epoch 72/100\n",
            "360/360 [==============================] - 159s 442ms/step - loss: 6.2208 - gender_output_loss: 0.3400 - image_quality_output_loss: 0.8826 - age_output_loss: 1.3015 - weight_output_loss: 0.8835 - bag_output_loss: 0.7506 - footwear_output_loss: 0.7559 - pose_output_loss: 0.4691 - emotion_output_loss: 0.8377 - gender_output_acc: 0.8530 - image_quality_output_acc: 0.5851 - age_output_acc: 0.4352 - weight_output_acc: 0.6528 - bag_output_acc: 0.6849 - footwear_output_acc: 0.6647 - pose_output_acc: 0.8172 - emotion_output_acc: 0.7127 - val_loss: 7.0902 - val_gender_output_loss: 0.4690 - val_image_quality_output_loss: 1.0202 - val_age_output_loss: 1.3841 - val_weight_output_loss: 0.9236 - val_bag_output_loss: 0.8920 - val_footwear_output_loss: 0.8877 - val_pose_output_loss: 0.6318 - val_emotion_output_loss: 0.8817 - val_gender_output_acc: 0.7738 - val_image_quality_output_acc: 0.5347 - val_age_output_acc: 0.3934 - val_weight_output_acc: 0.6424 - val_bag_output_acc: 0.6081 - val_footwear_output_acc: 0.5967 - val_pose_output_acc: 0.7525 - val_emotion_output_acc: 0.7113\n",
            "Epoch 73/100\n",
            "Epoch 72/100\n",
            "360/360 [==============================] - 159s 441ms/step - loss: 6.1984 - gender_output_loss: 0.3428 - image_quality_output_loss: 0.8839 - age_output_loss: 1.3037 - weight_output_loss: 0.8792 - bag_output_loss: 0.7424 - footwear_output_loss: 0.7504 - pose_output_loss: 0.4592 - emotion_output_loss: 0.8367 - gender_output_acc: 0.8468 - image_quality_output_acc: 0.5835 - age_output_acc: 0.4273 - weight_output_acc: 0.6530 - bag_output_acc: 0.6861 - footwear_output_acc: 0.6644 - pose_output_acc: 0.8206 - emotion_output_acc: 0.7119 - val_loss: 7.1336 - val_gender_output_loss: 0.5228 - val_image_quality_output_loss: 1.0149 - val_age_output_loss: 1.3895 - val_weight_output_loss: 0.9243 - val_bag_output_loss: 0.8975 - val_footwear_output_loss: 0.8765 - val_pose_output_loss: 0.6275 - val_emotion_output_loss: 0.8805 - val_gender_output_acc: 0.7391 - val_image_quality_output_acc: 0.5437 - val_age_output_acc: 0.3909 - val_weight_output_acc: 0.6349 - val_bag_output_acc: 0.5918 - val_footwear_output_acc: 0.6012 - val_pose_output_acc: 0.7475 - val_emotion_output_acc: 0.7113\n",
            "Epoch 74/100\n",
            "360/360 [==============================] - 158s 439ms/step - loss: 6.1981 - gender_output_loss: 0.3345 - image_quality_output_loss: 0.8852 - age_output_loss: 1.3012 - weight_output_loss: 0.8819 - bag_output_loss: 0.7482 - footwear_output_loss: 0.7536 - pose_output_loss: 0.4574 - emotion_output_loss: 0.8361 - gender_output_acc: 0.8516 - image_quality_output_acc: 0.5793 - age_output_acc: 0.4405 - weight_output_acc: 0.6538 - bag_output_acc: 0.6858 - footwear_output_acc: 0.6678 - pose_output_acc: 0.8230 - emotion_output_acc: 0.7134 - val_loss: 6.9030 - val_gender_output_loss: 0.4502 - val_image_quality_output_loss: 0.9677 - val_age_output_loss: 1.3738 - val_weight_output_loss: 0.9020 - val_bag_output_loss: 0.8894 - val_footwear_output_loss: 0.8582 - val_pose_output_loss: 0.5852 - val_emotion_output_loss: 0.8765 - val_gender_output_acc: 0.7892 - val_image_quality_output_acc: 0.5575 - val_age_output_acc: 0.3993 - val_weight_output_acc: 0.6488 - val_bag_output_acc: 0.6111 - val_footwear_output_acc: 0.6096 - val_pose_output_acc: 0.7688 - val_emotion_output_acc: 0.7118\n",
            "Epoch 75/100\n",
            "360/360 [==============================] - 160s 443ms/step - loss: 6.1853 - gender_output_loss: 0.3307 - image_quality_output_loss: 0.8780 - age_output_loss: 1.2979 - weight_output_loss: 0.8847 - bag_output_loss: 0.7441 - footwear_output_loss: 0.7465 - pose_output_loss: 0.4675 - emotion_output_loss: 0.8359 - gender_output_acc: 0.8522 - image_quality_output_acc: 0.5827 - age_output_acc: 0.4310 - weight_output_acc: 0.6532 - bag_output_acc: 0.6857 - footwear_output_acc: 0.6656 - pose_output_acc: 0.8172 - emotion_output_acc: 0.7139 - val_loss: 7.0387 - val_gender_output_loss: 0.4691 - val_image_quality_output_loss: 0.9749 - val_age_output_loss: 1.3883 - val_weight_output_loss: 0.9251 - val_bag_output_loss: 0.9130 - val_footwear_output_loss: 0.8722 - val_pose_output_loss: 0.6153 - val_emotion_output_loss: 0.8808 - val_gender_output_acc: 0.7743 - val_image_quality_output_acc: 0.5546 - val_age_output_acc: 0.3904 - val_weight_output_acc: 0.6409 - val_bag_output_acc: 0.5878 - val_footwear_output_acc: 0.6022 - val_pose_output_acc: 0.7569 - val_emotion_output_acc: 0.7113\n",
            "Epoch 76/100\n",
            "360/360 [==============================] - 160s 444ms/step - loss: 6.2006 - gender_output_loss: 0.3430 - image_quality_output_loss: 0.8830 - age_output_loss: 1.2986 - weight_output_loss: 0.8837 - bag_output_loss: 0.7441 - footwear_output_loss: 0.7434 - pose_output_loss: 0.4637 - emotion_output_loss: 0.8411 - gender_output_acc: 0.8474 - image_quality_output_acc: 0.5848 - age_output_acc: 0.4415 - weight_output_acc: 0.6544 - bag_output_acc: 0.6883 - footwear_output_acc: 0.6701 - pose_output_acc: 0.8163 - emotion_output_acc: 0.7117 - val_loss: 7.0705 - val_gender_output_loss: 0.4635 - val_image_quality_output_loss: 1.0473 - val_age_output_loss: 1.3958 - val_weight_output_loss: 0.9182 - val_bag_output_loss: 0.8762 - val_footwear_output_loss: 0.8614 - val_pose_output_loss: 0.6269 - val_emotion_output_loss: 0.8813 - val_gender_output_acc: 0.7798 - val_image_quality_output_acc: 0.5273 - val_age_output_acc: 0.3968 - val_weight_output_acc: 0.6399 - val_bag_output_acc: 0.6126 - val_footwear_output_acc: 0.6037 - val_pose_output_acc: 0.7545 - val_emotion_output_acc: 0.7118\n",
            "Epoch 77/100\n",
            "360/360 [==============================] - 161s 446ms/step - loss: 6.1757 - gender_output_loss: 0.3317 - image_quality_output_loss: 0.8752 - age_output_loss: 1.2976 - weight_output_loss: 0.8780 - bag_output_loss: 0.7399 - footwear_output_loss: 0.7515 - pose_output_loss: 0.4633 - emotion_output_loss: 0.8384 - gender_output_acc: 0.8557 - image_quality_output_acc: 0.5921 - age_output_acc: 0.4325 - weight_output_acc: 0.6518 - bag_output_acc: 0.6915 - footwear_output_acc: 0.6634 - pose_output_acc: 0.8212 - emotion_output_acc: 0.7128 - val_loss: 7.0859 - val_gender_output_loss: 0.5088 - val_image_quality_output_loss: 0.9999 - val_age_output_loss: 1.3868 - val_weight_output_loss: 0.9255 - val_bag_output_loss: 0.9086 - val_footwear_output_loss: 0.8571 - val_pose_output_loss: 0.6212 - val_emotion_output_loss: 0.8780 - val_gender_output_acc: 0.7594 - val_image_quality_output_acc: 0.5546 - val_age_output_acc: 0.3993 - val_weight_output_acc: 0.6399 - val_bag_output_acc: 0.6027 - val_footwear_output_acc: 0.6166 - val_pose_output_acc: 0.7555 - val_emotion_output_acc: 0.7113\n",
            "Epoch 78/100\n",
            "360/360 [==============================] - 161s 446ms/step - loss: 6.1906 - gender_output_loss: 0.3334 - image_quality_output_loss: 0.8807 - age_output_loss: 1.2968 - weight_output_loss: 0.8801 - bag_output_loss: 0.7478 - footwear_output_loss: 0.7524 - pose_output_loss: 0.4635 - emotion_output_loss: 0.8358 - gender_output_acc: 0.8525 - image_quality_output_acc: 0.5828 - age_output_acc: 0.4360 - weight_output_acc: 0.6523 - bag_output_acc: 0.6859 - footwear_output_acc: 0.6644 - pose_output_acc: 0.8189 - emotion_output_acc: 0.7138 - val_loss: 7.1527 - val_gender_output_loss: 0.4901 - val_image_quality_output_loss: 1.0673 - val_age_output_loss: 1.3873 - val_weight_output_loss: 0.9292 - val_bag_output_loss: 0.8823 - val_footwear_output_loss: 0.8812 - val_pose_output_loss: 0.6311 - val_emotion_output_loss: 0.8843 - val_gender_output_acc: 0.7510 - val_image_quality_output_acc: 0.5516 - val_age_output_acc: 0.3874 - val_weight_output_acc: 0.6404 - val_bag_output_acc: 0.5987 - val_footwear_output_acc: 0.6002 - val_pose_output_acc: 0.7416 - val_emotion_output_acc: 0.7113\n",
            "Epoch 79/100\n",
            "360/360 [==============================] - 160s 445ms/step - loss: 6.1877 - gender_output_loss: 0.3346 - image_quality_output_loss: 0.8816 - age_output_loss: 1.2942 - weight_output_loss: 0.8774 - bag_output_loss: 0.7495 - footwear_output_loss: 0.7491 - pose_output_loss: 0.4653 - emotion_output_loss: 0.8361 - gender_output_acc: 0.8534 - image_quality_output_acc: 0.5806 - age_output_acc: 0.4309 - weight_output_acc: 0.6556 - bag_output_acc: 0.6843 - footwear_output_acc: 0.6701 - pose_output_acc: 0.8192 - emotion_output_acc: 0.7131 - val_loss: 7.0139 - val_gender_output_loss: 0.4455 - val_image_quality_output_loss: 1.0077 - val_age_output_loss: 1.3760 - val_weight_output_loss: 0.9253 - val_bag_output_loss: 0.9095 - val_footwear_output_loss: 0.8620 - val_pose_output_loss: 0.6106 - val_emotion_output_loss: 0.8773 - val_gender_output_acc: 0.7882 - val_image_quality_output_acc: 0.5521 - val_age_output_acc: 0.4048 - val_weight_output_acc: 0.6409 - val_bag_output_acc: 0.5933 - val_footwear_output_acc: 0.6081 - val_pose_output_acc: 0.7550 - val_emotion_output_acc: 0.7113\n",
            "Epoch 80/100\n",
            "360/360 [==============================] - 160s 444ms/step - loss: 6.1889 - gender_output_loss: 0.3350 - image_quality_output_loss: 0.8857 - age_output_loss: 1.3025 - weight_output_loss: 0.8737 - bag_output_loss: 0.7454 - footwear_output_loss: 0.7486 - pose_output_loss: 0.4621 - emotion_output_loss: 0.8360 - gender_output_acc: 0.8519 - image_quality_output_acc: 0.5813 - age_output_acc: 0.4311 - weight_output_acc: 0.6611 - bag_output_acc: 0.6895 - footwear_output_acc: 0.6726 - pose_output_acc: 0.8198 - emotion_output_acc: 0.7134 - val_loss: 7.0053 - val_gender_output_loss: 0.4720 - val_image_quality_output_loss: 0.9509 - val_age_output_loss: 1.3851 - val_weight_output_loss: 0.9264 - val_bag_output_loss: 0.9100 - val_footwear_output_loss: 0.8683 - val_pose_output_loss: 0.6144 - val_emotion_output_loss: 0.8782 - val_gender_output_acc: 0.7713 - val_image_quality_output_acc: 0.5605 - val_age_output_acc: 0.3958 - val_weight_output_acc: 0.6448 - val_bag_output_acc: 0.6057 - val_footwear_output_acc: 0.6131 - val_pose_output_acc: 0.7579 - val_emotion_output_acc: 0.7118\n",
            "Epoch 81/100\n",
            "360/360 [==============================] - 159s 442ms/step - loss: 6.1800 - gender_output_loss: 0.3416 - image_quality_output_loss: 0.8764 - age_output_loss: 1.2997 - weight_output_loss: 0.8778 - bag_output_loss: 0.7433 - footwear_output_loss: 0.7471 - pose_output_loss: 0.4618 - emotion_output_loss: 0.8324 - gender_output_acc: 0.8515 - image_quality_output_acc: 0.5912 - age_output_acc: 0.4354 - weight_output_acc: 0.6520 - bag_output_acc: 0.6886 - footwear_output_acc: 0.6705 - pose_output_acc: 0.8188 - emotion_output_acc: 0.7129 - val_loss: 6.8821 - val_gender_output_loss: 0.4503 - val_image_quality_output_loss: 0.9336 - val_age_output_loss: 1.3790 - val_weight_output_loss: 0.9146 - val_bag_output_loss: 0.8748 - val_footwear_output_loss: 0.8581 - val_pose_output_loss: 0.5925 - val_emotion_output_loss: 0.8792 - val_gender_output_acc: 0.7852 - val_image_quality_output_acc: 0.5630 - val_age_output_acc: 0.3879 - val_weight_output_acc: 0.6473 - val_bag_output_acc: 0.6136 - val_footwear_output_acc: 0.6151 - val_pose_output_acc: 0.7659 - val_emotion_output_acc: 0.7113\n",
            "Epoch 82/100\n",
            "359/360 [============================>.] - ETA: 0s - loss: 6.1775 - gender_output_loss: 0.3285 - image_quality_output_loss: 0.8811 - age_output_loss: 1.2997 - weight_output_loss: 0.8768 - bag_output_loss: 0.7494 - footwear_output_loss: 0.7461 - pose_output_loss: 0.4599 - emotion_output_loss: 0.8361 - gender_output_acc: 0.8538 - image_quality_output_acc: 0.5854 - age_output_acc: 0.4330 - weight_output_acc: 0.6564 - bag_output_acc: 0.6840 - footwear_output_acc: 0.6679 - pose_output_acc: 0.8220 - emotion_output_acc: 0.7125Epoch 82/100\n",
            "360/360 [==============================] - 160s 443ms/step - loss: 6.1789 - gender_output_loss: 0.3287 - image_quality_output_loss: 0.8811 - age_output_loss: 1.2999 - weight_output_loss: 0.8769 - bag_output_loss: 0.7497 - footwear_output_loss: 0.7465 - pose_output_loss: 0.4606 - emotion_output_loss: 0.8355 - gender_output_acc: 0.8536 - image_quality_output_acc: 0.5853 - age_output_acc: 0.4332 - weight_output_acc: 0.6562 - bag_output_acc: 0.6839 - footwear_output_acc: 0.6674 - pose_output_acc: 0.8217 - emotion_output_acc: 0.7127 - val_loss: 7.0870 - val_gender_output_loss: 0.5208 - val_image_quality_output_loss: 0.9487 - val_age_output_loss: 1.3899 - val_weight_output_loss: 0.9359 - val_bag_output_loss: 0.8978 - val_footwear_output_loss: 0.8837 - val_pose_output_loss: 0.6264 - val_emotion_output_loss: 0.8840 - val_gender_output_acc: 0.7401 - val_image_quality_output_acc: 0.5526 - val_age_output_acc: 0.3924 - val_weight_output_acc: 0.6394 - val_bag_output_acc: 0.5982 - val_footwear_output_acc: 0.6022 - val_pose_output_acc: 0.7510 - val_emotion_output_acc: 0.7113\n",
            "Epoch 83/100\n",
            "360/360 [==============================] - 159s 443ms/step - loss: 6.1500 - gender_output_loss: 0.3294 - image_quality_output_loss: 0.8723 - age_output_loss: 1.3048 - weight_output_loss: 0.8745 - bag_output_loss: 0.7393 - footwear_output_loss: 0.7413 - pose_output_loss: 0.4541 - emotion_output_loss: 0.8344 - gender_output_acc: 0.8545 - image_quality_output_acc: 0.5873 - age_output_acc: 0.4320 - weight_output_acc: 0.6535 - bag_output_acc: 0.6935 - footwear_output_acc: 0.6731 - pose_output_acc: 0.8245 - emotion_output_acc: 0.7133 - val_loss: 7.0010 - val_gender_output_loss: 0.4696 - val_image_quality_output_loss: 0.9554 - val_age_output_loss: 1.3761 - val_weight_output_loss: 0.9211 - val_bag_output_loss: 0.9001 - val_footwear_output_loss: 0.8710 - val_pose_output_loss: 0.6233 - val_emotion_output_loss: 0.8844 - val_gender_output_acc: 0.7728 - val_image_quality_output_acc: 0.5665 - val_age_output_acc: 0.4053 - val_weight_output_acc: 0.6399 - val_bag_output_acc: 0.6002 - val_footwear_output_acc: 0.6121 - val_pose_output_acc: 0.7406 - val_emotion_output_acc: 0.7113\n",
            "Epoch 84/100\n",
            "360/360 [==============================] - 160s 445ms/step - loss: 6.1537 - gender_output_loss: 0.3377 - image_quality_output_loss: 0.8773 - age_output_loss: 1.2914 - weight_output_loss: 0.8785 - bag_output_loss: 0.7373 - footwear_output_loss: 0.7458 - pose_output_loss: 0.4529 - emotion_output_loss: 0.8328 - gender_output_acc: 0.8504 - image_quality_output_acc: 0.5848 - age_output_acc: 0.4306 - weight_output_acc: 0.6529 - bag_output_acc: 0.6905 - footwear_output_acc: 0.6679 - pose_output_acc: 0.8229 - emotion_output_acc: 0.7136 - val_loss: 7.1084 - val_gender_output_loss: 0.5121 - val_image_quality_output_loss: 1.0198 - val_age_output_loss: 1.3814 - val_weight_output_loss: 0.9209 - val_bag_output_loss: 0.9045 - val_footwear_output_loss: 0.8721 - val_pose_output_loss: 0.6157 - val_emotion_output_loss: 0.8818 - val_gender_output_acc: 0.7535 - val_image_quality_output_acc: 0.5446 - val_age_output_acc: 0.3978 - val_weight_output_acc: 0.6463 - val_bag_output_acc: 0.6136 - val_footwear_output_acc: 0.5992 - val_pose_output_acc: 0.7550 - val_emotion_output_acc: 0.7113\n",
            "Epoch 85/100\n",
            "360/360 [==============================] - 162s 450ms/step - loss: 6.1652 - gender_output_loss: 0.3319 - image_quality_output_loss: 0.8751 - age_output_loss: 1.2997 - weight_output_loss: 0.8786 - bag_output_loss: 0.7424 - footwear_output_loss: 0.7413 - pose_output_loss: 0.4633 - emotion_output_loss: 0.8328 - gender_output_acc: 0.8543 - image_quality_output_acc: 0.5872 - age_output_acc: 0.4391 - weight_output_acc: 0.6500 - bag_output_acc: 0.6889 - footwear_output_acc: 0.6714 - pose_output_acc: 0.8161 - emotion_output_acc: 0.7129 - val_loss: 7.0540 - val_gender_output_loss: 0.4656 - val_image_quality_output_loss: 0.9999 - val_age_output_loss: 1.3887 - val_weight_output_loss: 0.9200 - val_bag_output_loss: 0.9195 - val_footwear_output_loss: 0.8815 - val_pose_output_loss: 0.6012 - val_emotion_output_loss: 0.8777 - val_gender_output_acc: 0.7708 - val_image_quality_output_acc: 0.5506 - val_age_output_acc: 0.3919 - val_weight_output_acc: 0.6414 - val_bag_output_acc: 0.5992 - val_footwear_output_acc: 0.6071 - val_pose_output_acc: 0.7698 - val_emotion_output_acc: 0.7123\n",
            "Epoch 86/100\n",
            "360/360 [==============================] - 161s 447ms/step - loss: 6.1765 - gender_output_loss: 0.3391 - image_quality_output_loss: 0.8772 - age_output_loss: 1.3079 - weight_output_loss: 0.8729 - bag_output_loss: 0.7417 - footwear_output_loss: 0.7499 - pose_output_loss: 0.4544 - emotion_output_loss: 0.8333 - gender_output_acc: 0.8511 - image_quality_output_acc: 0.5835 - age_output_acc: 0.4305 - weight_output_acc: 0.6595 - bag_output_acc: 0.6915 - footwear_output_acc: 0.6686 - pose_output_acc: 0.8247 - emotion_output_acc: 0.7132 - val_loss: 6.9786 - val_gender_output_loss: 0.4611 - val_image_quality_output_loss: 0.9860 - val_age_output_loss: 1.3734 - val_weight_output_loss: 0.9148 - val_bag_output_loss: 0.8915 - val_footwear_output_loss: 0.8659 - val_pose_output_loss: 0.6074 - val_emotion_output_loss: 0.8786 - val_gender_output_acc: 0.7708 - val_image_quality_output_acc: 0.5575 - val_age_output_acc: 0.3919 - val_weight_output_acc: 0.6424 - val_bag_output_acc: 0.5918 - val_footwear_output_acc: 0.6096 - val_pose_output_acc: 0.7505 - val_emotion_output_acc: 0.7113\n",
            "Epoch 87/100\n",
            "360/360 [==============================] - 163s 452ms/step - loss: 6.1528 - gender_output_loss: 0.3346 - image_quality_output_loss: 0.8759 - age_output_loss: 1.2961 - weight_output_loss: 0.8676 - bag_output_loss: 0.7369 - footwear_output_loss: 0.7470 - pose_output_loss: 0.4584 - emotion_output_loss: 0.8362 - gender_output_acc: 0.8520 - image_quality_output_acc: 0.5873 - age_output_acc: 0.4326 - weight_output_acc: 0.6550 - bag_output_acc: 0.6895 - footwear_output_acc: 0.6696 - pose_output_acc: 0.8189 - emotion_output_acc: 0.7117 - val_loss: 7.0279 - val_gender_output_loss: 0.4381 - val_image_quality_output_loss: 1.0076 - val_age_output_loss: 1.3742 - val_weight_output_loss: 0.9168 - val_bag_output_loss: 0.9316 - val_footwear_output_loss: 0.8772 - val_pose_output_loss: 0.6043 - val_emotion_output_loss: 0.8781 - val_gender_output_acc: 0.7877 - val_image_quality_output_acc: 0.5516 - val_age_output_acc: 0.3993 - val_weight_output_acc: 0.6429 - val_bag_output_acc: 0.5838 - val_footwear_output_acc: 0.6136 - val_pose_output_acc: 0.7540 - val_emotion_output_acc: 0.7118\n",
            "Epoch 88/100\n",
            "360/360 [==============================] - 163s 452ms/step - loss: 6.1466 - gender_output_loss: 0.3277 - image_quality_output_loss: 0.8775 - age_output_loss: 1.2913 - weight_output_loss: 0.8738 - bag_output_loss: 0.7441 - footwear_output_loss: 0.7438 - pose_output_loss: 0.4521 - emotion_output_loss: 0.8363 - gender_output_acc: 0.8551 - image_quality_output_acc: 0.5869 - age_output_acc: 0.4361 - weight_output_acc: 0.6577 - bag_output_acc: 0.6899 - footwear_output_acc: 0.6693 - pose_output_acc: 0.8197 - emotion_output_acc: 0.7141 - val_loss: 6.9511 - val_gender_output_loss: 0.4518 - val_image_quality_output_loss: 0.9448 - val_age_output_loss: 1.3846 - val_weight_output_loss: 0.9266 - val_bag_output_loss: 0.8825 - val_footwear_output_loss: 0.8663 - val_pose_output_loss: 0.6151 - val_emotion_output_loss: 0.8795 - val_gender_output_acc: 0.7887 - val_image_quality_output_acc: 0.5580 - val_age_output_acc: 0.4003 - val_weight_output_acc: 0.6409 - val_bag_output_acc: 0.5992 - val_footwear_output_acc: 0.6126 - val_pose_output_acc: 0.7584 - val_emotion_output_acc: 0.7113\n",
            "Epoch 89/100\n",
            "360/360 [==============================] - 165s 459ms/step - loss: 6.1687 - gender_output_loss: 0.3320 - image_quality_output_loss: 0.8799 - age_output_loss: 1.2956 - weight_output_loss: 0.8782 - bag_output_loss: 0.7422 - footwear_output_loss: 0.7480 - pose_output_loss: 0.4595 - emotion_output_loss: 0.8333 - gender_output_acc: 0.8530 - image_quality_output_acc: 0.5870 - age_output_acc: 0.4308 - weight_output_acc: 0.6556 - bag_output_acc: 0.6930 - footwear_output_acc: 0.6642 - pose_output_acc: 0.8195 - emotion_output_acc: 0.7161 - val_loss: 7.0091 - val_gender_output_loss: 0.4787 - val_image_quality_output_loss: 0.9495 - val_age_output_loss: 1.3823 - val_weight_output_loss: 0.9294 - val_bag_output_loss: 0.8787 - val_footwear_output_loss: 0.8942 - val_pose_output_loss: 0.6168 - val_emotion_output_loss: 0.8796 - val_gender_output_acc: 0.7594 - val_image_quality_output_acc: 0.5561 - val_age_output_acc: 0.3884 - val_weight_output_acc: 0.6384 - val_bag_output_acc: 0.6071 - val_footwear_output_acc: 0.6101 - val_pose_output_acc: 0.7550 - val_emotion_output_acc: 0.7108\n",
            "Epoch 90/100\n",
            "360/360 [==============================] - 165s 459ms/step - loss: 6.1715 - gender_output_loss: 0.3327 - image_quality_output_loss: 0.8826 - age_output_loss: 1.2999 - weight_output_loss: 0.8723 - bag_output_loss: 0.7418 - footwear_output_loss: 0.7416 - pose_output_loss: 0.4658 - emotion_output_loss: 0.8348 - gender_output_acc: 0.8518 - image_quality_output_acc: 0.5858 - age_output_acc: 0.4352 - weight_output_acc: 0.6563 - bag_output_acc: 0.6899 - footwear_output_acc: 0.6709 - pose_output_acc: 0.8119 - emotion_output_acc: 0.7122 - val_loss: 6.9517 - val_gender_output_loss: 0.4316 - val_image_quality_output_loss: 1.0073 - val_age_output_loss: 1.3831 - val_weight_output_loss: 0.9225 - val_bag_output_loss: 0.8707 - val_footwear_output_loss: 0.8558 - val_pose_output_loss: 0.5997 - val_emotion_output_loss: 0.8809 - val_gender_output_acc: 0.7887 - val_image_quality_output_acc: 0.5546 - val_age_output_acc: 0.3973 - val_weight_output_acc: 0.6409 - val_bag_output_acc: 0.6066 - val_footwear_output_acc: 0.6121 - val_pose_output_acc: 0.7669 - val_emotion_output_acc: 0.7113\n",
            "Epoch 91/100\n",
            "\n",
            "360/360 [==============================] - 165s 459ms/step - loss: 6.1153 - gender_output_loss: 0.3223 - image_quality_output_loss: 0.8738 - age_output_loss: 1.2894 - weight_output_loss: 0.8650 - bag_output_loss: 0.7355 - footwear_output_loss: 0.7405 - pose_output_loss: 0.4528 - emotion_output_loss: 0.8360 - gender_output_acc: 0.8563 - image_quality_output_acc: 0.5870 - age_output_acc: 0.4393 - weight_output_acc: 0.6580 - bag_output_acc: 0.6907 - footwear_output_acc: 0.6689 - pose_output_acc: 0.8214 - emotion_output_acc: 0.7140 - val_loss: 7.0063 - val_gender_output_loss: 0.4422 - val_image_quality_output_loss: 1.0123 - val_age_output_loss: 1.3843 - val_weight_output_loss: 0.9320 - val_bag_output_loss: 0.8863 - val_footwear_output_loss: 0.8678 - val_pose_output_loss: 0.6009 - val_emotion_output_loss: 0.8804 - val_gender_output_acc: 0.7907 - val_image_quality_output_acc: 0.5506 - val_age_output_acc: 0.4003 - val_weight_output_acc: 0.6374 - val_bag_output_acc: 0.6195 - val_footwear_output_acc: 0.6062 - val_pose_output_acc: 0.7594 - val_emotion_output_acc: 0.7123\n",
            "Epoch 92/100\n",
            "360/360 [==============================] - 165s 457ms/step - loss: 6.1345 - gender_output_loss: 0.3244 - image_quality_output_loss: 0.8753 - age_output_loss: 1.2964 - weight_output_loss: 0.8737 - bag_output_loss: 0.7361 - footwear_output_loss: 0.7439 - pose_output_loss: 0.4511 - emotion_output_loss: 0.8336 - gender_output_acc: 0.8550 - image_quality_output_acc: 0.5894 - age_output_acc: 0.4330 - weight_output_acc: 0.6546 - bag_output_acc: 0.6942 - footwear_output_acc: 0.6726 - pose_output_acc: 0.8275 - emotion_output_acc: 0.7134 - val_loss: 7.0523 - val_gender_output_loss: 0.4671 - val_image_quality_output_loss: 1.0043 - val_age_output_loss: 1.3857 - val_weight_output_loss: 0.9318 - val_bag_output_loss: 0.8903 - val_footwear_output_loss: 0.8707 - val_pose_output_loss: 0.6142 - val_emotion_output_loss: 0.8881 - val_gender_output_acc: 0.7763 - val_image_quality_output_acc: 0.5615 - val_age_output_acc: 0.3934 - val_weight_output_acc: 0.6399 - val_bag_output_acc: 0.6007 - val_footwear_output_acc: 0.6057 - val_pose_output_acc: 0.7594 - val_emotion_output_acc: 0.7113\n",
            "Epoch 93/100\n",
            "360/360 [==============================] - 163s 453ms/step - loss: 6.1349 - gender_output_loss: 0.3251 - image_quality_output_loss: 0.8779 - age_output_loss: 1.2861 - weight_output_loss: 0.8679 - bag_output_loss: 0.7421 - footwear_output_loss: 0.7406 - pose_output_loss: 0.4620 - emotion_output_loss: 0.8331 - gender_output_acc: 0.8558 - image_quality_output_acc: 0.5873 - age_output_acc: 0.4378 - weight_output_acc: 0.6530 - bag_output_acc: 0.6816 - footwear_output_acc: 0.6744 - pose_output_acc: 0.8200 - emotion_output_acc: 0.7150 - val_loss: 7.0368 - val_gender_output_loss: 0.4795 - val_image_quality_output_loss: 0.9816 - val_age_output_loss: 1.3866 - val_weight_output_loss: 0.9269 - val_bag_output_loss: 0.9048 - val_footwear_output_loss: 0.8631 - val_pose_output_loss: 0.6164 - val_emotion_output_loss: 0.8779 - val_gender_output_acc: 0.7793 - val_image_quality_output_acc: 0.5531 - val_age_output_acc: 0.3934 - val_weight_output_acc: 0.6424 - val_bag_output_acc: 0.6017 - val_footwear_output_acc: 0.6076 - val_pose_output_acc: 0.7659 - val_emotion_output_acc: 0.7113\n",
            "Epoch 94/100\n",
            "Epoch 93/100\n",
            "360/360 [==============================] - 164s 456ms/step - loss: 6.1319 - gender_output_loss: 0.3256 - image_quality_output_loss: 0.8734 - age_output_loss: 1.2941 - weight_output_loss: 0.8716 - bag_output_loss: 0.7367 - footwear_output_loss: 0.7465 - pose_output_loss: 0.4512 - emotion_output_loss: 0.8328 - gender_output_acc: 0.8606 - image_quality_output_acc: 0.5872 - age_output_acc: 0.4359 - weight_output_acc: 0.6539 - bag_output_acc: 0.6955 - footwear_output_acc: 0.6657 - pose_output_acc: 0.8236 - emotion_output_acc: 0.7133 - val_loss: 6.9584 - val_gender_output_loss: 0.4392 - val_image_quality_output_loss: 0.9768 - val_age_output_loss: 1.3834 - val_weight_output_loss: 0.9279 - val_bag_output_loss: 0.8948 - val_footwear_output_loss: 0.8703 - val_pose_output_loss: 0.5866 - val_emotion_output_loss: 0.8794 - val_gender_output_acc: 0.7956 - val_image_quality_output_acc: 0.5595 - val_age_output_acc: 0.3948 - val_weight_output_acc: 0.6448 - val_bag_output_acc: 0.6205 - val_footwear_output_acc: 0.5987 - val_pose_output_acc: 0.7669 - val_emotion_output_acc: 0.7113\n",
            "Epoch 95/100\n",
            "359/360 [============================>.] - ETA: 0s - loss: 6.1054 - gender_output_loss: 0.3226 - image_quality_output_loss: 0.8729 - age_output_loss: 1.2855 - weight_output_loss: 0.8758 - bag_output_loss: 0.7364 - footwear_output_loss: 0.7345 - pose_output_loss: 0.4428 - emotion_output_loss: 0.8350 - gender_output_acc: 0.8604 - image_quality_output_acc: 0.5884 - age_output_acc: 0.4351 - weight_output_acc: 0.6542 - bag_output_acc: 0.6964 - footwear_output_acc: 0.6732 - pose_output_acc: 0.8265 - emotion_output_acc: 0.7141\b\b\b\b\b\b\b\b\b\b\b\b\b\b\b\b\b\b\b\b\b\b\b\b\b\b\b\b\b\b\b\b\b\b\b\b\b\b\b\b\b\b\b\b\b\b\b\b\b\b\b\b\b\b\b\b\b\b\b\b\b\b\b\b\b\b\b\b\b\b\b\b\b\b\b\b\b\b\b\b\b\b\b\b\b\b\b\b\b\b\b\b\b\b\b\b\b\b\b\b\b\b\b\b\b\b\b\b\b\b\b\b\b\b\b\b\b\b\b\b\b\b\b\b\b\b\b\b\b\b\b\b\b\b\b\b\b\b\b\b\b\b\b\b\b\b\b\b\b\b\b\b\b\b\b\b\b\b\b\b\b\b\b\b\b\b\b\b\b\b\b\b\b\b\b\b\b\b\b\b\b\b\b\b\b\b\b\b\b\b\b\b\b\b\b\b\b\b\b\b\b\b\b\b\b\b\b\b\b\b\b\b\b\b\b\b\b\b\b\b\b\b\b\b\b\b\b\b\b\b\b\b\b\b\b\b\b\b\b\b\b\b\b\b\b\b\b\b\b\b\b\b\b\b\b\b\b\b\b\b\b\b\b\b\b\b\b\b\b\b\b\b\b\b\b\b\b\b\b\b\b\b\b\b\b\b\b\b\b\b\b\b\b\b\b\b\b\b\b\b\b\b\b\b\b\b\b\b\b\b\b\b\b\b\b\b\b\b\b\b\b\b\b\b\b\b\b\b\b\b\b\b\b\b\b\b\b\b\b\b\b\b\b\b\b\b\b\b\b\b\b\b\b\b\b\b\b\b\b\b\b\b\b\b\b\b\b\b\b\b\b\b\b\b\b\b\b\b\b\b\b\b\b\b\b\b\b\b\b\b\b\b\b\b\b\b\b\b\b\b\b\b\b\b\b\b\b\b\b\b\b\b\b\b\b\b\b\b\b\b\b\b\b\b\b\b\b\b\b\b\b\b\b\b\b\b\b\b\b\b\b\b\b\b\b\b\b\b\b\b\b\b\b\b\b\b\b\b\b\b\b\b\b\b\b\b\b\b\b\b\b\b\b\b\b\b\b\b\b\b\b\b\b\b\b\b\b\b\b\b\b\b\b\b\b\b\b\b\b\b\b\b\b\b\b\b\b\b\b\b\b\b\b\b\b\b\b\b\b\b\b\b\b\b\bEpoch 95/100\n",
            "360/360 [==============================] - 163s 453ms/step - loss: 6.1063 - gender_output_loss: 0.3227 - image_quality_output_loss: 0.8728 - age_output_loss: 1.2852 - weight_output_loss: 0.8761 - bag_output_loss: 0.7364 - footwear_output_loss: 0.7345 - pose_output_loss: 0.4428 - emotion_output_loss: 0.8359 - gender_output_acc: 0.8603 - image_quality_output_acc: 0.5886 - age_output_acc: 0.4355 - weight_output_acc: 0.6540 - bag_output_acc: 0.6961 - footwear_output_acc: 0.6732 - pose_output_acc: 0.8265 - emotion_output_acc: 0.7136 - val_loss: 7.0499 - val_gender_output_loss: 0.4881 - val_image_quality_output_loss: 1.0201 - val_age_output_loss: 1.3711 - val_weight_output_loss: 0.9252 - val_bag_output_loss: 0.8936 - val_footwear_output_loss: 0.8658 - val_pose_output_loss: 0.6057 - val_emotion_output_loss: 0.8803 - val_gender_output_acc: 0.7773 - val_image_quality_output_acc: 0.5531 - val_age_output_acc: 0.4043 - val_weight_output_acc: 0.6419 - val_bag_output_acc: 0.6002 - val_footwear_output_acc: 0.6116 - val_pose_output_acc: 0.7639 - val_emotion_output_acc: 0.7113\n",
            "Epoch 96/100\n",
            "360/360 [==============================] - 162s 450ms/step - loss: 6.1126 - gender_output_loss: 0.3202 - image_quality_output_loss: 0.8733 - age_output_loss: 1.2889 - weight_output_loss: 0.8726 - bag_output_loss: 0.7368 - footwear_output_loss: 0.7381 - pose_output_loss: 0.4524 - emotion_output_loss: 0.8303 - gender_output_acc: 0.8589 - image_quality_output_acc: 0.5895 - age_output_acc: 0.4350 - weight_output_acc: 0.6516 - bag_output_acc: 0.6911 - footwear_output_acc: 0.6740 - pose_output_acc: 0.8244 - emotion_output_acc: 0.7144 - val_loss: 7.1111 - val_gender_output_loss: 0.5095 - val_image_quality_output_loss: 0.9743 - val_age_output_loss: 1.3849 - val_weight_output_loss: 0.9406 - val_bag_output_loss: 0.9171 - val_footwear_output_loss: 0.8725 - val_pose_output_loss: 0.6288 - val_emotion_output_loss: 0.8832 - val_gender_output_acc: 0.7515 - val_image_quality_output_acc: 0.5511 - val_age_output_acc: 0.3988 - val_weight_output_acc: 0.6394 - val_bag_output_acc: 0.6047 - val_footwear_output_acc: 0.6156 - val_pose_output_acc: 0.7505 - val_emotion_output_acc: 0.7113\n",
            "Epoch 97/100\n",
            "\n",
            "360/360 [==============================] - 162s 450ms/step - loss: 6.1184 - gender_output_loss: 0.3238 - image_quality_output_loss: 0.8745 - age_output_loss: 1.2937 - weight_output_loss: 0.8765 - bag_output_loss: 0.7341 - footwear_output_loss: 0.7400 - pose_output_loss: 0.4445 - emotion_output_loss: 0.8312 - gender_output_acc: 0.8614 - image_quality_output_acc: 0.5855 - age_output_acc: 0.4364 - weight_output_acc: 0.6552 - bag_output_acc: 0.6927 - footwear_output_acc: 0.6714 - pose_output_acc: 0.8233 - emotion_output_acc: 0.7132 - val_loss: 7.0170 - val_gender_output_loss: 0.4717 - val_image_quality_output_loss: 0.9914 - val_age_output_loss: 1.3764 - val_weight_output_loss: 0.9280 - val_bag_output_loss: 0.8922 - val_footwear_output_loss: 0.8630 - val_pose_output_loss: 0.6099 - val_emotion_output_loss: 0.8844 - val_gender_output_acc: 0.7768 - val_image_quality_output_acc: 0.5565 - val_age_output_acc: 0.3968 - val_weight_output_acc: 0.6369 - val_bag_output_acc: 0.6052 - val_footwear_output_acc: 0.6091 - val_pose_output_acc: 0.7520 - val_emotion_output_acc: 0.7118\n",
            "Epoch 98/100\n",
            "360/360 [==============================] - 161s 447ms/step - loss: 6.0991 - gender_output_loss: 0.3279 - image_quality_output_loss: 0.8720 - age_output_loss: 1.2830 - weight_output_loss: 0.8699 - bag_output_loss: 0.7300 - footwear_output_loss: 0.7433 - pose_output_loss: 0.4446 - emotion_output_loss: 0.8283 - gender_output_acc: 0.8531 - image_quality_output_acc: 0.5930 - age_output_acc: 0.4402 - weight_output_acc: 0.6569 - bag_output_acc: 0.6973 - footwear_output_acc: 0.6730 - pose_output_acc: 0.8301 - emotion_output_acc: 0.7143 - val_loss: 6.9998 - val_gender_output_loss: 0.4664 - val_image_quality_output_loss: 0.9899 - val_age_output_loss: 1.3838 - val_weight_output_loss: 0.9217 - val_bag_output_loss: 0.8817 - val_footwear_output_loss: 0.8693 - val_pose_output_loss: 0.6108 - val_emotion_output_loss: 0.8763 - val_gender_output_acc: 0.7758 - val_image_quality_output_acc: 0.5546 - val_age_output_acc: 0.3948 - val_weight_output_acc: 0.6399 - val_bag_output_acc: 0.6195 - val_footwear_output_acc: 0.6096 - val_pose_output_acc: 0.7639 - val_emotion_output_acc: 0.7118\n",
            "Epoch 99/100\n",
            "360/360 [==============================] - 161s 448ms/step - loss: 6.1067 - gender_output_loss: 0.3255 - image_quality_output_loss: 0.8697 - age_output_loss: 1.2879 - weight_output_loss: 0.8719 - bag_output_loss: 0.7311 - footwear_output_loss: 0.7449 - pose_output_loss: 0.4446 - emotion_output_loss: 0.8311 - gender_output_acc: 0.8576 - image_quality_output_acc: 0.5897 - age_output_acc: 0.4437 - weight_output_acc: 0.6534 - bag_output_acc: 0.6964 - footwear_output_acc: 0.6695 - pose_output_acc: 0.8247 - emotion_output_acc: 0.7140 - val_loss: 7.2595 - val_gender_output_loss: 0.4576 - val_image_quality_output_loss: 1.1542 - val_age_output_loss: 1.3901 - val_weight_output_loss: 0.9285 - val_bag_output_loss: 0.9132 - val_footwear_output_loss: 0.8993 - val_pose_output_loss: 0.6345 - val_emotion_output_loss: 0.8821 - val_gender_output_acc: 0.7808 - val_image_quality_output_acc: 0.5248 - val_age_output_acc: 0.3914 - val_weight_output_acc: 0.6389 - val_bag_output_acc: 0.5952 - val_footwear_output_acc: 0.6017 - val_pose_output_acc: 0.7450 - val_emotion_output_acc: 0.7113\n",
            "Epoch 100/100\n",
            "360/360 [==============================] - 162s 451ms/step - loss: 6.1003 - gender_output_loss: 0.3265 - image_quality_output_loss: 0.8685 - age_output_loss: 1.2843 - weight_output_loss: 0.8703 - bag_output_loss: 0.7417 - footwear_output_loss: 0.7381 - pose_output_loss: 0.4400 - emotion_output_loss: 0.8309 - gender_output_acc: 0.8562 - image_quality_output_acc: 0.5938 - age_output_acc: 0.4377 - weight_output_acc: 0.6549 - bag_output_acc: 0.6869 - footwear_output_acc: 0.6739 - pose_output_acc: 0.8308 - emotion_output_acc: 0.7131 - val_loss: 7.0780 - val_gender_output_loss: 0.4723 - val_image_quality_output_loss: 0.9881 - val_age_output_loss: 1.3821 - val_weight_output_loss: 0.9317 - val_bag_output_loss: 0.9065 - val_footwear_output_loss: 0.8744 - val_pose_output_loss: 0.6368 - val_emotion_output_loss: 0.8859 - val_gender_output_acc: 0.7574 - val_image_quality_output_acc: 0.5575 - val_age_output_acc: 0.3978 - val_weight_output_acc: 0.6419 - val_bag_output_acc: 0.5987 - val_footwear_output_acc: 0.6091 - val_pose_output_acc: 0.7569 - val_emotion_output_acc: 0.7123\n"
          ],
          "name": "stdout"
        },
        {
          "output_type": "execute_result",
          "data": {
            "text/plain": [
              "<keras.callbacks.History at 0x7f7dc76d7908>"
            ]
          },
          "metadata": {
            "tags": []
          },
          "execution_count": 20
        }
      ]
    },
    {
      "cell_type": "code",
      "metadata": {
        "id": "SKJRC9gxjNct",
        "colab_type": "code",
        "colab": {}
      },
      "source": [
        "modelone.save('model2.h5')\n",
        "model_file = drive.CreateFile({'title' : 'model2.h5'})                      \n",
        "model_file.SetContentFile('model2.h5')                      \n",
        "model_file.Upload()"
      ],
      "execution_count": 0,
      "outputs": []
    },
    {
      "cell_type": "code",
      "metadata": {
        "id": "N_Us8OcukKzn",
        "colab_type": "code",
        "outputId": "64522fe9-b02c-46b0-ec59-360ef54b7ab7",
        "colab": {
          "base_uri": "https://localhost:8080/",
          "height": 34
        }
      },
      "source": [
        "drive.CreateFile({'id': model_file.get('id')})\n"
      ],
      "execution_count": 0,
      "outputs": [
        {
          "output_type": "execute_result",
          "data": {
            "text/plain": [
              "GoogleDriveFile({'id': '11APS8jHzOC5lr3L7oDqXwE966Z3FMJAi'})"
            ]
          },
          "metadata": {
            "tags": []
          },
          "execution_count": 25
        }
      ]
    },
    {
      "cell_type": "markdown",
      "metadata": {
        "id": "8Kph6DxMXotO",
        "colab_type": "text"
      },
      "source": [
        "***LOADING MODEL BACK FOR SECOND RUN***"
      ]
    },
    {
      "cell_type": "code",
      "metadata": {
        "id": "8r7oVfrzXiax",
        "colab_type": "code",
        "colab": {}
      },
      "source": [
        "file_obj = drive.CreateFile({'id': '11APS8jHzOC5lr3L7oDqXwE966Z3FMJAi'})                       \n",
        "file_obj.GetContentFile('keras1.h5')"
      ],
      "execution_count": 0,
      "outputs": []
    },
    {
      "cell_type": "code",
      "metadata": {
        "id": "s-FKEfXtXiWc",
        "colab_type": "code",
        "colab": {}
      },
      "source": [
        "from keras.models import load_model\n",
        "# Assuming your model includes instance of an \"AttentionLayer\" class\n",
        "modeltwo = load_model('keras1.h5')"
      ],
      "execution_count": 0,
      "outputs": []
    },
    {
      "cell_type": "code",
      "metadata": {
        "id": "fGdchSmMXiSr",
        "colab_type": "code",
        "colab": {}
      },
      "source": [
        "loss_weights = {\"age_output\": 1.0}\n",
        "\n",
        "opt = SGD(lr=0.01, momentum=0.9)\n",
        "modeltwo.compile(\n",
        "    optimizer=opt,\n",
        "    loss=\"categorical_crossentropy\",\n",
        "    #loss_weights=loss_weights, \n",
        "    metrics=[\"accuracy\"]\n",
        ")"
      ],
      "execution_count": 0,
      "outputs": []
    },
    {
      "cell_type": "code",
      "metadata": {
        "id": "_f4uyHqMXiP8",
        "colab_type": "code",
        "outputId": "0652cd21-fd11-466c-8ce4-5440df63567e",
        "colab": {
          "base_uri": "https://localhost:8080/",
          "height": 246
        }
      },
      "source": [
        "modeltwo.fit_generator(\n",
        "    generator=train_gen,\n",
        "    validation_data=valid_gen,\n",
        "    use_multiprocessing=True,\n",
        "    workers=4, \n",
        "    epochs=100,\n",
        "    verbose=1\n",
        "    #callbacks=callbacks\n",
        ")"
      ],
      "execution_count": 27,
      "outputs": [
        {
          "output_type": "error",
          "ename": "NameError",
          "evalue": "ignored",
          "traceback": [
            "\u001b[0;31m---------------------------------------------------------------------------\u001b[0m",
            "\u001b[0;31mNameError\u001b[0m                                 Traceback (most recent call last)",
            "\u001b[0;32m<ipython-input-27-5036b097dee6>\u001b[0m in \u001b[0;36m<module>\u001b[0;34m()\u001b[0m\n\u001b[0;32m----> 1\u001b[0;31m modeltwo.fit_generator(\n\u001b[0m\u001b[1;32m      2\u001b[0m     \u001b[0mgenerator\u001b[0m\u001b[0;34m=\u001b[0m\u001b[0mtrain_gen\u001b[0m\u001b[0;34m,\u001b[0m\u001b[0;34m\u001b[0m\u001b[0;34m\u001b[0m\u001b[0m\n\u001b[1;32m      3\u001b[0m     \u001b[0mvalidation_data\u001b[0m\u001b[0;34m=\u001b[0m\u001b[0mvalid_gen\u001b[0m\u001b[0;34m,\u001b[0m\u001b[0;34m\u001b[0m\u001b[0;34m\u001b[0m\u001b[0m\n\u001b[1;32m      4\u001b[0m     \u001b[0muse_multiprocessing\u001b[0m\u001b[0;34m=\u001b[0m\u001b[0;32mTrue\u001b[0m\u001b[0;34m,\u001b[0m\u001b[0;34m\u001b[0m\u001b[0;34m\u001b[0m\u001b[0m\n\u001b[1;32m      5\u001b[0m     \u001b[0mworkers\u001b[0m\u001b[0;34m=\u001b[0m\u001b[0;36m4\u001b[0m\u001b[0;34m,\u001b[0m\u001b[0;34m\u001b[0m\u001b[0;34m\u001b[0m\u001b[0m\n",
            "\u001b[0;31mNameError\u001b[0m: name 'modeltwo' is not defined"
          ]
        }
      ]
    },
    {
      "cell_type": "code",
      "metadata": {
        "id": "h9UmeuT6JpmS",
        "colab_type": "code",
        "colab": {}
      },
      "source": [
        "modeltwo.save('model3.h5')\n",
        "model_file = drive.CreateFile({'title' : 'model3.h5'})                      \n",
        "model_file.SetContentFile('model3.h5')                      \n",
        "model_file.Upload()"
      ],
      "execution_count": 0,
      "outputs": []
    },
    {
      "cell_type": "code",
      "metadata": {
        "id": "iKewvUAqJpi3",
        "colab_type": "code",
        "outputId": "e1fd0b37-1f0e-48d0-a49e-0c9febd01ea6",
        "colab": {
          "base_uri": "https://localhost:8080/",
          "height": 34
        }
      },
      "source": [
        "drive.CreateFile({'id': model_file.get('id')})\n"
      ],
      "execution_count": 0,
      "outputs": [
        {
          "output_type": "execute_result",
          "data": {
            "text/plain": [
              "GoogleDriveFile({'id': '1SsX2mCIdhatW8SiWlIueTXRP9tVfkTap'})"
            ]
          },
          "metadata": {
            "tags": []
          },
          "execution_count": 43
        }
      ]
    },
    {
      "cell_type": "markdown",
      "metadata": {
        "id": "ms2lOWiaJK9W",
        "colab_type": "text"
      },
      "source": [
        "***LOADING model for third run***"
      ]
    },
    {
      "cell_type": "code",
      "metadata": {
        "id": "oAnOSdGaJKK6",
        "colab_type": "code",
        "colab": {}
      },
      "source": [
        "file_obj = drive.CreateFile({'id': '1SsX2mCIdhatW8SiWlIueTXRP9tVfkTap'})                       \n",
        "file_obj.GetContentFile('keras2.h5')"
      ],
      "execution_count": 0,
      "outputs": []
    },
    {
      "cell_type": "code",
      "metadata": {
        "id": "QZVnSFMEJKHi",
        "colab_type": "code",
        "colab": {}
      },
      "source": [
        "from keras.models import load_model\n",
        "# Assuming your model includes instance of an \"AttentionLayer\" class\n",
        "modelthree = load_model('keras2.h5')"
      ],
      "execution_count": 0,
      "outputs": []
    },
    {
      "cell_type": "code",
      "metadata": {
        "id": "cqMx7CEsJpgf",
        "colab_type": "code",
        "colab": {}
      },
      "source": [
        "opt = SGD(lr=0.01, momentum=0.9)\n",
        "modelthree.compile(\n",
        "    optimizer=opt,\n",
        "    loss=\"categorical_crossentropy\", \n",
        "    # loss_weights=loss_weights, \n",
        "    metrics=[\"accuracy\"]\n",
        ")"
      ],
      "execution_count": 0,
      "outputs": []
    },
    {
      "cell_type": "code",
      "metadata": {
        "id": "bYiMwQrOJpfA",
        "colab_type": "code",
        "outputId": "3680fd9e-c952-4b92-8bfa-42e7f0b8e9a0",
        "colab": {
          "base_uri": "https://localhost:8080/",
          "height": 1000
        }
      },
      "source": [
        "modelthree.fit_generator(\n",
        "    generator=train_gen,\n",
        "    validation_data=valid_gen,\n",
        "    use_multiprocessing=True,\n",
        "    workers=4, \n",
        "    epochs=70,\n",
        "    verbose=1\n",
        "    #callbacks=callbacks\n",
        ")"
      ],
      "execution_count": 32,
      "outputs": [
        {
          "output_type": "stream",
          "text": [
            "Epoch 1/70\n",
            "360/360 [==============================] - 160s 446ms/step - loss: 7.5126 - gender_output_loss: 0.5706 - image_quality_output_loss: 0.9588 - age_output_loss: 1.4068 - weight_output_loss: 0.9778 - bag_output_loss: 0.8845 - footwear_output_loss: 0.9783 - pose_output_loss: 0.8448 - emotion_output_loss: 0.8909 - gender_output_acc: 0.6928 - image_quality_output_acc: 0.5522 - age_output_acc: 0.4086 - weight_output_acc: 0.6348 - bag_output_acc: 0.5829 - footwear_output_acc: 0.5290 - pose_output_acc: 0.6464 - emotion_output_acc: 0.7155 - val_loss: 6.9907 - val_gender_output_loss: 0.4018 - val_image_quality_output_loss: 0.9176 - val_age_output_loss: 1.3971 - val_weight_output_loss: 0.9450 - val_bag_output_loss: 0.8668 - val_footwear_output_loss: 0.9069 - val_pose_output_loss: 0.6472 - val_emotion_output_loss: 0.9082 - val_gender_output_acc: 0.8348 - val_image_quality_output_acc: 0.5670 - val_age_output_acc: 0.3676 - val_weight_output_acc: 0.6399 - val_bag_output_acc: 0.5600 - val_footwear_output_acc: 0.5595 - val_pose_output_acc: 0.7059 - val_emotion_output_acc: 0.6855\n",
            "Epoch 2/70\n",
            "360/360 [==============================] - 149s 414ms/step - loss: 7.3377 - gender_output_loss: 0.5272 - image_quality_output_loss: 0.9508 - age_output_loss: 1.3986 - weight_output_loss: 0.9729 - bag_output_loss: 0.8695 - footwear_output_loss: 0.9499 - pose_output_loss: 0.7880 - emotion_output_loss: 0.8808 - gender_output_acc: 0.7301 - image_quality_output_acc: 0.5556 - age_output_acc: 0.4064 - weight_output_acc: 0.6361 - bag_output_acc: 0.5963 - footwear_output_acc: 0.5479 - pose_output_acc: 0.6694 - emotion_output_acc: 0.7161 - val_loss: 6.9554 - val_gender_output_loss: 0.4113 - val_image_quality_output_loss: 0.9121 - val_age_output_loss: 1.3852 - val_weight_output_loss: 0.9388 - val_bag_output_loss: 0.8591 - val_footwear_output_loss: 0.8636 - val_pose_output_loss: 0.6648 - val_emotion_output_loss: 0.9204 - val_gender_output_acc: 0.8428 - val_image_quality_output_acc: 0.5625 - val_age_output_acc: 0.3770 - val_weight_output_acc: 0.6409 - val_bag_output_acc: 0.5928 - val_footwear_output_acc: 0.6438 - val_pose_output_acc: 0.6706 - val_emotion_output_acc: 0.6855\n",
            "Epoch 3/70\n",
            "359/360 [============================>.] - ETA: 0s - loss: 7.2753 - gender_output_loss: 0.5181 - image_quality_output_loss: 0.9490 - age_output_loss: 1.3950 - weight_output_loss: 0.9725 - bag_output_loss: 0.8650 - footwear_output_loss: 0.9306 - pose_output_loss: 0.7605 - emotion_output_loss: 0.8846 - gender_output_acc: 0.7356 - image_quality_output_acc: 0.5536 - age_output_acc: 0.4061 - weight_output_acc: 0.6350 - bag_output_acc: 0.5975 - footwear_output_acc: 0.5733 - pose_output_acc: 0.6764 - emotion_output_acc: 0.7161\b\b\b\b\b\b\b\b\b\b\b\b\b\b\b\b\b\b\b\b\b\b\b\b\b\b\b\b\b\b\b\b\b\b\b\b\b\b\b\b\b\b\b\b\b\b\b\b\b\b\b\b\b\b\b\b\b\b\b\b\b\b\b\b\b\b\b\b\b\b\b\b\b\b\b\b\b\b\b\b\b\b\b\b\b\b\b\b\b\b\b\b\b\b\b\b\b\b\b\b\b\b\b\b\b\b\b\b\b\b\b\b\b\b\b\b\b\b\b\b\b\b\b\b\b\b\b\b\b\b\b\b\b\b\b\b\b\b\b\b\b\b\b\b\b\b\b\b\b\b\b\b\b\b\b\b\b\b\b\b\b\b\b\b\b\b\b\b\b\b\b\b\b\b\b\b\b\b\b\b\b\b\b\b\b\b\b\b\b\b\b\b\b\b\b\b\b\b\b\b\b\b\b\b\b\b\b\b\b\b\b\b\b\b\b\b\b\b\b\b\b\b\b\b\b\b\b\b\b\b\b\b\b\b\b\b\b\b\b\b\b\b\b\b\b\b\b\b\b\b\b\b\b\b\b\b\b\b\b\b\b\b\b\b\b\b\b\b\b\b\b\b\b\b\b\b\b\b\b\b\b\b\b\b\b\b\b\b\b\b\b\b\b\b\b\b\b\b\b\b\b\b\b\b\b\b\b\b\b\b\b\b\b\b\b\b\b\b\b\b\b\b\b\b\b\b\b\b\b\b\b\b\b\b\b\b\b\b\b\b\b\b\b\b\b\b\b\b\b\b\b\b\b\b\b\b\b\b\b\b\b\b\b\b\b\b\b\b\b\b\b\b\b\b\b\b\b\b\b\b\b\b\b\b\b\b\b\b\b\b\b\b\b\b\b\b\b\b\b\b\b\b\b\b\b\b\b\b\b\b\b\b\b\b\b\b\b\b\b\b\b\b\b\b\b\b\b\b\b\b\b\b\b\b\b\b\b\b\b\b\b\b\b\b\b\b\b\b\b\b\b\b\b\b\b\b\b\b\b\b\b\b\b\b\b\b\b\b\b\b\b\b\b\b\b\b\b\b\b\b\b\b\b\b\b\b\b\b\b\b\b\b\b\b\b\b\b\b\b\b\b\b\b\b\b\b\b\b\b\b\b\b\b\b\b\b\b\b\b\b\b\b\b\b\bEpoch 3/70\n",
            "360/360 [==============================] - 150s 416ms/step - loss: 7.2760 - gender_output_loss: 0.5181 - image_quality_output_loss: 0.9490 - age_output_loss: 1.3950 - weight_output_loss: 0.9727 - bag_output_loss: 0.8652 - footwear_output_loss: 0.9308 - pose_output_loss: 0.7607 - emotion_output_loss: 0.8845 - gender_output_acc: 0.7356 - image_quality_output_acc: 0.5537 - age_output_acc: 0.4059 - weight_output_acc: 0.6348 - bag_output_acc: 0.5974 - footwear_output_acc: 0.5731 - pose_output_acc: 0.6763 - emotion_output_acc: 0.7161 - val_loss: 6.9170 - val_gender_output_loss: 0.4279 - val_image_quality_output_loss: 0.9104 - val_age_output_loss: 1.3819 - val_weight_output_loss: 0.9326 - val_bag_output_loss: 0.8663 - val_footwear_output_loss: 0.8372 - val_pose_output_loss: 0.6378 - val_emotion_output_loss: 0.9227 - val_gender_output_acc: 0.8497 - val_image_quality_output_acc: 0.5570 - val_age_output_acc: 0.3760 - val_weight_output_acc: 0.6414 - val_bag_output_acc: 0.5556 - val_footwear_output_acc: 0.6438 - val_pose_output_acc: 0.6910 - val_emotion_output_acc: 0.6855\n",
            "Epoch 4/70\n",
            "360/360 [==============================] - 150s 416ms/step - loss: 7.2098 - gender_output_loss: 0.5007 - image_quality_output_loss: 0.9466 - age_output_loss: 1.3912 - weight_output_loss: 0.9676 - bag_output_loss: 0.8609 - footwear_output_loss: 0.9149 - pose_output_loss: 0.7487 - emotion_output_loss: 0.8792 - gender_output_acc: 0.7495 - image_quality_output_acc: 0.5563 - age_output_acc: 0.4056 - weight_output_acc: 0.6352 - bag_output_acc: 0.6060 - footwear_output_acc: 0.5819 - pose_output_acc: 0.6796 - emotion_output_acc: 0.7157 - val_loss: 6.8526 - val_gender_output_loss: 0.3976 - val_image_quality_output_loss: 0.9282 - val_age_output_loss: 1.3989 - val_weight_output_loss: 0.9443 - val_bag_output_loss: 0.8641 - val_footwear_output_loss: 0.8231 - val_pose_output_loss: 0.5768 - val_emotion_output_loss: 0.9196 - val_gender_output_acc: 0.8413 - val_image_quality_output_acc: 0.5561 - val_age_output_acc: 0.3671 - val_weight_output_acc: 0.6409 - val_bag_output_acc: 0.5784 - val_footwear_output_acc: 0.6384 - val_pose_output_acc: 0.7604 - val_emotion_output_acc: 0.6855\n",
            "\b\b\b\b\b\b\b\b\b\b\b\b\b\b\b\b\b\b\b\b\b\b\b\b\b\b\b\b\b\b\b\b\b\b\b\b\b\b\b\b\b\b\b\b\b\b\b\b\b\b\b\b\b\b\b\b\b\b\b\b\b\b\b\b\b\b\b\b\b\b\b\b\b\b\b\b\b\b\b\b\b\b\b\b\b\b\b\b\b\b\b\b\b\b\b\b\b\b\b\b\b\b\b\b\b\b\b\b\b\b\b\b\b\b\b\b\b\b\b\b\b\b\b\b\b\b\b\b\b\b\b\b\b\b\b\b\b\b\b\b\b\b\b\b\b\b\b\b\b\b\b\b\b\b\b\b\b\b\b\b\b\b\b\b\b\b\b\b\b\b\b\b\b\b\b\b\b\b\b\b\b\b\b\b\b\b\b\b\b\b\b\b\b\b\b\b\b\b\b\b\b\b\b\b\b\b\b\b\b\b\b\b\b\b\b\b\b\b\b\b\b\b\b\b\b\b\b\b\b\b\b\b\b\b\b\b\b\b\b\b\b\b\b\b\b\b\b\b\b\b\b\b\b\b\b\b\b\b\b\b\b\b\b\b\b\b\b\b\b\b\b\b\b\b\b\b\b\b\b\b\b\b\b\b\b\b\b\b\b\b\b\b\b\b\b\b\b\b\b\b\b\b\b\b\b\b\b\b\b\b\b\b\b\b\b\b\b\b\b\b\b\b\b\b\b\b\b\b\b\b\b\b\b\b\b\b\b\b\b\b\b\b\b\b\b\b\b\b\b\b\b\b\b\b\b\b\b\b\b\b\b\b\b\b\b\b\b\b\b\b\b\b\b\b\b\b\b\b\b\b\b\b\b\b\b\b\b\b\b\b\b\b\b\b\b\b\b\b\b\b\b\b\b\b\b\b\b\b\b\b\b\b\b\b\b\b\b\b\b\b\b\b\b\b\b\b\b\b\b\b\b\b\b\b\b\b\b\b\b\b\b\b\b\b\b\b\b\b\b\b\b\b\b\b\b\b\b\b\b\b\b\b\b\b\b\b\b\b\b\b\b\b\b\b\b\b\b\b\b\b\b\b\b\b\b\b\b\b\b\b\b\b\b\b\b\b\b\b\b\b\b\b\b\b\b\b\b\b\b\b\b\b\b\b\b\b\b\b\b\b\b\b\b\b\bEpoch 5/70\n",
            "360/360 [==============================] - 150s 417ms/step - loss: 7.1851 - gender_output_loss: 0.4941 - image_quality_output_loss: 0.9439 - age_output_loss: 1.3928 - weight_output_loss: 0.9672 - bag_output_loss: 0.8560 - footwear_output_loss: 0.9184 - pose_output_loss: 0.7369 - emotion_output_loss: 0.8759 - gender_output_acc: 0.7560 - image_quality_output_acc: 0.5549 - age_output_acc: 0.4074 - weight_output_acc: 0.6364 - bag_output_acc: 0.6081 - footwear_output_acc: 0.5753 - pose_output_acc: 0.6900 - emotion_output_acc: 0.7160 - val_loss: 6.9208 - val_gender_output_loss: 0.4572 - val_image_quality_output_loss: 0.9244 - val_age_output_loss: 1.4022 - val_weight_output_loss: 0.9403 - val_bag_output_loss: 0.8511 - val_footwear_output_loss: 0.8344 - val_pose_output_loss: 0.5963 - val_emotion_output_loss: 0.9150 - val_gender_output_acc: 0.8199 - val_image_quality_output_acc: 0.5694 - val_age_output_acc: 0.3656 - val_weight_output_acc: 0.6409 - val_bag_output_acc: 0.6245 - val_footwear_output_acc: 0.6280 - val_pose_output_acc: 0.7341 - val_emotion_output_acc: 0.6855\n",
            "Epoch 6/70\n",
            "360/360 [==============================] - 150s 416ms/step - loss: 7.1441 - gender_output_loss: 0.4866 - image_quality_output_loss: 0.9400 - age_output_loss: 1.3913 - weight_output_loss: 0.9645 - bag_output_loss: 0.8543 - footwear_output_loss: 0.9032 - pose_output_loss: 0.7287 - emotion_output_loss: 0.8754 - gender_output_acc: 0.7551 - image_quality_output_acc: 0.5553 - age_output_acc: 0.4078 - weight_output_acc: 0.6357 - bag_output_acc: 0.6102 - footwear_output_acc: 0.5839 - pose_output_acc: 0.6911 - emotion_output_acc: 0.7158 - val_loss: 6.7686 - val_gender_output_loss: 0.3857 - val_image_quality_output_loss: 0.9035 - val_age_output_loss: 1.3805 - val_weight_output_loss: 0.9146 - val_bag_output_loss: 0.8973 - val_footwear_output_loss: 0.8028 - val_pose_output_loss: 0.5766 - val_emotion_output_loss: 0.9075 - val_gender_output_acc: 0.8393 - val_image_quality_output_acc: 0.5660 - val_age_output_acc: 0.3735 - val_weight_output_acc: 0.6399 - val_bag_output_acc: 0.5704 - val_footwear_output_acc: 0.6314 - val_pose_output_acc: 0.7684 - val_emotion_output_acc: 0.6855\n",
            "Epoch 7/70\n",
            "360/360 [==============================] - 150s 417ms/step - loss: 7.1210 - gender_output_loss: 0.4809 - image_quality_output_loss: 0.9433 - age_output_loss: 1.3915 - weight_output_loss: 0.9640 - bag_output_loss: 0.8566 - footwear_output_loss: 0.9025 - pose_output_loss: 0.7104 - emotion_output_loss: 0.8717 - gender_output_acc: 0.7638 - image_quality_output_acc: 0.5552 - age_output_acc: 0.4047 - weight_output_acc: 0.6357 - bag_output_acc: 0.6118 - footwear_output_acc: 0.5899 - pose_output_acc: 0.7020 - emotion_output_acc: 0.7165 - val_loss: 6.9186 - val_gender_output_loss: 0.4194 - val_image_quality_output_loss: 0.9848 - val_age_output_loss: 1.3810 - val_weight_output_loss: 0.9189 - val_bag_output_loss: 0.8769 - val_footwear_output_loss: 0.8046 - val_pose_output_loss: 0.6214 - val_emotion_output_loss: 0.9116 - val_gender_output_acc: 0.8333 - val_image_quality_output_acc: 0.5392 - val_age_output_acc: 0.3681 - val_weight_output_acc: 0.6438 - val_bag_output_acc: 0.5680 - val_footwear_output_acc: 0.6285 - val_pose_output_acc: 0.7505 - val_emotion_output_acc: 0.6855\n",
            "Epoch 8/70\n",
            "360/360 [==============================] - 151s 418ms/step - loss: 7.1034 - gender_output_loss: 0.4826 - image_quality_output_loss: 0.9412 - age_output_loss: 1.3910 - weight_output_loss: 0.9600 - bag_output_loss: 0.8529 - footwear_output_loss: 0.8868 - pose_output_loss: 0.7127 - emotion_output_loss: 0.8763 - gender_output_acc: 0.7620 - image_quality_output_acc: 0.5564 - age_output_acc: 0.4089 - weight_output_acc: 0.6386 - bag_output_acc: 0.6187 - footwear_output_acc: 0.5951 - pose_output_acc: 0.6961 - emotion_output_acc: 0.7153 - val_loss: 6.8353 - val_gender_output_loss: 0.4275 - val_image_quality_output_loss: 0.9084 - val_age_output_loss: 1.3846 - val_weight_output_loss: 0.9250 - val_bag_output_loss: 0.8617 - val_footwear_output_loss: 0.7986 - val_pose_output_loss: 0.6136 - val_emotion_output_loss: 0.9160 - val_gender_output_acc: 0.8338 - val_image_quality_output_acc: 0.5680 - val_age_output_acc: 0.3750 - val_weight_output_acc: 0.6453 - val_bag_output_acc: 0.5972 - val_footwear_output_acc: 0.6434 - val_pose_output_acc: 0.7718 - val_emotion_output_acc: 0.6855\n",
            "Epoch 9/70\n",
            "360/360 [==============================] - 152s 422ms/step - loss: 7.0899 - gender_output_loss: 0.4732 - image_quality_output_loss: 0.9429 - age_output_loss: 1.3870 - weight_output_loss: 0.9638 - bag_output_loss: 0.8491 - footwear_output_loss: 0.8948 - pose_output_loss: 0.7068 - emotion_output_loss: 0.8725 - gender_output_acc: 0.7706 - image_quality_output_acc: 0.5555 - age_output_acc: 0.4076 - weight_output_acc: 0.6342 - bag_output_acc: 0.6129 - footwear_output_acc: 0.5994 - pose_output_acc: 0.7010 - emotion_output_acc: 0.7156 - val_loss: 6.7634 - val_gender_output_loss: 0.3914 - val_image_quality_output_loss: 0.9172 - val_age_output_loss: 1.3799 - val_weight_output_loss: 0.9233 - val_bag_output_loss: 0.8619 - val_footwear_output_loss: 0.8024 - val_pose_output_loss: 0.5803 - val_emotion_output_loss: 0.9068 - val_gender_output_acc: 0.8423 - val_image_quality_output_acc: 0.5625 - val_age_output_acc: 0.3834 - val_weight_output_acc: 0.6424 - val_bag_output_acc: 0.5972 - val_footwear_output_acc: 0.6448 - val_pose_output_acc: 0.7753 - val_emotion_output_acc: 0.6855\n",
            "Epoch 10/70\n",
            "360/360 [==============================] - 150s 418ms/step - loss: 7.0725 - gender_output_loss: 0.4709 - image_quality_output_loss: 0.9391 - age_output_loss: 1.3910 - weight_output_loss: 0.9633 - bag_output_loss: 0.8501 - footwear_output_loss: 0.8904 - pose_output_loss: 0.6940 - emotion_output_loss: 0.8737 - gender_output_acc: 0.7734 - image_quality_output_acc: 0.5571 - age_output_acc: 0.4102 - weight_output_acc: 0.6359 - bag_output_acc: 0.6193 - footwear_output_acc: 0.5944 - pose_output_acc: 0.7115 - emotion_output_acc: 0.7159 - val_loss: 6.9411 - val_gender_output_loss: 0.4125 - val_image_quality_output_loss: 0.9211 - val_age_output_loss: 1.3965 - val_weight_output_loss: 0.9511 - val_bag_output_loss: 0.8758 - val_footwear_output_loss: 0.8509 - val_pose_output_loss: 0.6182 - val_emotion_output_loss: 0.9149 - val_gender_output_acc: 0.8348 - val_image_quality_output_acc: 0.5620 - val_age_output_acc: 0.3700 - val_weight_output_acc: 0.6399 - val_bag_output_acc: 0.5967 - val_footwear_output_acc: 0.6225 - val_pose_output_acc: 0.7183 - val_emotion_output_acc: 0.6855\n",
            "Epoch 11/70\n",
            "Epoch 10/70\n",
            "360/360 [==============================] - 150s 418ms/step - loss: 7.0531 - gender_output_loss: 0.4648 - image_quality_output_loss: 0.9414 - age_output_loss: 1.3882 - weight_output_loss: 0.9574 - bag_output_loss: 0.8502 - footwear_output_loss: 0.8853 - pose_output_loss: 0.6943 - emotion_output_loss: 0.8716 - gender_output_acc: 0.7761 - image_quality_output_acc: 0.5569 - age_output_acc: 0.4074 - weight_output_acc: 0.6371 - bag_output_acc: 0.6128 - footwear_output_acc: 0.6001 - pose_output_acc: 0.7085 - emotion_output_acc: 0.7162 - val_loss: 6.9017 - val_gender_output_loss: 0.4175 - val_image_quality_output_loss: 0.9236 - val_age_output_loss: 1.3796 - val_weight_output_loss: 0.9291 - val_bag_output_loss: 0.9032 - val_footwear_output_loss: 0.8315 - val_pose_output_loss: 0.6037 - val_emotion_output_loss: 0.9136 - val_gender_output_acc: 0.8318 - val_image_quality_output_acc: 0.5605 - val_age_output_acc: 0.3829 - val_weight_output_acc: 0.6419 - val_bag_output_acc: 0.5511 - val_footwear_output_acc: 0.6121 - val_pose_output_acc: 0.7431 - val_emotion_output_acc: 0.6855\n",
            "Epoch 12/70\n",
            "360/360 [==============================] - 149s 414ms/step - loss: 7.0387 - gender_output_loss: 0.4679 - image_quality_output_loss: 0.9391 - age_output_loss: 1.3864 - weight_output_loss: 0.9628 - bag_output_loss: 0.8495 - footwear_output_loss: 0.8796 - pose_output_loss: 0.6806 - emotion_output_loss: 0.8729 - gender_output_acc: 0.7742 - image_quality_output_acc: 0.5553 - age_output_acc: 0.4146 - weight_output_acc: 0.6371 - bag_output_acc: 0.6155 - footwear_output_acc: 0.6050 - pose_output_acc: 0.7095 - emotion_output_acc: 0.7159 - val_loss: 6.6991 - val_gender_output_loss: 0.3782 - val_image_quality_output_loss: 0.9190 - val_age_output_loss: 1.3843 - val_weight_output_loss: 0.9290 - val_bag_output_loss: 0.8715 - val_footwear_output_loss: 0.7952 - val_pose_output_loss: 0.5099 - val_emotion_output_loss: 0.9119 - val_gender_output_acc: 0.8522 - val_image_quality_output_acc: 0.5561 - val_age_output_acc: 0.3720 - val_weight_output_acc: 0.6414 - val_bag_output_acc: 0.5858 - val_footwear_output_acc: 0.6443 - val_pose_output_acc: 0.8105 - val_emotion_output_acc: 0.6855\n",
            "Epoch 13/70\n",
            "Epoch 12/70\n",
            "360/360 [==============================] - 150s 416ms/step - loss: 7.0356 - gender_output_loss: 0.4612 - image_quality_output_loss: 0.9391 - age_output_loss: 1.3875 - weight_output_loss: 0.9585 - bag_output_loss: 0.8477 - footwear_output_loss: 0.8912 - pose_output_loss: 0.6805 - emotion_output_loss: 0.8699 - gender_output_acc: 0.7800 - image_quality_output_acc: 0.5591 - age_output_acc: 0.4089 - weight_output_acc: 0.6363 - bag_output_acc: 0.6164 - footwear_output_acc: 0.6010 - pose_output_acc: 0.7050 - emotion_output_acc: 0.7159 - val_loss: 6.7844 - val_gender_output_loss: 0.3878 - val_image_quality_output_loss: 0.9207 - val_age_output_loss: 1.3774 - val_weight_output_loss: 0.9240 - val_bag_output_loss: 0.8622 - val_footwear_output_loss: 0.8274 - val_pose_output_loss: 0.5679 - val_emotion_output_loss: 0.9171 - val_gender_output_acc: 0.8289 - val_image_quality_output_acc: 0.5640 - val_age_output_acc: 0.3844 - val_weight_output_acc: 0.6414 - val_bag_output_acc: 0.6076 - val_footwear_output_acc: 0.6374 - val_pose_output_acc: 0.7654 - val_emotion_output_acc: 0.6855\n",
            "Epoch 14/70\n",
            "360/360 [==============================] - 149s 413ms/step - loss: 7.0060 - gender_output_loss: 0.4599 - image_quality_output_loss: 0.9353 - age_output_loss: 1.3813 - weight_output_loss: 0.9583 - bag_output_loss: 0.8407 - footwear_output_loss: 0.8839 - pose_output_loss: 0.6747 - emotion_output_loss: 0.8721 - gender_output_acc: 0.7799 - image_quality_output_acc: 0.5595 - age_output_acc: 0.4111 - weight_output_acc: 0.6376 - bag_output_acc: 0.6241 - footwear_output_acc: 0.5997 - pose_output_acc: 0.7126 - emotion_output_acc: 0.7153 - val_loss: 6.8518 - val_gender_output_loss: 0.4337 - val_image_quality_output_loss: 0.9290 - val_age_output_loss: 1.3885 - val_weight_output_loss: 0.9265 - val_bag_output_loss: 0.8799 - val_footwear_output_loss: 0.8252 - val_pose_output_loss: 0.5574 - val_emotion_output_loss: 0.9117 - val_gender_output_acc: 0.8418 - val_image_quality_output_acc: 0.5630 - val_age_output_acc: 0.3690 - val_weight_output_acc: 0.6404 - val_bag_output_acc: 0.5813 - val_footwear_output_acc: 0.6220 - val_pose_output_acc: 0.7882 - val_emotion_output_acc: 0.6855\n",
            "Epoch 15/70\n",
            "360/360 [==============================] - 150s 416ms/step - loss: 6.9953 - gender_output_loss: 0.4594 - image_quality_output_loss: 0.9352 - age_output_loss: 1.3790 - weight_output_loss: 0.9595 - bag_output_loss: 0.8428 - footwear_output_loss: 0.8759 - pose_output_loss: 0.6688 - emotion_output_loss: 0.8747 - gender_output_acc: 0.7808 - image_quality_output_acc: 0.5577 - age_output_acc: 0.4102 - weight_output_acc: 0.6357 - bag_output_acc: 0.6204 - footwear_output_acc: 0.6066 - pose_output_acc: 0.7129 - emotion_output_acc: 0.7155 - val_loss: 6.6917 - val_gender_output_loss: 0.3626 - val_image_quality_output_loss: 0.9157 - val_age_output_loss: 1.3799 - val_weight_output_loss: 0.9166 - val_bag_output_loss: 0.8714 - val_footwear_output_loss: 0.8004 - val_pose_output_loss: 0.5355 - val_emotion_output_loss: 0.9096 - val_gender_output_acc: 0.8482 - val_image_quality_output_acc: 0.5630 - val_age_output_acc: 0.3710 - val_weight_output_acc: 0.6434 - val_bag_output_acc: 0.5992 - val_footwear_output_acc: 0.6473 - val_pose_output_acc: 0.7798 - val_emotion_output_acc: 0.6855\n",
            "Epoch 16/70\n",
            "360/360 [==============================] - 149s 415ms/step - loss: 6.9922 - gender_output_loss: 0.4579 - image_quality_output_loss: 0.9339 - age_output_loss: 1.3840 - weight_output_loss: 0.9558 - bag_output_loss: 0.8449 - footwear_output_loss: 0.8781 - pose_output_loss: 0.6660 - emotion_output_loss: 0.8717 - gender_output_acc: 0.7826 - image_quality_output_acc: 0.5584 - age_output_acc: 0.4059 - weight_output_acc: 0.6369 - bag_output_acc: 0.6228 - footwear_output_acc: 0.6078 - pose_output_acc: 0.7155 - emotion_output_acc: 0.7154 - val_loss: 6.7746 - val_gender_output_loss: 0.4174 - val_image_quality_output_loss: 0.9148 - val_age_output_loss: 1.3809 - val_weight_output_loss: 0.9141 - val_bag_output_loss: 0.8776 - val_footwear_output_loss: 0.8185 - val_pose_output_loss: 0.5353 - val_emotion_output_loss: 0.9160 - val_gender_output_acc: 0.8318 - val_image_quality_output_acc: 0.5610 - val_age_output_acc: 0.3919 - val_weight_output_acc: 0.6438 - val_bag_output_acc: 0.5883 - val_footwear_output_acc: 0.6190 - val_pose_output_acc: 0.7887 - val_emotion_output_acc: 0.6855\n",
            "Epoch 17/70\n",
            "360/360 [==============================] - 149s 413ms/step - loss: 6.9709 - gender_output_loss: 0.4506 - image_quality_output_loss: 0.9379 - age_output_loss: 1.3829 - weight_output_loss: 0.9595 - bag_output_loss: 0.8426 - footwear_output_loss: 0.8719 - pose_output_loss: 0.6582 - emotion_output_loss: 0.8672 - gender_output_acc: 0.7895 - image_quality_output_acc: 0.5574 - age_output_acc: 0.4082 - weight_output_acc: 0.6377 - bag_output_acc: 0.6181 - footwear_output_acc: 0.6110 - pose_output_acc: 0.7243 - emotion_output_acc: 0.7164 - val_loss: 7.0267 - val_gender_output_loss: 0.4792 - val_image_quality_output_loss: 0.9661 - val_age_output_loss: 1.3890 - val_weight_output_loss: 0.9395 - val_bag_output_loss: 0.8854 - val_footwear_output_loss: 0.8166 - val_pose_output_loss: 0.6308 - val_emotion_output_loss: 0.9200 - val_gender_output_acc: 0.8006 - val_image_quality_output_acc: 0.5551 - val_age_output_acc: 0.3720 - val_weight_output_acc: 0.6399 - val_bag_output_acc: 0.5714 - val_footwear_output_acc: 0.6230 - val_pose_output_acc: 0.7520 - val_emotion_output_acc: 0.6855\n",
            "Epoch 18/70\n",
            "360/360 [==============================] - 149s 415ms/step - loss: 6.9679 - gender_output_loss: 0.4524 - image_quality_output_loss: 0.9324 - age_output_loss: 1.3818 - weight_output_loss: 0.9527 - bag_output_loss: 0.8429 - footwear_output_loss: 0.8739 - pose_output_loss: 0.6619 - emotion_output_loss: 0.8699 - gender_output_acc: 0.7859 - image_quality_output_acc: 0.5581 - age_output_acc: 0.4107 - weight_output_acc: 0.6378 - bag_output_acc: 0.6231 - footwear_output_acc: 0.6063 - pose_output_acc: 0.7237 - emotion_output_acc: 0.7156 - val_loss: 6.8248 - val_gender_output_loss: 0.3984 - val_image_quality_output_loss: 0.9312 - val_age_output_loss: 1.3858 - val_weight_output_loss: 0.9362 - val_bag_output_loss: 0.8631 - val_footwear_output_loss: 0.8333 - val_pose_output_loss: 0.5640 - val_emotion_output_loss: 0.9128 - val_gender_output_acc: 0.8338 - val_image_quality_output_acc: 0.5665 - val_age_output_acc: 0.3790 - val_weight_output_acc: 0.6399 - val_bag_output_acc: 0.6071 - val_footwear_output_acc: 0.6394 - val_pose_output_acc: 0.7857 - val_emotion_output_acc: 0.6855\n",
            "Epoch 19/70\n",
            "360/360 [==============================] - 150s 417ms/step - loss: 6.9823 - gender_output_loss: 0.4545 - image_quality_output_loss: 0.9338 - age_output_loss: 1.3827 - weight_output_loss: 0.9577 - bag_output_loss: 0.8423 - footwear_output_loss: 0.8710 - pose_output_loss: 0.6699 - emotion_output_loss: 0.8705 - gender_output_acc: 0.7852 - image_quality_output_acc: 0.5607 - age_output_acc: 0.4118 - weight_output_acc: 0.6369 - bag_output_acc: 0.6195 - footwear_output_acc: 0.6085 - pose_output_acc: 0.7186 - emotion_output_acc: 0.7155 - val_loss: 6.8745 - val_gender_output_loss: 0.3899 - val_image_quality_output_loss: 1.0047 - val_age_output_loss: 1.3936 - val_weight_output_loss: 0.9282 - val_bag_output_loss: 0.8655 - val_footwear_output_loss: 0.8019 - val_pose_output_loss: 0.5755 - val_emotion_output_loss: 0.9152 - val_gender_output_acc: 0.8343 - val_image_quality_output_acc: 0.5322 - val_age_output_acc: 0.3700 - val_weight_output_acc: 0.6414 - val_bag_output_acc: 0.6012 - val_footwear_output_acc: 0.6265 - val_pose_output_acc: 0.7917 - val_emotion_output_acc: 0.6855\n",
            "Epoch 20/70\n",
            "\n",
            "360/360 [==============================] - 150s 416ms/step - loss: 6.9502 - gender_output_loss: 0.4513 - image_quality_output_loss: 0.9373 - age_output_loss: 1.3810 - weight_output_loss: 0.9523 - bag_output_loss: 0.8420 - footwear_output_loss: 0.8665 - pose_output_loss: 0.6495 - emotion_output_loss: 0.8703 - gender_output_acc: 0.7861 - image_quality_output_acc: 0.5582 - age_output_acc: 0.4107 - weight_output_acc: 0.6398 - bag_output_acc: 0.6170 - footwear_output_acc: 0.6114 - pose_output_acc: 0.7250 - emotion_output_acc: 0.7159 - val_loss: 6.9254 - val_gender_output_loss: 0.4422 - val_image_quality_output_loss: 0.9344 - val_age_output_loss: 1.3896 - val_weight_output_loss: 0.9348 - val_bag_output_loss: 0.8993 - val_footwear_output_loss: 0.8281 - val_pose_output_loss: 0.5843 - val_emotion_output_loss: 0.9127 - val_gender_output_acc: 0.8160 - val_image_quality_output_acc: 0.5630 - val_age_output_acc: 0.3695 - val_weight_output_acc: 0.6429 - val_bag_output_acc: 0.5496 - val_footwear_output_acc: 0.6210 - val_pose_output_acc: 0.7758 - val_emotion_output_acc: 0.6855\n",
            "Epoch 21/70\n",
            "\n",
            "360/360 [==============================] - 150s 417ms/step - loss: 6.9385 - gender_output_loss: 0.4526 - image_quality_output_loss: 0.9306 - age_output_loss: 1.3794 - weight_output_loss: 0.9473 - bag_output_loss: 0.8389 - footwear_output_loss: 0.8678 - pose_output_loss: 0.6526 - emotion_output_loss: 0.8693 - gender_output_acc: 0.7910 - image_quality_output_acc: 0.5603 - age_output_acc: 0.4059 - weight_output_acc: 0.6378 - bag_output_acc: 0.6215 - footwear_output_acc: 0.6139 - pose_output_acc: 0.7278 - emotion_output_acc: 0.7155 - val_loss: 6.8848 - val_gender_output_loss: 0.4546 - val_image_quality_output_loss: 0.9293 - val_age_output_loss: 1.3914 - val_weight_output_loss: 0.9302 - val_bag_output_loss: 0.8880 - val_footwear_output_loss: 0.8282 - val_pose_output_loss: 0.5481 - val_emotion_output_loss: 0.9150 - val_gender_output_acc: 0.8155 - val_image_quality_output_acc: 0.5610 - val_age_output_acc: 0.3819 - val_weight_output_acc: 0.6399 - val_bag_output_acc: 0.5645 - val_footwear_output_acc: 0.6329 - val_pose_output_acc: 0.7842 - val_emotion_output_acc: 0.6855\n",
            "Epoch 22/70\n",
            "360/360 [==============================] - 149s 414ms/step - loss: 6.9479 - gender_output_loss: 0.4564 - image_quality_output_loss: 0.9345 - age_output_loss: 1.3804 - weight_output_loss: 0.9554 - bag_output_loss: 0.8412 - footwear_output_loss: 0.8627 - pose_output_loss: 0.6475 - emotion_output_loss: 0.8698 - gender_output_acc: 0.7857 - image_quality_output_acc: 0.5576 - age_output_acc: 0.4089 - weight_output_acc: 0.6388 - bag_output_acc: 0.6225 - footwear_output_acc: 0.6144 - pose_output_acc: 0.7260 - emotion_output_acc: 0.7154 - val_loss: 6.7000 - val_gender_output_loss: 0.3541 - val_image_quality_output_loss: 0.9201 - val_age_output_loss: 1.3822 - val_weight_output_loss: 0.9225 - val_bag_output_loss: 0.8535 - val_footwear_output_loss: 0.8083 - val_pose_output_loss: 0.5414 - val_emotion_output_loss: 0.9179 - val_gender_output_acc: 0.8482 - val_image_quality_output_acc: 0.5665 - val_age_output_acc: 0.3705 - val_weight_output_acc: 0.6429 - val_bag_output_acc: 0.5997 - val_footwear_output_acc: 0.6364 - val_pose_output_acc: 0.7932 - val_emotion_output_acc: 0.6855\n",
            "Epoch 23/70\n",
            "360/360 [==============================] - 149s 414ms/step - loss: 6.9376 - gender_output_loss: 0.4521 - image_quality_output_loss: 0.9304 - age_output_loss: 1.3801 - weight_output_loss: 0.9521 - bag_output_loss: 0.8353 - footwear_output_loss: 0.8692 - pose_output_loss: 0.6483 - emotion_output_loss: 0.8701 - gender_output_acc: 0.7865 - image_quality_output_acc: 0.5618 - age_output_acc: 0.4076 - weight_output_acc: 0.6400 - bag_output_acc: 0.6286 - footwear_output_acc: 0.6112 - pose_output_acc: 0.7273 - emotion_output_acc: 0.7160 - val_loss: 6.8756 - val_gender_output_loss: 0.4265 - val_image_quality_output_loss: 0.9049 - val_age_output_loss: 1.3834 - val_weight_output_loss: 0.9248 - val_bag_output_loss: 0.9285 - val_footwear_output_loss: 0.8246 - val_pose_output_loss: 0.5657 - val_emotion_output_loss: 0.9173 - val_gender_output_acc: 0.8100 - val_image_quality_output_acc: 0.5600 - val_age_output_acc: 0.3884 - val_weight_output_acc: 0.6538 - val_bag_output_acc: 0.5650 - val_footwear_output_acc: 0.6240 - val_pose_output_acc: 0.7867 - val_emotion_output_acc: 0.6855\n",
            "Epoch 24/70\n",
            "360/360 [==============================] - 149s 415ms/step - loss: 6.9182 - gender_output_loss: 0.4362 - image_quality_output_loss: 0.9374 - age_output_loss: 1.3794 - weight_output_loss: 0.9574 - bag_output_loss: 0.8392 - footwear_output_loss: 0.8580 - pose_output_loss: 0.6429 - emotion_output_loss: 0.8677 - gender_output_acc: 0.7940 - image_quality_output_acc: 0.5594 - age_output_acc: 0.4091 - weight_output_acc: 0.6371 - bag_output_acc: 0.6271 - footwear_output_acc: 0.6149 - pose_output_acc: 0.7288 - emotion_output_acc: 0.7162 - val_loss: 6.9277 - val_gender_output_loss: 0.4257 - val_image_quality_output_loss: 0.9676 - val_age_output_loss: 1.3904 - val_weight_output_loss: 0.9405 - val_bag_output_loss: 0.8938 - val_footwear_output_loss: 0.8191 - val_pose_output_loss: 0.5784 - val_emotion_output_loss: 0.9122 - val_gender_output_acc: 0.8051 - val_image_quality_output_acc: 0.5570 - val_age_output_acc: 0.3735 - val_weight_output_acc: 0.6399 - val_bag_output_acc: 0.5615 - val_footwear_output_acc: 0.6235 - val_pose_output_acc: 0.7644 - val_emotion_output_acc: 0.6855\n",
            "Epoch 25/70\n",
            "360/360 [==============================] - 150s 416ms/step - loss: 6.9295 - gender_output_loss: 0.4449 - image_quality_output_loss: 0.9297 - age_output_loss: 1.3788 - weight_output_loss: 0.9550 - bag_output_loss: 0.8356 - footwear_output_loss: 0.8662 - pose_output_loss: 0.6503 - emotion_output_loss: 0.8689 - gender_output_acc: 0.7915 - image_quality_output_acc: 0.5646 - age_output_acc: 0.4096 - weight_output_acc: 0.6398 - bag_output_acc: 0.6276 - footwear_output_acc: 0.6126 - pose_output_acc: 0.7289 - emotion_output_acc: 0.7152 - val_loss: 6.8796 - val_gender_output_loss: 0.4196 - val_image_quality_output_loss: 0.9198 - val_age_output_loss: 1.3904 - val_weight_output_loss: 0.9313 - val_bag_output_loss: 0.8722 - val_footwear_output_loss: 0.8399 - val_pose_output_loss: 0.5950 - val_emotion_output_loss: 0.9114 - val_gender_output_acc: 0.8194 - val_image_quality_output_acc: 0.5680 - val_age_output_acc: 0.3805 - val_weight_output_acc: 0.6463 - val_bag_output_acc: 0.5977 - val_footwear_output_acc: 0.6310 - val_pose_output_acc: 0.7946 - val_emotion_output_acc: 0.6855\n",
            "Epoch 26/70\n",
            "Epoch 25/70\n",
            "360/360 [==============================] - 150s 416ms/step - loss: 6.9200 - gender_output_loss: 0.4469 - image_quality_output_loss: 0.9308 - age_output_loss: 1.3803 - weight_output_loss: 0.9545 - bag_output_loss: 0.8397 - footwear_output_loss: 0.8617 - pose_output_loss: 0.6412 - emotion_output_loss: 0.8650 - gender_output_acc: 0.7878 - image_quality_output_acc: 0.5606 - age_output_acc: 0.4131 - weight_output_acc: 0.6382 - bag_output_acc: 0.6238 - footwear_output_acc: 0.6141 - pose_output_acc: 0.7341 - emotion_output_acc: 0.7154 - val_loss: 6.8261 - val_gender_output_loss: 0.4093 - val_image_quality_output_loss: 0.9270 - val_age_output_loss: 1.3868 - val_weight_output_loss: 0.9337 - val_bag_output_loss: 0.8743 - val_footwear_output_loss: 0.8434 - val_pose_output_loss: 0.5468 - val_emotion_output_loss: 0.9049 - val_gender_output_acc: 0.8289 - val_image_quality_output_acc: 0.5610 - val_age_output_acc: 0.3859 - val_weight_output_acc: 0.6419 - val_bag_output_acc: 0.5779 - val_footwear_output_acc: 0.6379 - val_pose_output_acc: 0.7991 - val_emotion_output_acc: 0.6855\n",
            "Epoch 27/70\n",
            "360/360 [==============================] - 148s 411ms/step - loss: 6.9127 - gender_output_loss: 0.4438 - image_quality_output_loss: 0.9317 - age_output_loss: 1.3791 - weight_output_loss: 0.9571 - bag_output_loss: 0.8350 - footwear_output_loss: 0.8596 - pose_output_loss: 0.6403 - emotion_output_loss: 0.8662 - gender_output_acc: 0.7973 - image_quality_output_acc: 0.5624 - age_output_acc: 0.4112 - weight_output_acc: 0.6360 - bag_output_acc: 0.6312 - footwear_output_acc: 0.6144 - pose_output_acc: 0.7365 - emotion_output_acc: 0.7156 - val_loss: 7.0340 - val_gender_output_loss: 0.4397 - val_image_quality_output_loss: 0.9379 - val_age_output_loss: 1.4035 - val_weight_output_loss: 0.9457 - val_bag_output_loss: 0.9109 - val_footwear_output_loss: 0.8903 - val_pose_output_loss: 0.5776 - val_emotion_output_loss: 0.9284 - val_gender_output_acc: 0.8061 - val_image_quality_output_acc: 0.5635 - val_age_output_acc: 0.3676 - val_weight_output_acc: 0.6399 - val_bag_output_acc: 0.5694 - val_footwear_output_acc: 0.5804 - val_pose_output_acc: 0.7703 - val_emotion_output_acc: 0.6855\n",
            "\n",
            "Epoch 28/70\n",
            "360/360 [==============================] - 149s 413ms/step - loss: 6.9025 - gender_output_loss: 0.4332 - image_quality_output_loss: 0.9358 - age_output_loss: 1.3794 - weight_output_loss: 0.9558 - bag_output_loss: 0.8341 - footwear_output_loss: 0.8596 - pose_output_loss: 0.6355 - emotion_output_loss: 0.8692 - gender_output_acc: 0.7990 - image_quality_output_acc: 0.5603 - age_output_acc: 0.4092 - weight_output_acc: 0.6380 - bag_output_acc: 0.6218 - footwear_output_acc: 0.6143 - pose_output_acc: 0.7383 - emotion_output_acc: 0.7159 - val_loss: 6.7925 - val_gender_output_loss: 0.3877 - val_image_quality_output_loss: 0.9234 - val_age_output_loss: 1.3864 - val_weight_output_loss: 0.9318 - val_bag_output_loss: 0.9113 - val_footwear_output_loss: 0.7874 - val_pose_output_loss: 0.5415 - val_emotion_output_loss: 0.9231 - val_gender_output_acc: 0.8348 - val_image_quality_output_acc: 0.5689 - val_age_output_acc: 0.3785 - val_weight_output_acc: 0.6424 - val_bag_output_acc: 0.5804 - val_footwear_output_acc: 0.6429 - val_pose_output_acc: 0.7897 - val_emotion_output_acc: 0.6855\n",
            "Epoch 29/70\n",
            "360/360 [==============================] - 148s 411ms/step - loss: 6.8819 - gender_output_loss: 0.4346 - image_quality_output_loss: 0.9354 - age_output_loss: 1.3761 - weight_output_loss: 0.9504 - bag_output_loss: 0.8352 - footwear_output_loss: 0.8588 - pose_output_loss: 0.6270 - emotion_output_loss: 0.8645 - gender_output_acc: 0.7981 - image_quality_output_acc: 0.5589 - age_output_acc: 0.4124 - weight_output_acc: 0.6373 - bag_output_acc: 0.6281 - footwear_output_acc: 0.6194 - pose_output_acc: 0.7378 - emotion_output_acc: 0.7155 - val_loss: 6.7849 - val_gender_output_loss: 0.3993 - val_image_quality_output_loss: 0.9224 - val_age_output_loss: 1.3874 - val_weight_output_loss: 0.9285 - val_bag_output_loss: 0.8758 - val_footwear_output_loss: 0.8109 - val_pose_output_loss: 0.5464 - val_emotion_output_loss: 0.9142 - val_gender_output_acc: 0.8333 - val_image_quality_output_acc: 0.5640 - val_age_output_acc: 0.3690 - val_weight_output_acc: 0.6399 - val_bag_output_acc: 0.5823 - val_footwear_output_acc: 0.6458 - val_pose_output_acc: 0.7961 - val_emotion_output_acc: 0.6855\n",
            "Epoch 30/70\n",
            "360/360 [==============================] - 149s 413ms/step - loss: 6.8812 - gender_output_loss: 0.4314 - image_quality_output_loss: 0.9324 - age_output_loss: 1.3776 - weight_output_loss: 0.9516 - bag_output_loss: 0.8338 - footwear_output_loss: 0.8578 - pose_output_loss: 0.6302 - emotion_output_loss: 0.8665 - gender_output_acc: 0.8008 - image_quality_output_acc: 0.5625 - age_output_acc: 0.4111 - weight_output_acc: 0.6401 - bag_output_acc: 0.6252 - footwear_output_acc: 0.6177 - pose_output_acc: 0.7390 - emotion_output_acc: 0.7164 - val_loss: 6.8644 - val_gender_output_loss: 0.4174 - val_image_quality_output_loss: 0.9272 - val_age_output_loss: 1.3916 - val_weight_output_loss: 0.9460 - val_bag_output_loss: 0.8975 - val_footwear_output_loss: 0.8074 - val_pose_output_loss: 0.5562 - val_emotion_output_loss: 0.9212 - val_gender_output_acc: 0.8170 - val_image_quality_output_acc: 0.5615 - val_age_output_acc: 0.3676 - val_weight_output_acc: 0.6404 - val_bag_output_acc: 0.5580 - val_footwear_output_acc: 0.6349 - val_pose_output_acc: 0.7867 - val_emotion_output_acc: 0.6855\n",
            "Epoch 31/70\n",
            "360/360 [==============================] - 149s 413ms/step - loss: 6.8707 - gender_output_loss: 0.4290 - image_quality_output_loss: 0.9349 - age_output_loss: 1.3749 - weight_output_loss: 0.9503 - bag_output_loss: 0.8345 - footwear_output_loss: 0.8547 - pose_output_loss: 0.6267 - emotion_output_loss: 0.8657 - gender_output_acc: 0.8021 - image_quality_output_acc: 0.5598 - age_output_acc: 0.4130 - weight_output_acc: 0.6394 - bag_output_acc: 0.6280 - footwear_output_acc: 0.6225 - pose_output_acc: 0.7395 - emotion_output_acc: 0.7157 - val_loss: 6.8735 - val_gender_output_loss: 0.4120 - val_image_quality_output_loss: 0.9386 - val_age_output_loss: 1.3947 - val_weight_output_loss: 0.9410 - val_bag_output_loss: 0.8842 - val_footwear_output_loss: 0.8297 - val_pose_output_loss: 0.5596 - val_emotion_output_loss: 0.9137 - val_gender_output_acc: 0.8333 - val_image_quality_output_acc: 0.5625 - val_age_output_acc: 0.3661 - val_weight_output_acc: 0.6399 - val_bag_output_acc: 0.5694 - val_footwear_output_acc: 0.6364 - val_pose_output_acc: 0.7951 - val_emotion_output_acc: 0.6855\n",
            "Epoch 32/70\n",
            "360/360 [==============================] - 149s 415ms/step - loss: 6.8923 - gender_output_loss: 0.4347 - image_quality_output_loss: 0.9311 - age_output_loss: 1.3814 - weight_output_loss: 0.9537 - bag_output_loss: 0.8338 - footwear_output_loss: 0.8577 - pose_output_loss: 0.6349 - emotion_output_loss: 0.8650 - gender_output_acc: 0.8015 - image_quality_output_acc: 0.5589 - age_output_acc: 0.4126 - weight_output_acc: 0.6372 - bag_output_acc: 0.6280 - footwear_output_acc: 0.6136 - pose_output_acc: 0.7397 - emotion_output_acc: 0.7149 - val_loss: 6.8543 - val_gender_output_loss: 0.4136 - val_image_quality_output_loss: 0.9973 - val_age_output_loss: 1.3762 - val_weight_output_loss: 0.9288 - val_bag_output_loss: 0.8713 - val_footwear_output_loss: 0.8036 - val_pose_output_loss: 0.5512 - val_emotion_output_loss: 0.9123 - val_gender_output_acc: 0.8343 - val_image_quality_output_acc: 0.5322 - val_age_output_acc: 0.3785 - val_weight_output_acc: 0.6409 - val_bag_output_acc: 0.5938 - val_footwear_output_acc: 0.6344 - val_pose_output_acc: 0.7857 - val_emotion_output_acc: 0.6855\n",
            "Epoch 33/70\n",
            "359/360 [============================>.] - ETA: 0s - loss: 6.8588 - gender_output_loss: 0.4232 - image_quality_output_loss: 0.9250 - age_output_loss: 1.3790 - weight_output_loss: 0.9486 - bag_output_loss: 0.8361 - footwear_output_loss: 0.8502 - pose_output_loss: 0.6307 - emotion_output_loss: 0.8659 - gender_output_acc: 0.8048 - image_quality_output_acc: 0.5635 - age_output_acc: 0.4091 - weight_output_acc: 0.6374 - bag_output_acc: 0.6240 - footwear_output_acc: 0.6227 - pose_output_acc: 0.7357 - emotion_output_acc: 0.7166\n",
            "360/360 [==============================] - 149s 414ms/step - loss: 6.8594 - gender_output_loss: 0.4234 - image_quality_output_loss: 0.9250 - age_output_loss: 1.3785 - weight_output_loss: 0.9485 - bag_output_loss: 0.8361 - footwear_output_loss: 0.8509 - pose_output_loss: 0.6309 - emotion_output_loss: 0.8662 - gender_output_acc: 0.8048 - image_quality_output_acc: 0.5636 - age_output_acc: 0.4093 - weight_output_acc: 0.6372 - bag_output_acc: 0.6242 - footwear_output_acc: 0.6220 - pose_output_acc: 0.7357 - emotion_output_acc: 0.7163 - val_loss: 6.8546 - val_gender_output_loss: 0.3885 - val_image_quality_output_loss: 0.9775 - val_age_output_loss: 1.3813 - val_weight_output_loss: 0.9321 - val_bag_output_loss: 0.8878 - val_footwear_output_loss: 0.8084 - val_pose_output_loss: 0.5619 - val_emotion_output_loss: 0.9171 - val_gender_output_acc: 0.8299 - val_image_quality_output_acc: 0.5570 - val_age_output_acc: 0.3745 - val_weight_output_acc: 0.6409 - val_bag_output_acc: 0.5709 - val_footwear_output_acc: 0.6359 - val_pose_output_acc: 0.7793 - val_emotion_output_acc: 0.6855\n",
            "Epoch 34/70\n",
            "360/360 [==============================] - 148s 412ms/step - loss: 6.8769 - gender_output_loss: 0.4289 - image_quality_output_loss: 0.9294 - age_output_loss: 1.3794 - weight_output_loss: 0.9539 - bag_output_loss: 0.8338 - footwear_output_loss: 0.8542 - pose_output_loss: 0.6309 - emotion_output_loss: 0.8664 - gender_output_acc: 0.8017 - image_quality_output_acc: 0.5619 - age_output_acc: 0.4119 - weight_output_acc: 0.6379 - bag_output_acc: 0.6306 - footwear_output_acc: 0.6213 - pose_output_acc: 0.7417 - emotion_output_acc: 0.7162 - val_loss: 6.8840 - val_gender_output_loss: 0.4124 - val_image_quality_output_loss: 0.9424 - val_age_output_loss: 1.3969 - val_weight_output_loss: 0.9415 - val_bag_output_loss: 0.8831 - val_footwear_output_loss: 0.8327 - val_pose_output_loss: 0.5450 - val_emotion_output_loss: 0.9298 - val_gender_output_acc: 0.8234 - val_image_quality_output_acc: 0.5580 - val_age_output_acc: 0.3849 - val_weight_output_acc: 0.6399 - val_bag_output_acc: 0.5947 - val_footwear_output_acc: 0.6181 - val_pose_output_acc: 0.7808 - val_emotion_output_acc: 0.6855\n",
            "Epoch 35/70\n",
            "360/360 [==============================] - 148s 412ms/step - loss: 6.8594 - gender_output_loss: 0.4262 - image_quality_output_loss: 0.9294 - age_output_loss: 1.3759 - weight_output_loss: 0.9504 - bag_output_loss: 0.8336 - footwear_output_loss: 0.8514 - pose_output_loss: 0.6252 - emotion_output_loss: 0.8673 - gender_output_acc: 0.8069 - image_quality_output_acc: 0.5606 - age_output_acc: 0.4109 - weight_output_acc: 0.6362 - bag_output_acc: 0.6368 - footwear_output_acc: 0.6194 - pose_output_acc: 0.7397 - emotion_output_acc: 0.7164 - val_loss: 6.8688 - val_gender_output_loss: 0.4066 - val_image_quality_output_loss: 0.9622 - val_age_output_loss: 1.3943 - val_weight_output_loss: 0.9353 - val_bag_output_loss: 0.8980 - val_footwear_output_loss: 0.8163 - val_pose_output_loss: 0.5405 - val_emotion_output_loss: 0.9154 - val_gender_output_acc: 0.8199 - val_image_quality_output_acc: 0.5541 - val_age_output_acc: 0.3760 - val_weight_output_acc: 0.6419 - val_bag_output_acc: 0.5694 - val_footwear_output_acc: 0.6399 - val_pose_output_acc: 0.7912 - val_emotion_output_acc: 0.6855\n",
            "Epoch 36/70\n",
            "360/360 [==============================] - 149s 414ms/step - loss: 6.8503 - gender_output_loss: 0.4277 - image_quality_output_loss: 0.9318 - age_output_loss: 1.3732 - weight_output_loss: 0.9498 - bag_output_loss: 0.8339 - footwear_output_loss: 0.8557 - pose_output_loss: 0.6139 - emotion_output_loss: 0.8644 - gender_output_acc: 0.8036 - image_quality_output_acc: 0.5543 - age_output_acc: 0.4128 - weight_output_acc: 0.6381 - bag_output_acc: 0.6298 - footwear_output_acc: 0.6195 - pose_output_acc: 0.7420 - emotion_output_acc: 0.7158 - val_loss: 6.7584 - val_gender_output_loss: 0.3822 - val_image_quality_output_loss: 0.9254 - val_age_output_loss: 1.3799 - val_weight_output_loss: 0.9330 - val_bag_output_loss: 0.8795 - val_footwear_output_loss: 0.8037 - val_pose_output_loss: 0.5400 - val_emotion_output_loss: 0.9147 - val_gender_output_acc: 0.8413 - val_image_quality_output_acc: 0.5610 - val_age_output_acc: 0.3884 - val_weight_output_acc: 0.6394 - val_bag_output_acc: 0.5818 - val_footwear_output_acc: 0.6329 - val_pose_output_acc: 0.8041 - val_emotion_output_acc: 0.6855\n",
            "Epoch 36/70\n",
            "Epoch 37/70\n",
            "360/360 [==============================] - 150s 416ms/step - loss: 6.8372 - gender_output_loss: 0.4270 - image_quality_output_loss: 0.9277 - age_output_loss: 1.3755 - weight_output_loss: 0.9504 - bag_output_loss: 0.8300 - footwear_output_loss: 0.8491 - pose_output_loss: 0.6137 - emotion_output_loss: 0.8638 - gender_output_acc: 0.8029 - image_quality_output_acc: 0.5624 - age_output_acc: 0.4147 - weight_output_acc: 0.6390 - bag_output_acc: 0.6337 - footwear_output_acc: 0.6217 - pose_output_acc: 0.7446 - emotion_output_acc: 0.7156 - val_loss: 6.8719 - val_gender_output_loss: 0.4052 - val_image_quality_output_loss: 0.9468 - val_age_output_loss: 1.3901 - val_weight_output_loss: 0.9364 - val_bag_output_loss: 0.8927 - val_footwear_output_loss: 0.8219 - val_pose_output_loss: 0.5617 - val_emotion_output_loss: 0.9171 - val_gender_output_acc: 0.8279 - val_image_quality_output_acc: 0.5580 - val_age_output_acc: 0.3834 - val_weight_output_acc: 0.6419 - val_bag_output_acc: 0.5888 - val_footwear_output_acc: 0.6230 - val_pose_output_acc: 0.7693 - val_emotion_output_acc: 0.6855\n",
            "Epoch 38/70\n",
            "360/360 [==============================] - 149s 414ms/step - loss: 6.8369 - gender_output_loss: 0.4197 - image_quality_output_loss: 0.9271 - age_output_loss: 1.3762 - weight_output_loss: 0.9489 - bag_output_loss: 0.8337 - footwear_output_loss: 0.8455 - pose_output_loss: 0.6220 - emotion_output_loss: 0.8639 - gender_output_acc: 0.8074 - image_quality_output_acc: 0.5628 - age_output_acc: 0.4122 - weight_output_acc: 0.6381 - bag_output_acc: 0.6326 - footwear_output_acc: 0.6260 - pose_output_acc: 0.7414 - emotion_output_acc: 0.7157 - val_loss: 6.8685 - val_gender_output_loss: 0.4073 - val_image_quality_output_loss: 0.9419 - val_age_output_loss: 1.3897 - val_weight_output_loss: 0.9257 - val_bag_output_loss: 0.9003 - val_footwear_output_loss: 0.8134 - val_pose_output_loss: 0.5716 - val_emotion_output_loss: 0.9186 - val_gender_output_acc: 0.8194 - val_image_quality_output_acc: 0.5565 - val_age_output_acc: 0.3760 - val_weight_output_acc: 0.6389 - val_bag_output_acc: 0.5630 - val_footwear_output_acc: 0.6364 - val_pose_output_acc: 0.7803 - val_emotion_output_acc: 0.6855\n",
            "Epoch 39/70\n",
            "360/360 [==============================] - 150s 417ms/step - loss: 6.8433 - gender_output_loss: 0.4211 - image_quality_output_loss: 0.9289 - age_output_loss: 1.3778 - weight_output_loss: 0.9485 - bag_output_loss: 0.8273 - footwear_output_loss: 0.8515 - pose_output_loss: 0.6192 - emotion_output_loss: 0.8690 - gender_output_acc: 0.8098 - image_quality_output_acc: 0.5588 - age_output_acc: 0.4102 - weight_output_acc: 0.6368 - bag_output_acc: 0.6348 - footwear_output_acc: 0.6225 - pose_output_acc: 0.7427 - emotion_output_acc: 0.7151 - val_loss: 6.8051 - val_gender_output_loss: 0.3987 - val_image_quality_output_loss: 0.9332 - val_age_output_loss: 1.3803 - val_weight_output_loss: 0.9288 - val_bag_output_loss: 0.8961 - val_footwear_output_loss: 0.8102 - val_pose_output_loss: 0.5477 - val_emotion_output_loss: 0.9100 - val_gender_output_acc: 0.8209 - val_image_quality_output_acc: 0.5585 - val_age_output_acc: 0.3854 - val_weight_output_acc: 0.6404 - val_bag_output_acc: 0.6042 - val_footwear_output_acc: 0.6404 - val_pose_output_acc: 0.7877 - val_emotion_output_acc: 0.6855\n",
            "Epoch 40/70\n",
            "359/360 [============================>.] - ETA: 0s - loss: 6.8483 - gender_output_loss: 0.4134 - image_quality_output_loss: 0.9288 - age_output_loss: 1.3764 - weight_output_loss: 0.9497 - bag_output_loss: 0.8328 - footwear_output_loss: 0.8594 - pose_output_loss: 0.6211 - emotion_output_loss: 0.8668 - gender_output_acc: 0.8102 - image_quality_output_acc: 0.5595 - age_output_acc: 0.4115 - weight_output_acc: 0.6375 - bag_output_acc: 0.6280 - footwear_output_acc: 0.6192 - pose_output_acc: 0.7432 - emotion_output_acc: 0.7149\n",
            "360/360 [==============================] - 151s 419ms/step - loss: 6.8481 - gender_output_loss: 0.4140 - image_quality_output_loss: 0.9290 - age_output_loss: 1.3765 - weight_output_loss: 0.9492 - bag_output_loss: 0.8327 - footwear_output_loss: 0.8596 - pose_output_loss: 0.6208 - emotion_output_loss: 0.8663 - gender_output_acc: 0.8100 - image_quality_output_acc: 0.5598 - age_output_acc: 0.4113 - weight_output_acc: 0.6377 - bag_output_acc: 0.6282 - footwear_output_acc: 0.6189 - pose_output_acc: 0.7436 - emotion_output_acc: 0.7152 - val_loss: 6.8463 - val_gender_output_loss: 0.4199 - val_image_quality_output_loss: 0.9226 - val_age_output_loss: 1.3920 - val_weight_output_loss: 0.9325 - val_bag_output_loss: 0.8909 - val_footwear_output_loss: 0.8256 - val_pose_output_loss: 0.5478 - val_emotion_output_loss: 0.9150 - val_gender_output_acc: 0.8274 - val_image_quality_output_acc: 0.5585 - val_age_output_acc: 0.3780 - val_weight_output_acc: 0.6399 - val_bag_output_acc: 0.5689 - val_footwear_output_acc: 0.6349 - val_pose_output_acc: 0.7753 - val_emotion_output_acc: 0.6855\n",
            "Epoch 41/70\n",
            "360/360 [==============================] - 149s 415ms/step - loss: 6.8311 - gender_output_loss: 0.4215 - image_quality_output_loss: 0.9292 - age_output_loss: 1.3711 - weight_output_loss: 0.9486 - bag_output_loss: 0.8308 - footwear_output_loss: 0.8517 - pose_output_loss: 0.6158 - emotion_output_loss: 0.8624 - gender_output_acc: 0.8045 - image_quality_output_acc: 0.5596 - age_output_acc: 0.4107 - weight_output_acc: 0.6395 - bag_output_acc: 0.6271 - footwear_output_acc: 0.6257 - pose_output_acc: 0.7451 - emotion_output_acc: 0.7155 - val_loss: 6.9292 - val_gender_output_loss: 0.4408 - val_image_quality_output_loss: 0.9315 - val_age_output_loss: 1.3907 - val_weight_output_loss: 0.9385 - val_bag_output_loss: 0.8919 - val_footwear_output_loss: 0.8509 - val_pose_output_loss: 0.5729 - val_emotion_output_loss: 0.9120 - val_gender_output_acc: 0.7966 - val_image_quality_output_acc: 0.5570 - val_age_output_acc: 0.3839 - val_weight_output_acc: 0.6389 - val_bag_output_acc: 0.5843 - val_footwear_output_acc: 0.6136 - val_pose_output_acc: 0.7808 - val_emotion_output_acc: 0.6855\n",
            "Epoch 42/70\n",
            "360/360 [==============================] - 150s 416ms/step - loss: 6.8299 - gender_output_loss: 0.4256 - image_quality_output_loss: 0.9306 - age_output_loss: 1.3755 - weight_output_loss: 0.9462 - bag_output_loss: 0.8315 - footwear_output_loss: 0.8527 - pose_output_loss: 0.6059 - emotion_output_loss: 0.8619 - gender_output_acc: 0.8022 - image_quality_output_acc: 0.5602 - age_output_acc: 0.4101 - weight_output_acc: 0.6377 - bag_output_acc: 0.6287 - footwear_output_acc: 0.6238 - pose_output_acc: 0.7437 - emotion_output_acc: 0.7160 - val_loss: 7.0244 - val_gender_output_loss: 0.4516 - val_image_quality_output_loss: 0.9590 - val_age_output_loss: 1.3976 - val_weight_output_loss: 0.9439 - val_bag_output_loss: 0.9168 - val_footwear_output_loss: 0.8481 - val_pose_output_loss: 0.5884 - val_emotion_output_loss: 0.9190 - val_gender_output_acc: 0.8041 - val_image_quality_output_acc: 0.5471 - val_age_output_acc: 0.3686 - val_weight_output_acc: 0.6404 - val_bag_output_acc: 0.5625 - val_footwear_output_acc: 0.6121 - val_pose_output_acc: 0.7674 - val_emotion_output_acc: 0.6855\n",
            "Epoch 43/70\n",
            "360/360 [==============================] - 150s 417ms/step - loss: 6.8368 - gender_output_loss: 0.4227 - image_quality_output_loss: 0.9320 - age_output_loss: 1.3698 - weight_output_loss: 0.9521 - bag_output_loss: 0.8327 - footwear_output_loss: 0.8557 - pose_output_loss: 0.6093 - emotion_output_loss: 0.8623 - gender_output_acc: 0.8036 - image_quality_output_acc: 0.5579 - age_output_acc: 0.4130 - weight_output_acc: 0.6352 - bag_output_acc: 0.6275 - footwear_output_acc: 0.6177 - pose_output_acc: 0.7533 - emotion_output_acc: 0.7155 - val_loss: 6.8180 - val_gender_output_loss: 0.4079 - val_image_quality_output_loss: 0.9078 - val_age_output_loss: 1.3884 - val_weight_output_loss: 0.9343 - val_bag_output_loss: 0.8980 - val_footwear_output_loss: 0.8322 - val_pose_output_loss: 0.5365 - val_emotion_output_loss: 0.9129 - val_gender_output_acc: 0.8323 - val_image_quality_output_acc: 0.5699 - val_age_output_acc: 0.3948 - val_weight_output_acc: 0.6404 - val_bag_output_acc: 0.5625 - val_footwear_output_acc: 0.6171 - val_pose_output_acc: 0.7827 - val_emotion_output_acc: 0.6855\n",
            "Epoch 44/70\n",
            "360/360 [==============================] - 150s 417ms/step - loss: 6.8296 - gender_output_loss: 0.4153 - image_quality_output_loss: 0.9327 - age_output_loss: 1.3744 - weight_output_loss: 0.9462 - bag_output_loss: 0.8293 - footwear_output_loss: 0.8490 - pose_output_loss: 0.6186 - emotion_output_loss: 0.8639 - gender_output_acc: 0.8079 - image_quality_output_acc: 0.5582 - age_output_acc: 0.4108 - weight_output_acc: 0.6386 - bag_output_acc: 0.6370 - footwear_output_acc: 0.6246 - pose_output_acc: 0.7462 - emotion_output_acc: 0.7162 - val_loss: 6.8939 - val_gender_output_loss: 0.4323 - val_image_quality_output_loss: 0.9670 - val_age_output_loss: 1.3850 - val_weight_output_loss: 0.9352 - val_bag_output_loss: 0.8976 - val_footwear_output_loss: 0.8242 - val_pose_output_loss: 0.5453 - val_emotion_output_loss: 0.9072 - val_gender_output_acc: 0.8368 - val_image_quality_output_acc: 0.5501 - val_age_output_acc: 0.3904 - val_weight_output_acc: 0.6429 - val_bag_output_acc: 0.5541 - val_footwear_output_acc: 0.6354 - val_pose_output_acc: 0.7852 - val_emotion_output_acc: 0.6855\n",
            "Epoch 45/70\n",
            "360/360 [==============================] - 151s 418ms/step - loss: 6.8266 - gender_output_loss: 0.4220 - image_quality_output_loss: 0.9261 - age_output_loss: 1.3742 - weight_output_loss: 0.9494 - bag_output_loss: 0.8318 - footwear_output_loss: 0.8478 - pose_output_loss: 0.6105 - emotion_output_loss: 0.8648 - gender_output_acc: 0.8076 - image_quality_output_acc: 0.5580 - age_output_acc: 0.4156 - weight_output_acc: 0.6397 - bag_output_acc: 0.6294 - footwear_output_acc: 0.6195 - pose_output_acc: 0.7537 - emotion_output_acc: 0.7156 - val_loss: 7.0035 - val_gender_output_loss: 0.4103 - val_image_quality_output_loss: 0.9996 - val_age_output_loss: 1.4030 - val_weight_output_loss: 0.9400 - val_bag_output_loss: 0.8849 - val_footwear_output_loss: 0.8455 - val_pose_output_loss: 0.5997 - val_emotion_output_loss: 0.9205 - val_gender_output_acc: 0.8294 - val_image_quality_output_acc: 0.5600 - val_age_output_acc: 0.3671 - val_weight_output_acc: 0.6399 - val_bag_output_acc: 0.5972 - val_footwear_output_acc: 0.6225 - val_pose_output_acc: 0.7599 - val_emotion_output_acc: 0.6855\n",
            "Epoch 46/70\n",
            "360/360 [==============================] - 150s 415ms/step - loss: 6.8371 - gender_output_loss: 0.4259 - image_quality_output_loss: 0.9273 - age_output_loss: 1.3765 - weight_output_loss: 0.9470 - bag_output_loss: 0.8308 - footwear_output_loss: 0.8487 - pose_output_loss: 0.6177 - emotion_output_loss: 0.8632 - gender_output_acc: 0.8045 - image_quality_output_acc: 0.5624 - age_output_acc: 0.4115 - weight_output_acc: 0.6390 - bag_output_acc: 0.6281 - footwear_output_acc: 0.6222 - pose_output_acc: 0.7450 - emotion_output_acc: 0.7155 - val_loss: 6.9130 - val_gender_output_loss: 0.4111 - val_image_quality_output_loss: 0.9391 - val_age_output_loss: 1.3952 - val_weight_output_loss: 0.9366 - val_bag_output_loss: 0.9209 - val_footwear_output_loss: 0.8202 - val_pose_output_loss: 0.5705 - val_emotion_output_loss: 0.9195 - val_gender_output_acc: 0.8299 - val_image_quality_output_acc: 0.5575 - val_age_output_acc: 0.3814 - val_weight_output_acc: 0.6419 - val_bag_output_acc: 0.5680 - val_footwear_output_acc: 0.6300 - val_pose_output_acc: 0.7857 - val_emotion_output_acc: 0.6855\n",
            "360/360 [==============================] - 151s 418ms/step - loss: 6.8266 - gender_output_loss: 0.4220 - image_quality_output_loss: 0.9261 - age_output_loss: 1.3742 - weight_output_loss: 0.9494 - bag_output_loss: 0.8318 - footwear_output_loss: 0.8478 - pose_output_loss: 0.6105 - emotion_output_loss: 0.8648 - gender_output_acc: 0.8076 - image_quality_output_acc: 0.5580 - age_output_acc: 0.4156 - weight_output_acc: 0.6397 - bag_output_acc: 0.6294 - footwear_output_acc: 0.6195 - pose_output_acc: 0.7537 - emotion_output_acc: 0.7156 - val_loss: 7.0035 - val_gender_output_loss: 0.4103 - val_image_quality_output_loss: 0.9996 - val_age_output_loss: 1.4030 - val_weight_output_loss: 0.9400 - val_bag_output_loss: 0.8849 - val_footwear_output_loss: 0.8455 - val_pose_output_loss: 0.5997 - val_emotion_output_loss: 0.9205 - val_gender_output_acc: 0.8294 - val_image_quality_output_acc: 0.5600 - val_age_output_acc: 0.3671 - val_weight_output_acc: 0.6399 - val_bag_output_acc: 0.5972 - val_footwear_output_acc: 0.6225 - val_pose_output_acc: 0.7599 - val_emotion_output_acc: 0.6855\n",
            "Epoch 47/70\n",
            "360/360 [==============================] - 150s 415ms/step - loss: 6.8272 - gender_output_loss: 0.4232 - image_quality_output_loss: 0.9251 - age_output_loss: 1.3746 - weight_output_loss: 0.9499 - bag_output_loss: 0.8268 - footwear_output_loss: 0.8483 - pose_output_loss: 0.6125 - emotion_output_loss: 0.8667 - gender_output_acc: 0.8069 - image_quality_output_acc: 0.5602 - age_output_acc: 0.4076 - weight_output_acc: 0.6385 - bag_output_acc: 0.6336 - footwear_output_acc: 0.6244 - pose_output_acc: 0.7454 - emotion_output_acc: 0.7163 - val_loss: 6.8989 - val_gender_output_loss: 0.4285 - val_image_quality_output_loss: 0.9261 - val_age_output_loss: 1.3996 - val_weight_output_loss: 0.9409 - val_bag_output_loss: 0.8963 - val_footwear_output_loss: 0.8290 - val_pose_output_loss: 0.5616 - val_emotion_output_loss: 0.9168 - val_gender_output_acc: 0.8031 - val_image_quality_output_acc: 0.5615 - val_age_output_acc: 0.3814 - val_weight_output_acc: 0.6394 - val_bag_output_acc: 0.5699 - val_footwear_output_acc: 0.6220 - val_pose_output_acc: 0.7634 - val_emotion_output_acc: 0.6855\n",
            "Epoch 48/70\n",
            "360/360 [==============================] - 149s 415ms/step - loss: 6.8260 - gender_output_loss: 0.4198 - image_quality_output_loss: 0.9272 - age_output_loss: 1.3757 - weight_output_loss: 0.9483 - bag_output_loss: 0.8286 - footwear_output_loss: 0.8474 - pose_output_loss: 0.6162 - emotion_output_loss: 0.8627 - gender_output_acc: 0.8046 - image_quality_output_acc: 0.5623 - age_output_acc: 0.4107 - weight_output_acc: 0.6356 - bag_output_acc: 0.6335 - footwear_output_acc: 0.6252 - pose_output_acc: 0.7442 - emotion_output_acc: 0.7159 - val_loss: 6.8371 - val_gender_output_loss: 0.3901 - val_image_quality_output_loss: 0.9323 - val_age_output_loss: 1.3810 - val_weight_output_loss: 0.9380 - val_bag_output_loss: 0.9249 - val_footwear_output_loss: 0.8088 - val_pose_output_loss: 0.5424 - val_emotion_output_loss: 0.9195 - val_gender_output_acc: 0.8333 - val_image_quality_output_acc: 0.5575 - val_age_output_acc: 0.3755 - val_weight_output_acc: 0.6414 - val_bag_output_acc: 0.5833 - val_footwear_output_acc: 0.6384 - val_pose_output_acc: 0.7812 - val_emotion_output_acc: 0.6855\n",
            "Epoch 49/70\n",
            "360/360 [==============================] - 149s 415ms/step - loss: 6.7945 - gender_output_loss: 0.4118 - image_quality_output_loss: 0.9224 - age_output_loss: 1.3736 - weight_output_loss: 0.9455 - bag_output_loss: 0.8287 - footwear_output_loss: 0.8421 - pose_output_loss: 0.6075 - emotion_output_loss: 0.8630 - gender_output_acc: 0.8119 - image_quality_output_acc: 0.5631 - age_output_acc: 0.4108 - weight_output_acc: 0.6386 - bag_output_acc: 0.6309 - footwear_output_acc: 0.6260 - pose_output_acc: 0.7508 - emotion_output_acc: 0.7160 - val_loss: 6.8199 - val_gender_output_loss: 0.4078 - val_image_quality_output_loss: 0.9084 - val_age_output_loss: 1.3896 - val_weight_output_loss: 0.9324 - val_bag_output_loss: 0.8962 - val_footwear_output_loss: 0.8339 - val_pose_output_loss: 0.5333 - val_emotion_output_loss: 0.9184 - val_gender_output_acc: 0.8185 - val_image_quality_output_acc: 0.5650 - val_age_output_acc: 0.3780 - val_weight_output_acc: 0.6394 - val_bag_output_acc: 0.5685 - val_footwear_output_acc: 0.6166 - val_pose_output_acc: 0.7798 - val_emotion_output_acc: 0.6850\n",
            "Epoch 50/70\n",
            "360/360 [==============================] - 150s 416ms/step - loss: 6.8148 - gender_output_loss: 0.4244 - image_quality_output_loss: 0.9296 - age_output_loss: 1.3699 - weight_output_loss: 0.9461 - bag_output_loss: 0.8271 - footwear_output_loss: 0.8517 - pose_output_loss: 0.6043 - emotion_output_loss: 0.8617 - gender_output_acc: 0.8045 - image_quality_output_acc: 0.5619 - age_output_acc: 0.4086 - weight_output_acc: 0.6370 - bag_output_acc: 0.6363 - footwear_output_acc: 0.6198 - pose_output_acc: 0.7496 - emotion_output_acc: 0.7152 - val_loss: 6.9308 - val_gender_output_loss: 0.4351 - val_image_quality_output_loss: 0.9858 - val_age_output_loss: 1.3845 - val_weight_output_loss: 0.9415 - val_bag_output_loss: 0.8739 - val_footwear_output_loss: 0.8257 - val_pose_output_loss: 0.5614 - val_emotion_output_loss: 0.9229 - val_gender_output_acc: 0.8294 - val_image_quality_output_acc: 0.5342 - val_age_output_acc: 0.3725 - val_weight_output_acc: 0.6399 - val_bag_output_acc: 0.6022 - val_footwear_output_acc: 0.6215 - val_pose_output_acc: 0.7733 - val_emotion_output_acc: 0.6855\n",
            "Epoch 51/70\n",
            "360/360 [==============================] - 149s 414ms/step - loss: 6.8028 - gender_output_loss: 0.4141 - image_quality_output_loss: 0.9306 - age_output_loss: 1.3736 - weight_output_loss: 0.9470 - bag_output_loss: 0.8220 - footwear_output_loss: 0.8471 - pose_output_loss: 0.6030 - emotion_output_loss: 0.8654 - gender_output_acc: 0.8110 - image_quality_output_acc: 0.5586 - age_output_acc: 0.4109 - weight_output_acc: 0.6398 - bag_output_acc: 0.6399 - footwear_output_acc: 0.6254 - pose_output_acc: 0.7531 - emotion_output_acc: 0.7153 - val_loss: 6.9394 - val_gender_output_loss: 0.4556 - val_image_quality_output_loss: 0.9348 - val_age_output_loss: 1.3907 - val_weight_output_loss: 0.9456 - val_bag_output_loss: 0.8958 - val_footwear_output_loss: 0.8266 - val_pose_output_loss: 0.5618 - val_emotion_output_loss: 0.9284 - val_gender_output_acc: 0.8051 - val_image_quality_output_acc: 0.5610 - val_age_output_acc: 0.3765 - val_weight_output_acc: 0.6409 - val_bag_output_acc: 0.5962 - val_footwear_output_acc: 0.6329 - val_pose_output_acc: 0.7644 - val_emotion_output_acc: 0.6855\n",
            "Epoch 52/70\n",
            "Epoch 51/70\n",
            "359/360 [============================>.] - ETA: 0s - loss: 6.7877 - gender_output_loss: 0.4135 - image_quality_output_loss: 0.9259 - age_output_loss: 1.3719 - weight_output_loss: 0.9446 - bag_output_loss: 0.8309 - footwear_output_loss: 0.8479 - pose_output_loss: 0.5943 - emotion_output_loss: 0.8587 - gender_output_acc: 0.8116 - image_quality_output_acc: 0.5626 - age_output_acc: 0.4142 - weight_output_acc: 0.6378 - bag_output_acc: 0.6307 - footwear_output_acc: 0.6204 - pose_output_acc: 0.7562 - emotion_output_acc: 0.7166Epoch 52/70\n",
            "360/360 [==============================] - 149s 414ms/step - loss: 6.7873 - gender_output_loss: 0.4135 - image_quality_output_loss: 0.9256 - age_output_loss: 1.3716 - weight_output_loss: 0.9442 - bag_output_loss: 0.8309 - footwear_output_loss: 0.8479 - pose_output_loss: 0.5941 - emotion_output_loss: 0.8595 - gender_output_acc: 0.8117 - image_quality_output_acc: 0.5629 - age_output_acc: 0.4143 - weight_output_acc: 0.6381 - bag_output_acc: 0.6304 - footwear_output_acc: 0.6203 - pose_output_acc: 0.7563 - emotion_output_acc: 0.7161 - val_loss: 6.8517 - val_gender_output_loss: 0.4119 - val_image_quality_output_loss: 0.9250 - val_age_output_loss: 1.3993 - val_weight_output_loss: 0.9338 - val_bag_output_loss: 0.8841 - val_footwear_output_loss: 0.8329 - val_pose_output_loss: 0.5415 - val_emotion_output_loss: 0.9232 - val_gender_output_acc: 0.8239 - val_image_quality_output_acc: 0.5650 - val_age_output_acc: 0.3705 - val_weight_output_acc: 0.6414 - val_bag_output_acc: 0.5699 - val_footwear_output_acc: 0.6215 - val_pose_output_acc: 0.7912 - val_emotion_output_acc: 0.6855\n",
            "Epoch 53/70\n",
            "360/360 [==============================] - 149s 414ms/step - loss: 6.7942 - gender_output_loss: 0.4126 - image_quality_output_loss: 0.9310 - age_output_loss: 1.3714 - weight_output_loss: 0.9454 - bag_output_loss: 0.8300 - footwear_output_loss: 0.8406 - pose_output_loss: 0.6010 - emotion_output_loss: 0.8622 - gender_output_acc: 0.8093 - image_quality_output_acc: 0.5595 - age_output_acc: 0.4119 - weight_output_acc: 0.6378 - bag_output_acc: 0.6344 - footwear_output_acc: 0.6260 - pose_output_acc: 0.7550 - emotion_output_acc: 0.7159 - val_loss: 6.8444 - val_gender_output_loss: 0.4190 - val_image_quality_output_loss: 0.9430 - val_age_output_loss: 1.3876 - val_weight_output_loss: 0.9346 - val_bag_output_loss: 0.8939 - val_footwear_output_loss: 0.8138 - val_pose_output_loss: 0.5366 - val_emotion_output_loss: 0.9159 - val_gender_output_acc: 0.8279 - val_image_quality_output_acc: 0.5650 - val_age_output_acc: 0.3770 - val_weight_output_acc: 0.6404 - val_bag_output_acc: 0.5754 - val_footwear_output_acc: 0.6310 - val_pose_output_acc: 0.7743 - val_emotion_output_acc: 0.6855\n",
            "Epoch 54/70\n",
            "360/360 [==============================] - 149s 414ms/step - loss: 6.7936 - gender_output_loss: 0.4177 - image_quality_output_loss: 0.9237 - age_output_loss: 1.3744 - weight_output_loss: 0.9445 - bag_output_loss: 0.8290 - footwear_output_loss: 0.8415 - pose_output_loss: 0.6013 - emotion_output_loss: 0.8613 - gender_output_acc: 0.8092 - image_quality_output_acc: 0.5609 - age_output_acc: 0.4076 - weight_output_acc: 0.6372 - bag_output_acc: 0.6320 - footwear_output_acc: 0.6248 - pose_output_acc: 0.7528 - emotion_output_acc: 0.7164 - val_loss: 6.9116 - val_gender_output_loss: 0.4336 - val_image_quality_output_loss: 0.9466 - val_age_output_loss: 1.3942 - val_weight_output_loss: 0.9359 - val_bag_output_loss: 0.8882 - val_footwear_output_loss: 0.8282 - val_pose_output_loss: 0.5699 - val_emotion_output_loss: 0.9149 - val_gender_output_acc: 0.8021 - val_image_quality_output_acc: 0.5585 - val_age_output_acc: 0.3686 - val_weight_output_acc: 0.6369 - val_bag_output_acc: 0.5615 - val_footwear_output_acc: 0.6210 - val_pose_output_acc: 0.7773 - val_emotion_output_acc: 0.6855\n",
            "\n",
            "Epoch 55/70\n",
            "360/360 [==============================] - 150s 416ms/step - loss: 6.7871 - gender_output_loss: 0.4192 - image_quality_output_loss: 0.9281 - age_output_loss: 1.3742 - weight_output_loss: 0.9443 - bag_output_loss: 0.8277 - footwear_output_loss: 0.8368 - pose_output_loss: 0.5955 - emotion_output_loss: 0.8612 - gender_output_acc: 0.8064 - image_quality_output_acc: 0.5602 - age_output_acc: 0.4125 - weight_output_acc: 0.6378 - bag_output_acc: 0.6299 - footwear_output_acc: 0.6276 - pose_output_acc: 0.7540 - emotion_output_acc: 0.7163 - val_loss: 6.8101 - val_gender_output_loss: 0.4040 - val_image_quality_output_loss: 0.9171 - val_age_output_loss: 1.4025 - val_weight_output_loss: 0.9452 - val_bag_output_loss: 0.8851 - val_footwear_output_loss: 0.8059 - val_pose_output_loss: 0.5319 - val_emotion_output_loss: 0.9185 - val_gender_output_acc: 0.8180 - val_image_quality_output_acc: 0.5620 - val_age_output_acc: 0.3666 - val_weight_output_acc: 0.6394 - val_bag_output_acc: 0.5818 - val_footwear_output_acc: 0.6349 - val_pose_output_acc: 0.7892 - val_emotion_output_acc: 0.6855\n",
            "Epoch 56/70\n",
            "360/360 [==============================] - 149s 415ms/step - loss: 6.7951 - gender_output_loss: 0.4148 - image_quality_output_loss: 0.9256 - age_output_loss: 1.3743 - weight_output_loss: 0.9429 - bag_output_loss: 0.8276 - footwear_output_loss: 0.8500 - pose_output_loss: 0.5955 - emotion_output_loss: 0.8644 - gender_output_acc: 0.8080 - image_quality_output_acc: 0.5626 - age_output_acc: 0.4058 - weight_output_acc: 0.6384 - bag_output_acc: 0.6328 - footwear_output_acc: 0.6190 - pose_output_acc: 0.7562 - emotion_output_acc: 0.7151 - val_loss: 6.9997 - val_gender_output_loss: 0.4848 - val_image_quality_output_loss: 0.9730 - val_age_output_loss: 1.3935 - val_weight_output_loss: 0.9464 - val_bag_output_loss: 0.8947 - val_footwear_output_loss: 0.8286 - val_pose_output_loss: 0.5536 - val_emotion_output_loss: 0.9251 - val_gender_output_acc: 0.7569 - val_image_quality_output_acc: 0.5456 - val_age_output_acc: 0.3834 - val_weight_output_acc: 0.6399 - val_bag_output_acc: 0.5689 - val_footwear_output_acc: 0.6280 - val_pose_output_acc: 0.7788 - val_emotion_output_acc: 0.6855\n",
            "Epoch 57/70\n",
            "360/360 [==============================] - 149s 415ms/step - loss: 6.7889 - gender_output_loss: 0.4127 - image_quality_output_loss: 0.9257 - age_output_loss: 1.3743 - weight_output_loss: 0.9466 - bag_output_loss: 0.8307 - footwear_output_loss: 0.8397 - pose_output_loss: 0.5929 - emotion_output_loss: 0.8664 - gender_output_acc: 0.8095 - image_quality_output_acc: 0.5592 - age_output_acc: 0.4116 - weight_output_acc: 0.6379 - bag_output_acc: 0.6253 - footwear_output_acc: 0.6275 - pose_output_acc: 0.7555 - emotion_output_acc: 0.7155 - val_loss: 6.7630 - val_gender_output_loss: 0.3895 - val_image_quality_output_loss: 0.9200 - val_age_output_loss: 1.3902 - val_weight_output_loss: 0.9383 - val_bag_output_loss: 0.8787 - val_footwear_output_loss: 0.8190 - val_pose_output_loss: 0.5128 - val_emotion_output_loss: 0.9145 - val_gender_output_acc: 0.8194 - val_image_quality_output_acc: 0.5630 - val_age_output_acc: 0.3834 - val_weight_output_acc: 0.6399 - val_bag_output_acc: 0.6086 - val_footwear_output_acc: 0.6319 - val_pose_output_acc: 0.8031 - val_emotion_output_acc: 0.6855\n",
            "Epoch 58/70\n",
            "Epoch 57/70\n",
            "360/360 [==============================] - 150s 417ms/step - loss: 6.7854 - gender_output_loss: 0.4031 - image_quality_output_loss: 0.9275 - age_output_loss: 1.3691 - weight_output_loss: 0.9438 - bag_output_loss: 0.8271 - footwear_output_loss: 0.8451 - pose_output_loss: 0.6049 - emotion_output_loss: 0.8648 - gender_output_acc: 0.8163 - image_quality_output_acc: 0.5596 - age_output_acc: 0.4127 - weight_output_acc: 0.6378 - bag_output_acc: 0.6371 - footwear_output_acc: 0.6234 - pose_output_acc: 0.7508 - emotion_output_acc: 0.7154 - val_loss: 6.7846 - val_gender_output_loss: 0.3818 - val_image_quality_output_loss: 0.9195 - val_age_output_loss: 1.3930 - val_weight_output_loss: 0.9318 - val_bag_output_loss: 0.8753 - val_footwear_output_loss: 0.8113 - val_pose_output_loss: 0.5633 - val_emotion_output_loss: 0.9087 - val_gender_output_acc: 0.8309 - val_image_quality_output_acc: 0.5625 - val_age_output_acc: 0.3710 - val_weight_output_acc: 0.6394 - val_bag_output_acc: 0.6101 - val_footwear_output_acc: 0.6384 - val_pose_output_acc: 0.7624 - val_emotion_output_acc: 0.6855\n",
            "Epoch 59/70\n",
            "360/360 [==============================] - 150s 418ms/step - loss: 6.7808 - gender_output_loss: 0.4060 - image_quality_output_loss: 0.9311 - age_output_loss: 1.3664 - weight_output_loss: 0.9407 - bag_output_loss: 0.8264 - footwear_output_loss: 0.8456 - pose_output_loss: 0.6022 - emotion_output_loss: 0.8625 - gender_output_acc: 0.8170 - image_quality_output_acc: 0.5602 - age_output_acc: 0.4154 - weight_output_acc: 0.6385 - bag_output_acc: 0.6319 - footwear_output_acc: 0.6260 - pose_output_acc: 0.7535 - emotion_output_acc: 0.7154 - val_loss: 6.7934 - val_gender_output_loss: 0.3940 - val_image_quality_output_loss: 0.9181 - val_age_output_loss: 1.3826 - val_weight_output_loss: 0.9271 - val_bag_output_loss: 0.8823 - val_footwear_output_loss: 0.8298 - val_pose_output_loss: 0.5450 - val_emotion_output_loss: 0.9145 - val_gender_output_acc: 0.8244 - val_image_quality_output_acc: 0.5605 - val_age_output_acc: 0.3904 - val_weight_output_acc: 0.6414 - val_bag_output_acc: 0.6042 - val_footwear_output_acc: 0.6250 - val_pose_output_acc: 0.7798 - val_emotion_output_acc: 0.6855\n",
            "Epoch 60/70\n",
            "360/360 [==============================] - 151s 420ms/step - loss: 6.7762 - gender_output_loss: 0.4118 - image_quality_output_loss: 0.9283 - age_output_loss: 1.3712 - weight_output_loss: 0.9478 - bag_output_loss: 0.8209 - footwear_output_loss: 0.8389 - pose_output_loss: 0.5939 - emotion_output_loss: 0.8634 - gender_output_acc: 0.8119 - image_quality_output_acc: 0.5591 - age_output_acc: 0.4100 - weight_output_acc: 0.6372 - bag_output_acc: 0.6401 - footwear_output_acc: 0.6285 - pose_output_acc: 0.7550 - emotion_output_acc: 0.7150 - val_loss: 6.9095 - val_gender_output_loss: 0.4341 - val_image_quality_output_loss: 0.9266 - val_age_output_loss: 1.3955 - val_weight_output_loss: 0.9474 - val_bag_output_loss: 0.8963 - val_footwear_output_loss: 0.8226 - val_pose_output_loss: 0.5670 - val_emotion_output_loss: 0.9200 - val_gender_output_acc: 0.8031 - val_image_quality_output_acc: 0.5610 - val_age_output_acc: 0.3690 - val_weight_output_acc: 0.6399 - val_bag_output_acc: 0.5526 - val_footwear_output_acc: 0.6379 - val_pose_output_acc: 0.7877 - val_emotion_output_acc: 0.6855\n",
            "Epoch 61/70\n",
            "Epoch 60/70\n",
            "360/360 [==============================] - 153s 424ms/step - loss: 6.7696 - gender_output_loss: 0.4103 - image_quality_output_loss: 0.9222 - age_output_loss: 1.3713 - weight_output_loss: 0.9453 - bag_output_loss: 0.8255 - footwear_output_loss: 0.8408 - pose_output_loss: 0.5954 - emotion_output_loss: 0.8588 - gender_output_acc: 0.8168 - image_quality_output_acc: 0.5622 - age_output_acc: 0.4153 - weight_output_acc: 0.6387 - bag_output_acc: 0.6357 - footwear_output_acc: 0.6249 - pose_output_acc: 0.7570 - emotion_output_acc: 0.7155 - val_loss: 7.0239 - val_gender_output_loss: 0.4622 - val_image_quality_output_loss: 0.9699 - val_age_output_loss: 1.4048 - val_weight_output_loss: 0.9490 - val_bag_output_loss: 0.8996 - val_footwear_output_loss: 0.8466 - val_pose_output_loss: 0.5791 - val_emotion_output_loss: 0.9127 - val_gender_output_acc: 0.8100 - val_image_quality_output_acc: 0.5635 - val_age_output_acc: 0.3750 - val_weight_output_acc: 0.6399 - val_bag_output_acc: 0.5699 - val_footwear_output_acc: 0.6205 - val_pose_output_acc: 0.7564 - val_emotion_output_acc: 0.6855\n",
            "Epoch 62/70\n",
            "360/360 [==============================] - 151s 418ms/step - loss: 6.7662 - gender_output_loss: 0.4093 - image_quality_output_loss: 0.9241 - age_output_loss: 1.3655 - weight_output_loss: 0.9441 - bag_output_loss: 0.8289 - footwear_output_loss: 0.8429 - pose_output_loss: 0.5894 - emotion_output_loss: 0.8621 - gender_output_acc: 0.8127 - image_quality_output_acc: 0.5615 - age_output_acc: 0.4102 - weight_output_acc: 0.6408 - bag_output_acc: 0.6346 - footwear_output_acc: 0.6280 - pose_output_acc: 0.7581 - emotion_output_acc: 0.7159 - val_loss: 6.7891 - val_gender_output_loss: 0.4116 - val_image_quality_output_loss: 0.9214 - val_age_output_loss: 1.3866 - val_weight_output_loss: 0.9356 - val_bag_output_loss: 0.8770 - val_footwear_output_loss: 0.8112 - val_pose_output_loss: 0.5289 - val_emotion_output_loss: 0.9168 - val_gender_output_acc: 0.8224 - val_image_quality_output_acc: 0.5620 - val_age_output_acc: 0.3690 - val_weight_output_acc: 0.6399 - val_bag_output_acc: 0.6052 - val_footwear_output_acc: 0.6329 - val_pose_output_acc: 0.7902 - val_emotion_output_acc: 0.6855\n",
            "Epoch 63/70\n",
            "360/360 [==============================] - 151s 418ms/step - loss: 6.7612 - gender_output_loss: 0.4080 - image_quality_output_loss: 0.9229 - age_output_loss: 1.3737 - weight_output_loss: 0.9450 - bag_output_loss: 0.8204 - footwear_output_loss: 0.8377 - pose_output_loss: 0.5923 - emotion_output_loss: 0.8613 - gender_output_acc: 0.8130 - image_quality_output_acc: 0.5649 - age_output_acc: 0.4071 - weight_output_acc: 0.6387 - bag_output_acc: 0.6434 - footwear_output_acc: 0.6269 - pose_output_acc: 0.7558 - emotion_output_acc: 0.7159 - val_loss: 6.7971 - val_gender_output_loss: 0.4006 - val_image_quality_output_loss: 0.9332 - val_age_output_loss: 1.3853 - val_weight_output_loss: 0.9362 - val_bag_output_loss: 0.8953 - val_footwear_output_loss: 0.8098 - val_pose_output_loss: 0.5273 - val_emotion_output_loss: 0.9095 - val_gender_output_acc: 0.8259 - val_image_quality_output_acc: 0.5655 - val_age_output_acc: 0.3700 - val_weight_output_acc: 0.6414 - val_bag_output_acc: 0.6047 - val_footwear_output_acc: 0.6379 - val_pose_output_acc: 0.7803 - val_emotion_output_acc: 0.6855\n",
            "Epoch 64/70\n",
            "360/360 [==============================] - 150s 416ms/step - loss: 6.7678 - gender_output_loss: 0.4098 - image_quality_output_loss: 0.9263 - age_output_loss: 1.3678 - weight_output_loss: 0.9414 - bag_output_loss: 0.8242 - footwear_output_loss: 0.8420 - pose_output_loss: 0.5949 - emotion_output_loss: 0.8614 - gender_output_acc: 0.8128 - image_quality_output_acc: 0.5610 - age_output_acc: 0.4115 - weight_output_acc: 0.6371 - bag_output_acc: 0.6354 - footwear_output_acc: 0.6255 - pose_output_acc: 0.7544 - emotion_output_acc: 0.7161 - val_loss: 6.9791 - val_gender_output_loss: 0.4132 - val_image_quality_output_loss: 1.0228 - val_age_output_loss: 1.3909 - val_weight_output_loss: 0.9323 - val_bag_output_loss: 0.9119 - val_footwear_output_loss: 0.8228 - val_pose_output_loss: 0.5667 - val_emotion_output_loss: 0.9185 - val_gender_output_acc: 0.8075 - val_image_quality_output_acc: 0.5303 - val_age_output_acc: 0.3805 - val_weight_output_acc: 0.6399 - val_bag_output_acc: 0.5694 - val_footwear_output_acc: 0.6379 - val_pose_output_acc: 0.7803 - val_emotion_output_acc: 0.6855\n",
            "Epoch 65/70\n",
            "360/360 [==============================] - 150s 417ms/step - loss: 6.7526 - gender_output_loss: 0.4073 - image_quality_output_loss: 0.9257 - age_output_loss: 1.3680 - weight_output_loss: 0.9441 - bag_output_loss: 0.8262 - footwear_output_loss: 0.8434 - pose_output_loss: 0.5749 - emotion_output_loss: 0.8628 - gender_output_acc: 0.8123 - image_quality_output_acc: 0.5635 - age_output_acc: 0.4123 - weight_output_acc: 0.6391 - bag_output_acc: 0.6376 - footwear_output_acc: 0.6293 - pose_output_acc: 0.7611 - emotion_output_acc: 0.7160 - val_loss: 6.8774 - val_gender_output_loss: 0.4165 - val_image_quality_output_loss: 0.9094 - val_age_output_loss: 1.3839 - val_weight_output_loss: 0.9234 - val_bag_output_loss: 0.9144 - val_footwear_output_loss: 0.8814 - val_pose_output_loss: 0.5360 - val_emotion_output_loss: 0.9122 - val_gender_output_acc: 0.8120 - val_image_quality_output_acc: 0.5680 - val_age_output_acc: 0.3934 - val_weight_output_acc: 0.6443 - val_bag_output_acc: 0.5541 - val_footwear_output_acc: 0.6181 - val_pose_output_acc: 0.7822 - val_emotion_output_acc: 0.6855\n",
            "Epoch 66/70\n",
            "360/360 [==============================] - 150s 415ms/step - loss: 6.7585 - gender_output_loss: 0.4047 - image_quality_output_loss: 0.9235 - age_output_loss: 1.3658 - weight_output_loss: 0.9451 - bag_output_loss: 0.8237 - footwear_output_loss: 0.8414 - pose_output_loss: 0.5900 - emotion_output_loss: 0.8641 - gender_output_acc: 0.8139 - image_quality_output_acc: 0.5634 - age_output_acc: 0.4148 - weight_output_acc: 0.6399 - bag_output_acc: 0.6335 - footwear_output_acc: 0.6274 - pose_output_acc: 0.7569 - emotion_output_acc: 0.7153 - val_loss: 6.8867 - val_gender_output_loss: 0.3962 - val_image_quality_output_loss: 0.9401 - val_age_output_loss: 1.3844 - val_weight_output_loss: 0.9313 - val_bag_output_loss: 0.9201 - val_footwear_output_loss: 0.8166 - val_pose_output_loss: 0.5717 - val_emotion_output_loss: 0.9263 - val_gender_output_acc: 0.8309 - val_image_quality_output_acc: 0.5605 - val_age_output_acc: 0.3943 - val_weight_output_acc: 0.6498 - val_bag_output_acc: 0.5719 - val_footwear_output_acc: 0.6250 - val_pose_output_acc: 0.7654 - val_emotion_output_acc: 0.6855\n",
            "Epoch 67/70\n",
            "\n",
            "360/360 [==============================] - 149s 414ms/step - loss: 6.7459 - gender_output_loss: 0.4074 - image_quality_output_loss: 0.9242 - age_output_loss: 1.3665 - weight_output_loss: 0.9417 - bag_output_loss: 0.8278 - footwear_output_loss: 0.8339 - pose_output_loss: 0.5833 - emotion_output_loss: 0.8611 - gender_output_acc: 0.8135 - image_quality_output_acc: 0.5599 - age_output_acc: 0.4163 - weight_output_acc: 0.6388 - bag_output_acc: 0.6354 - footwear_output_acc: 0.6271 - pose_output_acc: 0.7613 - emotion_output_acc: 0.7158 - val_loss: 6.9643 - val_gender_output_loss: 0.4161 - val_image_quality_output_loss: 0.9730 - val_age_output_loss: 1.3988 - val_weight_output_loss: 0.9318 - val_bag_output_loss: 0.9468 - val_footwear_output_loss: 0.8310 - val_pose_output_loss: 0.5518 - val_emotion_output_loss: 0.9151 - val_gender_output_acc: 0.8180 - val_image_quality_output_acc: 0.5496 - val_age_output_acc: 0.3686 - val_weight_output_acc: 0.6414 - val_bag_output_acc: 0.5600 - val_footwear_output_acc: 0.6265 - val_pose_output_acc: 0.7758 - val_emotion_output_acc: 0.6855\n",
            "Epoch 68/70\n",
            "360/360 [==============================] - 150s 416ms/step - loss: 6.7615 - gender_output_loss: 0.4061 - image_quality_output_loss: 0.9257 - age_output_loss: 1.3700 - weight_output_loss: 0.9475 - bag_output_loss: 0.8216 - footwear_output_loss: 0.8437 - pose_output_loss: 0.5883 - emotion_output_loss: 0.8586 - gender_output_acc: 0.8143 - image_quality_output_acc: 0.5600 - age_output_acc: 0.4102 - weight_output_acc: 0.6376 - bag_output_acc: 0.6368 - footwear_output_acc: 0.6274 - pose_output_acc: 0.7574 - emotion_output_acc: 0.7157 - val_loss: 6.7800 - val_gender_output_loss: 0.4028 - val_image_quality_output_loss: 0.9222 - val_age_output_loss: 1.3893 - val_weight_output_loss: 0.9398 - val_bag_output_loss: 0.8818 - val_footwear_output_loss: 0.8002 - val_pose_output_loss: 0.5377 - val_emotion_output_loss: 0.9062 - val_gender_output_acc: 0.8239 - val_image_quality_output_acc: 0.5570 - val_age_output_acc: 0.3750 - val_weight_output_acc: 0.6434 - val_bag_output_acc: 0.5987 - val_footwear_output_acc: 0.6329 - val_pose_output_acc: 0.7803 - val_emotion_output_acc: 0.6855\n",
            "Epoch 69/70\n",
            "360/360 [==============================] - 150s 416ms/step - loss: 6.7402 - gender_output_loss: 0.4052 - image_quality_output_loss: 0.9244 - age_output_loss: 1.3693 - weight_output_loss: 0.9419 - bag_output_loss: 0.8246 - footwear_output_loss: 0.8382 - pose_output_loss: 0.5746 - emotion_output_loss: 0.8620 - gender_output_acc: 0.8171 - image_quality_output_acc: 0.5595 - age_output_acc: 0.4116 - weight_output_acc: 0.6379 - bag_output_acc: 0.6387 - footwear_output_acc: 0.6261 - pose_output_acc: 0.7644 - emotion_output_acc: 0.7160 - val_loss: 7.0018 - val_gender_output_loss: 0.4685 - val_image_quality_output_loss: 0.9431 - val_age_output_loss: 1.3960 - val_weight_output_loss: 0.9454 - val_bag_output_loss: 0.9265 - val_footwear_output_loss: 0.8584 - val_pose_output_loss: 0.5480 - val_emotion_output_loss: 0.9159 - val_gender_output_acc: 0.7862 - val_image_quality_output_acc: 0.5665 - val_age_output_acc: 0.3676 - val_weight_output_acc: 0.6399 - val_bag_output_acc: 0.5610 - val_footwear_output_acc: 0.6042 - val_pose_output_acc: 0.7733 - val_emotion_output_acc: 0.6855\n",
            "Epoch 70/70\n",
            "360/360 [==============================] - 149s 413ms/step - loss: 6.7444 - gender_output_loss: 0.4029 - image_quality_output_loss: 0.9267 - age_output_loss: 1.3681 - weight_output_loss: 0.9389 - bag_output_loss: 0.8248 - footwear_output_loss: 0.8343 - pose_output_loss: 0.5845 - emotion_output_loss: 0.8642 - gender_output_acc: 0.8131 - image_quality_output_acc: 0.5594 - age_output_acc: 0.4126 - weight_output_acc: 0.6413 - bag_output_acc: 0.6359 - footwear_output_acc: 0.6326 - pose_output_acc: 0.7622 - emotion_output_acc: 0.7155 - val_loss: 6.9324 - val_gender_output_loss: 0.4868 - val_image_quality_output_loss: 0.9529 - val_age_output_loss: 1.3893 - val_weight_output_loss: 0.9375 - val_bag_output_loss: 0.8520 - val_footwear_output_loss: 0.8349 - val_pose_output_loss: 0.5579 - val_emotion_output_loss: 0.9210 - val_gender_output_acc: 0.7743 - val_image_quality_output_acc: 0.5645 - val_age_output_acc: 0.3676 - val_weight_output_acc: 0.6404 - val_bag_output_acc: 0.6314 - val_footwear_output_acc: 0.6195 - val_pose_output_acc: 0.7674 - val_emotion_output_acc: 0.6855\n"
          ],
          "name": "stdout"
        },
        {
          "output_type": "execute_result",
          "data": {
            "text/plain": [
              "<keras.callbacks.History at 0x7f6b0614aa58>"
            ]
          },
          "metadata": {
            "tags": []
          },
          "execution_count": 32
        }
      ]
    },
    {
      "cell_type": "code",
      "metadata": {
        "id": "MiOx9huIJpbp",
        "colab_type": "code",
        "colab": {
          "base_uri": "https://localhost:8080/",
          "height": 348
        },
        "outputId": "396c8059-fa88-4855-95b0-25fcdeb734c7"
      },
      "source": [
        "results = modelthree.evaluate_generator(valid_gen,verbose=1)\n",
        "dict(zip(modelthree.metrics_names,results))"
      ],
      "execution_count": 33,
      "outputs": [
        {
          "output_type": "stream",
          "text": [
            "63/63 [==============================] - 4s 63ms/step\n"
          ],
          "name": "stdout"
        },
        {
          "output_type": "execute_result",
          "data": {
            "text/plain": [
              "{'age_output_acc': 0.36755952380952384,\n",
              " 'age_output_loss': 1.3893418179617987,\n",
              " 'bag_output_acc': 0.6314484126984127,\n",
              " 'bag_output_loss': 0.8519561461039952,\n",
              " 'emotion_output_acc': 0.685515873015873,\n",
              " 'emotion_output_loss': 0.9210359652837118,\n",
              " 'footwear_output_acc': 0.6195436507936508,\n",
              " 'footwear_output_loss': 0.8349484810753475,\n",
              " 'gender_output_acc': 0.7743055555555556,\n",
              " 'gender_output_loss': 0.48684172497855294,\n",
              " 'image_quality_output_acc': 0.564484126984127,\n",
              " 'image_quality_output_loss': 0.9529446741891285,\n",
              " 'loss': 6.932435474698505,\n",
              " 'pose_output_acc': 0.7673611111111112,\n",
              " 'pose_output_loss': 0.5578864372911907,\n",
              " 'weight_output_acc': 0.6403769841269841,\n",
              " 'weight_output_loss': 0.9374801601682391}"
            ]
          },
          "metadata": {
            "tags": []
          },
          "execution_count": 33
        }
      ]
    },
    {
      "cell_type": "code",
      "metadata": {
        "id": "VGW204XEWHNv",
        "colab_type": "code",
        "colab": {}
      },
      "source": [
        ""
      ],
      "execution_count": 0,
      "outputs": []
    }
  ]
}