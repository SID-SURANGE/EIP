{
  "nbformat": 4,
  "nbformat_minor": 0,
  "metadata": {
    "colab": {
      "name": "Session 3 Assignment.ipynb",
      "provenance": [],
      "collapsed_sections": []
    },
    "kernelspec": {
      "name": "python3",
      "display_name": "Python 3"
    },
    "accelerator": "GPU"
  },
  "cells": [
    {
      "cell_type": "code",
      "metadata": {
        "id": "KkwXnw9OfHZl",
        "colab_type": "code",
        "colab": {
          "base_uri": "https://localhost:8080/",
          "height": 83
        },
        "outputId": "83992838-156c-404f-be8a-1b433282572d"
      },
      "source": [
        "from keras import backend as K\n",
        "import time\n",
        "import matplotlib.pyplot as plt\n",
        "import numpy as np\n",
        "% matplotlib inline\n",
        "np.random.seed(2017) \n",
        "from keras.models import Sequential\n",
        "from keras.layers.convolutional import Convolution2D, MaxPooling2D, DepthwiseConv2D\n",
        "from keras.layers import SeparableConv2D , Conv2D, GlobalAveragePooling2D, AveragePooling2D\n",
        "from keras.layers import Activation, Flatten, Dense, Dropout\n",
        "from keras.layers.normalization import BatchNormalization\n",
        "from keras.utils import np_utils\n",
        "from keras.optimizers import Adam"
      ],
      "execution_count": 1,
      "outputs": [
        {
          "output_type": "stream",
          "text": [
            "Using TensorFlow backend.\n"
          ],
          "name": "stderr"
        },
        {
          "output_type": "display_data",
          "data": {
            "text/html": [
              "<p style=\"color: red;\">\n",
              "The default version of TensorFlow in Colab will soon switch to TensorFlow 2.x.<br>\n",
              "We recommend you <a href=\"https://www.tensorflow.org/guide/migrate\" target=\"_blank\">upgrade</a> now \n",
              "or ensure your notebook will continue to use TensorFlow 1.x via the <code>%tensorflow_version 1.x</code> magic:\n",
              "<a href=\"https://colab.research.google.com/notebooks/tensorflow_version.ipynb\" target=\"_blank\">more info</a>.</p>\n"
            ],
            "text/plain": [
              "<IPython.core.display.HTML object>"
            ]
          },
          "metadata": {
            "tags": []
          }
        }
      ]
    },
    {
      "cell_type": "code",
      "metadata": {
        "id": "NHpnoCHZfO8g",
        "colab_type": "code",
        "colab": {
          "base_uri": "https://localhost:8080/",
          "height": 54
        },
        "outputId": "aa51cdb4-ce4c-42ed-fa71-f52f11920c1f"
      },
      "source": [
        "from keras.datasets import cifar10\n",
        "(train_features, train_labels), (test_features, test_labels) = cifar10.load_data()\n",
        "num_train, img_channels, img_rows, img_cols =  train_features.shape\n",
        "num_test, _, _, _ =  test_features.shape\n",
        "num_classes = len(np.unique(train_labels))"
      ],
      "execution_count": 2,
      "outputs": [
        {
          "output_type": "stream",
          "text": [
            "Downloading data from https://www.cs.toronto.edu/~kriz/cifar-10-python.tar.gz\n",
            "170500096/170498071 [==============================] - 11s 0us/step\n"
          ],
          "name": "stdout"
        }
      ]
    },
    {
      "cell_type": "code",
      "metadata": {
        "id": "V8aFV_8spTV6",
        "colab_type": "code",
        "outputId": "160a05eb-36f4-4e3b-b7cd-f461ca4580e6",
        "colab": {
          "base_uri": "https://localhost:8080/",
          "height": 35
        }
      },
      "source": [
        "train_features.shape"
      ],
      "execution_count": 3,
      "outputs": [
        {
          "output_type": "execute_result",
          "data": {
            "text/plain": [
              "(50000, 32, 32, 3)"
            ]
          },
          "metadata": {
            "tags": []
          },
          "execution_count": 3
        }
      ]
    },
    {
      "cell_type": "code",
      "metadata": {
        "id": "O6jKdA2BpTL5",
        "colab_type": "code",
        "outputId": "a8f36f85-8406-4564-9c72-6edb0f1b2f8f",
        "colab": {
          "base_uri": "https://localhost:8080/",
          "height": 35
        }
      },
      "source": [
        "test_features.shape"
      ],
      "execution_count": 4,
      "outputs": [
        {
          "output_type": "execute_result",
          "data": {
            "text/plain": [
              "(10000, 32, 32, 3)"
            ]
          },
          "metadata": {
            "tags": []
          },
          "execution_count": 4
        }
      ]
    },
    {
      "cell_type": "code",
      "metadata": {
        "id": "14HyBUXdfS6G",
        "colab_type": "code",
        "outputId": "a4611bb6-9ce5-4f30-f185-aef1df467936",
        "colab": {
          "base_uri": "https://localhost:8080/",
          "height": 213
        }
      },
      "source": [
        "class_names = ['airplane','automobile','bird','cat','deer',\n",
        "               'dog','frog','horse','ship','truck']\n",
        "fig = plt.figure(figsize=(8,3))\n",
        "for i in range(num_classes):\n",
        "    ax = fig.add_subplot(2, 5, 1 + i, xticks=[], yticks=[])\n",
        "    idx = np.where(train_labels[:]==i)[0]\n",
        "    features_idx = train_features[idx,::]\n",
        "    img_num = np.random.randint(features_idx.shape[0])\n",
        "    im = features_idx[img_num]\n",
        "    ax.set_title(class_names[i])\n",
        "    plt.imshow(im)\n",
        "plt.show()"
      ],
      "execution_count": 5,
      "outputs": [
        {
          "output_type": "display_data",
          "data": {
            "image/png": "[encoded data removed]",
            "text/plain": [
              "<Figure size 576x216 with 10 Axes>"
            ]
          },
          "metadata": {
            "tags": []
          }
        }
      ]
    },
    {
      "cell_type": "code",
      "metadata": {
        "id": "bmfsk76-fadV",
        "colab_type": "code",
        "colab": {}
      },
      "source": [
        "def plot_model_history(model_history):\n",
        "    fig, axs = plt.subplots(1,2,figsize=(15,5))\n",
        "    # summarize history for accuracy\n",
        "    axs[0].plot(range(1,len(model_history.history['acc'])+1),model_history.history['acc'])\n",
        "    axs[0].plot(range(1,len(model_history.history['val_acc'])+1),model_history.history['val_acc'])\n",
        "    axs[0].set_title('Model Accuracy')\n",
        "    axs[0].set_ylabel('Accuracy')\n",
        "    axs[0].set_xlabel('Epoch')\n",
        "    axs[0].set_xticks(np.arange(1,len(model_history.history['acc'])+1),len(model_history.history['acc'])/10)\n",
        "    axs[0].legend(['train', 'val'], loc='best')\n",
        "    # summarize history for loss\n",
        "    axs[1].plot(range(1,len(model_history.history['loss'])+1),model_history.history['loss'])\n",
        "    axs[1].plot(range(1,len(model_history.history['val_loss'])+1),model_history.history['val_loss'])\n",
        "    axs[1].set_title('Model Loss')\n",
        "    axs[1].set_ylabel('Loss')\n",
        "    axs[1].set_xlabel('Epoch')\n",
        "    axs[1].set_xticks(np.arange(1,len(model_history.history['loss'])+1),len(model_history.history['loss'])/10)\n",
        "    axs[1].legend(['train', 'val'], loc='best')\n",
        "    plt.show()"
      ],
      "execution_count": 0,
      "outputs": []
    },
    {
      "cell_type": "code",
      "metadata": {
        "id": "YJMT4rjgfdZz",
        "colab_type": "code",
        "colab": {}
      },
      "source": [
        "def accuracy(test_x, test_y, model):\n",
        "    result = model.predict(test_x)\n",
        "    predicted_class = np.argmax(result, axis=1)\n",
        "    true_class = np.argmax(test_y, axis=1)\n",
        "    num_correct = np.sum(predicted_class == true_class) \n",
        "    accuracy = float(num_correct)/result.shape[0]\n",
        "    return (accuracy * 100)"
      ],
      "execution_count": 0,
      "outputs": []
    },
    {
      "cell_type": "code",
      "metadata": {
        "id": "T5c5nDvxm6zR",
        "colab_type": "code",
        "colab": {}
      },
      "source": [
        "train_features = train_features.astype('float32')/255\n",
        "test_features = test_features.astype('float32')/255\n",
        "# convert class labels to binary class labels\n",
        "train_labels = np_utils.to_categorical(train_labels, num_classes)\n",
        "test_labels = np_utils.to_categorical(test_labels, num_classes)"
      ],
      "execution_count": 0,
      "outputs": []
    },
    {
      "cell_type": "code",
      "metadata": {
        "id": "cSOb2lkJfhVq",
        "colab_type": "code",
        "outputId": "ea076964-c555-4d89-d90f-95808c67ffcc",
        "colab": {
          "base_uri": "https://localhost:8080/",
          "height": 565
        }
      },
      "source": [
        "# Define the model\n",
        "model = Sequential()\n",
        "model.add(Convolution2D(48, 3, 3, border_mode='same', input_shape=(32, 32, 3)))\n",
        "model.add(Activation('relu'))\n",
        "model.add(Convolution2D(48, 3, 3))\n",
        "model.add(Activation('relu'))\n",
        "model.add(MaxPooling2D(pool_size=(2, 2)))\n",
        "model.add(Dropout(0.25))\n",
        "model.add(Convolution2D(96, 3, 3, border_mode='same'))\n",
        "model.add(Activation('relu'))\n",
        "model.add(Convolution2D(96, 3, 3))\n",
        "model.add(Activation('relu'))\n",
        "model.add(MaxPooling2D(pool_size=(2, 2)))\n",
        "model.add(Dropout(0.25))\n",
        "model.add(Convolution2D(192, 3, 3, border_mode='same'))\n",
        "model.add(Activation('relu'))\n",
        "model.add(Convolution2D(192, 3, 3))\n",
        "model.add(Activation('relu'))\n",
        "model.add(MaxPooling2D(pool_size=(2, 2)))\n",
        "model.add(Dropout(0.25))\n",
        "model.add(Flatten())\n",
        "model.add(Dense(512))\n",
        "model.add(Activation('relu'))\n",
        "model.add(Dropout(0.5))\n",
        "model.add(Dense(256))\n",
        "model.add(Activation('relu'))\n",
        "model.add(Dropout(0.5))\n",
        "model.add(Dense(num_classes, activation='softmax'))\n",
        "# Compile the model\n",
        "model.compile(optimizer=Adam(lr = 0.001), loss='categorical_crossentropy', metrics=['accuracy'])\n"
      ],
      "execution_count": 9,
      "outputs": [
        {
          "output_type": "stream",
          "text": [
            "WARNING:tensorflow:From /usr/local/lib/python3.6/dist-packages/keras/backend/tensorflow_backend.py:66: The name tf.get_default_graph is deprecated. Please use tf.compat.v1.get_default_graph instead.\n",
            "\n",
            "WARNING:tensorflow:From /usr/local/lib/python3.6/dist-packages/keras/backend/tensorflow_backend.py:541: The name tf.placeholder is deprecated. Please use tf.compat.v1.placeholder instead.\n",
            "\n",
            "WARNING:tensorflow:From /usr/local/lib/python3.6/dist-packages/keras/backend/tensorflow_backend.py:4432: The name tf.random_uniform is deprecated. Please use tf.random.uniform instead.\n",
            "\n",
            "WARNING:tensorflow:From /usr/local/lib/python3.6/dist-packages/keras/backend/tensorflow_backend.py:4267: The name tf.nn.max_pool is deprecated. Please use tf.nn.max_pool2d instead.\n",
            "\n",
            "WARNING:tensorflow:From /usr/local/lib/python3.6/dist-packages/keras/backend/tensorflow_backend.py:148: The name tf.placeholder_with_default is deprecated. Please use tf.compat.v1.placeholder_with_default instead.\n",
            "\n",
            "WARNING:tensorflow:From /usr/local/lib/python3.6/dist-packages/keras/backend/tensorflow_backend.py:3733: calling dropout (from tensorflow.python.ops.nn_ops) with keep_prob is deprecated and will be removed in a future version.\n",
            "Instructions for updating:\n",
            "Please use `rate` instead of `keep_prob`. Rate should be set to `rate = 1 - keep_prob`.\n"
          ],
          "name": "stdout"
        },
        {
          "output_type": "stream",
          "text": [
            "/usr/local/lib/python3.6/dist-packages/ipykernel_launcher.py:2: UserWarning: Update your `Conv2D` call to the Keras 2 API: `Conv2D(48, (3, 3), input_shape=(32, 32, 3..., padding=\"same\")`\n",
            "  \n",
            "/usr/local/lib/python3.6/dist-packages/ipykernel_launcher.py:4: UserWarning: Update your `Conv2D` call to the Keras 2 API: `Conv2D(48, (3, 3))`\n",
            "  after removing the cwd from sys.path.\n",
            "/usr/local/lib/python3.6/dist-packages/ipykernel_launcher.py:8: UserWarning: Update your `Conv2D` call to the Keras 2 API: `Conv2D(96, (3, 3), padding=\"same\")`\n",
            "  \n",
            "/usr/local/lib/python3.6/dist-packages/ipykernel_launcher.py:10: UserWarning: Update your `Conv2D` call to the Keras 2 API: `Conv2D(96, (3, 3))`\n",
            "  # Remove the CWD from sys.path while we load stuff.\n",
            "/usr/local/lib/python3.6/dist-packages/ipykernel_launcher.py:14: UserWarning: Update your `Conv2D` call to the Keras 2 API: `Conv2D(192, (3, 3), padding=\"same\")`\n",
            "  \n",
            "/usr/local/lib/python3.6/dist-packages/ipykernel_launcher.py:16: UserWarning: Update your `Conv2D` call to the Keras 2 API: `Conv2D(192, (3, 3))`\n",
            "  app.launch_new_instance()\n"
          ],
          "name": "stderr"
        },
        {
          "output_type": "stream",
          "text": [
            "WARNING:tensorflow:From /usr/local/lib/python3.6/dist-packages/keras/optimizers.py:793: The name tf.train.Optimizer is deprecated. Please use tf.compat.v1.train.Optimizer instead.\n",
            "\n",
            "WARNING:tensorflow:From /usr/local/lib/python3.6/dist-packages/keras/backend/tensorflow_backend.py:3576: The name tf.log is deprecated. Please use tf.math.log instead.\n",
            "\n"
          ],
          "name": "stdout"
        }
      ]
    },
    {
      "cell_type": "code",
      "metadata": {
        "id": "wvVs5tC8mR6Q",
        "colab_type": "code",
        "outputId": "01e533cc-c93a-49d4-84db-8715bb970765",
        "colab": {
          "base_uri": "https://localhost:8080/",
          "height": 1000
        }
      },
      "source": [
        "model.summary()"
      ],
      "execution_count": 10,
      "outputs": [
        {
          "output_type": "stream",
          "text": [
            "Model: \"sequential_1\"\n",
            "_________________________________________________________________\n",
            "Layer (type)                 Output Shape              Param #   \n",
            "=================================================================\n",
            "conv2d_1 (Conv2D)            (None, 32, 32, 48)        1344      \n",
            "_________________________________________________________________\n",
            "activation_1 (Activation)    (None, 32, 32, 48)        0         \n",
            "_________________________________________________________________\n",
            "conv2d_2 (Conv2D)            (None, 30, 30, 48)        20784     \n",
            "_________________________________________________________________\n",
            "activation_2 (Activation)    (None, 30, 30, 48)        0         \n",
            "_________________________________________________________________\n",
            "max_pooling2d_1 (MaxPooling2 (None, 15, 15, 48)        0         \n",
            "_________________________________________________________________\n",
            "dropout_1 (Dropout)          (None, 15, 15, 48)        0         \n",
            "_________________________________________________________________\n",
            "conv2d_3 (Conv2D)            (None, 15, 15, 96)        41568     \n",
            "_________________________________________________________________\n",
            "activation_3 (Activation)    (None, 15, 15, 96)        0         \n",
            "_________________________________________________________________\n",
            "conv2d_4 (Conv2D)            (None, 13, 13, 96)        83040     \n",
            "_________________________________________________________________\n",
            "activation_4 (Activation)    (None, 13, 13, 96)        0         \n",
            "_________________________________________________________________\n",
            "max_pooling2d_2 (MaxPooling2 (None, 6, 6, 96)          0         \n",
            "_________________________________________________________________\n",
            "dropout_2 (Dropout)          (None, 6, 6, 96)          0         \n",
            "_________________________________________________________________\n",
            "conv2d_5 (Conv2D)            (None, 6, 6, 192)         166080    \n",
            "_________________________________________________________________\n",
            "activation_5 (Activation)    (None, 6, 6, 192)         0         \n",
            "_________________________________________________________________\n",
            "conv2d_6 (Conv2D)            (None, 4, 4, 192)         331968    \n",
            "_________________________________________________________________\n",
            "activation_6 (Activation)    (None, 4, 4, 192)         0         \n",
            "_________________________________________________________________\n",
            "max_pooling2d_3 (MaxPooling2 (None, 2, 2, 192)         0         \n",
            "_________________________________________________________________\n",
            "dropout_3 (Dropout)          (None, 2, 2, 192)         0         \n",
            "_________________________________________________________________\n",
            "flatten_1 (Flatten)          (None, 768)               0         \n",
            "_________________________________________________________________\n",
            "dense_1 (Dense)              (None, 512)               393728    \n",
            "_________________________________________________________________\n",
            "activation_7 (Activation)    (None, 512)               0         \n",
            "_________________________________________________________________\n",
            "dropout_4 (Dropout)          (None, 512)               0         \n",
            "_________________________________________________________________\n",
            "dense_2 (Dense)              (None, 256)               131328    \n",
            "_________________________________________________________________\n",
            "activation_8 (Activation)    (None, 256)               0         \n",
            "_________________________________________________________________\n",
            "dropout_5 (Dropout)          (None, 256)               0         \n",
            "_________________________________________________________________\n",
            "dense_3 (Dense)              (None, 10)                2570      \n",
            "=================================================================\n",
            "Total params: 1,172,410\n",
            "Trainable params: 1,172,410\n",
            "Non-trainable params: 0\n",
            "_________________________________________________________________\n"
          ],
          "name": "stdout"
        }
      ]
    },
    {
      "cell_type": "code",
      "metadata": {
        "id": "5oK_V7WyfsXX",
        "colab_type": "code",
        "outputId": "fc3a362f-acc4-4c30-aa10-df232e1c4f76",
        "colab": {
          "base_uri": "https://localhost:8080/",
          "height": 1000
        }
      },
      "source": [
        "from keras.preprocessing.image import ImageDataGenerator\n",
        "\n",
        "datagen = ImageDataGenerator(zoom_range=0.0, \n",
        "                             horizontal_flip=False)\n",
        "\n",
        "# train the model\n",
        "start = time.time()\n",
        "# Train the model\n",
        "model_info = model.fit_generator(datagen.flow(train_features, train_labels, batch_size = 128),\n",
        "                                 samples_per_epoch = train_features.shape[0], nb_epoch = 50, \n",
        "                                 validation_data = (test_features, test_labels), verbose=1)\n",
        "end = time.time()\n",
        "print (\"Model took %0.2f seconds to train\"%(end - start))\n",
        "# plot model history\n",
        "plot_model_history(model_info)\n",
        "# compute test accuracy\n",
        "print (\"Accuracy on test data is: %0.2f\"%accuracy(test_features, test_labels, model))"
      ],
      "execution_count": 11,
      "outputs": [
        {
          "output_type": "stream",
          "text": [
            "WARNING:tensorflow:From /usr/local/lib/python3.6/dist-packages/tensorflow_core/python/ops/math_grad.py:1424: where (from tensorflow.python.ops.array_ops) is deprecated and will be removed in a future version.\n",
            "Instructions for updating:\n",
            "Use tf.where in 2.0, which has the same broadcast rule as np.where\n"
          ],
          "name": "stdout"
        },
        {
          "output_type": "stream",
          "text": [
            "/usr/local/lib/python3.6/dist-packages/ipykernel_launcher.py:11: UserWarning: The semantics of the Keras 2 argument `steps_per_epoch` is not the same as the Keras 1 argument `samples_per_epoch`. `steps_per_epoch` is the number of batches to draw from the generator at each epoch. Basically steps_per_epoch = samples_per_epoch/batch_size. Similarly `nb_val_samples`->`validation_steps` and `val_samples`->`steps` arguments have changed. Update your method calls accordingly.\n",
            "  # This is added back by InteractiveShellApp.init_path()\n",
            "/usr/local/lib/python3.6/dist-packages/ipykernel_launcher.py:11: UserWarning: Update your `fit_generator` call to the Keras 2 API: `fit_generator(<keras_pre..., validation_data=(array([[[..., verbose=1, steps_per_epoch=390, epochs=50)`\n",
            "  # This is added back by InteractiveShellApp.init_path()\n"
          ],
          "name": "stderr"
        },
        {
          "output_type": "stream",
          "text": [
            "WARNING:tensorflow:From /usr/local/lib/python3.6/dist-packages/keras/backend/tensorflow_backend.py:1033: The name tf.assign_add is deprecated. Please use tf.compat.v1.assign_add instead.\n",
            "\n",
            "WARNING:tensorflow:From /usr/local/lib/python3.6/dist-packages/keras/backend/tensorflow_backend.py:1020: The name tf.assign is deprecated. Please use tf.compat.v1.assign instead.\n",
            "\n",
            "WARNING:tensorflow:From /usr/local/lib/python3.6/dist-packages/keras/backend/tensorflow_backend.py:3005: The name tf.Session is deprecated. Please use tf.compat.v1.Session instead.\n",
            "\n",
            "Epoch 1/50\n",
            "WARNING:tensorflow:From /usr/local/lib/python3.6/dist-packages/keras/backend/tensorflow_backend.py:190: The name tf.get_default_session is deprecated. Please use tf.compat.v1.get_default_session instead.\n",
            "\n",
            "WARNING:tensorflow:From /usr/local/lib/python3.6/dist-packages/keras/backend/tensorflow_backend.py:197: The name tf.ConfigProto is deprecated. Please use tf.compat.v1.ConfigProto instead.\n",
            "\n",
            "WARNING:tensorflow:From /usr/local/lib/python3.6/dist-packages/keras/backend/tensorflow_backend.py:207: The name tf.global_variables is deprecated. Please use tf.compat.v1.global_variables instead.\n",
            "\n",
            "WARNING:tensorflow:From /usr/local/lib/python3.6/dist-packages/keras/backend/tensorflow_backend.py:216: The name tf.is_variable_initialized is deprecated. Please use tf.compat.v1.is_variable_initialized instead.\n",
            "\n",
            "WARNING:tensorflow:From /usr/local/lib/python3.6/dist-packages/keras/backend/tensorflow_backend.py:223: The name tf.variables_initializer is deprecated. Please use tf.compat.v1.variables_initializer instead.\n",
            "\n",
            "390/390 [==============================] - 15s 38ms/step - loss: 1.8403 - acc: 0.2992 - val_loss: 1.4111 - val_acc: 0.4682\n",
            "Epoch 2/50\n",
            "390/390 [==============================] - 7s 18ms/step - loss: 1.3352 - acc: 0.5163 - val_loss: 1.1254 - val_acc: 0.5943\n",
            "Epoch 3/50\n",
            "390/390 [==============================] - 7s 18ms/step - loss: 1.1258 - acc: 0.6003 - val_loss: 0.9432 - val_acc: 0.6637\n",
            "Epoch 4/50\n",
            "390/390 [==============================] - 7s 18ms/step - loss: 1.0050 - acc: 0.6466 - val_loss: 0.9269 - val_acc: 0.6712\n",
            "Epoch 5/50\n",
            "390/390 [==============================] - 7s 18ms/step - loss: 0.9035 - acc: 0.6848 - val_loss: 0.8052 - val_acc: 0.7223\n",
            "Epoch 6/50\n",
            "390/390 [==============================] - 7s 18ms/step - loss: 0.8136 - acc: 0.7178 - val_loss: 0.7364 - val_acc: 0.7417\n",
            "Epoch 7/50\n",
            "390/390 [==============================] - 7s 18ms/step - loss: 0.7517 - acc: 0.7411 - val_loss: 0.6950 - val_acc: 0.7616\n",
            "Epoch 8/50\n",
            "390/390 [==============================] - 7s 18ms/step - loss: 0.7054 - acc: 0.7610 - val_loss: 0.6981 - val_acc: 0.7625\n",
            "Epoch 9/50\n",
            "390/390 [==============================] - 7s 18ms/step - loss: 0.6746 - acc: 0.7686 - val_loss: 0.6494 - val_acc: 0.7766\n",
            "Epoch 10/50\n",
            "390/390 [==============================] - 7s 18ms/step - loss: 0.6422 - acc: 0.7815 - val_loss: 0.6438 - val_acc: 0.7882\n",
            "Epoch 11/50\n",
            "390/390 [==============================] - 7s 18ms/step - loss: 0.6030 - acc: 0.7936 - val_loss: 0.6393 - val_acc: 0.7891\n",
            "Epoch 12/50\n",
            "390/390 [==============================] - 7s 18ms/step - loss: 0.5849 - acc: 0.7988 - val_loss: 0.6359 - val_acc: 0.7920\n",
            "Epoch 13/50\n",
            "390/390 [==============================] - 7s 18ms/step - loss: 0.5652 - acc: 0.8079 - val_loss: 0.6076 - val_acc: 0.7935\n",
            "Epoch 14/50\n",
            "390/390 [==============================] - 7s 18ms/step - loss: 0.5465 - acc: 0.8145 - val_loss: 0.6034 - val_acc: 0.7999\n",
            "Epoch 15/50\n",
            "390/390 [==============================] - 7s 18ms/step - loss: 0.5201 - acc: 0.8222 - val_loss: 0.6007 - val_acc: 0.7983\n",
            "Epoch 16/50\n",
            "390/390 [==============================] - 7s 18ms/step - loss: 0.5065 - acc: 0.8275 - val_loss: 0.6001 - val_acc: 0.8006\n",
            "Epoch 17/50\n",
            "390/390 [==============================] - 7s 18ms/step - loss: 0.4978 - acc: 0.8307 - val_loss: 0.5950 - val_acc: 0.8055\n",
            "Epoch 18/50\n",
            "390/390 [==============================] - 7s 18ms/step - loss: 0.4817 - acc: 0.8335 - val_loss: 0.6002 - val_acc: 0.8023\n",
            "Epoch 19/50\n",
            "390/390 [==============================] - 7s 18ms/step - loss: 0.4776 - acc: 0.8366 - val_loss: 0.5896 - val_acc: 0.8128\n",
            "Epoch 20/50\n",
            "390/390 [==============================] - 7s 18ms/step - loss: 0.4681 - acc: 0.8435 - val_loss: 0.5750 - val_acc: 0.8114\n",
            "Epoch 21/50\n",
            "390/390 [==============================] - 7s 18ms/step - loss: 0.4543 - acc: 0.8460 - val_loss: 0.5872 - val_acc: 0.8097\n",
            "Epoch 22/50\n",
            "390/390 [==============================] - 7s 18ms/step - loss: 0.4448 - acc: 0.8495 - val_loss: 0.5748 - val_acc: 0.8116\n",
            "Epoch 23/50\n",
            "390/390 [==============================] - 7s 18ms/step - loss: 0.4299 - acc: 0.8529 - val_loss: 0.5760 - val_acc: 0.8150\n",
            "Epoch 24/50\n",
            "390/390 [==============================] - 7s 18ms/step - loss: 0.4213 - acc: 0.8574 - val_loss: 0.5693 - val_acc: 0.8205\n",
            "Epoch 25/50\n",
            "390/390 [==============================] - 7s 18ms/step - loss: 0.4166 - acc: 0.8587 - val_loss: 0.5685 - val_acc: 0.8179\n",
            "Epoch 26/50\n",
            "390/390 [==============================] - 7s 18ms/step - loss: 0.4121 - acc: 0.8587 - val_loss: 0.5672 - val_acc: 0.8226\n",
            "Epoch 27/50\n",
            "390/390 [==============================] - 7s 18ms/step - loss: 0.4090 - acc: 0.8588 - val_loss: 0.5512 - val_acc: 0.8233\n",
            "Epoch 28/50\n",
            "390/390 [==============================] - 7s 18ms/step - loss: 0.4032 - acc: 0.8621 - val_loss: 0.5410 - val_acc: 0.8286\n",
            "Epoch 29/50\n",
            "390/390 [==============================] - 7s 18ms/step - loss: 0.3896 - acc: 0.8668 - val_loss: 0.5854 - val_acc: 0.8180\n",
            "Epoch 30/50\n",
            "390/390 [==============================] - 7s 18ms/step - loss: 0.3938 - acc: 0.8664 - val_loss: 0.5989 - val_acc: 0.8151\n",
            "Epoch 31/50\n",
            "390/390 [==============================] - 7s 18ms/step - loss: 0.3802 - acc: 0.8711 - val_loss: 0.5713 - val_acc: 0.8248\n",
            "Epoch 32/50\n",
            "390/390 [==============================] - 7s 18ms/step - loss: 0.3786 - acc: 0.8726 - val_loss: 0.5683 - val_acc: 0.8184\n",
            "Epoch 33/50\n",
            "390/390 [==============================] - 7s 18ms/step - loss: 0.3692 - acc: 0.8744 - val_loss: 0.5684 - val_acc: 0.8239\n",
            "Epoch 34/50\n",
            "390/390 [==============================] - 7s 18ms/step - loss: 0.3683 - acc: 0.8761 - val_loss: 0.5673 - val_acc: 0.8217\n",
            "Epoch 35/50\n",
            "390/390 [==============================] - 7s 18ms/step - loss: 0.3534 - acc: 0.8794 - val_loss: 0.5554 - val_acc: 0.8313\n",
            "Epoch 36/50\n",
            "390/390 [==============================] - 7s 18ms/step - loss: 0.3619 - acc: 0.8794 - val_loss: 0.5590 - val_acc: 0.8269\n",
            "Epoch 37/50\n",
            "390/390 [==============================] - 7s 18ms/step - loss: 0.3590 - acc: 0.8814 - val_loss: 0.6221 - val_acc: 0.8152\n",
            "Epoch 38/50\n",
            "390/390 [==============================] - 7s 18ms/step - loss: 0.3466 - acc: 0.8820 - val_loss: 0.5729 - val_acc: 0.8255\n",
            "Epoch 39/50\n",
            "390/390 [==============================] - 7s 18ms/step - loss: 0.3420 - acc: 0.8843 - val_loss: 0.5792 - val_acc: 0.8223\n",
            "Epoch 40/50\n",
            "390/390 [==============================] - 7s 18ms/step - loss: 0.3398 - acc: 0.8864 - val_loss: 0.5947 - val_acc: 0.8225\n",
            "Epoch 41/50\n",
            "390/390 [==============================] - 7s 18ms/step - loss: 0.3290 - acc: 0.8900 - val_loss: 0.5718 - val_acc: 0.8336\n",
            "Epoch 42/50\n",
            "390/390 [==============================] - 7s 18ms/step - loss: 0.3342 - acc: 0.8876 - val_loss: 0.5879 - val_acc: 0.8237\n",
            "Epoch 43/50\n",
            "390/390 [==============================] - 7s 18ms/step - loss: 0.3345 - acc: 0.8893 - val_loss: 0.5579 - val_acc: 0.8286\n",
            "Epoch 44/50\n",
            "390/390 [==============================] - 7s 18ms/step - loss: 0.3281 - acc: 0.8907 - val_loss: 0.5618 - val_acc: 0.8283\n",
            "Epoch 45/50\n",
            "390/390 [==============================] - 7s 18ms/step - loss: 0.3232 - acc: 0.8935 - val_loss: 0.5781 - val_acc: 0.8265\n",
            "Epoch 46/50\n",
            "390/390 [==============================] - 7s 18ms/step - loss: 0.3313 - acc: 0.8887 - val_loss: 0.5481 - val_acc: 0.8275\n",
            "Epoch 47/50\n",
            "390/390 [==============================] - 7s 18ms/step - loss: 0.3154 - acc: 0.8946 - val_loss: 0.6287 - val_acc: 0.8150\n",
            "Epoch 48/50\n",
            "390/390 [==============================] - 7s 18ms/step - loss: 0.3140 - acc: 0.8939 - val_loss: 0.5723 - val_acc: 0.8293\n",
            "Epoch 49/50\n",
            "390/390 [==============================] - 7s 18ms/step - loss: 0.3164 - acc: 0.8931 - val_loss: 0.5834 - val_acc: 0.8245\n",
            "Epoch 50/50\n",
            "390/390 [==============================] - 7s 18ms/step - loss: 0.3113 - acc: 0.8967 - val_loss: 0.6086 - val_acc: 0.8214\n",
            "Model took 361.34 seconds to train\n"
          ],
          "name": "stdout"
        },
        {
          "output_type": "display_data",
          "data": {
            "image/png": "[encoded data removed]",
            "text/plain": [
              "<Figure size 1080x360 with 2 Axes>"
            ]
          },
          "metadata": {
            "tags": []
          }
        },
        {
          "output_type": "stream",
          "text": [
            "Accuracy on test data is: 82.14\n"
          ],
          "name": "stdout"
        }
      ]
    },
    {
      "cell_type": "markdown",
      "metadata": {
        "id": "MkbbdqLZYuwq",
        "colab_type": "text"
      },
      "source": [
        "***Final Model Architecture***"
      ]
    },
    {
      "cell_type": "code",
      "metadata": {
        "id": "auaZp9Rjp0VN",
        "colab_type": "code",
        "outputId": "0ba89c8b-ecaa-48ba-bf42-e21f66e01f90",
        "colab": {
          "base_uri": "https://localhost:8080/",
          "height": 92
        }
      },
      "source": [
        "# Define the model\n",
        "model1 = Sequential()\n",
        "\n",
        "#BLOCK 1\n",
        "model1.add(SeparableConv2D(64, kernel_size=(3, 3), activation='relu', input_shape=(32, 32, 3), padding='same')) #32*32*64/ RF=3\n",
        "model1.add(BatchNormalization())\n",
        "\n",
        "model1.add(SeparableConv2D(64, kernel_size=(3, 3), activation='relu'))# 30*30*64 / RF - 5\n",
        "model1.add(BatchNormalization())\n",
        "model1.add(Dropout(0.1))\n",
        "\n",
        "model1.add(SeparableConv2D(128, kernel_size=(3, 3), activation='relu', padding='same'))# 30*30*128 / RF - 7\n",
        "model1.add(BatchNormalization())\n",
        "model1.add(Dropout(0.1))\n",
        "\n",
        "model1.add(MaxPooling2D(pool_size=(2, 2))) #15*15*128 / RF - 8\n",
        "\n",
        "#BLOCK 2\n",
        "model1.add(Conv2D(64, 1, 1 , activation='relu')) #15*15*64 / RF - 8\n",
        "model1.add(BatchNormalization())\n",
        "model1.add(Dropout(0.1))\n",
        "\n",
        "model1.add(SeparableConv2D(96, kernel_size=(3, 3), activation='relu',padding='same')) # 15*15*96 / RF - 12\n",
        "model1.add(BatchNormalization())\n",
        "model1.add(Dropout(0.1))\n",
        "\n",
        "model1.add(SeparableConv2D(128, kernel_size=(3, 3), activation='relu')) #13*13*128 / RF - 16\n",
        "model1.add(BatchNormalization())\n",
        "model1.add(Dropout(0.15))\n",
        "\n",
        "model1.add(MaxPooling2D(pool_size=(2, 2))) #6*6*128 / RF - 18\n",
        "\n",
        "#FINAL BLOCK\n",
        "model1.add(SeparableConv2D(128, kernel_size=(3, 3), activation='relu')) #4*4*128 / RF - 26\n",
        "model1.add(BatchNormalization())\n",
        "model1.add(Dropout(0.15))\n",
        "\n",
        "model1.add(SeparableConv2D(10, kernel_size=(3, 3), activation='relu')) #2*2*10 / RF - 34\n",
        "model1.add(BatchNormalization())\n",
        "\n",
        "model1.add(GlobalAveragePooling2D()) #1*1*10\n",
        "model1.add(Activation('softmax'))\n"
      ],
      "execution_count": 12,
      "outputs": [
        {
          "output_type": "stream",
          "text": [
            "WARNING:tensorflow:From /usr/local/lib/python3.6/dist-packages/keras/backend/tensorflow_backend.py:2041: The name tf.nn.fused_batch_norm is deprecated. Please use tf.compat.v1.nn.fused_batch_norm instead.\n",
            "\n"
          ],
          "name": "stdout"
        },
        {
          "output_type": "stream",
          "text": [
            "/usr/local/lib/python3.6/dist-packages/ipykernel_launcher.py:18: UserWarning: Update your `Conv2D` call to the Keras 2 API: `Conv2D(64, (1, 1), activation=\"relu\")`\n"
          ],
          "name": "stderr"
        }
      ]
    },
    {
      "cell_type": "markdown",
      "metadata": {
        "id": "pHyxe610ZIB1",
        "colab_type": "text"
      },
      "source": [
        "***Model Summary***"
      ]
    },
    {
      "cell_type": "code",
      "metadata": {
        "id": "NqM25EfhpGtI",
        "colab_type": "code",
        "outputId": "0722e8a6-27d4-4091-af98-9ce9d51c6ab9",
        "colab": {
          "base_uri": "https://localhost:8080/",
          "height": 1000
        }
      },
      "source": [
        "model1.summary()"
      ],
      "execution_count": 13,
      "outputs": [
        {
          "output_type": "stream",
          "text": [
            "Model: \"sequential_2\"\n",
            "_________________________________________________________________\n",
            "Layer (type)                 Output Shape              Param #   \n",
            "=================================================================\n",
            "separable_conv2d_1 (Separabl (None, 32, 32, 64)        283       \n",
            "_________________________________________________________________\n",
            "batch_normalization_1 (Batch (None, 32, 32, 64)        256       \n",
            "_________________________________________________________________\n",
            "separable_conv2d_2 (Separabl (None, 30, 30, 64)        4736      \n",
            "_________________________________________________________________\n",
            "batch_normalization_2 (Batch (None, 30, 30, 64)        256       \n",
            "_________________________________________________________________\n",
            "dropout_6 (Dropout)          (None, 30, 30, 64)        0         \n",
            "_________________________________________________________________\n",
            "separable_conv2d_3 (Separabl (None, 30, 30, 128)       8896      \n",
            "_________________________________________________________________\n",
            "batch_normalization_3 (Batch (None, 30, 30, 128)       512       \n",
            "_________________________________________________________________\n",
            "dropout_7 (Dropout)          (None, 30, 30, 128)       0         \n",
            "_________________________________________________________________\n",
            "max_pooling2d_4 (MaxPooling2 (None, 15, 15, 128)       0         \n",
            "_________________________________________________________________\n",
            "conv2d_7 (Conv2D)            (None, 15, 15, 64)        8256      \n",
            "_________________________________________________________________\n",
            "batch_normalization_4 (Batch (None, 15, 15, 64)        256       \n",
            "_________________________________________________________________\n",
            "dropout_8 (Dropout)          (None, 15, 15, 64)        0         \n",
            "_________________________________________________________________\n",
            "separable_conv2d_4 (Separabl (None, 15, 15, 96)        6816      \n",
            "_________________________________________________________________\n",
            "batch_normalization_5 (Batch (None, 15, 15, 96)        384       \n",
            "_________________________________________________________________\n",
            "dropout_9 (Dropout)          (None, 15, 15, 96)        0         \n",
            "_________________________________________________________________\n",
            "separable_conv2d_5 (Separabl (None, 13, 13, 128)       13280     \n",
            "_________________________________________________________________\n",
            "batch_normalization_6 (Batch (None, 13, 13, 128)       512       \n",
            "_________________________________________________________________\n",
            "dropout_10 (Dropout)         (None, 13, 13, 128)       0         \n",
            "_________________________________________________________________\n",
            "max_pooling2d_5 (MaxPooling2 (None, 6, 6, 128)         0         \n",
            "_________________________________________________________________\n",
            "separable_conv2d_6 (Separabl (None, 4, 4, 128)         17664     \n",
            "_________________________________________________________________\n",
            "batch_normalization_7 (Batch (None, 4, 4, 128)         512       \n",
            "_________________________________________________________________\n",
            "dropout_11 (Dropout)         (None, 4, 4, 128)         0         \n",
            "_________________________________________________________________\n",
            "separable_conv2d_7 (Separabl (None, 2, 2, 10)          2442      \n",
            "_________________________________________________________________\n",
            "batch_normalization_8 (Batch (None, 2, 2, 10)          40        \n",
            "_________________________________________________________________\n",
            "global_average_pooling2d_1 ( (None, 10)                0         \n",
            "_________________________________________________________________\n",
            "activation_9 (Activation)    (None, 10)                0         \n",
            "=================================================================\n",
            "Total params: 65,101\n",
            "Trainable params: 63,737\n",
            "Non-trainable params: 1,364\n",
            "_________________________________________________________________\n"
          ],
          "name": "stdout"
        }
      ]
    },
    {
      "cell_type": "code",
      "metadata": {
        "id": "evI50PfwGabI",
        "colab_type": "code",
        "colab": {}
      },
      "source": [
        "#from keras.callbacks import LearningRateScheduler\n",
        "#def scheduler(epoch, lr):\n",
        "#  return round(0.01 * 1/(1 + 0.319 * epoch), 10)\n",
        "\n",
        "model1.compile(optimizer=Adam(lr=0.001), loss='categorical_crossentropy', metrics=['accuracy'])"
      ],
      "execution_count": 0,
      "outputs": []
    },
    {
      "cell_type": "markdown",
      "metadata": {
        "id": "TTndeHAAZZIA",
        "colab_type": "text"
      },
      "source": [
        "***Model Training***"
      ]
    },
    {
      "cell_type": "code",
      "metadata": {
        "id": "-14Xx_8po8Kt",
        "colab_type": "code",
        "outputId": "87290ee0-46e7-4df8-cbbe-857b2e570aee",
        "colab": {
          "base_uri": "https://localhost:8080/",
          "height": 1000
        }
      },
      "source": [
        "from keras.preprocessing.image import ImageDataGenerator\n",
        "\n",
        "datagen = ImageDataGenerator(zoom_range=0.1, \n",
        "                             horizontal_flip=True)\n",
        "\n",
        "# train the model\n",
        "start = time.time()\n",
        "# Train the model\n",
        "model_info = model1.fit_generator(datagen.flow(train_features, train_labels, batch_size = 128),\n",
        "                                 samples_per_epoch = train_features.shape[0], nb_epoch = 50, \n",
        "                                 validation_data = (test_features, test_labels), verbose=1)\n",
        "                              #   callbacks=[LearningRateScheduler(scheduler, verbose=1)])\n",
        "end = time.time()\n",
        "print (\"Model took %0.2f seconds to train\"%(end - start))\n",
        "# plot model history\n",
        "plot_model_history(model_info)\n",
        "# compute test accuracy\n",
        "print (\"Accuracy on test data is: %0.2f\"%accuracy(test_features, test_labels, model1))"
      ],
      "execution_count": 15,
      "outputs": [
        {
          "output_type": "stream",
          "text": [
            "/usr/local/lib/python3.6/dist-packages/ipykernel_launcher.py:11: UserWarning: The semantics of the Keras 2 argument `steps_per_epoch` is not the same as the Keras 1 argument `samples_per_epoch`. `steps_per_epoch` is the number of batches to draw from the generator at each epoch. Basically steps_per_epoch = samples_per_epoch/batch_size. Similarly `nb_val_samples`->`validation_steps` and `val_samples`->`steps` arguments have changed. Update your method calls accordingly.\n",
            "  # This is added back by InteractiveShellApp.init_path()\n",
            "/usr/local/lib/python3.6/dist-packages/ipykernel_launcher.py:11: UserWarning: Update your `fit_generator` call to the Keras 2 API: `fit_generator(<keras_pre..., validation_data=(array([[[..., verbose=1, steps_per_epoch=390, epochs=50)`\n",
            "  # This is added back by InteractiveShellApp.init_path()\n"
          ],
          "name": "stderr"
        },
        {
          "output_type": "stream",
          "text": [
            "Epoch 1/50\n",
            "390/390 [==============================] - 27s 70ms/step - loss: 1.5205 - acc: 0.4752 - val_loss: 1.1740 - val_acc: 0.5980\n",
            "Epoch 2/50\n",
            "390/390 [==============================] - 25s 65ms/step - loss: 1.1183 - acc: 0.6274 - val_loss: 1.0272 - val_acc: 0.6528\n",
            "Epoch 3/50\n",
            "390/390 [==============================] - 25s 65ms/step - loss: 0.9540 - acc: 0.6842 - val_loss: 0.9611 - val_acc: 0.6773\n",
            "Epoch 4/50\n",
            "390/390 [==============================] - 25s 65ms/step - loss: 0.8522 - acc: 0.7153 - val_loss: 0.9946 - val_acc: 0.6664\n",
            "Epoch 5/50\n",
            "390/390 [==============================] - 25s 64ms/step - loss: 0.7847 - acc: 0.7365 - val_loss: 0.8870 - val_acc: 0.7024\n",
            "Epoch 6/50\n",
            "390/390 [==============================] - 25s 64ms/step - loss: 0.7352 - acc: 0.7519 - val_loss: 0.9546 - val_acc: 0.6794\n",
            "Epoch 7/50\n",
            "390/390 [==============================] - 25s 65ms/step - loss: 0.6934 - acc: 0.7665 - val_loss: 0.7419 - val_acc: 0.7511\n",
            "Epoch 8/50\n",
            "390/390 [==============================] - 25s 64ms/step - loss: 0.6638 - acc: 0.7765 - val_loss: 0.8012 - val_acc: 0.7366\n",
            "Epoch 9/50\n",
            "390/390 [==============================] - 25s 64ms/step - loss: 0.6414 - acc: 0.7822 - val_loss: 0.7260 - val_acc: 0.7519\n",
            "Epoch 10/50\n",
            "390/390 [==============================] - 25s 64ms/step - loss: 0.6151 - acc: 0.7893 - val_loss: 0.6269 - val_acc: 0.7895\n",
            "Epoch 11/50\n",
            "390/390 [==============================] - 25s 65ms/step - loss: 0.5974 - acc: 0.7973 - val_loss: 0.5972 - val_acc: 0.8028\n",
            "Epoch 12/50\n",
            "390/390 [==============================] - 25s 65ms/step - loss: 0.5784 - acc: 0.8030 - val_loss: 0.7209 - val_acc: 0.7593\n",
            "Epoch 13/50\n",
            "390/390 [==============================] - 25s 64ms/step - loss: 0.5640 - acc: 0.8084 - val_loss: 0.6242 - val_acc: 0.7900\n",
            "Epoch 14/50\n",
            "390/390 [==============================] - 25s 64ms/step - loss: 0.5457 - acc: 0.8126 - val_loss: 0.6102 - val_acc: 0.7931\n",
            "Epoch 15/50\n",
            "390/390 [==============================] - 25s 64ms/step - loss: 0.5329 - acc: 0.8180 - val_loss: 0.5976 - val_acc: 0.7991\n",
            "Epoch 16/50\n",
            "390/390 [==============================] - 25s 64ms/step - loss: 0.5196 - acc: 0.8247 - val_loss: 0.6031 - val_acc: 0.7948\n",
            "Epoch 17/50\n",
            "390/390 [==============================] - 25s 64ms/step - loss: 0.5138 - acc: 0.8247 - val_loss: 0.5728 - val_acc: 0.8062\n",
            "Epoch 18/50\n",
            "390/390 [==============================] - 25s 63ms/step - loss: 0.5026 - acc: 0.8252 - val_loss: 0.5403 - val_acc: 0.8194\n",
            "Epoch 19/50\n",
            "390/390 [==============================] - 25s 64ms/step - loss: 0.4931 - acc: 0.8308 - val_loss: 0.5457 - val_acc: 0.8142\n",
            "Epoch 20/50\n",
            "390/390 [==============================] - 25s 64ms/step - loss: 0.4805 - acc: 0.8355 - val_loss: 0.5318 - val_acc: 0.8207\n",
            "Epoch 21/50\n",
            "390/390 [==============================] - 25s 64ms/step - loss: 0.4742 - acc: 0.8371 - val_loss: 0.5312 - val_acc: 0.8250\n",
            "Epoch 22/50\n",
            "390/390 [==============================] - 25s 64ms/step - loss: 0.4673 - acc: 0.8392 - val_loss: 0.5511 - val_acc: 0.8186\n",
            "Epoch 23/50\n",
            "390/390 [==============================] - 25s 64ms/step - loss: 0.4545 - acc: 0.8440 - val_loss: 0.5348 - val_acc: 0.8185\n",
            "Epoch 24/50\n",
            "390/390 [==============================] - 25s 64ms/step - loss: 0.4532 - acc: 0.8424 - val_loss: 0.5562 - val_acc: 0.8193\n",
            "Epoch 25/50\n",
            "390/390 [==============================] - 25s 64ms/step - loss: 0.4465 - acc: 0.8464 - val_loss: 0.5381 - val_acc: 0.8201\n",
            "Epoch 26/50\n",
            "390/390 [==============================] - 25s 64ms/step - loss: 0.4418 - acc: 0.8483 - val_loss: 0.4953 - val_acc: 0.8337\n",
            "Epoch 27/50\n",
            "390/390 [==============================] - 25s 64ms/step - loss: 0.4372 - acc: 0.8480 - val_loss: 0.4984 - val_acc: 0.8290\n",
            "Epoch 28/50\n",
            "390/390 [==============================] - 25s 64ms/step - loss: 0.4310 - acc: 0.8517 - val_loss: 0.5302 - val_acc: 0.8225\n",
            "Epoch 29/50\n",
            "390/390 [==============================] - 25s 64ms/step - loss: 0.4248 - acc: 0.8540 - val_loss: 0.5299 - val_acc: 0.8251\n",
            "Epoch 30/50\n",
            "390/390 [==============================] - 25s 63ms/step - loss: 0.4183 - acc: 0.8545 - val_loss: 0.5537 - val_acc: 0.8152\n",
            "Epoch 31/50\n",
            "390/390 [==============================] - 25s 64ms/step - loss: 0.4187 - acc: 0.8562 - val_loss: 0.4972 - val_acc: 0.8336\n",
            "Epoch 32/50\n",
            "390/390 [==============================] - 25s 64ms/step - loss: 0.4081 - acc: 0.8591 - val_loss: 0.5163 - val_acc: 0.8286\n",
            "Epoch 33/50\n",
            "390/390 [==============================] - 25s 64ms/step - loss: 0.4024 - acc: 0.8596 - val_loss: 0.5041 - val_acc: 0.8333\n",
            "Epoch 34/50\n",
            "390/390 [==============================] - 25s 64ms/step - loss: 0.3995 - acc: 0.8620 - val_loss: 0.4991 - val_acc: 0.8357\n",
            "Epoch 35/50\n",
            "390/390 [==============================] - 25s 63ms/step - loss: 0.3982 - acc: 0.8637 - val_loss: 0.4960 - val_acc: 0.8337\n",
            "Epoch 36/50\n",
            "390/390 [==============================] - 25s 64ms/step - loss: 0.3959 - acc: 0.8635 - val_loss: 0.5351 - val_acc: 0.8267\n",
            "Epoch 37/50\n",
            "390/390 [==============================] - 25s 64ms/step - loss: 0.3839 - acc: 0.8674 - val_loss: 0.4705 - val_acc: 0.8459\n",
            "Epoch 38/50\n",
            "390/390 [==============================] - 25s 63ms/step - loss: 0.3875 - acc: 0.8651 - val_loss: 0.4887 - val_acc: 0.8400\n",
            "Epoch 39/50\n",
            "390/390 [==============================] - 25s 63ms/step - loss: 0.3866 - acc: 0.8665 - val_loss: 0.5375 - val_acc: 0.8222\n",
            "Epoch 40/50\n",
            "390/390 [==============================] - 25s 63ms/step - loss: 0.3780 - acc: 0.8712 - val_loss: 0.5062 - val_acc: 0.8355\n",
            "Epoch 41/50\n",
            "390/390 [==============================] - 25s 63ms/step - loss: 0.3774 - acc: 0.8693 - val_loss: 0.5055 - val_acc: 0.8367\n",
            "Epoch 42/50\n",
            "390/390 [==============================] - 25s 64ms/step - loss: 0.3755 - acc: 0.8700 - val_loss: 0.5736 - val_acc: 0.8126\n",
            "Epoch 43/50\n",
            "390/390 [==============================] - 25s 63ms/step - loss: 0.3738 - acc: 0.8698 - val_loss: 0.4727 - val_acc: 0.8447\n",
            "Epoch 44/50\n",
            "390/390 [==============================] - 25s 63ms/step - loss: 0.3679 - acc: 0.8714 - val_loss: 0.5051 - val_acc: 0.8337\n",
            "Epoch 45/50\n",
            "390/390 [==============================] - 25s 63ms/step - loss: 0.3649 - acc: 0.8718 - val_loss: 0.5290 - val_acc: 0.8276\n",
            "Epoch 46/50\n",
            "390/390 [==============================] - 25s 64ms/step - loss: 0.3675 - acc: 0.8726 - val_loss: 0.4962 - val_acc: 0.8352\n",
            "Epoch 47/50\n",
            "390/390 [==============================] - 25s 64ms/step - loss: 0.3585 - acc: 0.8752 - val_loss: 0.5442 - val_acc: 0.8267\n",
            "Epoch 48/50\n",
            "390/390 [==============================] - 25s 64ms/step - loss: 0.3546 - acc: 0.8777 - val_loss: 0.4980 - val_acc: 0.8402\n",
            "Epoch 49/50\n",
            "390/390 [==============================] - 25s 64ms/step - loss: 0.3579 - acc: 0.8759 - val_loss: 0.4387 - val_acc: 0.8558\n",
            "Epoch 50/50\n",
            "390/390 [==============================] - 25s 63ms/step - loss: 0.3490 - acc: 0.8780 - val_loss: 0.4638 - val_acc: 0.8465\n",
            "Model took 1249.96 seconds to train\n"
          ],
          "name": "stdout"
        },
        {
          "output_type": "display_data",
          "data": {
            "image/png": "[encoded data removed]",
            "text/plain": [
              "<Figure size 1080x360 with 2 Axes>"
            ]
          },
          "metadata": {
            "tags": []
          }
        },
        {
          "output_type": "stream",
          "text": [
            "Accuracy on test data is: 84.65\n"
          ],
          "name": "stdout"
        }
      ]
    },
    {
      "cell_type": "code",
      "metadata": {
        "id": "C3QqPLKdo8Hc",
        "colab_type": "code",
        "colab": {}
      },
      "source": [
        ""
      ],
      "execution_count": 0,
      "outputs": []
    },
    {
      "cell_type": "code",
      "metadata": {
        "id": "raz7egndo8EJ",
        "colab_type": "code",
        "colab": {}
      },
      "source": [
        ""
      ],
      "execution_count": 0,
      "outputs": []
    }
  ]
}